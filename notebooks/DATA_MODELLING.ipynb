{
 "cells": [
  {
   "cell_type": "code",
   "execution_count": 61,
   "metadata": {},
   "outputs": [],
   "source": [
    "import numpy as np\n",
    "import pandas as pd\n",
    "import plotly.express as px\n",
    "import itertools\n",
    "import scipy.stats as ss\n",
    "from scipy import stats\n",
    "import matplotlib.pyplot as plt\n",
    "import plotly.figure_factory as ff\n",
    "import seaborn as sns\n",
    "from sklearn.preprocessing import MinMaxScaler\n",
    "from sklearn.preprocessing import LabelEncoder\n",
    "from sklearn.model_selection import train_test_split\n",
    "from sklearn.preprocessing import OneHotEncoder\n",
    "from scipy.stats import kstest\n",
    "from sklearn.feature_selection import RFECV\n",
    "from sklearn.linear_model import LogisticRegression\n",
    "from sklearn.model_selection import StratifiedKFold\n",
    "from imblearn.over_sampling import SMOTE\n",
    "from imblearn.over_sampling import RandomOverSampler\n",
    "from imblearn.under_sampling import RandomUnderSampler\n",
    "from sklearn.metrics import roc_curve, auc,classification_report\n",
    "from sklearn.metrics import accuracy_score\n",
    "from sklearn.metrics import confusion_matrix\n",
    "import warnings\n",
    "warnings.filterwarnings(\"ignore\")\n",
    "from sklearn import tree\n",
    "from sklearn import svm\n",
    "from sklearn.metrics import roc_auc_score\n",
    "from sklearn.model_selection import StratifiedKFold\n",
    "from sklearn.model_selection import cross_val_score\n",
    "from sklearn.metrics import matthews_corrcoef\n",
    "from sklearn.metrics import precision_score\n",
    "from sklearn.metrics import recall_score\n",
    "from sklearn.pipeline import Pipeline\n",
    "from sklearn.model_selection import GridSearchCV\n",
    "from sklearn.preprocessing import MinMaxScaler\n",
    "from imblearn.pipeline import make_pipeline\n",
    "from sklearn.tree import DecisionTreeClassifier, export_graphviz"
   ]
  },
  {
   "cell_type": "code",
   "execution_count": 31,
   "metadata": {},
   "outputs": [],
   "source": [
    "def evaluation(y_true, y_pred):\n",
    "\n",
    "   cm = confusion_matrix(y_true, y_pred)\n",
    "   tn, fp, fn, tp = confusion_matrix(y_true, y_pred).ravel()\n",
    "   cm_df = pd.DataFrame(cm, columns=['Predicted Negative', 'Predicted Positive'], index=['Actual Negative', 'Actual Positive'])\n",
    "\n",
    "   fig = px.imshow(cm_df.iloc[[1,0],[1,0]],\n",
    "                labels=dict(x=\"Predicted\", y=\"Actual\", color=\"Count\"),\n",
    "                x=['Predicted Positive', 'Predicted Negative'],\n",
    "                y=['Actual Positive', 'Actual Negative'],\n",
    "                color_continuous_scale=px.colors.sequential.Blues, text_auto=True)\n",
    "\n",
    "   fig.update_traces(showscale=True) \n",
    "   fig.update_layout(title='Confusion Matrix')\n",
    "   fig.show()\n",
    "\n",
    "   sensitivity = tp / (tp + fn)\n",
    "   specificity = tn / (tn + fp)\n",
    "   precision = tp / (tp + fp)\n",
    "   mcc = matthews_corrcoef(y_true, y_pred)\n",
    "\n",
    "   print('Sensitivity (Recall): ' + str(round(sensitivity,2)) + \"\\n\"+'Specificity: '+ str(round(specificity,2))+ \"\\n\"+'Precision: '+ str(round(precision,2)) + \"\\n\"+'MCC: ' + str(round(mcc,2)))"
   ]
  },
  {
   "cell_type": "code",
   "execution_count": 46,
   "metadata": {},
   "outputs": [],
   "source": [
    "def calcualte_specificity(y_true,y_pred):\n",
    "    cm = confusion_matrix(y_true, y_pred)\n",
    "    tn, fp, fn, tp = confusion_matrix(y_true, y_pred).ravel()\n",
    "    specificity = tn / (tn + fp)\n",
    "    return specificity"
   ]
  },
  {
   "cell_type": "code",
   "execution_count": 53,
   "metadata": {},
   "outputs": [],
   "source": [
    "def run_cv(model, balancing_algorithm = None):\n",
    "    cv = StratifiedKFold(n_splits=10)\n",
    "    precision_scores = []\n",
    "    recall_scores = []\n",
    "    specificity_scores = []\n",
    "    mcc_scores = []\n",
    "    for train, val in cv.split(X_train, y_train):\n",
    "        X_train_fold, X_val_fold = X_train.iloc[train], X_train.iloc[val]\n",
    "        y_train_fold, y_val_fold = y_train.iloc[train], y_train.iloc[val]\n",
    "\n",
    "        if balancing_algorithm != None:\n",
    "            X_train_fold_balanced, y_train_fold = balancing_algorithm.fit_resample(X_train_fold, y_train_fold)\n",
    "        else:\n",
    "            X_train_fold_balanced = X_train_fold\n",
    "\n",
    "        mms = MinMaxScaler()\n",
    "        mms.fit(X_train_fold)\n",
    "        X_train_fold_scaled = mms.transform(X_train_fold_balanced)\n",
    "        X_val_fold_scaled = mms.transform(X_val_fold)\n",
    "\n",
    "        model.fit(X_train_fold_scaled, y_train_fold)\n",
    "        y_pred_val_fold = model.predict(X_val_fold_scaled)\n",
    "        precision_scores.append(precision_score(y_val_fold, y_pred_val_fold))\n",
    "        recall_scores.append(recall_score(y_val_fold, y_pred_val_fold))\n",
    "        specificity_scores.append(calcualte_specificity(y_val_fold, y_pred_val_fold))\n",
    "        mcc_scores.append(matthews_corrcoef(y_val_fold, y_pred_val_fold))\n",
    "\n",
    "    average_precision_score = np.mean(precision_scores)\n",
    "    average_recall_score = np.mean(recall_scores)\n",
    "    average_specificity_score = np.mean(specificity_scores)\n",
    "    average_mcc_score = np.mean(mcc_scores)\n",
    "\n",
    "    # print(f\"Average precision: {average_precision_score:.2f} \\nAverage recall: {average_recall_score:.2f} \\nAverage specificity: {average_specificity_score:.2f} \\nAverage mcc: {average_mcc_score:.2f}\")\n",
    "    return average_precision_score, average_recall_score, average_specificity_score, average_mcc_score"
   ]
  },
  {
   "cell_type": "code",
   "execution_count": 69,
   "metadata": {},
   "outputs": [],
   "source": [
    "# Data Insertion\n",
    "df = pd.read_csv(r'../data/processed/processed_data.csv')\n",
    "del df[\"Unnamed: 0\"]"
   ]
  },
  {
   "cell_type": "code",
   "execution_count": 70,
   "metadata": {},
   "outputs": [
    {
     "name": "stdout",
     "output_type": "stream",
     "text": [
      "Training features shape: (5634, 28)\n",
      "Testing features shape: (1409, 28)\n"
     ]
    }
   ],
   "source": [
    "X = df.drop(columns=['Churn'])\n",
    "y = df['Churn']\n",
    "\n",
    "# set aside 20% of train and test data for evaluation\n",
    "X_train, X_test, y_train, y_test = train_test_split(X, y,\n",
    "    test_size=0.2, random_state = 8)\n",
    "\n",
    "print(f\"Training features shape: {X_train.shape}\")\n",
    "print(f\"Testing features shape: {X_test.shape}\")"
   ]
  },
  {
   "cell_type": "code",
   "execution_count": 44,
   "metadata": {},
   "outputs": [
    {
     "data": {
      "application/vnd.plotly.v1+json": {
       "config": {
        "plotlyServerURL": "https://plot.ly"
       },
       "data": [
        {
         "coloraxis": "coloraxis",
         "hovertemplate": "Predicted: %{x}<br>Actual: %{y}<br>Count: %{z}<extra></extra>",
         "name": "0",
         "showscale": true,
         "texttemplate": "%{z}",
         "type": "heatmap",
         "x": [
          "Predicted Positive",
          "Predicted Negative"
         ],
         "xaxis": "x",
         "y": [
          "Actual Positive",
          "Actual Negative"
         ],
         "yaxis": "y",
         "z": [
          [
           0,
           382
          ],
          [
           0,
           1027
          ]
         ]
        }
       ],
       "layout": {
        "coloraxis": {
         "colorbar": {
          "title": {
           "text": "Count"
          }
         },
         "colorscale": [
          [
           0,
           "rgb(247,251,255)"
          ],
          [
           0.125,
           "rgb(222,235,247)"
          ],
          [
           0.25,
           "rgb(198,219,239)"
          ],
          [
           0.375,
           "rgb(158,202,225)"
          ],
          [
           0.5,
           "rgb(107,174,214)"
          ],
          [
           0.625,
           "rgb(66,146,198)"
          ],
          [
           0.75,
           "rgb(33,113,181)"
          ],
          [
           0.875,
           "rgb(8,81,156)"
          ],
          [
           1,
           "rgb(8,48,107)"
          ]
         ]
        },
        "margin": {
         "t": 60
        },
        "template": {
         "data": {
          "bar": [
           {
            "error_x": {
             "color": "#2a3f5f"
            },
            "error_y": {
             "color": "#2a3f5f"
            },
            "marker": {
             "line": {
              "color": "#E5ECF6",
              "width": 0.5
             },
             "pattern": {
              "fillmode": "overlay",
              "size": 10,
              "solidity": 0.2
             }
            },
            "type": "bar"
           }
          ],
          "barpolar": [
           {
            "marker": {
             "line": {
              "color": "#E5ECF6",
              "width": 0.5
             },
             "pattern": {
              "fillmode": "overlay",
              "size": 10,
              "solidity": 0.2
             }
            },
            "type": "barpolar"
           }
          ],
          "carpet": [
           {
            "aaxis": {
             "endlinecolor": "#2a3f5f",
             "gridcolor": "white",
             "linecolor": "white",
             "minorgridcolor": "white",
             "startlinecolor": "#2a3f5f"
            },
            "baxis": {
             "endlinecolor": "#2a3f5f",
             "gridcolor": "white",
             "linecolor": "white",
             "minorgridcolor": "white",
             "startlinecolor": "#2a3f5f"
            },
            "type": "carpet"
           }
          ],
          "choropleth": [
           {
            "colorbar": {
             "outlinewidth": 0,
             "ticks": ""
            },
            "type": "choropleth"
           }
          ],
          "contour": [
           {
            "colorbar": {
             "outlinewidth": 0,
             "ticks": ""
            },
            "colorscale": [
             [
              0,
              "#0d0887"
             ],
             [
              0.1111111111111111,
              "#46039f"
             ],
             [
              0.2222222222222222,
              "#7201a8"
             ],
             [
              0.3333333333333333,
              "#9c179e"
             ],
             [
              0.4444444444444444,
              "#bd3786"
             ],
             [
              0.5555555555555556,
              "#d8576b"
             ],
             [
              0.6666666666666666,
              "#ed7953"
             ],
             [
              0.7777777777777778,
              "#fb9f3a"
             ],
             [
              0.8888888888888888,
              "#fdca26"
             ],
             [
              1,
              "#f0f921"
             ]
            ],
            "type": "contour"
           }
          ],
          "contourcarpet": [
           {
            "colorbar": {
             "outlinewidth": 0,
             "ticks": ""
            },
            "type": "contourcarpet"
           }
          ],
          "heatmap": [
           {
            "colorbar": {
             "outlinewidth": 0,
             "ticks": ""
            },
            "colorscale": [
             [
              0,
              "#0d0887"
             ],
             [
              0.1111111111111111,
              "#46039f"
             ],
             [
              0.2222222222222222,
              "#7201a8"
             ],
             [
              0.3333333333333333,
              "#9c179e"
             ],
             [
              0.4444444444444444,
              "#bd3786"
             ],
             [
              0.5555555555555556,
              "#d8576b"
             ],
             [
              0.6666666666666666,
              "#ed7953"
             ],
             [
              0.7777777777777778,
              "#fb9f3a"
             ],
             [
              0.8888888888888888,
              "#fdca26"
             ],
             [
              1,
              "#f0f921"
             ]
            ],
            "type": "heatmap"
           }
          ],
          "heatmapgl": [
           {
            "colorbar": {
             "outlinewidth": 0,
             "ticks": ""
            },
            "colorscale": [
             [
              0,
              "#0d0887"
             ],
             [
              0.1111111111111111,
              "#46039f"
             ],
             [
              0.2222222222222222,
              "#7201a8"
             ],
             [
              0.3333333333333333,
              "#9c179e"
             ],
             [
              0.4444444444444444,
              "#bd3786"
             ],
             [
              0.5555555555555556,
              "#d8576b"
             ],
             [
              0.6666666666666666,
              "#ed7953"
             ],
             [
              0.7777777777777778,
              "#fb9f3a"
             ],
             [
              0.8888888888888888,
              "#fdca26"
             ],
             [
              1,
              "#f0f921"
             ]
            ],
            "type": "heatmapgl"
           }
          ],
          "histogram": [
           {
            "marker": {
             "pattern": {
              "fillmode": "overlay",
              "size": 10,
              "solidity": 0.2
             }
            },
            "type": "histogram"
           }
          ],
          "histogram2d": [
           {
            "colorbar": {
             "outlinewidth": 0,
             "ticks": ""
            },
            "colorscale": [
             [
              0,
              "#0d0887"
             ],
             [
              0.1111111111111111,
              "#46039f"
             ],
             [
              0.2222222222222222,
              "#7201a8"
             ],
             [
              0.3333333333333333,
              "#9c179e"
             ],
             [
              0.4444444444444444,
              "#bd3786"
             ],
             [
              0.5555555555555556,
              "#d8576b"
             ],
             [
              0.6666666666666666,
              "#ed7953"
             ],
             [
              0.7777777777777778,
              "#fb9f3a"
             ],
             [
              0.8888888888888888,
              "#fdca26"
             ],
             [
              1,
              "#f0f921"
             ]
            ],
            "type": "histogram2d"
           }
          ],
          "histogram2dcontour": [
           {
            "colorbar": {
             "outlinewidth": 0,
             "ticks": ""
            },
            "colorscale": [
             [
              0,
              "#0d0887"
             ],
             [
              0.1111111111111111,
              "#46039f"
             ],
             [
              0.2222222222222222,
              "#7201a8"
             ],
             [
              0.3333333333333333,
              "#9c179e"
             ],
             [
              0.4444444444444444,
              "#bd3786"
             ],
             [
              0.5555555555555556,
              "#d8576b"
             ],
             [
              0.6666666666666666,
              "#ed7953"
             ],
             [
              0.7777777777777778,
              "#fb9f3a"
             ],
             [
              0.8888888888888888,
              "#fdca26"
             ],
             [
              1,
              "#f0f921"
             ]
            ],
            "type": "histogram2dcontour"
           }
          ],
          "mesh3d": [
           {
            "colorbar": {
             "outlinewidth": 0,
             "ticks": ""
            },
            "type": "mesh3d"
           }
          ],
          "parcoords": [
           {
            "line": {
             "colorbar": {
              "outlinewidth": 0,
              "ticks": ""
             }
            },
            "type": "parcoords"
           }
          ],
          "pie": [
           {
            "automargin": true,
            "type": "pie"
           }
          ],
          "scatter": [
           {
            "fillpattern": {
             "fillmode": "overlay",
             "size": 10,
             "solidity": 0.2
            },
            "type": "scatter"
           }
          ],
          "scatter3d": [
           {
            "line": {
             "colorbar": {
              "outlinewidth": 0,
              "ticks": ""
             }
            },
            "marker": {
             "colorbar": {
              "outlinewidth": 0,
              "ticks": ""
             }
            },
            "type": "scatter3d"
           }
          ],
          "scattercarpet": [
           {
            "marker": {
             "colorbar": {
              "outlinewidth": 0,
              "ticks": ""
             }
            },
            "type": "scattercarpet"
           }
          ],
          "scattergeo": [
           {
            "marker": {
             "colorbar": {
              "outlinewidth": 0,
              "ticks": ""
             }
            },
            "type": "scattergeo"
           }
          ],
          "scattergl": [
           {
            "marker": {
             "colorbar": {
              "outlinewidth": 0,
              "ticks": ""
             }
            },
            "type": "scattergl"
           }
          ],
          "scattermapbox": [
           {
            "marker": {
             "colorbar": {
              "outlinewidth": 0,
              "ticks": ""
             }
            },
            "type": "scattermapbox"
           }
          ],
          "scatterpolar": [
           {
            "marker": {
             "colorbar": {
              "outlinewidth": 0,
              "ticks": ""
             }
            },
            "type": "scatterpolar"
           }
          ],
          "scatterpolargl": [
           {
            "marker": {
             "colorbar": {
              "outlinewidth": 0,
              "ticks": ""
             }
            },
            "type": "scatterpolargl"
           }
          ],
          "scatterternary": [
           {
            "marker": {
             "colorbar": {
              "outlinewidth": 0,
              "ticks": ""
             }
            },
            "type": "scatterternary"
           }
          ],
          "surface": [
           {
            "colorbar": {
             "outlinewidth": 0,
             "ticks": ""
            },
            "colorscale": [
             [
              0,
              "#0d0887"
             ],
             [
              0.1111111111111111,
              "#46039f"
             ],
             [
              0.2222222222222222,
              "#7201a8"
             ],
             [
              0.3333333333333333,
              "#9c179e"
             ],
             [
              0.4444444444444444,
              "#bd3786"
             ],
             [
              0.5555555555555556,
              "#d8576b"
             ],
             [
              0.6666666666666666,
              "#ed7953"
             ],
             [
              0.7777777777777778,
              "#fb9f3a"
             ],
             [
              0.8888888888888888,
              "#fdca26"
             ],
             [
              1,
              "#f0f921"
             ]
            ],
            "type": "surface"
           }
          ],
          "table": [
           {
            "cells": {
             "fill": {
              "color": "#EBF0F8"
             },
             "line": {
              "color": "white"
             }
            },
            "header": {
             "fill": {
              "color": "#C8D4E3"
             },
             "line": {
              "color": "white"
             }
            },
            "type": "table"
           }
          ]
         },
         "layout": {
          "annotationdefaults": {
           "arrowcolor": "#2a3f5f",
           "arrowhead": 0,
           "arrowwidth": 1
          },
          "autotypenumbers": "strict",
          "coloraxis": {
           "colorbar": {
            "outlinewidth": 0,
            "ticks": ""
           }
          },
          "colorscale": {
           "diverging": [
            [
             0,
             "#8e0152"
            ],
            [
             0.1,
             "#c51b7d"
            ],
            [
             0.2,
             "#de77ae"
            ],
            [
             0.3,
             "#f1b6da"
            ],
            [
             0.4,
             "#fde0ef"
            ],
            [
             0.5,
             "#f7f7f7"
            ],
            [
             0.6,
             "#e6f5d0"
            ],
            [
             0.7,
             "#b8e186"
            ],
            [
             0.8,
             "#7fbc41"
            ],
            [
             0.9,
             "#4d9221"
            ],
            [
             1,
             "#276419"
            ]
           ],
           "sequential": [
            [
             0,
             "#0d0887"
            ],
            [
             0.1111111111111111,
             "#46039f"
            ],
            [
             0.2222222222222222,
             "#7201a8"
            ],
            [
             0.3333333333333333,
             "#9c179e"
            ],
            [
             0.4444444444444444,
             "#bd3786"
            ],
            [
             0.5555555555555556,
             "#d8576b"
            ],
            [
             0.6666666666666666,
             "#ed7953"
            ],
            [
             0.7777777777777778,
             "#fb9f3a"
            ],
            [
             0.8888888888888888,
             "#fdca26"
            ],
            [
             1,
             "#f0f921"
            ]
           ],
           "sequentialminus": [
            [
             0,
             "#0d0887"
            ],
            [
             0.1111111111111111,
             "#46039f"
            ],
            [
             0.2222222222222222,
             "#7201a8"
            ],
            [
             0.3333333333333333,
             "#9c179e"
            ],
            [
             0.4444444444444444,
             "#bd3786"
            ],
            [
             0.5555555555555556,
             "#d8576b"
            ],
            [
             0.6666666666666666,
             "#ed7953"
            ],
            [
             0.7777777777777778,
             "#fb9f3a"
            ],
            [
             0.8888888888888888,
             "#fdca26"
            ],
            [
             1,
             "#f0f921"
            ]
           ]
          },
          "colorway": [
           "#636efa",
           "#EF553B",
           "#00cc96",
           "#ab63fa",
           "#FFA15A",
           "#19d3f3",
           "#FF6692",
           "#B6E880",
           "#FF97FF",
           "#FECB52"
          ],
          "font": {
           "color": "#2a3f5f"
          },
          "geo": {
           "bgcolor": "white",
           "lakecolor": "white",
           "landcolor": "#E5ECF6",
           "showlakes": true,
           "showland": true,
           "subunitcolor": "white"
          },
          "hoverlabel": {
           "align": "left"
          },
          "hovermode": "closest",
          "mapbox": {
           "style": "light"
          },
          "paper_bgcolor": "white",
          "plot_bgcolor": "#E5ECF6",
          "polar": {
           "angularaxis": {
            "gridcolor": "white",
            "linecolor": "white",
            "ticks": ""
           },
           "bgcolor": "#E5ECF6",
           "radialaxis": {
            "gridcolor": "white",
            "linecolor": "white",
            "ticks": ""
           }
          },
          "scene": {
           "xaxis": {
            "backgroundcolor": "#E5ECF6",
            "gridcolor": "white",
            "gridwidth": 2,
            "linecolor": "white",
            "showbackground": true,
            "ticks": "",
            "zerolinecolor": "white"
           },
           "yaxis": {
            "backgroundcolor": "#E5ECF6",
            "gridcolor": "white",
            "gridwidth": 2,
            "linecolor": "white",
            "showbackground": true,
            "ticks": "",
            "zerolinecolor": "white"
           },
           "zaxis": {
            "backgroundcolor": "#E5ECF6",
            "gridcolor": "white",
            "gridwidth": 2,
            "linecolor": "white",
            "showbackground": true,
            "ticks": "",
            "zerolinecolor": "white"
           }
          },
          "shapedefaults": {
           "line": {
            "color": "#2a3f5f"
           }
          },
          "ternary": {
           "aaxis": {
            "gridcolor": "white",
            "linecolor": "white",
            "ticks": ""
           },
           "baxis": {
            "gridcolor": "white",
            "linecolor": "white",
            "ticks": ""
           },
           "bgcolor": "#E5ECF6",
           "caxis": {
            "gridcolor": "white",
            "linecolor": "white",
            "ticks": ""
           }
          },
          "title": {
           "x": 0.05
          },
          "xaxis": {
           "automargin": true,
           "gridcolor": "white",
           "linecolor": "white",
           "ticks": "",
           "title": {
            "standoff": 15
           },
           "zerolinecolor": "white",
           "zerolinewidth": 2
          },
          "yaxis": {
           "automargin": true,
           "gridcolor": "white",
           "linecolor": "white",
           "ticks": "",
           "title": {
            "standoff": 15
           },
           "zerolinecolor": "white",
           "zerolinewidth": 2
          }
         }
        },
        "title": {
         "text": "Confusion Matrix"
        },
        "xaxis": {
         "anchor": "y",
         "constrain": "domain",
         "domain": [
          0,
          1
         ],
         "scaleanchor": "y",
         "title": {
          "text": "Predicted"
         }
        },
        "yaxis": {
         "anchor": "x",
         "autorange": "reversed",
         "constrain": "domain",
         "domain": [
          0,
          1
         ],
         "title": {
          "text": "Actual"
         }
        }
       }
      }
     },
     "metadata": {},
     "output_type": "display_data"
    },
    {
     "name": "stdout",
     "output_type": "stream",
     "text": [
      "Sensitivity (Recall): 0.0\n",
      "Specificity: 1.0\n",
      "Precision: nan\n",
      "MCC: 0.0\n"
     ]
    }
   ],
   "source": [
    "majority_class = y_train.value_counts().idxmax()\n",
    "X_test['target'] = majority_class\n",
    "y_true = y_test\n",
    "y_pred = X_test['target']\n",
    "\n",
    "evaluation(y_true, y_pred)"
   ]
  },
  {
   "cell_type": "code",
   "execution_count": 54,
   "metadata": {},
   "outputs": [],
   "source": [
    "alg = dict()\n",
    "\n",
    "my_lr = LogisticRegression()\n",
    "my_dt = tree.DecisionTreeClassifier()\n",
    "my_svm = svm.LinearSVC()\n",
    "\n",
    "my_smote = SMOTE(sampling_strategy = 1)\n",
    "my_ros = RandomOverSampler(sampling_strategy = 1)\n",
    "\n",
    "alg[\"LR_unbalanced\"] = run_cv(my_lr)\n",
    "alg[\"LR_SMOTE\"] = run_cv(my_lr, my_smote)\n",
    "alg[\"LR_ROS\"] = run_cv(my_lr, my_ros)\n",
    "\n",
    "alg[\"DT_unbalanced\"] = run_cv(my_dt)\n",
    "alg[\"DT_SMOTE\"] = run_cv(my_dt, my_smote)\n",
    "alg[\"DT_ROS\"] = run_cv(my_dt, my_ros)\n",
    "\n",
    "alg[\"SVM_unbalanced\"] = run_cv(my_svm)\n",
    "alg[\"SVM_SMOTE\"] = run_cv(my_svm, my_smote)\n",
    "alg[\"SVM_ROS\"] = run_cv(my_svm, my_ros)"
   ]
  },
  {
   "cell_type": "code",
   "execution_count": 55,
   "metadata": {},
   "outputs": [
    {
     "data": {
      "text/plain": [
       "{'LR_unbalanced': (0.6638894341596502,\n",
       "  0.5400643932523128,\n",
       "  0.9011268261451605,\n",
       "  0.473762153366952),\n",
       " 'LR_SMOTE': (0.5937951018397423,\n",
       "  0.6456421186286959,\n",
       "  0.8410889936557824,\n",
       "  0.4744920366636284),\n",
       " 'LR_ROS': (0.5146730326414566,\n",
       "  0.793578813713042,\n",
       "  0.7308887724812292,\n",
       "  0.4710130342808706),\n",
       " 'DT_unbalanced': (0.48988138347542154,\n",
       "  0.5016597134046799,\n",
       "  0.8123939235201677,\n",
       "  0.3118055599438949),\n",
       " 'DT_SMOTE': (0.48429243696857344,\n",
       "  0.5313032831489208,\n",
       "  0.7964780862580757,\n",
       "  0.31878769983758753),\n",
       " 'DT_ROS': (0.4960044623260904,\n",
       "  0.49902049700707424,\n",
       "  0.8172190210115826,\n",
       "  0.31594260740408175),\n",
       " 'SVM_unbalanced': (0.6667624262525772,\n",
       "  0.5373707600217668,\n",
       "  0.9030586112566208,\n",
       "  0.4744436199897013),\n",
       " 'SVM_SMOTE': (0.6003750990280035,\n",
       "  0.6469798657718121,\n",
       "  0.8449449973808276,\n",
       "  0.48087536276188675),\n",
       " 'SVM_ROS': (0.51049192510648,\n",
       "  0.8029974605477962,\n",
       "  0.7226913450905069,\n",
       "  0.47089222122042457)}"
      ]
     },
     "execution_count": 55,
     "metadata": {},
     "output_type": "execute_result"
    }
   ],
   "source": [
    "alg"
   ]
  },
  {
   "cell_type": "code",
   "execution_count": 56,
   "metadata": {},
   "outputs": [
    {
     "name": "stdout",
     "output_type": "stream",
     "text": [
      "SVM_ROS\n"
     ]
    }
   ],
   "source": [
    "def find_best_combination(metric_dict, target):\n",
    "    best_score = 0\n",
    "    best_key = None\n",
    "    for key, value in metric_dict.items():\n",
    "        score = value[target]\n",
    "        if score > best_score:\n",
    "            best_score = score\n",
    "            best_key = key\n",
    "    return best_key\n",
    "\n",
    "print(find_best_combination(alg, 1))"
   ]
  },
  {
   "cell_type": "code",
   "execution_count": 58,
   "metadata": {},
   "outputs": [
    {
     "name": "stdout",
     "output_type": "stream",
     "text": [
      "Best hyperparameters:  {'linearsvc__C': 0.1}\n",
      "Best recall score:  0.7969435878831852\n"
     ]
    }
   ],
   "source": [
    "param_grid = {'linearsvc__C': [0.1, 1, 10, 100, 1000]} \n",
    "\n",
    "k = 10\n",
    "cv = StratifiedKFold(n_splits=k)\n",
    "\n",
    "mms = MinMaxScaler()\n",
    "sm = RandomOverSampler(sampling_strategy=1, random_state=42)\n",
    "\n",
    "svc = svm.LinearSVC()\n",
    "\n",
    "pipeline = make_pipeline(mms, sm, svc)\n",
    "grid_search = GridSearchCV(pipeline, param_grid, cv=cv, scoring='recall')\n",
    "grid_search.fit(X_train, y_train)\n",
    "\n",
    "# Print the best hyperparameters and the corresponding score\n",
    "print(\"Best hyperparameters: \", grid_search.best_params_)\n",
    "print(\"Best recall score: \", grid_search.best_score_)"
   ]
  },
  {
   "cell_type": "code",
   "execution_count": 59,
   "metadata": {},
   "outputs": [
    {
     "name": "stdout",
     "output_type": "stream",
     "text": [
      "Best hyperparameters:  {'linearsvc__C': 10}\n",
      "Best recall score:  0.784831307817885\n"
     ]
    }
   ],
   "source": [
    "param_grid = {'linearsvc__C': [0.1, 1, 10, 100, 1000]} \n",
    "\n",
    "k = 10\n",
    "cv = StratifiedKFold(n_splits=k)\n",
    "\n",
    "mms = MinMaxScaler()\n",
    "sm = SMOTE(sampling_strategy=1, random_state=42)\n",
    "\n",
    "svc = svm.LinearSVC()\n",
    "\n",
    "pipeline = make_pipeline(mms, sm, svc)\n",
    "grid_search = GridSearchCV(pipeline, param_grid, cv=cv, scoring='recall')\n",
    "grid_search.fit(X_train, y_train)\n",
    "\n",
    "# Print the best hyperparameters and the corresponding score\n",
    "print(\"Best hyperparameters: \", grid_search.best_params_)\n",
    "print(\"Best recall score: \", grid_search.best_score_)"
   ]
  },
  {
   "cell_type": "code",
   "execution_count": 62,
   "metadata": {},
   "outputs": [
    {
     "name": "stdout",
     "output_type": "stream",
     "text": [
      "Best hyperparameters:  {'decisiontreeclassifier__criterion': 'entropy', 'decisiontreeclassifier__max_depth': 2, 'decisiontreeclassifier__min_samples_leaf': 5}\n",
      "Best recall score:  0.8520179575548703\n"
     ]
    },
    {
     "data": {
      "text/plain": [
       "[Text(0.5, 0.8333333333333334, 'Contract_Month-to-month <= 0.007\\nentropy = 1.0\\nsamples = 8294\\nvalue = [4147, 4147]'),\n",
       " Text(0.25, 0.5, 'InternetService_Fiber_optic <= 0.026\\nentropy = 0.573\\nsamples = 2723\\nvalue = [2353, 370]'),\n",
       " Text(0.125, 0.16666666666666666, 'entropy = 0.338\\nsamples = 1786\\nvalue = [1674, 112]'),\n",
       " Text(0.375, 0.16666666666666666, 'entropy = 0.849\\nsamples = 937\\nvalue = [679, 258]'),\n",
       " Text(0.75, 0.5, 'InternetService_Fiber_optic <= 0.013\\nentropy = 0.907\\nsamples = 5571\\nvalue = [1794, 3777]'),\n",
       " Text(0.625, 0.16666666666666666, 'entropy = 1.0\\nsamples = 2084\\nvalue = [1022, 1062]'),\n",
       " Text(0.875, 0.16666666666666666, 'entropy = 0.763\\nsamples = 3487\\nvalue = [772, 2715]')]"
      ]
     },
     "execution_count": 62,
     "metadata": {},
     "output_type": "execute_result"
    },
    {
     "data": {
      "image/png": "[encoded data removed]",
      "text/plain": [
       "<Figure size 640x480 with 1 Axes>"
      ]
     },
     "metadata": {},
     "output_type": "display_data"
    }
   ],
   "source": [
    "from sklearn.tree import plot_tree\n",
    "\n",
    "# Define the pipeline and the parameter grid\n",
    "params = {\n",
    "    'decisiontreeclassifier__max_depth': [2, 3, 5, 10, 20],\n",
    "    'decisiontreeclassifier__min_samples_leaf': [5, 10, 20, 50, 100],\n",
    "    'decisiontreeclassifier__criterion': [\"gini\", \"entropy\"]\n",
    "}\n",
    "\n",
    "k = 10\n",
    "cv = StratifiedKFold(n_splits=k)\n",
    "\n",
    "mms = MinMaxScaler()\n",
    "sm = SMOTE(sampling_strategy=1, random_state=42)\n",
    "decision_tree = DecisionTreeClassifier(random_state=42)\n",
    "\n",
    "pipeline = make_pipeline(mms, sm, decision_tree)\n",
    "\n",
    "# Perform grid search to find the best hyperparameters\n",
    "grid_search = GridSearchCV(pipeline, params, cv=cv, scoring='recall')\n",
    "grid_search.fit(X_train, y_train)\n",
    "\n",
    "# Print the best hyperparameters and the corresponding score\n",
    "print(\"Best hyperparameters: \", grid_search.best_params_)\n",
    "print(\"Best recall score: \", grid_search.best_score_)\n",
    "\n",
    "# access the best estimator from GridSearchCV\n",
    "best_tree = grid_search.best_estimator_.named_steps['decisiontreeclassifier']\n",
    "\n",
    "# plot the decision tree\n",
    "plot_tree(best_tree, feature_names=X_train.columns, filled=True)"
   ]
  },
  {
   "cell_type": "code",
   "execution_count": 63,
   "metadata": {},
   "outputs": [
    {
     "name": "stdout",
     "output_type": "stream",
     "text": [
      "Best hyperparameters:  {'decisiontreeclassifier__criterion': 'entropy', 'decisiontreeclassifier__max_depth': 2, 'decisiontreeclassifier__min_samples_leaf': 5}\n",
      "Best recall score:  0.8420914202793396\n"
     ]
    },
    {
     "data": {
      "text/plain": [
       "[Text(0.5, 0.8333333333333334, 'Contract_Month-to-month <= 0.5\\nentropy = 1.0\\nsamples = 8294\\nvalue = [4147, 4147]'),\n",
       " Text(0.25, 0.5, 'InternetService_Fiber_optic <= 0.5\\nentropy = 0.633\\nsamples = 2799\\nvalue = [2353, 446]'),\n",
       " Text(0.125, 0.16666666666666666, 'entropy = 0.412\\nsamples = 1825\\nvalue = [1674, 151]'),\n",
       " Text(0.375, 0.16666666666666666, 'entropy = 0.885\\nsamples = 974\\nvalue = [679, 295]'),\n",
       " Text(0.75, 0.5, 'InternetService_Fiber_optic <= 0.5\\nentropy = 0.911\\nsamples = 5495\\nvalue = [1794, 3701]'),\n",
       " Text(0.625, 0.16666666666666666, 'entropy = 0.999\\nsamples = 2107\\nvalue = [1022, 1085]'),\n",
       " Text(0.875, 0.16666666666666666, 'entropy = 0.774\\nsamples = 3388\\nvalue = [772, 2616]')]"
      ]
     },
     "execution_count": 63,
     "metadata": {},
     "output_type": "execute_result"
    },
    {
     "data": {
      "image/png": "[encoded data removed]",
      "text/plain": [
       "<Figure size 640x480 with 1 Axes>"
      ]
     },
     "metadata": {},
     "output_type": "display_data"
    }
   ],
   "source": [
    "params = {\n",
    "    'decisiontreeclassifier__max_depth': [2, 3, 5, 10, 20],\n",
    "    'decisiontreeclassifier__min_samples_leaf': [5, 10, 20, 50, 100],\n",
    "    'decisiontreeclassifier__criterion': [\"gini\", \"entropy\"]\n",
    "}\n",
    "\n",
    "k = 10\n",
    "cv = StratifiedKFold(n_splits=k)\n",
    "\n",
    "mms = MinMaxScaler()\n",
    "sm = RandomOverSampler(sampling_strategy=1, random_state=42)\n",
    "decision_tree = tree.DecisionTreeClassifier(random_state=42)\n",
    "\n",
    "pipeline = make_pipeline(mms, sm, decision_tree)\n",
    "grid_search = GridSearchCV(pipeline, params, cv=cv, scoring='recall')\n",
    "grid_search.fit(X_train, y_train)\n",
    "\n",
    "# Print the best hyperparameters and the corresponding score\n",
    "print(\"Best hyperparameters: \", grid_search.best_params_)\n",
    "print(\"Best recall score: \", grid_search.best_score_)\n",
    "\n",
    "# access the best estimator from GridSearchCV\n",
    "best_tree = grid_search.best_estimator_.named_steps['decisiontreeclassifier']\n",
    "\n",
    "# plot the decision tree\n",
    "plot_tree(best_tree, feature_names=X_train.columns, filled=True)"
   ]
  },
  {
   "cell_type": "code",
   "execution_count": 64,
   "metadata": {},
   "outputs": [
    {
     "name": "stdout",
     "output_type": "stream",
     "text": [
      "Best hyperparameters:  {'logisticregression__C': 0.8, 'logisticregression__penalty': 'l2'}\n",
      "Best recall score:  0.7895474333393796\n"
     ]
    }
   ],
   "source": [
    "parameters = {'logisticregression__penalty': ['l1','l2'],\n",
    "              'logisticregression__C': [0.1, 0.4, 0.8, 1, 2, 5]\n",
    "              }\n",
    "\n",
    "k = 10\n",
    "cv = StratifiedKFold(n_splits=k)\n",
    "\n",
    "mms = MinMaxScaler()\n",
    "sm = RandomOverSampler(sampling_strategy=1, random_state=42)\n",
    "lr = LogisticRegression(random_state=42)\n",
    "\n",
    "pipeline = make_pipeline(mms, sm, lr)\n",
    "grid_search = GridSearchCV(pipeline, parameters, cv=cv, scoring='recall')\n",
    "grid_search.fit(X_train, y_train)\n",
    "\n",
    "# Print the best hyperparameters and the corresponding score\n",
    "print(\"Best hyperparameters: \", grid_search.best_params_)\n",
    "print(\"Best recall score: \", grid_search.best_score_)"
   ]
  },
  {
   "cell_type": "code",
   "execution_count": 65,
   "metadata": {},
   "outputs": [
    {
     "name": "stdout",
     "output_type": "stream",
     "text": [
      "Best hyperparameters:  {'logisticregression__C': 0.1, 'logisticregression__penalty': 'l2'}\n",
      "Best recall score:  0.7808089969163795\n"
     ]
    }
   ],
   "source": [
    "parameters = {'logisticregression__penalty': ['l1','l2'],\n",
    "              'logisticregression__C': [0.1, 0.4, 0.8, 1, 2, 5]\n",
    "              }\n",
    "\n",
    "k = 10\n",
    "cv = StratifiedKFold(n_splits=k)\n",
    "\n",
    "mms = MinMaxScaler()\n",
    "sm = SMOTE(sampling_strategy=1, random_state=42)\n",
    "lr = LogisticRegression(random_state=42)\n",
    "\n",
    "pipeline = make_pipeline(mms, sm, lr)\n",
    "grid_search = GridSearchCV(pipeline, parameters, cv=cv, scoring='recall')\n",
    "grid_search.fit(X_train, y_train)\n",
    "\n",
    "# Print the best hyperparameters and the corresponding score\n",
    "print(\"Best hyperparameters: \", grid_search.best_params_)\n",
    "print(\"Best recall score: \", grid_search.best_score_)"
   ]
  },
  {
   "cell_type": "code",
   "execution_count": 66,
   "metadata": {},
   "outputs": [],
   "source": [
    "hp_algs = dict()\n",
    "\n",
    "my_dt = tree.DecisionTreeClassifier(criterion = 'entropy', max_depth = 2, min_samples_leaf = 5)\n",
    "\n",
    "my_smote = SMOTE(sampling_strategy = 1)\n",
    "my_ros = RandomOverSampler(sampling_strategy = 1)\n",
    "\n",
    "hp_algs[\"LR_unbalanced\"] = run_cv(my_lr)\n",
    "hp_algs[\"LR_SMOTE\"] = run_cv(LogisticRegression(C = 0.1, penalty = 'l2'), my_smote)\n",
    "hp_algs[\"LR_ROS\"] = run_cv(LogisticRegression(C = 0.8, penalty = 'l2'), my_ros)\n",
    "\n",
    "hp_algs[\"DT_unbalanced\"] = run_cv(my_dt)\n",
    "hp_algs[\"DT_SMOTE\"] = run_cv(my_dt, my_smote)\n",
    "hp_algs[\"DT_ROS\"] = run_cv(my_dt, my_ros)\n",
    "\n",
    "hp_algs[\"SVM_unbalanced\"] = run_cv(my_svm)\n",
    "hp_algs[\"SVM_SMOTE\"] = run_cv(svm.LinearSVC(C = 10), my_smote)\n",
    "hp_algs[\"SVM_ROS\"] = run_cv(svm.LinearSVC(C = 0.1), my_ros)"
   ]
  },
  {
   "cell_type": "code",
   "execution_count": 67,
   "metadata": {},
   "outputs": [
    {
     "name": "stdout",
     "output_type": "stream",
     "text": [
      "DT_ROS\n"
     ]
    }
   ],
   "source": [
    "print(find_best_combination(hp_algs, 1))"
   ]
  },
  {
   "cell_type": "code",
   "execution_count": 68,
   "metadata": {},
   "outputs": [
    {
     "data": {
      "text/plain": [
       "{'LR_unbalanced': (0.6638894341596502,\n",
       "  0.5400643932523128,\n",
       "  0.9011268261451605,\n",
       "  0.473762153366952),\n",
       " 'LR_SMOTE': (0.5802082327555158,\n",
       "  0.6732042445129693,\n",
       "  0.824684826261568,\n",
       "  0.47641358977231824),\n",
       " 'LR_ROS': (0.5150227423738036,\n",
       "  0.794925630328315,\n",
       "  0.7306472265875094,\n",
       "  0.4720141525102143),\n",
       " 'DT_unbalanced': (0.5473467959205636,\n",
       "  0.6254670778160711,\n",
       "  0.8138373784995052,\n",
       "  0.4221824380966105),\n",
       " 'DT_SMOTE': (0.43807724900406547,\n",
       "  0.8640758207872302,\n",
       "  0.5905279087363948,\n",
       "  0.40754234531358235),\n",
       " 'DT_ROS': (0.4322961192712026,\n",
       "  0.8702793397424269,\n",
       "  0.5840620452825795,\n",
       "  0.4054379499887487),\n",
       " 'SVM_unbalanced': (0.6667624262525772,\n",
       "  0.5373707600217668,\n",
       "  0.9030586112566208,\n",
       "  0.4744436199897013),\n",
       " 'SVM_SMOTE': (0.6034902107615269,\n",
       "  0.6496508253219663,\n",
       "  0.8463890343984634,\n",
       "  0.48501628659576734),\n",
       " 'SVM_ROS': (0.5104624770496721,\n",
       "  0.7989524759658988,\n",
       "  0.7238915080612304,\n",
       "  0.4687048432473788)}"
      ]
     },
     "execution_count": 68,
     "metadata": {},
     "output_type": "execute_result"
    }
   ],
   "source": [
    "hp_algs"
   ]
  },
  {
   "cell_type": "code",
   "execution_count": 71,
   "metadata": {},
   "outputs": [],
   "source": [
    "mms = MinMaxScaler() # Normalization\n",
    "numerical_features = ['Tenure', 'MonthlyCharges']\n",
    "# fit the scaler on the training data and transform it\n",
    "X_train[numerical_features] = mms.fit_transform(X_train[numerical_features])\n",
    "\n",
    "# transform the test data using the same scaler\n",
    "X_test[numerical_features] = mms.transform(X_test[numerical_features])"
   ]
  },
  {
   "cell_type": "code",
   "execution_count": 72,
   "metadata": {},
   "outputs": [],
   "source": [
    "ros = RandomOverSampler(sampling_strategy = 1)\n",
    "X_res_over, y_res_over = ros.fit_resample(X_train, y_train)"
   ]
  },
  {
   "cell_type": "code",
   "execution_count": 73,
   "metadata": {},
   "outputs": [
    {
     "data": {
      "application/vnd.plotly.v1+json": {
       "config": {
        "plotlyServerURL": "https://plot.ly"
       },
       "data": [
        {
         "coloraxis": "coloraxis",
         "hovertemplate": "Predicted: %{x}<br>Actual: %{y}<br>Count: %{z}<extra></extra>",
         "name": "0",
         "showscale": true,
         "texttemplate": "%{z}",
         "type": "heatmap",
         "x": [
          "Predicted Positive",
          "Predicted Negative"
         ],
         "xaxis": "x",
         "y": [
          "Actual Positive",
          "Actual Negative"
         ],
         "yaxis": "y",
         "z": [
          [
           303,
           79
          ],
          [
           280,
           747
          ]
         ]
        }
       ],
       "layout": {
        "coloraxis": {
         "colorbar": {
          "title": {
           "text": "Count"
          }
         },
         "colorscale": [
          [
           0,
           "rgb(247,251,255)"
          ],
          [
           0.125,
           "rgb(222,235,247)"
          ],
          [
           0.25,
           "rgb(198,219,239)"
          ],
          [
           0.375,
           "rgb(158,202,225)"
          ],
          [
           0.5,
           "rgb(107,174,214)"
          ],
          [
           0.625,
           "rgb(66,146,198)"
          ],
          [
           0.75,
           "rgb(33,113,181)"
          ],
          [
           0.875,
           "rgb(8,81,156)"
          ],
          [
           1,
           "rgb(8,48,107)"
          ]
         ]
        },
        "margin": {
         "t": 60
        },
        "template": {
         "data": {
          "bar": [
           {
            "error_x": {
             "color": "#2a3f5f"
            },
            "error_y": {
             "color": "#2a3f5f"
            },
            "marker": {
             "line": {
              "color": "#E5ECF6",
              "width": 0.5
             },
             "pattern": {
              "fillmode": "overlay",
              "size": 10,
              "solidity": 0.2
             }
            },
            "type": "bar"
           }
          ],
          "barpolar": [
           {
            "marker": {
             "line": {
              "color": "#E5ECF6",
              "width": 0.5
             },
             "pattern": {
              "fillmode": "overlay",
              "size": 10,
              "solidity": 0.2
             }
            },
            "type": "barpolar"
           }
          ],
          "carpet": [
           {
            "aaxis": {
             "endlinecolor": "#2a3f5f",
             "gridcolor": "white",
             "linecolor": "white",
             "minorgridcolor": "white",
             "startlinecolor": "#2a3f5f"
            },
            "baxis": {
             "endlinecolor": "#2a3f5f",
             "gridcolor": "white",
             "linecolor": "white",
             "minorgridcolor": "white",
             "startlinecolor": "#2a3f5f"
            },
            "type": "carpet"
           }
          ],
          "choropleth": [
           {
            "colorbar": {
             "outlinewidth": 0,
             "ticks": ""
            },
            "type": "choropleth"
           }
          ],
          "contour": [
           {
            "colorbar": {
             "outlinewidth": 0,
             "ticks": ""
            },
            "colorscale": [
             [
              0,
              "#0d0887"
             ],
             [
              0.1111111111111111,
              "#46039f"
             ],
             [
              0.2222222222222222,
              "#7201a8"
             ],
             [
              0.3333333333333333,
              "#9c179e"
             ],
             [
              0.4444444444444444,
              "#bd3786"
             ],
             [
              0.5555555555555556,
              "#d8576b"
             ],
             [
              0.6666666666666666,
              "#ed7953"
             ],
             [
              0.7777777777777778,
              "#fb9f3a"
             ],
             [
              0.8888888888888888,
              "#fdca26"
             ],
             [
              1,
              "#f0f921"
             ]
            ],
            "type": "contour"
           }
          ],
          "contourcarpet": [
           {
            "colorbar": {
             "outlinewidth": 0,
             "ticks": ""
            },
            "type": "contourcarpet"
           }
          ],
          "heatmap": [
           {
            "colorbar": {
             "outlinewidth": 0,
             "ticks": ""
            },
            "colorscale": [
             [
              0,
              "#0d0887"
             ],
             [
              0.1111111111111111,
              "#46039f"
             ],
             [
              0.2222222222222222,
              "#7201a8"
             ],
             [
              0.3333333333333333,
              "#9c179e"
             ],
             [
              0.4444444444444444,
              "#bd3786"
             ],
             [
              0.5555555555555556,
              "#d8576b"
             ],
             [
              0.6666666666666666,
              "#ed7953"
             ],
             [
              0.7777777777777778,
              "#fb9f3a"
             ],
             [
              0.8888888888888888,
              "#fdca26"
             ],
             [
              1,
              "#f0f921"
             ]
            ],
            "type": "heatmap"
           }
          ],
          "heatmapgl": [
           {
            "colorbar": {
             "outlinewidth": 0,
             "ticks": ""
            },
            "colorscale": [
             [
              0,
              "#0d0887"
             ],
             [
              0.1111111111111111,
              "#46039f"
             ],
             [
              0.2222222222222222,
              "#7201a8"
             ],
             [
              0.3333333333333333,
              "#9c179e"
             ],
             [
              0.4444444444444444,
              "#bd3786"
             ],
             [
              0.5555555555555556,
              "#d8576b"
             ],
             [
              0.6666666666666666,
              "#ed7953"
             ],
             [
              0.7777777777777778,
              "#fb9f3a"
             ],
             [
              0.8888888888888888,
              "#fdca26"
             ],
             [
              1,
              "#f0f921"
             ]
            ],
            "type": "heatmapgl"
           }
          ],
          "histogram": [
           {
            "marker": {
             "pattern": {
              "fillmode": "overlay",
              "size": 10,
              "solidity": 0.2
             }
            },
            "type": "histogram"
           }
          ],
          "histogram2d": [
           {
            "colorbar": {
             "outlinewidth": 0,
             "ticks": ""
            },
            "colorscale": [
             [
              0,
              "#0d0887"
             ],
             [
              0.1111111111111111,
              "#46039f"
             ],
             [
              0.2222222222222222,
              "#7201a8"
             ],
             [
              0.3333333333333333,
              "#9c179e"
             ],
             [
              0.4444444444444444,
              "#bd3786"
             ],
             [
              0.5555555555555556,
              "#d8576b"
             ],
             [
              0.6666666666666666,
              "#ed7953"
             ],
             [
              0.7777777777777778,
              "#fb9f3a"
             ],
             [
              0.8888888888888888,
              "#fdca26"
             ],
             [
              1,
              "#f0f921"
             ]
            ],
            "type": "histogram2d"
           }
          ],
          "histogram2dcontour": [
           {
            "colorbar": {
             "outlinewidth": 0,
             "ticks": ""
            },
            "colorscale": [
             [
              0,
              "#0d0887"
             ],
             [
              0.1111111111111111,
              "#46039f"
             ],
             [
              0.2222222222222222,
              "#7201a8"
             ],
             [
              0.3333333333333333,
              "#9c179e"
             ],
             [
              0.4444444444444444,
              "#bd3786"
             ],
             [
              0.5555555555555556,
              "#d8576b"
             ],
             [
              0.6666666666666666,
              "#ed7953"
             ],
             [
              0.7777777777777778,
              "#fb9f3a"
             ],
             [
              0.8888888888888888,
              "#fdca26"
             ],
             [
              1,
              "#f0f921"
             ]
            ],
            "type": "histogram2dcontour"
           }
          ],
          "mesh3d": [
           {
            "colorbar": {
             "outlinewidth": 0,
             "ticks": ""
            },
            "type": "mesh3d"
           }
          ],
          "parcoords": [
           {
            "line": {
             "colorbar": {
              "outlinewidth": 0,
              "ticks": ""
             }
            },
            "type": "parcoords"
           }
          ],
          "pie": [
           {
            "automargin": true,
            "type": "pie"
           }
          ],
          "scatter": [
           {
            "fillpattern": {
             "fillmode": "overlay",
             "size": 10,
             "solidity": 0.2
            },
            "type": "scatter"
           }
          ],
          "scatter3d": [
           {
            "line": {
             "colorbar": {
              "outlinewidth": 0,
              "ticks": ""
             }
            },
            "marker": {
             "colorbar": {
              "outlinewidth": 0,
              "ticks": ""
             }
            },
            "type": "scatter3d"
           }
          ],
          "scattercarpet": [
           {
            "marker": {
             "colorbar": {
              "outlinewidth": 0,
              "ticks": ""
             }
            },
            "type": "scattercarpet"
           }
          ],
          "scattergeo": [
           {
            "marker": {
             "colorbar": {
              "outlinewidth": 0,
              "ticks": ""
             }
            },
            "type": "scattergeo"
           }
          ],
          "scattergl": [
           {
            "marker": {
             "colorbar": {
              "outlinewidth": 0,
              "ticks": ""
             }
            },
            "type": "scattergl"
           }
          ],
          "scattermapbox": [
           {
            "marker": {
             "colorbar": {
              "outlinewidth": 0,
              "ticks": ""
             }
            },
            "type": "scattermapbox"
           }
          ],
          "scatterpolar": [
           {
            "marker": {
             "colorbar": {
              "outlinewidth": 0,
              "ticks": ""
             }
            },
            "type": "scatterpolar"
           }
          ],
          "scatterpolargl": [
           {
            "marker": {
             "colorbar": {
              "outlinewidth": 0,
              "ticks": ""
             }
            },
            "type": "scatterpolargl"
           }
          ],
          "scatterternary": [
           {
            "marker": {
             "colorbar": {
              "outlinewidth": 0,
              "ticks": ""
             }
            },
            "type": "scatterternary"
           }
          ],
          "surface": [
           {
            "colorbar": {
             "outlinewidth": 0,
             "ticks": ""
            },
            "colorscale": [
             [
              0,
              "#0d0887"
             ],
             [
              0.1111111111111111,
              "#46039f"
             ],
             [
              0.2222222222222222,
              "#7201a8"
             ],
             [
              0.3333333333333333,
              "#9c179e"
             ],
             [
              0.4444444444444444,
              "#bd3786"
             ],
             [
              0.5555555555555556,
              "#d8576b"
             ],
             [
              0.6666666666666666,
              "#ed7953"
             ],
             [
              0.7777777777777778,
              "#fb9f3a"
             ],
             [
              0.8888888888888888,
              "#fdca26"
             ],
             [
              1,
              "#f0f921"
             ]
            ],
            "type": "surface"
           }
          ],
          "table": [
           {
            "cells": {
             "fill": {
              "color": "#EBF0F8"
             },
             "line": {
              "color": "white"
             }
            },
            "header": {
             "fill": {
              "color": "#C8D4E3"
             },
             "line": {
              "color": "white"
             }
            },
            "type": "table"
           }
          ]
         },
         "layout": {
          "annotationdefaults": {
           "arrowcolor": "#2a3f5f",
           "arrowhead": 0,
           "arrowwidth": 1
          },
          "autotypenumbers": "strict",
          "coloraxis": {
           "colorbar": {
            "outlinewidth": 0,
            "ticks": ""
           }
          },
          "colorscale": {
           "diverging": [
            [
             0,
             "#8e0152"
            ],
            [
             0.1,
             "#c51b7d"
            ],
            [
             0.2,
             "#de77ae"
            ],
            [
             0.3,
             "#f1b6da"
            ],
            [
             0.4,
             "#fde0ef"
            ],
            [
             0.5,
             "#f7f7f7"
            ],
            [
             0.6,
             "#e6f5d0"
            ],
            [
             0.7,
             "#b8e186"
            ],
            [
             0.8,
             "#7fbc41"
            ],
            [
             0.9,
             "#4d9221"
            ],
            [
             1,
             "#276419"
            ]
           ],
           "sequential": [
            [
             0,
             "#0d0887"
            ],
            [
             0.1111111111111111,
             "#46039f"
            ],
            [
             0.2222222222222222,
             "#7201a8"
            ],
            [
             0.3333333333333333,
             "#9c179e"
            ],
            [
             0.4444444444444444,
             "#bd3786"
            ],
            [
             0.5555555555555556,
             "#d8576b"
            ],
            [
             0.6666666666666666,
             "#ed7953"
            ],
            [
             0.7777777777777778,
             "#fb9f3a"
            ],
            [
             0.8888888888888888,
             "#fdca26"
            ],
            [
             1,
             "#f0f921"
            ]
           ],
           "sequentialminus": [
            [
             0,
             "#0d0887"
            ],
            [
             0.1111111111111111,
             "#46039f"
            ],
            [
             0.2222222222222222,
             "#7201a8"
            ],
            [
             0.3333333333333333,
             "#9c179e"
            ],
            [
             0.4444444444444444,
             "#bd3786"
            ],
            [
             0.5555555555555556,
             "#d8576b"
            ],
            [
             0.6666666666666666,
             "#ed7953"
            ],
            [
             0.7777777777777778,
             "#fb9f3a"
            ],
            [
             0.8888888888888888,
             "#fdca26"
            ],
            [
             1,
             "#f0f921"
            ]
           ]
          },
          "colorway": [
           "#636efa",
           "#EF553B",
           "#00cc96",
           "#ab63fa",
           "#FFA15A",
           "#19d3f3",
           "#FF6692",
           "#B6E880",
           "#FF97FF",
           "#FECB52"
          ],
          "font": {
           "color": "#2a3f5f"
          },
          "geo": {
           "bgcolor": "white",
           "lakecolor": "white",
           "landcolor": "#E5ECF6",
           "showlakes": true,
           "showland": true,
           "subunitcolor": "white"
          },
          "hoverlabel": {
           "align": "left"
          },
          "hovermode": "closest",
          "mapbox": {
           "style": "light"
          },
          "paper_bgcolor": "white",
          "plot_bgcolor": "#E5ECF6",
          "polar": {
           "angularaxis": {
            "gridcolor": "white",
            "linecolor": "white",
            "ticks": ""
           },
           "bgcolor": "#E5ECF6",
           "radialaxis": {
            "gridcolor": "white",
            "linecolor": "white",
            "ticks": ""
           }
          },
          "scene": {
           "xaxis": {
            "backgroundcolor": "#E5ECF6",
            "gridcolor": "white",
            "gridwidth": 2,
            "linecolor": "white",
            "showbackground": true,
            "ticks": "",
            "zerolinecolor": "white"
           },
           "yaxis": {
            "backgroundcolor": "#E5ECF6",
            "gridcolor": "white",
            "gridwidth": 2,
            "linecolor": "white",
            "showbackground": true,
            "ticks": "",
            "zerolinecolor": "white"
           },
           "zaxis": {
            "backgroundcolor": "#E5ECF6",
            "gridcolor": "white",
            "gridwidth": 2,
            "linecolor": "white",
            "showbackground": true,
            "ticks": "",
            "zerolinecolor": "white"
           }
          },
          "shapedefaults": {
           "line": {
            "color": "#2a3f5f"
           }
          },
          "ternary": {
           "aaxis": {
            "gridcolor": "white",
            "linecolor": "white",
            "ticks": ""
           },
           "baxis": {
            "gridcolor": "white",
            "linecolor": "white",
            "ticks": ""
           },
           "bgcolor": "#E5ECF6",
           "caxis": {
            "gridcolor": "white",
            "linecolor": "white",
            "ticks": ""
           }
          },
          "title": {
           "x": 0.05
          },
          "xaxis": {
           "automargin": true,
           "gridcolor": "white",
           "linecolor": "white",
           "ticks": "",
           "title": {
            "standoff": 15
           },
           "zerolinecolor": "white",
           "zerolinewidth": 2
          },
          "yaxis": {
           "automargin": true,
           "gridcolor": "white",
           "linecolor": "white",
           "ticks": "",
           "title": {
            "standoff": 15
           },
           "zerolinecolor": "white",
           "zerolinewidth": 2
          }
         }
        },
        "title": {
         "text": "Confusion Matrix"
        },
        "xaxis": {
         "anchor": "y",
         "constrain": "domain",
         "domain": [
          0,
          1
         ],
         "scaleanchor": "y",
         "title": {
          "text": "Predicted"
         }
        },
        "yaxis": {
         "anchor": "x",
         "autorange": "reversed",
         "constrain": "domain",
         "domain": [
          0,
          1
         ],
         "title": {
          "text": "Actual"
         }
        }
       }
      }
     },
     "metadata": {},
     "output_type": "display_data"
    },
    {
     "name": "stdout",
     "output_type": "stream",
     "text": [
      "Sensitivity (Recall): 0.79\n",
      "Specificity: 0.73\n",
      "Precision: 0.52\n",
      "MCC: 0.47\n"
     ]
    }
   ],
   "source": [
    "svc_final = svm.LinearSVC(C = 0.1).fit(X_res_over, y_res_over)\n",
    "y_pred_class = svc_final.predict(X_test)\n",
    "\n",
    "evaluation(y_test, y_pred_class)"
   ]
  }
 ],
 "metadata": {
  "kernelspec": {
   "display_name": "base",
   "language": "python",
   "name": "python3"
  },
  "language_info": {
   "codemirror_mode": {
    "name": "ipython",
    "version": 3
   },
   "file_extension": ".py",
   "mimetype": "text/x-python",
   "name": "python",
   "nbconvert_exporter": "python",
   "pygments_lexer": "ipython3",
   "version": "3.9.13"
  },
  "orig_nbformat": 4
 },
 "nbformat": 4,
 "nbformat_minor": 2
}
