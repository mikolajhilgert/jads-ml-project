{
 "cells": [
  {
   "attachments": {},
   "cell_type": "markdown",
   "metadata": {},
   "source": [
    "<h1><center> Data Preparation - Data Preparation phase Notebook  </center></h1>"
   ]
  },
  {
   "cell_type": "code",
   "execution_count": 10,
   "metadata": {},
   "outputs": [],
   "source": [
    "import numpy as np\n",
    "import pandas as pd\n",
    "from sklearn.preprocessing import OneHotEncoder\n",
    "from sklearn.preprocessing import MinMaxScaler, StandardScaler\n",
    "from sklearn.metrics import accuracy_score\n",
    "from sklearn.model_selection import train_test_split\n",
    "from sklearn.preprocessing import LabelEncoder\n",
    "from scipy.stats import kstest"
   ]
  },
  {
   "cell_type": "code",
   "execution_count": 51,
   "metadata": {},
   "outputs": [],
   "source": [
    "# Data Insertion\n",
    "df = pd.read_csv(r'../../telco_customers.csv')"
   ]
  },
  {
   "attachments": {},
   "cell_type": "markdown",
   "metadata": {},
   "source": [
    "### Data Cleaning"
   ]
  },
  {
   "attachments": {},
   "cell_type": "markdown",
   "metadata": {},
   "source": [
    "##### Initial data preparation"
   ]
  },
  {
   "cell_type": "code",
   "execution_count": 52,
   "metadata": {},
   "outputs": [
    {
     "data": {
      "text/plain": [
       "Gender               object\n",
       "SeniorCitizen        object\n",
       "Partner              object\n",
       "Dependents           object\n",
       "Tenure                int64\n",
       "PhoneService         object\n",
       "MultipleLines        object\n",
       "InternetService      object\n",
       "OnlineSecurity       object\n",
       "OnlineBackup         object\n",
       "DeviceProtection     object\n",
       "TechSupport          object\n",
       "StreamingTV          object\n",
       "StreamingMovies      object\n",
       "Contract             object\n",
       "PaperlessBilling     object\n",
       "PaymentMethod        object\n",
       "MonthlyCharges      float64\n",
       "TotalCharges        float64\n",
       "Churn                object\n",
       "dtype: object"
      ]
     },
     "execution_count": 52,
     "metadata": {},
     "output_type": "execute_result"
    }
   ],
   "source": [
    "# Capitalize all columns for consistency\n",
    "df.rename(columns = lambda x: \"\".join([w[0].upper() + w[1:] for w in x.split()]), inplace = True)\n",
    "\n",
    "# Drop CustomerID, as it holds no bearing on the future predictions\n",
    "df = df.drop(\"CustomerID\", axis=1)\n",
    "\n",
    "df['SeniorCitizen'] = df['SeniorCitizen'].map({0: 'No', 1: 'Yes'})\n",
    "\n",
    "numerical_features = ['Tenure', 'MonthlyCharges', 'TotalCharges']\n",
    "categorical_features = df.columns.difference(numerical_features)\n",
    "\n",
    "# Set column data type\n",
    "df[numerical_features] = df[numerical_features].apply(pd.to_numeric, errors='coerce')\n",
    "\n",
    "df.dtypes"
   ]
  },
  {
   "cell_type": "markdown",
   "metadata": {},
   "source": [
    "##### Missing Value Analysis"
   ]
  },
  {
   "cell_type": "code",
   "execution_count": 53,
   "metadata": {},
   "outputs": [
    {
     "data": {
      "text/plain": [
       "['TotalCharges']"
      ]
     },
     "execution_count": 53,
     "metadata": {},
     "output_type": "execute_result"
    }
   ],
   "source": [
    "# Get all columns that hold null values\n",
    "df.columns[df.isnull().sum() != 0].tolist()"
   ]
  },
  {
   "cell_type": "code",
   "execution_count": 54,
   "metadata": {},
   "outputs": [
    {
     "data": {
      "text/plain": [
       "0"
      ]
     },
     "execution_count": 54,
     "metadata": {},
     "output_type": "execute_result"
    }
   ],
   "source": [
    "# Replace the null values with 0 (it is a result of customers with 1 month tenure)\n",
    "df[\"TotalCharges\"] = df[\"TotalCharges\"].fillna(0)\n",
    "df[\"TotalCharges\"].isnull().sum()"
   ]
  },
  {
   "attachments": {},
   "cell_type": "markdown",
   "metadata": {},
   "source": [
    "##### Outlier Analysis"
   ]
  },
  {
   "attachments": {},
   "cell_type": "markdown",
   "metadata": {},
   "source": [
    "Identifying Outliers using the IQR Method:"
   ]
  },
  {
   "cell_type": "code",
   "execution_count": 334,
   "metadata": {},
   "outputs": [
    {
     "name": "stdout",
     "output_type": "stream",
     "text": [
      "The column 'Tenure' has 0 outliers!\n",
      "The column 'MonthlyCharges' has 0 outliers!\n",
      "The column 'TotalCharges' has 0 outliers!\n"
     ]
    }
   ],
   "source": [
    "for feature in numerical_features:\n",
    "    copy_df = df.copy()\n",
    "    copy_df[feature] = sorted(copy_df[feature])\n",
    "    Q1, Q3 = np.percentile(copy_df[feature], [25, 75])\n",
    "    IQR = Q3 - Q1\n",
    "    lower_bound = Q1 - (1.5 * IQR) \n",
    "    upper_bound = Q3 + (1.5 * IQR) \n",
    "    out = copy_df[(copy_df[feature] < lower_bound) | (copy_df[feature] > upper_bound)]\n",
    "    print(f\"The column '{feature}' has {out.shape[0]} outliers!\")\n",
    "del copy_df"
   ]
  },
  {
   "attachments": {},
   "cell_type": "markdown",
   "metadata": {},
   "source": [
    "Identifying Outliers using the Z-Score Method:"
   ]
  },
  {
   "cell_type": "code",
   "execution_count": 335,
   "metadata": {},
   "outputs": [
    {
     "name": "stdout",
     "output_type": "stream",
     "text": [
      "The column 'Tenure' has 0 outliers!\n",
      "The column 'MonthlyCharges' has 0 outliers!\n",
      "The column 'TotalCharges' has 0 outliers!\n"
     ]
    }
   ],
   "source": [
    "for feature in numerical_features:\n",
    "    copy_df = df.copy()\n",
    "    mean = np.mean(copy_df[feature])\n",
    "    std = np.std(copy_df[feature])\n",
    "    copy_df[\"charges_z_score\"] = (copy_df[feature] - mean) / std\n",
    "\n",
    "    # create empty list\n",
    "    outlier_indexes = []\n",
    "\n",
    "    # add index numbers of outliers to list\n",
    "    outlier_indexes.extend(copy_df.index[copy_df['charges_z_score'] > 3].tolist())\n",
    "    outlier_indexes.extend(copy_df.index[copy_df['charges_z_score'] < -3].tolist())\n",
    "\n",
    "    new_data = copy_df.drop(copy_df.index[outlier_indexes])\n",
    "    \n",
    "    print(f\"The column '{feature}' has {df.shape[0] - new_data.shape[0]} outliers!\")\n",
    "del copy_df"
   ]
  },
  {
   "attachments": {},
   "cell_type": "markdown",
   "metadata": {},
   "source": [
    "##### Label Encoding"
   ]
  },
  {
   "cell_type": "code",
   "execution_count": 55,
   "metadata": {},
   "outputs": [
    {
     "data": {
      "text/plain": [
       "Index(['Tenure', 'MonthlyCharges', 'TotalCharges', 'Contract_Month-to-month',\n",
       "       'Contract_One_year', 'Contract_Two_year', 'DeviceProtection_No',\n",
       "       'DeviceProtection_No_internet_service', 'DeviceProtection_Yes',\n",
       "       'InternetService_DSL', 'InternetService_Fiber_optic',\n",
       "       'InternetService_No', 'MultipleLines_No',\n",
       "       'MultipleLines_No_phone_service', 'MultipleLines_Yes',\n",
       "       'OnlineBackup_No', 'OnlineBackup_No_internet_service',\n",
       "       'OnlineBackup_Yes', 'OnlineSecurity_No',\n",
       "       'OnlineSecurity_No_internet_service', 'OnlineSecurity_Yes',\n",
       "       'PaymentMethod_Bank_transfer_(automatic)',\n",
       "       'PaymentMethod_Credit_card_(automatic)',\n",
       "       'PaymentMethod_Electronic_check', 'PaymentMethod_Mailed_check',\n",
       "       'StreamingMovies_No', 'StreamingMovies_No_internet_service',\n",
       "       'StreamingMovies_Yes', 'StreamingTV_No',\n",
       "       'StreamingTV_No_internet_service', 'StreamingTV_Yes', 'TechSupport_No',\n",
       "       'TechSupport_No_internet_service', 'TechSupport_Yes', 'Churn',\n",
       "       'Dependents', 'Gender', 'PaperlessBilling', 'Partner', 'PhoneService',\n",
       "       'SeniorCitizen'],\n",
       "      dtype='object')"
      ]
     },
     "execution_count": 55,
     "metadata": {},
     "output_type": "execute_result"
    }
   ],
   "source": [
    "# Encoding\n",
    "features_to_one_hot_encode = [feature for feature in categorical_features if df[feature].nunique() > 2]\n",
    "features_to_label_encode = [feature for feature in categorical_features if df[feature].nunique() == 2]\n",
    "\n",
    "one_hot_df = pd.get_dummies(df[features_to_one_hot_encode])\n",
    "one_hot_df.columns = one_hot_df.columns.str.replace(' ', '_')\n",
    "\n",
    "# Label encode the specified columns\n",
    "label_encode_df = df[features_to_label_encode].apply(LabelEncoder().fit_transform)\n",
    "\n",
    "# Combine the encoded dataframes\n",
    "df_enc = pd.concat([df.drop(columns=features_to_one_hot_encode+features_to_label_encode), one_hot_df, label_encode_df], axis=1)\n",
    "\n",
    "df_enc.columns"
   ]
  },
  {
   "cell_type": "code",
   "execution_count": 56,
   "metadata": {},
   "outputs": [],
   "source": [
    "del df_enc[\"TotalCharges\"]\n",
    "del df_enc[\"MultipleLines_No_phone_service\"]\n",
    "del df_enc[\"OnlineSecurity_No_internet_service\"]\n",
    "del df_enc[\"StreamingTV_No_internet_service\"]\n",
    "del df_enc[\"OnlineBackup_No_internet_service\"]\n",
    "del df_enc[\"DeviceProtection_No_internet_service\"]\n",
    "del df_enc[\"InternetService_No\"]\n",
    "del df_enc[\"MultipleLines_Yes\"]\n",
    "del df_enc[\"TechSupport_No_internet_service\"]\n",
    "del df_enc[\"PhoneService\"]\n",
    "del df_enc[\"MultipleLines_No\"]\n",
    "del df_enc[\"StreamingMovies_No_internet_service\"]"
   ]
  },
  {
   "cell_type": "markdown",
   "metadata": {},
   "source": [
    "##### Data splitting"
   ]
  },
  {
   "cell_type": "code",
   "execution_count": 57,
   "metadata": {},
   "outputs": [
    {
     "name": "stdout",
     "output_type": "stream",
     "text": [
      "Training features shape: (4225, 28)\n",
      "Training features shape: (1409, 28)\n",
      "Training features shape: (1409, 28)\n"
     ]
    }
   ],
   "source": [
    "X = df_enc.drop(columns=['Churn'])\n",
    "y = df_enc['Churn']\n",
    "\n",
    "# set aside 20% of train and test data for evaluation\n",
    "X_train, X_test, y_train, y_test = train_test_split(X, y,\n",
    "    test_size=0.2, random_state = 8)\n",
    "\n",
    "# Use the same function above for the validation set\n",
    "X_train, X_val, y_train, y_val = train_test_split(X_train, y_train, \n",
    "    test_size=0.25, random_state= 8) # 0.25 x 0.8 = 0.2\n",
    "\n",
    "print(f\"Training features shape: {X_train.shape}\")\n",
    "print(f\"Training features shape: {X_test.shape}\")\n",
    "print(f\"Training features shape: {X_val.shape}\")"
   ]
  },
  {
   "attachments": {},
   "cell_type": "markdown",
   "metadata": {},
   "source": [
    "### Feature Scaling"
   ]
  },
  {
   "cell_type": "code",
   "execution_count": 338,
   "metadata": {},
   "outputs": [
    {
     "data": {
      "text/plain": [
       "608     0\n",
       "5007    0\n",
       "5329    1\n",
       "3485    1\n",
       "6530    0\n",
       "       ..\n",
       "1265    0\n",
       "3229    1\n",
       "3810    0\n",
       "2147    0\n",
       "4252    0\n",
       "Name: Churn, Length: 4225, dtype: int32"
      ]
     },
     "execution_count": 338,
     "metadata": {},
     "output_type": "execute_result"
    }
   ],
   "source": [
    "y_train"
   ]
  },
  {
   "attachments": {},
   "cell_type": "markdown",
   "metadata": {},
   "source": [
    "Viewing the distribution of the Numerical Features"
   ]
  },
  {
   "cell_type": "code",
   "execution_count": null,
   "metadata": {},
   "outputs": [],
   "source": [
    "# https://towardsdatascience.com/6-ways-to-test-for-a-normal-distribution-which-one-to-use-9dcf47d8fa93\n",
    "# https://www.ncbi.nlm.nih.gov/pmc/articles/PMC6350423/\n",
    "\n",
    "def check_normality_ks(df):\n",
    "    \n",
    "    alpha=0.05\n",
    "    for column in df.columns:\n",
    "      column = df[column]  \n",
    "      result = kstest(column, 'norm')\n",
    "\n",
    "      if result.pvalue < alpha:\n",
    "        print('The column is not normally distributed.')\n",
    "      else:\n",
    "        print('The column is normally distributed.')"
   ]
  },
  {
   "cell_type": "code",
   "execution_count": 339,
   "metadata": {},
   "outputs": [
    {
     "data": {
      "image/png": "[encoded data removed]",
      "text/plain": [
       "<Figure size 1500x500 with 3 Axes>"
      ]
     },
     "metadata": {},
     "output_type": "display_data"
    }
   ],
   "source": [
    "import matplotlib.pyplot as plt\n",
    "import seaborn as sns\n",
    "\n",
    "fig, axs = plt.subplots(nrows=1, ncols=len(numerical_features), figsize=(15, 5))\n",
    "\n",
    "for i, feature in enumerate(numerical_features):\n",
    "    sns.kdeplot(df_enc[feature], ax=axs[i])\n",
    "    axs[i].set_title(\"{} KDE\".format(feature))\n",
    "\n",
    "plt.tight_layout()\n",
    "plt.show()"
   ]
  },
  {
   "cell_type": "code",
   "execution_count": 58,
   "metadata": {},
   "outputs": [],
   "source": [
    "mms = MinMaxScaler() # Normalization\n",
    "numerical_features = ['Tenure', 'MonthlyCharges']\n",
    "# fit the scaler on the training data and transform it\n",
    "X_train[numerical_features] = mms.fit_transform(X_train[numerical_features])\n",
    "\n",
    "# transform the validation and test data using the same scaler\n",
    "X_val[numerical_features] = mms.transform(X_val[numerical_features])\n",
    "X_test[numerical_features] = mms.transform(X_test[numerical_features])"
   ]
  },
  {
   "attachments": {},
   "cell_type": "markdown",
   "metadata": {},
   "source": [
    "\n",
    "We have 2 options for data scaling : \n",
    "1) Normalization \n",
    "2) Standardization\n",
    "\n",
    "Since most of the algorithms assume the data to be normally (Gaussian) distributed, Normalization is done for features whose data does not display normal distribution and standardization is carried out for features that are normally distributed where their values are huge or very small as compared to other features.\n",
    "\n",
    "Normalization : tenure, MonthlyCharges and TotalCharges features are normalized as they displayed a right skewed and bimodal data distribution.\n",
    "\n",
    "Standardization : None of the features are standardized for the above data. Since we don't have to, as we have normalized it already\n"
   ]
  },
  {
   "cell_type": "code",
   "execution_count": 11,
   "metadata": {},
   "outputs": [
    {
     "data": {
      "application/vnd.plotly.v1+json": {
       "config": {
        "plotlyServerURL": "https://plot.ly"
       },
       "data": [
        {
         "coloraxis": "coloraxis",
         "hovertemplate": "x: %{x}<br>y: %{y}<br>color: %{z}<extra></extra>",
         "name": "0",
         "texttemplate": "%{z}",
         "type": "heatmap",
         "x": [
          "Tenure",
          "MonthlyCharges",
          "TotalCharges",
          "Churn"
         ],
         "xaxis": "x",
         "y": [
          "Tenure",
          "MonthlyCharges",
          "TotalCharges",
          "Churn"
         ],
         "yaxis": "y",
         "z": [
          [
           1,
           0.26971732612725585,
           0.8875417581953053,
           -0.36754164051751514
          ],
          [
           0.26971732612725585,
           1,
           0.6358500483775996,
           0.18251757630427942
          ],
          [
           0.8875417581953053,
           0.6358500483775996,
           1,
           -0.22920399502885333
          ],
          [
           -0.36754164051751514,
           0.18251757630427942,
           -0.22920399502885333,
           1
          ]
         ]
        }
       ],
       "layout": {
        "coloraxis": {
         "colorscale": [
          [
           0,
           "rgb(103,0,31)"
          ],
          [
           0.1,
           "rgb(178,24,43)"
          ],
          [
           0.2,
           "rgb(214,96,77)"
          ],
          [
           0.3,
           "rgb(244,165,130)"
          ],
          [
           0.4,
           "rgb(253,219,199)"
          ],
          [
           0.5,
           "rgb(247,247,247)"
          ],
          [
           0.6,
           "rgb(209,229,240)"
          ],
          [
           0.7,
           "rgb(146,197,222)"
          ],
          [
           0.8,
           "rgb(67,147,195)"
          ],
          [
           0.9,
           "rgb(33,102,172)"
          ],
          [
           1,
           "rgb(5,48,97)"
          ]
         ]
        },
        "height": 400,
        "margin": {
         "t": 60
        },
        "template": {
         "data": {
          "bar": [
           {
            "error_x": {
             "color": "#2a3f5f"
            },
            "error_y": {
             "color": "#2a3f5f"
            },
            "marker": {
             "line": {
              "color": "#E5ECF6",
              "width": 0.5
             },
             "pattern": {
              "fillmode": "overlay",
              "size": 10,
              "solidity": 0.2
             }
            },
            "type": "bar"
           }
          ],
          "barpolar": [
           {
            "marker": {
             "line": {
              "color": "#E5ECF6",
              "width": 0.5
             },
             "pattern": {
              "fillmode": "overlay",
              "size": 10,
              "solidity": 0.2
             }
            },
            "type": "barpolar"
           }
          ],
          "carpet": [
           {
            "aaxis": {
             "endlinecolor": "#2a3f5f",
             "gridcolor": "white",
             "linecolor": "white",
             "minorgridcolor": "white",
             "startlinecolor": "#2a3f5f"
            },
            "baxis": {
             "endlinecolor": "#2a3f5f",
             "gridcolor": "white",
             "linecolor": "white",
             "minorgridcolor": "white",
             "startlinecolor": "#2a3f5f"
            },
            "type": "carpet"
           }
          ],
          "choropleth": [
           {
            "colorbar": {
             "outlinewidth": 0,
             "ticks": ""
            },
            "type": "choropleth"
           }
          ],
          "contour": [
           {
            "colorbar": {
             "outlinewidth": 0,
             "ticks": ""
            },
            "colorscale": [
             [
              0,
              "#0d0887"
             ],
             [
              0.1111111111111111,
              "#46039f"
             ],
             [
              0.2222222222222222,
              "#7201a8"
             ],
             [
              0.3333333333333333,
              "#9c179e"
             ],
             [
              0.4444444444444444,
              "#bd3786"
             ],
             [
              0.5555555555555556,
              "#d8576b"
             ],
             [
              0.6666666666666666,
              "#ed7953"
             ],
             [
              0.7777777777777778,
              "#fb9f3a"
             ],
             [
              0.8888888888888888,
              "#fdca26"
             ],
             [
              1,
              "#f0f921"
             ]
            ],
            "type": "contour"
           }
          ],
          "contourcarpet": [
           {
            "colorbar": {
             "outlinewidth": 0,
             "ticks": ""
            },
            "type": "contourcarpet"
           }
          ],
          "heatmap": [
           {
            "colorbar": {
             "outlinewidth": 0,
             "ticks": ""
            },
            "colorscale": [
             [
              0,
              "#0d0887"
             ],
             [
              0.1111111111111111,
              "#46039f"
             ],
             [
              0.2222222222222222,
              "#7201a8"
             ],
             [
              0.3333333333333333,
              "#9c179e"
             ],
             [
              0.4444444444444444,
              "#bd3786"
             ],
             [
              0.5555555555555556,
              "#d8576b"
             ],
             [
              0.6666666666666666,
              "#ed7953"
             ],
             [
              0.7777777777777778,
              "#fb9f3a"
             ],
             [
              0.8888888888888888,
              "#fdca26"
             ],
             [
              1,
              "#f0f921"
             ]
            ],
            "type": "heatmap"
           }
          ],
          "heatmapgl": [
           {
            "colorbar": {
             "outlinewidth": 0,
             "ticks": ""
            },
            "colorscale": [
             [
              0,
              "#0d0887"
             ],
             [
              0.1111111111111111,
              "#46039f"
             ],
             [
              0.2222222222222222,
              "#7201a8"
             ],
             [
              0.3333333333333333,
              "#9c179e"
             ],
             [
              0.4444444444444444,
              "#bd3786"
             ],
             [
              0.5555555555555556,
              "#d8576b"
             ],
             [
              0.6666666666666666,
              "#ed7953"
             ],
             [
              0.7777777777777778,
              "#fb9f3a"
             ],
             [
              0.8888888888888888,
              "#fdca26"
             ],
             [
              1,
              "#f0f921"
             ]
            ],
            "type": "heatmapgl"
           }
          ],
          "histogram": [
           {
            "marker": {
             "pattern": {
              "fillmode": "overlay",
              "size": 10,
              "solidity": 0.2
             }
            },
            "type": "histogram"
           }
          ],
          "histogram2d": [
           {
            "colorbar": {
             "outlinewidth": 0,
             "ticks": ""
            },
            "colorscale": [
             [
              0,
              "#0d0887"
             ],
             [
              0.1111111111111111,
              "#46039f"
             ],
             [
              0.2222222222222222,
              "#7201a8"
             ],
             [
              0.3333333333333333,
              "#9c179e"
             ],
             [
              0.4444444444444444,
              "#bd3786"
             ],
             [
              0.5555555555555556,
              "#d8576b"
             ],
             [
              0.6666666666666666,
              "#ed7953"
             ],
             [
              0.7777777777777778,
              "#fb9f3a"
             ],
             [
              0.8888888888888888,
              "#fdca26"
             ],
             [
              1,
              "#f0f921"
             ]
            ],
            "type": "histogram2d"
           }
          ],
          "histogram2dcontour": [
           {
            "colorbar": {
             "outlinewidth": 0,
             "ticks": ""
            },
            "colorscale": [
             [
              0,
              "#0d0887"
             ],
             [
              0.1111111111111111,
              "#46039f"
             ],
             [
              0.2222222222222222,
              "#7201a8"
             ],
             [
              0.3333333333333333,
              "#9c179e"
             ],
             [
              0.4444444444444444,
              "#bd3786"
             ],
             [
              0.5555555555555556,
              "#d8576b"
             ],
             [
              0.6666666666666666,
              "#ed7953"
             ],
             [
              0.7777777777777778,
              "#fb9f3a"
             ],
             [
              0.8888888888888888,
              "#fdca26"
             ],
             [
              1,
              "#f0f921"
             ]
            ],
            "type": "histogram2dcontour"
           }
          ],
          "mesh3d": [
           {
            "colorbar": {
             "outlinewidth": 0,
             "ticks": ""
            },
            "type": "mesh3d"
           }
          ],
          "parcoords": [
           {
            "line": {
             "colorbar": {
              "outlinewidth": 0,
              "ticks": ""
             }
            },
            "type": "parcoords"
           }
          ],
          "pie": [
           {
            "automargin": true,
            "type": "pie"
           }
          ],
          "scatter": [
           {
            "fillpattern": {
             "fillmode": "overlay",
             "size": 10,
             "solidity": 0.2
            },
            "type": "scatter"
           }
          ],
          "scatter3d": [
           {
            "line": {
             "colorbar": {
              "outlinewidth": 0,
              "ticks": ""
             }
            },
            "marker": {
             "colorbar": {
              "outlinewidth": 0,
              "ticks": ""
             }
            },
            "type": "scatter3d"
           }
          ],
          "scattercarpet": [
           {
            "marker": {
             "colorbar": {
              "outlinewidth": 0,
              "ticks": ""
             }
            },
            "type": "scattercarpet"
           }
          ],
          "scattergeo": [
           {
            "marker": {
             "colorbar": {
              "outlinewidth": 0,
              "ticks": ""
             }
            },
            "type": "scattergeo"
           }
          ],
          "scattergl": [
           {
            "marker": {
             "colorbar": {
              "outlinewidth": 0,
              "ticks": ""
             }
            },
            "type": "scattergl"
           }
          ],
          "scattermapbox": [
           {
            "marker": {
             "colorbar": {
              "outlinewidth": 0,
              "ticks": ""
             }
            },
            "type": "scattermapbox"
           }
          ],
          "scatterpolar": [
           {
            "marker": {
             "colorbar": {
              "outlinewidth": 0,
              "ticks": ""
             }
            },
            "type": "scatterpolar"
           }
          ],
          "scatterpolargl": [
           {
            "marker": {
             "colorbar": {
              "outlinewidth": 0,
              "ticks": ""
             }
            },
            "type": "scatterpolargl"
           }
          ],
          "scatterternary": [
           {
            "marker": {
             "colorbar": {
              "outlinewidth": 0,
              "ticks": ""
             }
            },
            "type": "scatterternary"
           }
          ],
          "surface": [
           {
            "colorbar": {
             "outlinewidth": 0,
             "ticks": ""
            },
            "colorscale": [
             [
              0,
              "#0d0887"
             ],
             [
              0.1111111111111111,
              "#46039f"
             ],
             [
              0.2222222222222222,
              "#7201a8"
             ],
             [
              0.3333333333333333,
              "#9c179e"
             ],
             [
              0.4444444444444444,
              "#bd3786"
             ],
             [
              0.5555555555555556,
              "#d8576b"
             ],
             [
              0.6666666666666666,
              "#ed7953"
             ],
             [
              0.7777777777777778,
              "#fb9f3a"
             ],
             [
              0.8888888888888888,
              "#fdca26"
             ],
             [
              1,
              "#f0f921"
             ]
            ],
            "type": "surface"
           }
          ],
          "table": [
           {
            "cells": {
             "fill": {
              "color": "#EBF0F8"
             },
             "line": {
              "color": "white"
             }
            },
            "header": {
             "fill": {
              "color": "#C8D4E3"
             },
             "line": {
              "color": "white"
             }
            },
            "type": "table"
           }
          ]
         },
         "layout": {
          "annotationdefaults": {
           "arrowcolor": "#2a3f5f",
           "arrowhead": 0,
           "arrowwidth": 1
          },
          "autotypenumbers": "strict",
          "coloraxis": {
           "colorbar": {
            "outlinewidth": 0,
            "ticks": ""
           }
          },
          "colorscale": {
           "diverging": [
            [
             0,
             "#8e0152"
            ],
            [
             0.1,
             "#c51b7d"
            ],
            [
             0.2,
             "#de77ae"
            ],
            [
             0.3,
             "#f1b6da"
            ],
            [
             0.4,
             "#fde0ef"
            ],
            [
             0.5,
             "#f7f7f7"
            ],
            [
             0.6,
             "#e6f5d0"
            ],
            [
             0.7,
             "#b8e186"
            ],
            [
             0.8,
             "#7fbc41"
            ],
            [
             0.9,
             "#4d9221"
            ],
            [
             1,
             "#276419"
            ]
           ],
           "sequential": [
            [
             0,
             "#0d0887"
            ],
            [
             0.1111111111111111,
             "#46039f"
            ],
            [
             0.2222222222222222,
             "#7201a8"
            ],
            [
             0.3333333333333333,
             "#9c179e"
            ],
            [
             0.4444444444444444,
             "#bd3786"
            ],
            [
             0.5555555555555556,
             "#d8576b"
            ],
            [
             0.6666666666666666,
             "#ed7953"
            ],
            [
             0.7777777777777778,
             "#fb9f3a"
            ],
            [
             0.8888888888888888,
             "#fdca26"
            ],
            [
             1,
             "#f0f921"
            ]
           ],
           "sequentialminus": [
            [
             0,
             "#0d0887"
            ],
            [
             0.1111111111111111,
             "#46039f"
            ],
            [
             0.2222222222222222,
             "#7201a8"
            ],
            [
             0.3333333333333333,
             "#9c179e"
            ],
            [
             0.4444444444444444,
             "#bd3786"
            ],
            [
             0.5555555555555556,
             "#d8576b"
            ],
            [
             0.6666666666666666,
             "#ed7953"
            ],
            [
             0.7777777777777778,
             "#fb9f3a"
            ],
            [
             0.8888888888888888,
             "#fdca26"
            ],
            [
             1,
             "#f0f921"
            ]
           ]
          },
          "colorway": [
           "#636efa",
           "#EF553B",
           "#00cc96",
           "#ab63fa",
           "#FFA15A",
           "#19d3f3",
           "#FF6692",
           "#B6E880",
           "#FF97FF",
           "#FECB52"
          ],
          "font": {
           "color": "#2a3f5f"
          },
          "geo": {
           "bgcolor": "white",
           "lakecolor": "white",
           "landcolor": "#E5ECF6",
           "showlakes": true,
           "showland": true,
           "subunitcolor": "white"
          },
          "hoverlabel": {
           "align": "left"
          },
          "hovermode": "closest",
          "mapbox": {
           "style": "light"
          },
          "paper_bgcolor": "white",
          "plot_bgcolor": "#E5ECF6",
          "polar": {
           "angularaxis": {
            "gridcolor": "white",
            "linecolor": "white",
            "ticks": ""
           },
           "bgcolor": "#E5ECF6",
           "radialaxis": {
            "gridcolor": "white",
            "linecolor": "white",
            "ticks": ""
           }
          },
          "scene": {
           "xaxis": {
            "backgroundcolor": "#E5ECF6",
            "gridcolor": "white",
            "gridwidth": 2,
            "linecolor": "white",
            "showbackground": true,
            "ticks": "",
            "zerolinecolor": "white"
           },
           "yaxis": {
            "backgroundcolor": "#E5ECF6",
            "gridcolor": "white",
            "gridwidth": 2,
            "linecolor": "white",
            "showbackground": true,
            "ticks": "",
            "zerolinecolor": "white"
           },
           "zaxis": {
            "backgroundcolor": "#E5ECF6",
            "gridcolor": "white",
            "gridwidth": 2,
            "linecolor": "white",
            "showbackground": true,
            "ticks": "",
            "zerolinecolor": "white"
           }
          },
          "shapedefaults": {
           "line": {
            "color": "#2a3f5f"
           }
          },
          "ternary": {
           "aaxis": {
            "gridcolor": "white",
            "linecolor": "white",
            "ticks": ""
           },
           "baxis": {
            "gridcolor": "white",
            "linecolor": "white",
            "ticks": ""
           },
           "bgcolor": "#E5ECF6",
           "caxis": {
            "gridcolor": "white",
            "linecolor": "white",
            "ticks": ""
           }
          },
          "title": {
           "x": 0.05
          },
          "xaxis": {
           "automargin": true,
           "gridcolor": "white",
           "linecolor": "white",
           "ticks": "",
           "title": {
            "standoff": 15
           },
           "zerolinecolor": "white",
           "zerolinewidth": 2
          },
          "yaxis": {
           "automargin": true,
           "gridcolor": "white",
           "linecolor": "white",
           "ticks": "",
           "title": {
            "standoff": 15
           },
           "zerolinecolor": "white",
           "zerolinewidth": 2
          }
         }
        },
        "title": {
         "text": "Spearsman Correlation: Tenure, Charges - Churn"
        },
        "width": 500,
        "xaxis": {
         "anchor": "y",
         "constrain": "domain",
         "domain": [
          0,
          1
         ],
         "scaleanchor": "y"
        },
        "yaxis": {
         "anchor": "x",
         "autorange": "reversed",
         "constrain": "domain",
         "domain": [
          0,
          1
         ]
        }
       }
      }
     },
     "metadata": {},
     "output_type": "display_data"
    }
   ],
   "source": [
    "import plotly.express as px\n",
    "\n",
    "excluded = ['Tenure','MonthlyCharges','TotalCharges']\n",
    "df_nr = X_train[excluded]\n",
    "df_nr = X_train[excluded].assign(Churn=y_train)\n",
    "corr_matrix = df_nr.corr(method='spearman') # Tenure - ordinal variable\n",
    "fig = px.imshow(corr_matrix, color_continuous_scale=\"RdBu\",text_auto=True) # Plot the correlation matrix as a heatmap\n",
    "fig.update_layout(title=\"Spearsman Correlation: Tenure, Charges - Churn\",width=500,height=400)\n",
    "fig.show()\n",
    "#https://anyi-guo.medium.com/correlation-pearson-vs-spearman-c15e581c12ce\n",
    "# Churn: Tenure, MonthlyCharges and TotalCharges"
   ]
  },
  {
   "cell_type": "code",
   "execution_count": 21,
   "metadata": {},
   "outputs": [
    {
     "data": {
      "application/vnd.plotly.v1+json": {
       "config": {
        "plotlyServerURL": "https://plot.ly"
       },
       "data": [
        {
         "coloraxis": "coloraxis",
         "hovertemplate": "x: %{x}<br>y: %{y}<br>color: %{z}<extra></extra>",
         "name": "0",
         "texttemplate": "%{z}",
         "type": "heatmap",
         "x": [
          "Contract_Month-to-month",
          "Contract_One_year",
          "Contract_Two_year",
          "DeviceProtection_No",
          "DeviceProtection_No_internet_service",
          "DeviceProtection_Yes",
          "InternetService_DSL",
          "InternetService_Fiber_optic",
          "InternetService_No",
          "MultipleLines_No",
          "MultipleLines_No_phone_service",
          "MultipleLines_Yes",
          "OnlineBackup_No",
          "OnlineBackup_No_internet_service",
          "OnlineBackup_Yes",
          "OnlineSecurity_No",
          "OnlineSecurity_No_internet_service",
          "OnlineSecurity_Yes",
          "PaymentMethod_Bank_transfer_(automatic)",
          "PaymentMethod_Credit_card_(automatic)",
          "PaymentMethod_Electronic_check",
          "PaymentMethod_Mailed_check",
          "StreamingMovies_No",
          "StreamingMovies_No_internet_service",
          "StreamingMovies_Yes",
          "StreamingTV_No",
          "StreamingTV_No_internet_service",
          "StreamingTV_Yes",
          "TechSupport_No",
          "TechSupport_No_internet_service",
          "TechSupport_Yes",
          "Dependents",
          "Gender",
          "PaperlessBilling",
          "Partner",
          "PhoneService",
          "SeniorCitizen",
          "Churn"
         ],
         "xaxis": "x",
         "y": [
          "Contract_Month-to-month",
          "Contract_One_year",
          "Contract_Two_year",
          "DeviceProtection_No",
          "DeviceProtection_No_internet_service",
          "DeviceProtection_Yes",
          "InternetService_DSL",
          "InternetService_Fiber_optic",
          "InternetService_No",
          "MultipleLines_No",
          "MultipleLines_No_phone_service",
          "MultipleLines_Yes",
          "OnlineBackup_No",
          "OnlineBackup_No_internet_service",
          "OnlineBackup_Yes",
          "OnlineSecurity_No",
          "OnlineSecurity_No_internet_service",
          "OnlineSecurity_Yes",
          "PaymentMethod_Bank_transfer_(automatic)",
          "PaymentMethod_Credit_card_(automatic)",
          "PaymentMethod_Electronic_check",
          "PaymentMethod_Mailed_check",
          "StreamingMovies_No",
          "StreamingMovies_No_internet_service",
          "StreamingMovies_Yes",
          "StreamingTV_No",
          "StreamingTV_No_internet_service",
          "StreamingTV_Yes",
          "TechSupport_No",
          "TechSupport_No_internet_service",
          "TechSupport_Yes",
          "Dependents",
          "Gender",
          "PaperlessBilling",
          "Partner",
          "PhoneService",
          "SeniorCitizen",
          "Churn"
         ],
         "yaxis": "y",
         "z": [
          [
           1,
           0.568833983128377,
           0.6225320444217242,
           0.40076592730382077,
           0.2248856592366962,
           0.22051876615757596,
           0.042209768611170255,
           0.23264770684245745,
           0.2248856592366962,
           0.07114975193556074,
           0,
           0.0791804953884644,
           0.343695133419835,
           0.2248856592366962,
           0.16023282686054902,
           0.39820595070136444,
           0.2248856592366962,
           0.23352230605951418,
           0.17859351306869028,
           0.19800486091627842,
           0.3247851433749665,
           0,
           0.2978165289244142,
           0.2248856592366962,
           0.10443664369337273,
           0.29730718902503883,
           0.2248856592366962,
           0.10524863507914753,
           0.4412769226380604,
           0.2248856592366962,
           0.2805699976443445,
           0.22917093684647827,
           0,
           0.15444131717486115,
           0.28627002043203714,
           0,
           0.1412568394592266,
           0.40997942253451014
          ],
          [
           0.568833983128377,
           1,
           0.28679654425395545,
           0.12999958620043806,
           0.02448306050876151,
           0.10990947586944656,
           0.038602365410383324,
           0.06290152115399207,
           0.02448306050876151,
           0.006201888702222074,
           0,
           0,
           0.1221673388096533,
           0.02448306050876151,
           0.10148136150582952,
           0.11471118190784463,
           0.02448306050876151,
           0.10022078924837646,
           0.050245576840737875,
           0.05486643387522652,
           0.09364077148907443,
           0,
           0.09042573324782334,
           0.02448306050876151,
           0.06482889582963784,
           0.09285021611985833,
           0.02448306050876151,
           0.06784812984278332,
           0.11623875834831927,
           0.02448306050876151,
           0.10157204334578668,
           0.0656274611310869,
           0.006454292869796242,
           0.03656829343917135,
           0.08874943988296888,
           0,
           0.04747355960027991,
           0.1742602342137982
          ],
          [
           0.6225320444217242,
           0.28679654425395545,
           1,
           0.3418269913181046,
           0.2339474369774715,
           0.15059182748817773,
           0,
           0.20891646144509543,
           0.2339474369774715,
           0.09997831298207827,
           0,
           0.1076581277536493,
           0.2827141133731839,
           0.2339474369774715,
           0.0879698395165281,
           0.3532945758574754,
           0.2339474369774715,
           0.1749050974521658,
           0.15743678744355605,
           0.17583104538873726,
           0.28754923195005627,
           0,
           0.25915749056804943,
           0.2339474369774715,
           0.05698809105885166,
           0.25628654999871525,
           0.2339474369774715,
           0.0550546583228101,
           0.40204368609106916,
           0.2339474369774715,
           0.22851188260127525,
           0.20228291171428445,
           0,
           0.14168988395462886,
           0.2472861087244349,
           0,
           0.11630717103055138,
           0.3105567281628664
          ],
          [
           0.40076592730382077,
           0.12999958620043806,
           0.3418269913181046,
           1,
           0.4713720125811352,
           0.630883972324745,
           0.19099453229812957,
           0.21193072492173523,
           0.4713720125811352,
           0.02588555264264251,
           0.07776850308475822,
           0.006345350307044335,
           0.3695201355063378,
           0.4713720125811352,
           0.022599261551328784,
           0.37655792666895144,
           0.4713720125811352,
           0.008330743799749749,
           0.05790950609328035,
           0.11632836376308894,
           0.24854290094917225,
           0.1033107466188914,
           0.4305088131800893,
           0.4713720125811352,
           0.023008367428642526,
           0.409565234537959,
           0.4713720125811352,
           0,
           0.4288170023480074,
           0.4713720125811352,
           0.036300418876970844,
           0.1300519574749,
           0,
           0.17454462764012077,
           0.13557008660842204,
           0.07776850308475822,
           0.1138611824119261,
           0.2546788019790649
          ],
          [
           0.2248856592366962,
           0.02448306050876151,
           0.2339474369774715,
           0.4713720125811352,
           1,
           0.3844932524332735,
           0.38775390878557237,
           0.4677442631168228,
           0.9993182990039292,
           0.3184295290228787,
           0.1745870019740778,
           0.21689074642256936,
           0.46955556973236934,
           0.9993182990039292,
           0.3861223308656324,
           0.5321070989319691,
           0.9993182990039292,
           0.3337802782475901,
           0,
           0,
           0.28319004601512693,
           0.3268219900536405,
           0.4295018687570914,
           0.9993182990039292,
           0.4239567830531662,
           0.43595037557587535,
           0.9993182990039292,
           0.4176064354959773,
           0.5288360228415354,
           0.9993182990039292,
           0.3363409770417503,
           0.1387495927646689,
           0,
           0.3321762101669857,
           0,
           0.1745870019740778,
           0.18897477014601755,
           0.22818683376561724
          ],
          [
           0.22051876615757596,
           0.10990947586944656,
           0.15059182748817773,
           0.630883972324745,
           0.3844932524332735,
           1,
           0.13937966830173126,
           0.18808030102772105,
           0.3844932524332735,
           0.24791281261601383,
           0.06862684300045459,
           0.20861777252892452,
           0.020443039299780273,
           0.3844932524332735,
           0.31036918349551645,
           0.07158913147770907,
           0.3844932524332735,
           0.2745955862989954,
           0.07004074335931858,
           0.12102438843649861,
           0,
           0.17718802826879862,
           0.07074715925997366,
           0.3844932524332735,
           0.4023461531961339,
           0.04210166657579992,
           0.3844932524332735,
           0.37615049315406884,
           0.0030324484794819967,
           0.3844932524332735,
           0.3376263078908962,
           0,
           0,
           0.10746776727396555,
           0.14336469600253857,
           0.06862684300045459,
           0.04315922567276179,
           0.06351225331823139
          ],
          [
           0.042209768611170255,
           0.038602365410383324,
           0,
           0.19099453229812957,
           0.38775390878557237,
           0.13937966830173126,
           1,
           0.6313316795814898,
           0.38775390878557237,
           0.07855233894747778,
           0.45236461604851513,
           0.18989556730626544,
           0.17772397615367938,
           0.38775390878557237,
           0.15318564871164128,
           0.02602071965788226,
           0.38775390878557237,
           0.32556441866574115,
           0.025778470263664692,
           0.04458156726301271,
           0.09106632313923009,
           0.021857957699098512,
           0.3161980008569923,
           0.38775390878557237,
           0,
           0.30978946992256196,
           0.38775390878557237,
           0.01248837867821574,
           0.03872019088412829,
           0.38775390878557237,
           0.31177807856581713,
           0.036189719996275384,
           0,
           0.04842977260754607,
           0,
           0.45236461604851513,
           0.09842041868672119,
           0.11519135775707484
          ],
          [
           0.23264770684245745,
           0.06290152115399207,
           0.20891646144509543,
           0.21193072492173523,
           0.4677442631168228,
           0.18808030102772105,
           0.6313316795814898,
           1,
           0.4677442631168228,
           0.19030265138221747,
           0.28534649118909133,
           0.36572330950921506,
           0.2231112216264443,
           0.4677442631168228,
           0.17624348029121262,
           0.4180077017744299,
           0.4677442631168228,
           0.026824413573197956,
           0.013070818687179771,
           0.0433678648974335,
           0.3272472728807114,
           0.30100699111981727,
           0.05537252585060902,
           0.4677442631168228,
           0.342284123275253,
           0.06729323485150215,
           0.4677442631168228,
           0.3316448598812888,
           0.40428323819166767,
           0.4677442631168228,
           0.0023842120688231843,
           0.15489032017457316,
           0,
           0.3285478902560599,
           0,
           0.28534649118909133,
           0.25517443199495965,
           0.30394880741276004
          ],
          [
           0.2248856592366962,
           0.02448306050876151,
           0.2339474369774715,
           0.4713720125811352,
           0.9993182990039292,
           0.3844932524332735,
           0.38775390878557237,
           0.4677442631168228,
           1,
           0.3184295290228787,
           0.1745870019740778,
           0.21689074642256936,
           0.46955556973236934,
           0.9993182990039292,
           0.3861223308656324,
           0.5321070989319691,
           0.9993182990039292,
           0.3337802782475901,
           0,
           0,
           0.28319004601512693,
           0.3268219900536405,
           0.4295018687570914,
           0.9993182990039292,
           0.4239567830531662,
           0.43595037557587535,
           0.9993182990039292,
           0.4176064354959773,
           0.5288360228415354,
           0.9993182990039292,
           0.3363409770417503,
           0.1387495927646689,
           0,
           0.3321762101669857,
           0,
           0.1745870019740778,
           0.18897477014601755,
           0.22818683376561724
          ],
          [
           0.07114975193556074,
           0.006201888702222074,
           0.09997831298207827,
           0.02588555264264251,
           0.3184295290228787,
           0.24791281261601383,
           0.07855233894747778,
           0.19030265138221747,
           0.3184295290228787,
           1,
           0.3192301665855645,
           0.8212932994362034,
           0.03564094888408851,
           0.3184295290228787,
           0.2384796832135437,
           0.12544835594811993,
           0.3184295290228787,
           0.15383359418290313,
           0.0587077522837988,
           0.06139313512406031,
           0.08980936042104846,
           0.224412422644493,
           0,
           0.3184295290228787,
           0.27514591109912107,
           0,
           0.3184295290228787,
           0.26768526445501506,
           0.13180857892425188,
           0.3184295290228787,
           0.14628171746115345,
           0.03191599412751406,
           0,
           0.15046775916304317,
           0.11837004767215789,
           0.3192301665855645,
           0.13855576745914436,
           0.027984107098149014
          ],
          [
           0,
           0,
           0,
           0.07776850308475822,
           0.1745870019740778,
           0.06862684300045459,
           0.45236461604851513,
           0.28534649118909133,
           0.1745870019740778,
           0.3192301665855645,
           1,
           0.2752299656684029,
           0.10360710188988796,
           0.17458700197407778,
           0.040867050696630026,
           0.06286123442800168,
           0.17458700197407778,
           0.0883713055740719,
           0,
           0,
           0.013385587098597064,
           0,
           0.12789235806065768,
           0.17458700197407778,
           0.012890111611295392,
           0.10622514256634673,
           0.17458700197407778,
           0.03846315494489906,
           0.06494381746011131,
           0.17458700197407778,
           0.08579195955235207,
           0,
           0,
           0.013381185306831042,
           0.01583525992644486,
           0.9986520396908795,
           0,
           0
          ],
          [
           0.0791804953884644,
           0,
           0.1076581277536493,
           0.006345350307044335,
           0.21689074642256936,
           0.20861777252892452,
           0.18989556730626544,
           0.36572330950921506,
           0.21689074642256936,
           0.8212932994362034,
           0.2752299656684029,
           1,
           0.017266962177577,
           0.21689074642256936,
           0.2151208925547051,
           0.08747378252896232,
           0.21689074642256936,
           0.10119456346607396,
           0.06637233241215693,
           0.06525641853219107,
           0.07816321200046619,
           0.2225802281541342,
           0.078590467067119,
           0.21689074642256936,
           0.26656130077363543,
           0.05662808732064597,
           0.21689074642256936,
           0.24612309975834518,
           0.0927379390963925,
           0.21689074642256936,
           0.09502806092964372,
           0.030655646521883847,
           0,
           0.1654843200704869,
           0.13397739167297323,
           0.2752299656684029,
           0.14298625341152743,
           0.031373217466672695
          ],
          [
           0.343695133419835,
           0.1221673388096533,
           0.2827141133731839,
           0.3695201355063378,
           0.46955556973236934,
           0.020443039299780273,
           0.17772397615367938,
           0.2231112216264443,
           0.46955556973236934,
           0.03564094888408851,
           0.10360710188988796,
           0.017266962177577,
           1,
           0.46955556973236934,
           0.6311125625782633,
           0.388189197525951,
           0.46955556973236934,
           0,
           0.07360131194735782,
           0.0908625924320353,
           0.23819563094337037,
           0.10125292685128195,
           0.311360927345647,
           0.46955556973236934,
           0.08783466084914873,
           0.3308669281482772,
           0.46955556973236934,
           0.06709492617724412,
           0.3850079166665382,
           0.46955556973236934,
           0,
           0.13823881238893934,
           0,
           0.16263852398426384,
           0.14062075324919332,
           0.10360710188988796,
           0.08418128376677884,
           0.2560279024052234
          ],
          [
           0.2248856592366962,
           0.02448306050876151,
           0.2339474369774715,
           0.4713720125811352,
           0.9993182990039292,
           0.3844932524332735,
           0.38775390878557237,
           0.4677442631168228,
           0.9993182990039292,
           0.3184295290228787,
           0.17458700197407778,
           0.21689074642256936,
           0.46955556973236934,
           1,
           0.3861223308656324,
           0.5321070989319691,
           0.9993182990039292,
           0.3337802782475901,
           0,
           0,
           0.28319004601512693,
           0.3268219900536405,
           0.4295018687570914,
           0.9993182990039292,
           0.4239567830531662,
           0.43595037557587535,
           0.9993182990039292,
           0.4176064354959773,
           0.5288360228415354,
           0.9993182990039292,
           0.3363409770417503,
           0.1387495927646689,
           0,
           0.3321762101669857,
           0,
           0.1745870019740778,
           0.18897477014601755,
           0.22818683376561724
          ],
          [
           0.16023282686054902,
           0.10148136150582952,
           0.0879698395165281,
           0.022599261551328784,
           0.3861223308656324,
           0.31036918349551645,
           0.15318564871164128,
           0.17624348029121262,
           0.3861223308656324,
           0.2384796832135437,
           0.040867050696630026,
           0.2151208925547051,
           0.6311125625782633,
           0.3861223308656324,
           1,
           0.05921256462702474,
           0.3861223308656324,
           0.28954189970228034,
           0.0861798224460821,
           0.094210606140281,
           0,
           0.1791379092413007,
           0.0489180552242341,
           0.3861223308656324,
           0.27854171525765675,
           0.03319241372480919,
           0.3861223308656324,
           0.29423589839158604,
           0.059676590238909366,
           0.3861223308656324,
           0.2880836817661064,
           0.015942657608345668,
           0,
           0.11991533189454674,
           0.14837308428319385,
           0.040867050696630026,
           0.07489003030340126,
           0.06473260671916269
          ],
          [
           0.39820595070136444,
           0.11471118190784463,
           0.3532945758574754,
           0.37655792666895144,
           0.5321070989319691,
           0.07158913147770907,
           0.02602071965788226,
           0.4180077017744299,
           0.5321070989319691,
           0.12544835594811993,
           0.06286123442800168,
           0.08747378252896232,
           0.388189197525951,
           0.5321070989319691,
           0.05921256462702474,
           1,
           0.5321070989319691,
           0.6184052737255282,
           0.07503100535319135,
           0.08931713721030463,
           0.3179195190533773,
           0.1911781107608721,
           0.2576526029447273,
           0.5321070989319691,
           0.1958972786875129,
           0.2579208120656257,
           0.5321070989319691,
           0.19551399033624414,
           0.46958244434125296,
           0.5321070989319691,
           0.023980735417805203,
           0.18228870152510673,
           0.01374255207376384,
           0.2719421496330282,
           0.11947941897613554,
           0.06286123442800168,
           0.19636874982667296,
           0.34853949631729897
          ],
          [
           0.2248856592366962,
           0.02448306050876151,
           0.2339474369774715,
           0.4713720125811352,
           0.9993182990039292,
           0.3844932524332735,
           0.38775390878557237,
           0.4677442631168228,
           0.9993182990039292,
           0.3184295290228787,
           0.17458700197407778,
           0.21689074642256936,
           0.46955556973236934,
           0.9993182990039292,
           0.3861223308656324,
           0.5321070989319691,
           1,
           0.3337802782475901,
           0,
           0,
           0.28319004601512693,
           0.3268219900536405,
           0.4295018687570914,
           0.9993182990039292,
           0.4239567830531662,
           0.43595037557587535,
           0.9993182990039292,
           0.4176064354959773,
           0.5288360228415354,
           0.9993182990039292,
           0.3363409770417503,
           0.1387495927646689,
           0,
           0.3321762101669857,
           0,
           0.1745870019740778,
           0.18897477014601755,
           0.22818683376561724
          ],
          [
           0.23352230605951418,
           0.10022078924837646,
           0.1749050974521658,
           0.008330743799749749,
           0.3337802782475901,
           0.2745955862989954,
           0.32556441866574115,
           0.026824413573197956,
           0.3337802782475901,
           0.15383359418290313,
           0.0883713055740719,
           0.10119456346607396,
           0,
           0.3337802782475901,
           0.28954189970228034,
           0.6184052737255282,
           0.3337802782475901,
           1,
           0.09351693036594078,
           0.0988555730594986,
           0.08935437837829135,
           0.08811306935915145,
           0.10982820913973944,
           0.3337802782475901,
           0.1736836272071947,
           0.11556542712148746,
           0.3337802782475901,
           0.16819545289592747,
           0.0276644268073778,
           0.3337802782475901,
           0.34444523155311413,
           0.07194452860617714,
           0.018662344178128402,
           0,
           0.13470913433459542,
           0.0883713055740719,
           0.039789778398333114,
           0.17497089105496114
          ],
          [
           0.17859351306869028,
           0.050245576840737875,
           0.15743678744355605,
           0.05790950609328035,
           0,
           0.07004074335931858,
           0.025778470263664692,
           0.013070818687179771,
           0,
           0.0587077522837988,
           0,
           0.06637233241215693,
           0.07360131194735782,
           0,
           0.0861798224460821,
           0.07503100535319135,
           0,
           0.09351693036594078,
           1,
           0.2774514204906828,
           0.376241557317446,
           0.28955892728371097,
           0.023674503322462112,
           0,
           0.0337240381180326,
           0.03749468344372147,
           0,
           0.04726010606335637,
           0.09376434051429969,
           0,
           0.11386854554344403,
           0.061444972608282473,
           0,
           0,
           0.10325997173477003,
           0,
           0.03387045854031621,
           0.10539614870557965
          ],
          [
           0.19800486091627842,
           0.05486643387522652,
           0.17583104538873726,
           0.11632836376308894,
           0,
           0.12102438843649861,
           0.04458156726301271,
           0.0433678648974335,
           0,
           0.06139313512406031,
           0,
           0.06525641853219107,
           0.0908625924320353,
           0,
           0.094210606140281,
           0.08931713721030463,
           0,
           0.0988555730594986,
           0.2774514204906828,
           1,
           0.3702540980250974,
           0.2849402831217443,
           0.06566666684478806,
           0,
           0.06503442907357668,
           0.041473335633398924,
           0,
           0.041059455821327494,
           0.09306584516392545,
           0,
           0.10266313042105166,
           0.03903789207524197,
           0,
           0,
           0.08784566544632288,
           0,
           0,
           0.12594097190083126
          ],
          [
           0.3247851433749665,
           0.09364077148907443,
           0.28754923195005627,
           0.24854290094917225,
           0.28319004601512693,
           0,
           0.09106632313923009,
           0.3272472728807114,
           0.28319004601512693,
           0.08980936042104846,
           0.013385587098597064,
           0.07816321200046619,
           0.23819563094337037,
           0.28319004601512693,
           0,
           0.3179195190533773,
           0.28319004601512693,
           0.08935437837829135,
           0.376241557317446,
           0.3702540980250974,
           1,
           0.3863690242199095,
           0.10027118711996873,
           0.28319004601512693,
           0.13976130370636738,
           0.087452437630974,
           0.28319004601512693,
           0.1527863191553136,
           0.33938707236868243,
           0.28319004601512693,
           0.11310270358337267,
           0.14336926899398902,
           0,
           0.2000611628728476,
           0.08132091197036671,
           0.013385587098597064,
           0.1689106904223622,
           0.29093873866975384
          ],
          [
           0,
           0,
           0,
           0.1033107466188914,
           0.3268219900536405,
           0.17718802826879862,
           0.021857957699098512,
           0.30100699111981727,
           0.3268219900536405,
           0.224412422644493,
           0,
           0.2225802281541342,
           0.10125292685128195,
           0.3268219900536405,
           0.1791379092413007,
           0.1911781107608721,
           0.3268219900536405,
           0.08811306935915145,
           0.28955892728371097,
           0.2849402831217443,
           0.3863690242199095,
           1,
           0.010979137645735096,
           0.3268219900536405,
           0.2601853680215826,
           0,
           0.3268219900536405,
           0.26472727684001685,
           0.1934623099372584,
           0.3268219900536405,
           0.08525910128986854,
           0.0549313032045829,
           0.012444494536801182,
           0.21600993273925617,
           0.09596301891945516,
           0,
           0.14616113835767633,
           0.09530678502631273
          ],
          [
           0.2978165289244142,
           0.09042573324782334,
           0.25915749056804943,
           0.4305088131800893,
           0.4295018687570914,
           0.07074715925997366,
           0.3161980008569923,
           0.05537252585060902,
           0.4295018687570914,
           0,
           0.12789235806065768,
           0.078590467067119,
           0.311360927345647,
           0.4295018687570914,
           0.0489180552242341,
           0.2576526029447273,
           0.4295018687570914,
           0.10982820913973944,
           0.023674503322462112,
           0.06566666684478806,
           0.10027118711996873,
           0.010979137645735096,
           1,
           0.4295018687570914,
           0.6338074392702414,
           0.5358283604072247,
           0.4295018687570914,
           0.1706778018806809,
           0.3432422754569445,
           0.4295018687570914,
           0.0030700968170784743,
           0.0713413414462814,
           0,
           0.07008588107283056,
           0.1018022955366118,
           0.12789235806065768,
           0.04988625417853163,
           0.13716429159923874
          ],
          [
           0.2248856592366962,
           0.02448306050876151,
           0.2339474369774715,
           0.4713720125811352,
           0.9993182990039292,
           0.3844932524332735,
           0.38775390878557237,
           0.4677442631168228,
           0.9993182990039292,
           0.3184295290228787,
           0.17458700197407778,
           0.21689074642256936,
           0.46955556973236934,
           0.9993182990039292,
           0.3861223308656324,
           0.5321070989319691,
           0.9993182990039292,
           0.3337802782475901,
           0,
           0,
           0.28319004601512693,
           0.3268219900536405,
           0.4295018687570914,
           1,
           0.4239567830531662,
           0.43595037557587535,
           0.9993182990039292,
           0.4176064354959773,
           0.5288360228415354,
           0.9993182990039292,
           0.3363409770417503,
           0.1387495927646689,
           0,
           0.3321762101669857,
           0,
           0.1745870019740778,
           0.18897477014601755,
           0.22818683376561724
          ],
          [
           0.10443664369337273,
           0.06482889582963784,
           0.05698809105885166,
           0.023008367428642526,
           0.4239567830531662,
           0.4023461531961339,
           0,
           0.342284123275253,
           0.4239567830531662,
           0.27514591109912107,
           0.012890111611295392,
           0.26656130077363543,
           0.08783466084914873,
           0.4239567830531662,
           0.27854171525765675,
           0.1958972786875129,
           0.4239567830531662,
           0.1736836272071947,
           0.0337240381180326,
           0.06503442907357668,
           0.13976130370636738,
           0.2601853680215826,
           0.6338074392702414,
           0.4239567830531662,
           1,
           0.16283421032759035,
           0.4239567830531662,
           0.5299959387096159,
           0.10687525391389095,
           0.4239567830531662,
           0.2716064954659891,
           0.04315238384550966,
           0,
           0.2117409045155746,
           0.10344697765300503,
           0.012890111611295395,
           0.10825516960515233,
           0.054749032267746606
          ],
          [
           0.29730718902503883,
           0.09285021611985833,
           0.25628654999871525,
           0.409565234537959,
           0.43595037557587535,
           0.04210166657579992,
           0.30978946992256196,
           0.06729323485150215,
           0.43595037557587535,
           0,
           0.10622514256634673,
           0.05662808732064597,
           0.3308669281482772,
           0.43595037557587535,
           0.03319241372480919,
           0.2579208120656257,
           0.43595037557587535,
           0.11556542712148746,
           0.03749468344372147,
           0.041473335633398924,
           0.087452437630974,
           0,
           0.5358283604072247,
           0.43595037557587535,
           0.16283421032759035,
           1,
           0.43595037557587535,
           0.6336887335476004,
           0.3472050173889729,
           0.43595037557587535,
           0.007818975612048704,
           0.09895440834849882,
           0,
           0.046977859879953496,
           0.11744033551902042,
           0.10622514256634671,
           0.07287155651856186,
           0.13234602007631424
          ],
          [
           0.2248856592366962,
           0.02448306050876151,
           0.2339474369774715,
           0.4713720125811352,
           0.9993182990039292,
           0.3844932524332735,
           0.38775390878557237,
           0.4677442631168228,
           0.9993182990039292,
           0.3184295290228787,
           0.17458700197407778,
           0.21689074642256936,
           0.46955556973236934,
           0.9993182990039292,
           0.3861223308656324,
           0.5321070989319691,
           0.9993182990039292,
           0.3337802782475901,
           0,
           0,
           0.28319004601512693,
           0.3268219900536405,
           0.4295018687570914,
           0.9993182990039292,
           0.4239567830531662,
           0.43595037557587535,
           1,
           0.4176064354959773,
           0.5288360228415354,
           0.9993182990039292,
           0.3363409770417503,
           0.1387495927646689,
           0,
           0.3321762101669857,
           0,
           0.1745870019740778,
           0.18897477014601755,
           0.22818683376561724
          ],
          [
           0.10524863507914753,
           0.06784812984278332,
           0.0550546583228101,
           0,
           0.4176064354959773,
           0.37615049315406884,
           0.01248837867821574,
           0.3316448598812888,
           0.4176064354959773,
           0.26768526445501506,
           0.03846315494489906,
           0.24612309975834518,
           0.06709492617724412,
           0.4176064354959773,
           0.29423589839158604,
           0.19551399033624414,
           0.4176064354959773,
           0.16819545289592747,
           0.04726010606335637,
           0.041059455821327494,
           0.1527863191553136,
           0.26472727684001685,
           0.1706778018806809,
           0.4176064354959773,
           0.5299959387096159,
           0.6336887335476004,
           0.4176064354959773,
           1,
           0.1021303031417172,
           0.41760643549597726,
           0.27094311738117616,
           0.0099488132588144,
           0,
           0.23486421703760904,
           0.11993477208875929,
           0.03846315494489906,
           0.08571143358250811,
           0.05951461136910171
          ],
          [
           0.4412769226380604,
           0.11623875834831927,
           0.40204368609106916,
           0.4288170023480074,
           0.5288360228415354,
           0.0030324484794819967,
           0.03872019088412829,
           0.40428323819166767,
           0.5288360228415354,
           0.13180857892425188,
           0.06494381746011131,
           0.0927379390963925,
           0.3850079166665382,
           0.5288360228415354,
           0.059676590238909366,
           0.46958244434125296,
           0.5288360228415354,
           0.0276644268073778,
           0.09376434051429969,
           0.09306584516392545,
           0.33938707236868243,
           0.1934623099372584,
           0.3432422754569445,
           0.5288360228415354,
           0.10687525391389095,
           0.3472050173889729,
           0.5288360228415354,
           0.1021303031417172,
           1,
           0.5288360228415354,
           0.6193064750691136,
           0.18148280825184537,
           0,
           0.24269779761806312,
           0.10876569783867349,
           0.06494381746011131,
           0.22611797439858863,
           0.336182783112015
          ],
          [
           0.2248856592366962,
           0.02448306050876151,
           0.2339474369774715,
           0.4713720125811352,
           0.9993182990039292,
           0.3844932524332735,
           0.38775390878557237,
           0.4677442631168228,
           0.9993182990039292,
           0.3184295290228787,
           0.17458700197407778,
           0.21689074642256936,
           0.46955556973236934,
           0.9993182990039292,
           0.3861223308656324,
           0.5321070989319691,
           0.9993182990039292,
           0.3337802782475901,
           0,
           0,
           0.28319004601512693,
           0.3268219900536405,
           0.4295018687570914,
           0.9993182990039292,
           0.4239567830531662,
           0.43595037557587535,
           0.9993182990039292,
           0.41760643549597726,
           0.5288360228415354,
           1,
           0.3363409770417503,
           0.1387495927646689,
           0,
           0.3321762101669857,
           0,
           0.1745870019740778,
           0.18897477014601755,
           0.22818683376561724
          ],
          [
           0.2805699976443445,
           0.10157204334578668,
           0.22851188260127525,
           0.036300418876970844,
           0.3363409770417503,
           0.3376263078908962,
           0.31177807856581713,
           0.0023842120688231843,
           0.3363409770417503,
           0.14628171746115345,
           0.08579195955235207,
           0.09502806092964372,
           0,
           0.3363409770417503,
           0.2880836817661064,
           0.023980735417805203,
           0.3363409770417503,
           0.34444523155311413,
           0.11386854554344403,
           0.10266313042105166,
           0.11310270358337267,
           0.08525910128986854,
           0.0030700968170784743,
           0.3363409770417503,
           0.2716064954659891,
           0.007818975612048704,
           0.3363409770417503,
           0.27094311738117616,
           0.6193064750691136,
           0.3363409770417503,
           1,
           0.07076983704258112,
           0,
           0.03383654434113614,
           0.1223799884411408,
           0.08579195955235207,
           0.07384774551929972,
           0.16060362323777277
          ],
          [
           0.22917093684647827,
           0.0656274611310869,
           0.20228291171428445,
           0.1300519574749,
           0.1387495927646689,
           0,
           0.036189719996275384,
           0.15489032017457316,
           0.1387495927646689,
           0.03191599412751406,
           0,
           0.030655646521883847,
           0.13823881238893934,
           0.1387495927646689,
           0.015942657608345668,
           0.18228870152510673,
           0.1387495927646689,
           0.07194452860617714,
           0.061444972608282473,
           0.03903789207524197,
           0.14336926899398902,
           0.0549313032045829,
           0.0713413414462814,
           0.1387495927646689,
           0.04315238384550966,
           0.09895440834849882,
           0.1387495927646689,
           0.0099488132588144,
           0.18148280825184537,
           0.1387495927646689,
           0.07076983704258112,
           1,
           0,
           0.10612996958592004,
           0.44788371587746156,
           0,
           0.21603785009385199,
           0.15191765561542794
          ],
          [
           0,
           0.006454292869796242,
           0,
           0,
           0,
           0,
           0,
           0,
           0,
           0,
           0,
           0,
           0,
           0,
           0,
           0.01374255207376384,
           0,
           0.018662344178128402,
           0,
           0,
           0,
           0.012444494536801182,
           0,
           0,
           0,
           0,
           0,
           0,
           0,
           0,
           0,
           0,
           1,
           0.009141473513598149,
           0,
           0,
           0,
           0.015360089773170585
          ],
          [
           0.15444131717486115,
           0.03656829343917135,
           0.14168988395462886,
           0.17454462764012077,
           0.3321762101669857,
           0.10746776727396555,
           0.04842977260754607,
           0.3285478902560599,
           0.3321762101669857,
           0.15046775916304317,
           0.013381185306831042,
           0.1654843200704869,
           0.16263852398426384,
           0.3321762101669857,
           0.11991533189454674,
           0.2719421496330282,
           0.3321762101669857,
           0,
           0,
           0,
           0.2000611628728476,
           0.21600993273925617,
           0.07008588107283056,
           0.3321762101669857,
           0.2117409045155746,
           0.046977859879953496,
           0.3321762101669857,
           0.23486421703760904,
           0.24269779761806312,
           0.3321762101669857,
           0.03383654434113614,
           0.10612996958592004,
           0.009141473513598149,
           1,
           0,
           0.013381185306831042,
           0.16091171206732527,
           0.1971321084357487
          ],
          [
           0.28627002043203714,
           0.08874943988296888,
           0.2472861087244349,
           0.13557008660842204,
           0,
           0.14336469600253857,
           0,
           0,
           0,
           0.11837004767215789,
           0.01583525992644486,
           0.13397739167297323,
           0.14062075324919332,
           0,
           0.14837308428319385,
           0.11947941897613554,
           0,
           0.13470913433459542,
           0.10325997173477003,
           0.08784566544632288,
           0.08132091197036671,
           0.09596301891945516,
           0.1018022955366118,
           0,
           0.10344697765300503,
           0.11744033551902042,
           0,
           0.11993477208875929,
           0.10876569783867349,
           0,
           0.1223799884411408,
           0.44788371587746156,
           0,
           0,
           1,
           0.01583525992644486,
           0.010178579736520145,
           0.13895643969276647
          ],
          [
           0,
           0,
           0,
           0.07776850308475822,
           0.1745870019740778,
           0.06862684300045459,
           0.45236461604851513,
           0.28534649118909133,
           0.1745870019740778,
           0.3192301665855645,
           0.9986520396908795,
           0.2752299656684029,
           0.10360710188988796,
           0.1745870019740778,
           0.040867050696630026,
           0.06286123442800168,
           0.1745870019740778,
           0.0883713055740719,
           0,
           0,
           0.013385587098597064,
           0,
           0.12789235806065768,
           0.1745870019740778,
           0.012890111611295395,
           0.10622514256634671,
           0.1745870019740778,
           0.03846315494489906,
           0.06494381746011131,
           0.1745870019740778,
           0.08579195955235207,
           0,
           0,
           0.013381185306831042,
           0.01583525992644486,
           1,
           0,
           0
          ],
          [
           0.1412568394592266,
           0.04747355960027991,
           0.11630717103055138,
           0.1138611824119261,
           0.18897477014601755,
           0.04315922567276179,
           0.09842041868672119,
           0.25517443199495965,
           0.18897477014601755,
           0.13855576745914436,
           0,
           0.14298625341152743,
           0.08418128376677884,
           0.18897477014601755,
           0.07489003030340126,
           0.19636874982667296,
           0.18897477014601755,
           0.039789778398333114,
           0.03387045854031621,
           0,
           0.1689106904223622,
           0.14616113835767633,
           0.04988625417853163,
           0.18897477014601755,
           0.10825516960515233,
           0.07287155651856186,
           0.18897477014601755,
           0.08571143358250811,
           0.22611797439858863,
           0.18897477014601755,
           0.07384774551929972,
           0.21603785009385199,
           0,
           0.16091171206732527,
           0.010178579736520145,
           0,
           1,
           0.15710033514519126
          ],
          [
           0.40997942253451014,
           0.1742602342137982,
           0.3105567281628664,
           0.2546788019790649,
           0.22818683376561724,
           0.06351225331823139,
           0.11519135775707484,
           0.30394880741276004,
           0.22818683376561724,
           0.027984107098149014,
           0,
           0.031373217466672695,
           0.2560279024052234,
           0.22818683376561724,
           0.06473260671916269,
           0.34853949631729897,
           0.22818683376561724,
           0.17497089105496114,
           0.10539614870557965,
           0.12594097190083126,
           0.29093873866975384,
           0.09530678502631273,
           0.13716429159923874,
           0.22818683376561724,
           0.054749032267746606,
           0.13234602007631424,
           0.22818683376561724,
           0.05951461136910171,
           0.336182783112015,
           0.22818683376561724,
           0.16060362323777277,
           0.15191765561542794,
           0.015360089773170585,
           0.1971321084357487,
           0.13895643969276647,
           0,
           0.15710033514519126,
           1
          ]
         ]
        }
       ],
       "layout": {
        "coloraxis": {
         "colorscale": [
          [
           0,
           "rgb(103,0,31)"
          ],
          [
           0.1,
           "rgb(178,24,43)"
          ],
          [
           0.2,
           "rgb(214,96,77)"
          ],
          [
           0.3,
           "rgb(244,165,130)"
          ],
          [
           0.4,
           "rgb(253,219,199)"
          ],
          [
           0.5,
           "rgb(247,247,247)"
          ],
          [
           0.6,
           "rgb(209,229,240)"
          ],
          [
           0.7,
           "rgb(146,197,222)"
          ],
          [
           0.8,
           "rgb(67,147,195)"
          ],
          [
           0.9,
           "rgb(33,102,172)"
          ],
          [
           1,
           "rgb(5,48,97)"
          ]
         ]
        },
        "height": 700,
        "margin": {
         "t": 60
        },
        "template": {
         "data": {
          "bar": [
           {
            "error_x": {
             "color": "#2a3f5f"
            },
            "error_y": {
             "color": "#2a3f5f"
            },
            "marker": {
             "line": {
              "color": "#E5ECF6",
              "width": 0.5
             },
             "pattern": {
              "fillmode": "overlay",
              "size": 10,
              "solidity": 0.2
             }
            },
            "type": "bar"
           }
          ],
          "barpolar": [
           {
            "marker": {
             "line": {
              "color": "#E5ECF6",
              "width": 0.5
             },
             "pattern": {
              "fillmode": "overlay",
              "size": 10,
              "solidity": 0.2
             }
            },
            "type": "barpolar"
           }
          ],
          "carpet": [
           {
            "aaxis": {
             "endlinecolor": "#2a3f5f",
             "gridcolor": "white",
             "linecolor": "white",
             "minorgridcolor": "white",
             "startlinecolor": "#2a3f5f"
            },
            "baxis": {
             "endlinecolor": "#2a3f5f",
             "gridcolor": "white",
             "linecolor": "white",
             "minorgridcolor": "white",
             "startlinecolor": "#2a3f5f"
            },
            "type": "carpet"
           }
          ],
          "choropleth": [
           {
            "colorbar": {
             "outlinewidth": 0,
             "ticks": ""
            },
            "type": "choropleth"
           }
          ],
          "contour": [
           {
            "colorbar": {
             "outlinewidth": 0,
             "ticks": ""
            },
            "colorscale": [
             [
              0,
              "#0d0887"
             ],
             [
              0.1111111111111111,
              "#46039f"
             ],
             [
              0.2222222222222222,
              "#7201a8"
             ],
             [
              0.3333333333333333,
              "#9c179e"
             ],
             [
              0.4444444444444444,
              "#bd3786"
             ],
             [
              0.5555555555555556,
              "#d8576b"
             ],
             [
              0.6666666666666666,
              "#ed7953"
             ],
             [
              0.7777777777777778,
              "#fb9f3a"
             ],
             [
              0.8888888888888888,
              "#fdca26"
             ],
             [
              1,
              "#f0f921"
             ]
            ],
            "type": "contour"
           }
          ],
          "contourcarpet": [
           {
            "colorbar": {
             "outlinewidth": 0,
             "ticks": ""
            },
            "type": "contourcarpet"
           }
          ],
          "heatmap": [
           {
            "colorbar": {
             "outlinewidth": 0,
             "ticks": ""
            },
            "colorscale": [
             [
              0,
              "#0d0887"
             ],
             [
              0.1111111111111111,
              "#46039f"
             ],
             [
              0.2222222222222222,
              "#7201a8"
             ],
             [
              0.3333333333333333,
              "#9c179e"
             ],
             [
              0.4444444444444444,
              "#bd3786"
             ],
             [
              0.5555555555555556,
              "#d8576b"
             ],
             [
              0.6666666666666666,
              "#ed7953"
             ],
             [
              0.7777777777777778,
              "#fb9f3a"
             ],
             [
              0.8888888888888888,
              "#fdca26"
             ],
             [
              1,
              "#f0f921"
             ]
            ],
            "type": "heatmap"
           }
          ],
          "heatmapgl": [
           {
            "colorbar": {
             "outlinewidth": 0,
             "ticks": ""
            },
            "colorscale": [
             [
              0,
              "#0d0887"
             ],
             [
              0.1111111111111111,
              "#46039f"
             ],
             [
              0.2222222222222222,
              "#7201a8"
             ],
             [
              0.3333333333333333,
              "#9c179e"
             ],
             [
              0.4444444444444444,
              "#bd3786"
             ],
             [
              0.5555555555555556,
              "#d8576b"
             ],
             [
              0.6666666666666666,
              "#ed7953"
             ],
             [
              0.7777777777777778,
              "#fb9f3a"
             ],
             [
              0.8888888888888888,
              "#fdca26"
             ],
             [
              1,
              "#f0f921"
             ]
            ],
            "type": "heatmapgl"
           }
          ],
          "histogram": [
           {
            "marker": {
             "pattern": {
              "fillmode": "overlay",
              "size": 10,
              "solidity": 0.2
             }
            },
            "type": "histogram"
           }
          ],
          "histogram2d": [
           {
            "colorbar": {
             "outlinewidth": 0,
             "ticks": ""
            },
            "colorscale": [
             [
              0,
              "#0d0887"
             ],
             [
              0.1111111111111111,
              "#46039f"
             ],
             [
              0.2222222222222222,
              "#7201a8"
             ],
             [
              0.3333333333333333,
              "#9c179e"
             ],
             [
              0.4444444444444444,
              "#bd3786"
             ],
             [
              0.5555555555555556,
              "#d8576b"
             ],
             [
              0.6666666666666666,
              "#ed7953"
             ],
             [
              0.7777777777777778,
              "#fb9f3a"
             ],
             [
              0.8888888888888888,
              "#fdca26"
             ],
             [
              1,
              "#f0f921"
             ]
            ],
            "type": "histogram2d"
           }
          ],
          "histogram2dcontour": [
           {
            "colorbar": {
             "outlinewidth": 0,
             "ticks": ""
            },
            "colorscale": [
             [
              0,
              "#0d0887"
             ],
             [
              0.1111111111111111,
              "#46039f"
             ],
             [
              0.2222222222222222,
              "#7201a8"
             ],
             [
              0.3333333333333333,
              "#9c179e"
             ],
             [
              0.4444444444444444,
              "#bd3786"
             ],
             [
              0.5555555555555556,
              "#d8576b"
             ],
             [
              0.6666666666666666,
              "#ed7953"
             ],
             [
              0.7777777777777778,
              "#fb9f3a"
             ],
             [
              0.8888888888888888,
              "#fdca26"
             ],
             [
              1,
              "#f0f921"
             ]
            ],
            "type": "histogram2dcontour"
           }
          ],
          "mesh3d": [
           {
            "colorbar": {
             "outlinewidth": 0,
             "ticks": ""
            },
            "type": "mesh3d"
           }
          ],
          "parcoords": [
           {
            "line": {
             "colorbar": {
              "outlinewidth": 0,
              "ticks": ""
             }
            },
            "type": "parcoords"
           }
          ],
          "pie": [
           {
            "automargin": true,
            "type": "pie"
           }
          ],
          "scatter": [
           {
            "fillpattern": {
             "fillmode": "overlay",
             "size": 10,
             "solidity": 0.2
            },
            "type": "scatter"
           }
          ],
          "scatter3d": [
           {
            "line": {
             "colorbar": {
              "outlinewidth": 0,
              "ticks": ""
             }
            },
            "marker": {
             "colorbar": {
              "outlinewidth": 0,
              "ticks": ""
             }
            },
            "type": "scatter3d"
           }
          ],
          "scattercarpet": [
           {
            "marker": {
             "colorbar": {
              "outlinewidth": 0,
              "ticks": ""
             }
            },
            "type": "scattercarpet"
           }
          ],
          "scattergeo": [
           {
            "marker": {
             "colorbar": {
              "outlinewidth": 0,
              "ticks": ""
             }
            },
            "type": "scattergeo"
           }
          ],
          "scattergl": [
           {
            "marker": {
             "colorbar": {
              "outlinewidth": 0,
              "ticks": ""
             }
            },
            "type": "scattergl"
           }
          ],
          "scattermapbox": [
           {
            "marker": {
             "colorbar": {
              "outlinewidth": 0,
              "ticks": ""
             }
            },
            "type": "scattermapbox"
           }
          ],
          "scatterpolar": [
           {
            "marker": {
             "colorbar": {
              "outlinewidth": 0,
              "ticks": ""
             }
            },
            "type": "scatterpolar"
           }
          ],
          "scatterpolargl": [
           {
            "marker": {
             "colorbar": {
              "outlinewidth": 0,
              "ticks": ""
             }
            },
            "type": "scatterpolargl"
           }
          ],
          "scatterternary": [
           {
            "marker": {
             "colorbar": {
              "outlinewidth": 0,
              "ticks": ""
             }
            },
            "type": "scatterternary"
           }
          ],
          "surface": [
           {
            "colorbar": {
             "outlinewidth": 0,
             "ticks": ""
            },
            "colorscale": [
             [
              0,
              "#0d0887"
             ],
             [
              0.1111111111111111,
              "#46039f"
             ],
             [
              0.2222222222222222,
              "#7201a8"
             ],
             [
              0.3333333333333333,
              "#9c179e"
             ],
             [
              0.4444444444444444,
              "#bd3786"
             ],
             [
              0.5555555555555556,
              "#d8576b"
             ],
             [
              0.6666666666666666,
              "#ed7953"
             ],
             [
              0.7777777777777778,
              "#fb9f3a"
             ],
             [
              0.8888888888888888,
              "#fdca26"
             ],
             [
              1,
              "#f0f921"
             ]
            ],
            "type": "surface"
           }
          ],
          "table": [
           {
            "cells": {
             "fill": {
              "color": "#EBF0F8"
             },
             "line": {
              "color": "white"
             }
            },
            "header": {
             "fill": {
              "color": "#C8D4E3"
             },
             "line": {
              "color": "white"
             }
            },
            "type": "table"
           }
          ]
         },
         "layout": {
          "annotationdefaults": {
           "arrowcolor": "#2a3f5f",
           "arrowhead": 0,
           "arrowwidth": 1
          },
          "autotypenumbers": "strict",
          "coloraxis": {
           "colorbar": {
            "outlinewidth": 0,
            "ticks": ""
           }
          },
          "colorscale": {
           "diverging": [
            [
             0,
             "#8e0152"
            ],
            [
             0.1,
             "#c51b7d"
            ],
            [
             0.2,
             "#de77ae"
            ],
            [
             0.3,
             "#f1b6da"
            ],
            [
             0.4,
             "#fde0ef"
            ],
            [
             0.5,
             "#f7f7f7"
            ],
            [
             0.6,
             "#e6f5d0"
            ],
            [
             0.7,
             "#b8e186"
            ],
            [
             0.8,
             "#7fbc41"
            ],
            [
             0.9,
             "#4d9221"
            ],
            [
             1,
             "#276419"
            ]
           ],
           "sequential": [
            [
             0,
             "#0d0887"
            ],
            [
             0.1111111111111111,
             "#46039f"
            ],
            [
             0.2222222222222222,
             "#7201a8"
            ],
            [
             0.3333333333333333,
             "#9c179e"
            ],
            [
             0.4444444444444444,
             "#bd3786"
            ],
            [
             0.5555555555555556,
             "#d8576b"
            ],
            [
             0.6666666666666666,
             "#ed7953"
            ],
            [
             0.7777777777777778,
             "#fb9f3a"
            ],
            [
             0.8888888888888888,
             "#fdca26"
            ],
            [
             1,
             "#f0f921"
            ]
           ],
           "sequentialminus": [
            [
             0,
             "#0d0887"
            ],
            [
             0.1111111111111111,
             "#46039f"
            ],
            [
             0.2222222222222222,
             "#7201a8"
            ],
            [
             0.3333333333333333,
             "#9c179e"
            ],
            [
             0.4444444444444444,
             "#bd3786"
            ],
            [
             0.5555555555555556,
             "#d8576b"
            ],
            [
             0.6666666666666666,
             "#ed7953"
            ],
            [
             0.7777777777777778,
             "#fb9f3a"
            ],
            [
             0.8888888888888888,
             "#fdca26"
            ],
            [
             1,
             "#f0f921"
            ]
           ]
          },
          "colorway": [
           "#636efa",
           "#EF553B",
           "#00cc96",
           "#ab63fa",
           "#FFA15A",
           "#19d3f3",
           "#FF6692",
           "#B6E880",
           "#FF97FF",
           "#FECB52"
          ],
          "font": {
           "color": "#2a3f5f"
          },
          "geo": {
           "bgcolor": "white",
           "lakecolor": "white",
           "landcolor": "#E5ECF6",
           "showlakes": true,
           "showland": true,
           "subunitcolor": "white"
          },
          "hoverlabel": {
           "align": "left"
          },
          "hovermode": "closest",
          "mapbox": {
           "style": "light"
          },
          "paper_bgcolor": "white",
          "plot_bgcolor": "#E5ECF6",
          "polar": {
           "angularaxis": {
            "gridcolor": "white",
            "linecolor": "white",
            "ticks": ""
           },
           "bgcolor": "#E5ECF6",
           "radialaxis": {
            "gridcolor": "white",
            "linecolor": "white",
            "ticks": ""
           }
          },
          "scene": {
           "xaxis": {
            "backgroundcolor": "#E5ECF6",
            "gridcolor": "white",
            "gridwidth": 2,
            "linecolor": "white",
            "showbackground": true,
            "ticks": "",
            "zerolinecolor": "white"
           },
           "yaxis": {
            "backgroundcolor": "#E5ECF6",
            "gridcolor": "white",
            "gridwidth": 2,
            "linecolor": "white",
            "showbackground": true,
            "ticks": "",
            "zerolinecolor": "white"
           },
           "zaxis": {
            "backgroundcolor": "#E5ECF6",
            "gridcolor": "white",
            "gridwidth": 2,
            "linecolor": "white",
            "showbackground": true,
            "ticks": "",
            "zerolinecolor": "white"
           }
          },
          "shapedefaults": {
           "line": {
            "color": "#2a3f5f"
           }
          },
          "ternary": {
           "aaxis": {
            "gridcolor": "white",
            "linecolor": "white",
            "ticks": ""
           },
           "baxis": {
            "gridcolor": "white",
            "linecolor": "white",
            "ticks": ""
           },
           "bgcolor": "#E5ECF6",
           "caxis": {
            "gridcolor": "white",
            "linecolor": "white",
            "ticks": ""
           }
          },
          "title": {
           "x": 0.05
          },
          "xaxis": {
           "automargin": true,
           "gridcolor": "white",
           "linecolor": "white",
           "ticks": "",
           "title": {
            "standoff": 15
           },
           "zerolinecolor": "white",
           "zerolinewidth": 2
          },
          "yaxis": {
           "automargin": true,
           "gridcolor": "white",
           "linecolor": "white",
           "ticks": "",
           "title": {
            "standoff": 15
           },
           "zerolinecolor": "white",
           "zerolinewidth": 2
          }
         }
        },
        "title": {
         "text": "Cramer's V Correlation Heatmap - Categorical and Churn variables"
        },
        "width": 800,
        "xaxis": {
         "anchor": "y",
         "constrain": "domain",
         "domain": [
          0,
          1
         ],
         "scaleanchor": "y"
        },
        "yaxis": {
         "anchor": "x",
         "autorange": "reversed",
         "constrain": "domain",
         "domain": [
          0,
          1
         ]
        }
       }
      }
     },
     "metadata": {},
     "output_type": "display_data"
    }
   ],
   "source": [
    "from dython.nominal import associations\n",
    "import matplotlib.pyplot as plt\n",
    "\n",
    "plt.ioff() # to not show the default matplotlib plot from the associations function\n",
    "excluded = ['Tenure','MonthlyCharges','TotalCharges']\n",
    "string_columns = [ col for col in X_train.columns if col not in excluded]\n",
    "df_categorical = X_train[string_columns].assign(Churn=y_train)\n",
    "corr_measures = associations(df_categorical, nominal_columns='all', plot = False)\n",
    "fig = px.imshow(corr_measures['corr'],color_continuous_scale=\"RdBu\",text_auto=True)\n",
    "fig.update_layout(title=\"Cramer's V Correlation Heatmap - Categorical and Churn variables\", width=800, height=700)\n",
    "fig.show()"
   ]
  },
  {
   "cell_type": "code",
   "execution_count": 23,
   "metadata": {},
   "outputs": [
    {
     "data": {
      "text/plain": [
       "Churn                      1.000000\n",
       "Contract_Month-to-month    0.409979\n",
       "OnlineSecurity_No          0.348539\n",
       "TechSupport_No             0.336183\n",
       "Contract_Two_year          0.310557\n",
       "Name: Churn, dtype: float64"
      ]
     },
     "execution_count": 23,
     "metadata": {},
     "output_type": "execute_result"
    }
   ],
   "source": [
    "c_matrix = corr_measures['corr']\n",
    "churn_corr = c_matrix['Churn'].sort_values(ascending=False)\n",
    "churn_corr[:5]"
   ]
  },
  {
   "cell_type": "code",
   "execution_count": 24,
   "metadata": {},
   "outputs": [],
   "source": [
    "indices = np.where((c_matrix > 0.8) & (c_matrix < 1))\n",
    "correlated_pairs = [(c_matrix.index[i], c_matrix.columns[j]) for i, j in zip(*indices) if i < j]"
   ]
  },
  {
   "cell_type": "code",
   "execution_count": 25,
   "metadata": {},
   "outputs": [
    {
     "name": "stdout",
     "output_type": "stream",
     "text": [
      "['StreamingTV_No_internet_service', 'OnlineSecurity_No_internet_service', 'MultipleLines_No', 'PhoneService', 'DeviceProtection_No_internet_service', 'StreamingMovies_No_internet_service', 'MultipleLines_No_phone_service', 'InternetService_No', 'TechSupport_No_internet_service', 'MultipleLines_Yes', 'OnlineBackup_No_internet_service']\n"
     ]
    }
   ],
   "source": [
    "unique_values = []\n",
    "for pair in correlated_pairs:\n",
    "    unique_values.extend(set(pair))\n",
    "distinct_values = list(set(unique_values))\n",
    "print(distinct_values)"
   ]
  },
  {
   "cell_type": "code",
   "execution_count": 42,
   "metadata": {},
   "outputs": [
    {
     "data": {
      "application/vnd.plotly.v1+json": {
       "config": {
        "plotlyServerURL": "https://plot.ly"
       },
       "data": [
        {
         "coloraxis": "coloraxis",
         "hovertemplate": "x: %{x}<br>y: %{y}<br>color: %{z}<extra></extra>",
         "name": "0",
         "texttemplate": "%{z}",
         "type": "heatmap",
         "x": [
          "Tenure",
          "MonthlyCharges",
          "Churn"
         ],
         "xaxis": "x",
         "y": [
          "Tenure",
          "MonthlyCharges",
          "Churn"
         ],
         "yaxis": "y",
         "z": [
          [
           1,
           0.26971732612725585,
           -0.36754164051751514
          ],
          [
           0.26971732612725585,
           1,
           0.18251757630427942
          ],
          [
           -0.36754164051751514,
           0.18251757630427942,
           1
          ]
         ]
        }
       ],
       "layout": {
        "coloraxis": {
         "colorscale": [
          [
           0,
           "rgb(103,0,31)"
          ],
          [
           0.1,
           "rgb(178,24,43)"
          ],
          [
           0.2,
           "rgb(214,96,77)"
          ],
          [
           0.3,
           "rgb(244,165,130)"
          ],
          [
           0.4,
           "rgb(253,219,199)"
          ],
          [
           0.5,
           "rgb(247,247,247)"
          ],
          [
           0.6,
           "rgb(209,229,240)"
          ],
          [
           0.7,
           "rgb(146,197,222)"
          ],
          [
           0.8,
           "rgb(67,147,195)"
          ],
          [
           0.9,
           "rgb(33,102,172)"
          ],
          [
           1,
           "rgb(5,48,97)"
          ]
         ]
        },
        "height": 400,
        "margin": {
         "t": 60
        },
        "template": {
         "data": {
          "bar": [
           {
            "error_x": {
             "color": "#2a3f5f"
            },
            "error_y": {
             "color": "#2a3f5f"
            },
            "marker": {
             "line": {
              "color": "#E5ECF6",
              "width": 0.5
             },
             "pattern": {
              "fillmode": "overlay",
              "size": 10,
              "solidity": 0.2
             }
            },
            "type": "bar"
           }
          ],
          "barpolar": [
           {
            "marker": {
             "line": {
              "color": "#E5ECF6",
              "width": 0.5
             },
             "pattern": {
              "fillmode": "overlay",
              "size": 10,
              "solidity": 0.2
             }
            },
            "type": "barpolar"
           }
          ],
          "carpet": [
           {
            "aaxis": {
             "endlinecolor": "#2a3f5f",
             "gridcolor": "white",
             "linecolor": "white",
             "minorgridcolor": "white",
             "startlinecolor": "#2a3f5f"
            },
            "baxis": {
             "endlinecolor": "#2a3f5f",
             "gridcolor": "white",
             "linecolor": "white",
             "minorgridcolor": "white",
             "startlinecolor": "#2a3f5f"
            },
            "type": "carpet"
           }
          ],
          "choropleth": [
           {
            "colorbar": {
             "outlinewidth": 0,
             "ticks": ""
            },
            "type": "choropleth"
           }
          ],
          "contour": [
           {
            "colorbar": {
             "outlinewidth": 0,
             "ticks": ""
            },
            "colorscale": [
             [
              0,
              "#0d0887"
             ],
             [
              0.1111111111111111,
              "#46039f"
             ],
             [
              0.2222222222222222,
              "#7201a8"
             ],
             [
              0.3333333333333333,
              "#9c179e"
             ],
             [
              0.4444444444444444,
              "#bd3786"
             ],
             [
              0.5555555555555556,
              "#d8576b"
             ],
             [
              0.6666666666666666,
              "#ed7953"
             ],
             [
              0.7777777777777778,
              "#fb9f3a"
             ],
             [
              0.8888888888888888,
              "#fdca26"
             ],
             [
              1,
              "#f0f921"
             ]
            ],
            "type": "contour"
           }
          ],
          "contourcarpet": [
           {
            "colorbar": {
             "outlinewidth": 0,
             "ticks": ""
            },
            "type": "contourcarpet"
           }
          ],
          "heatmap": [
           {
            "colorbar": {
             "outlinewidth": 0,
             "ticks": ""
            },
            "colorscale": [
             [
              0,
              "#0d0887"
             ],
             [
              0.1111111111111111,
              "#46039f"
             ],
             [
              0.2222222222222222,
              "#7201a8"
             ],
             [
              0.3333333333333333,
              "#9c179e"
             ],
             [
              0.4444444444444444,
              "#bd3786"
             ],
             [
              0.5555555555555556,
              "#d8576b"
             ],
             [
              0.6666666666666666,
              "#ed7953"
             ],
             [
              0.7777777777777778,
              "#fb9f3a"
             ],
             [
              0.8888888888888888,
              "#fdca26"
             ],
             [
              1,
              "#f0f921"
             ]
            ],
            "type": "heatmap"
           }
          ],
          "heatmapgl": [
           {
            "colorbar": {
             "outlinewidth": 0,
             "ticks": ""
            },
            "colorscale": [
             [
              0,
              "#0d0887"
             ],
             [
              0.1111111111111111,
              "#46039f"
             ],
             [
              0.2222222222222222,
              "#7201a8"
             ],
             [
              0.3333333333333333,
              "#9c179e"
             ],
             [
              0.4444444444444444,
              "#bd3786"
             ],
             [
              0.5555555555555556,
              "#d8576b"
             ],
             [
              0.6666666666666666,
              "#ed7953"
             ],
             [
              0.7777777777777778,
              "#fb9f3a"
             ],
             [
              0.8888888888888888,
              "#fdca26"
             ],
             [
              1,
              "#f0f921"
             ]
            ],
            "type": "heatmapgl"
           }
          ],
          "histogram": [
           {
            "marker": {
             "pattern": {
              "fillmode": "overlay",
              "size": 10,
              "solidity": 0.2
             }
            },
            "type": "histogram"
           }
          ],
          "histogram2d": [
           {
            "colorbar": {
             "outlinewidth": 0,
             "ticks": ""
            },
            "colorscale": [
             [
              0,
              "#0d0887"
             ],
             [
              0.1111111111111111,
              "#46039f"
             ],
             [
              0.2222222222222222,
              "#7201a8"
             ],
             [
              0.3333333333333333,
              "#9c179e"
             ],
             [
              0.4444444444444444,
              "#bd3786"
             ],
             [
              0.5555555555555556,
              "#d8576b"
             ],
             [
              0.6666666666666666,
              "#ed7953"
             ],
             [
              0.7777777777777778,
              "#fb9f3a"
             ],
             [
              0.8888888888888888,
              "#fdca26"
             ],
             [
              1,
              "#f0f921"
             ]
            ],
            "type": "histogram2d"
           }
          ],
          "histogram2dcontour": [
           {
            "colorbar": {
             "outlinewidth": 0,
             "ticks": ""
            },
            "colorscale": [
             [
              0,
              "#0d0887"
             ],
             [
              0.1111111111111111,
              "#46039f"
             ],
             [
              0.2222222222222222,
              "#7201a8"
             ],
             [
              0.3333333333333333,
              "#9c179e"
             ],
             [
              0.4444444444444444,
              "#bd3786"
             ],
             [
              0.5555555555555556,
              "#d8576b"
             ],
             [
              0.6666666666666666,
              "#ed7953"
             ],
             [
              0.7777777777777778,
              "#fb9f3a"
             ],
             [
              0.8888888888888888,
              "#fdca26"
             ],
             [
              1,
              "#f0f921"
             ]
            ],
            "type": "histogram2dcontour"
           }
          ],
          "mesh3d": [
           {
            "colorbar": {
             "outlinewidth": 0,
             "ticks": ""
            },
            "type": "mesh3d"
           }
          ],
          "parcoords": [
           {
            "line": {
             "colorbar": {
              "outlinewidth": 0,
              "ticks": ""
             }
            },
            "type": "parcoords"
           }
          ],
          "pie": [
           {
            "automargin": true,
            "type": "pie"
           }
          ],
          "scatter": [
           {
            "fillpattern": {
             "fillmode": "overlay",
             "size": 10,
             "solidity": 0.2
            },
            "type": "scatter"
           }
          ],
          "scatter3d": [
           {
            "line": {
             "colorbar": {
              "outlinewidth": 0,
              "ticks": ""
             }
            },
            "marker": {
             "colorbar": {
              "outlinewidth": 0,
              "ticks": ""
             }
            },
            "type": "scatter3d"
           }
          ],
          "scattercarpet": [
           {
            "marker": {
             "colorbar": {
              "outlinewidth": 0,
              "ticks": ""
             }
            },
            "type": "scattercarpet"
           }
          ],
          "scattergeo": [
           {
            "marker": {
             "colorbar": {
              "outlinewidth": 0,
              "ticks": ""
             }
            },
            "type": "scattergeo"
           }
          ],
          "scattergl": [
           {
            "marker": {
             "colorbar": {
              "outlinewidth": 0,
              "ticks": ""
             }
            },
            "type": "scattergl"
           }
          ],
          "scattermapbox": [
           {
            "marker": {
             "colorbar": {
              "outlinewidth": 0,
              "ticks": ""
             }
            },
            "type": "scattermapbox"
           }
          ],
          "scatterpolar": [
           {
            "marker": {
             "colorbar": {
              "outlinewidth": 0,
              "ticks": ""
             }
            },
            "type": "scatterpolar"
           }
          ],
          "scatterpolargl": [
           {
            "marker": {
             "colorbar": {
              "outlinewidth": 0,
              "ticks": ""
             }
            },
            "type": "scatterpolargl"
           }
          ],
          "scatterternary": [
           {
            "marker": {
             "colorbar": {
              "outlinewidth": 0,
              "ticks": ""
             }
            },
            "type": "scatterternary"
           }
          ],
          "surface": [
           {
            "colorbar": {
             "outlinewidth": 0,
             "ticks": ""
            },
            "colorscale": [
             [
              0,
              "#0d0887"
             ],
             [
              0.1111111111111111,
              "#46039f"
             ],
             [
              0.2222222222222222,
              "#7201a8"
             ],
             [
              0.3333333333333333,
              "#9c179e"
             ],
             [
              0.4444444444444444,
              "#bd3786"
             ],
             [
              0.5555555555555556,
              "#d8576b"
             ],
             [
              0.6666666666666666,
              "#ed7953"
             ],
             [
              0.7777777777777778,
              "#fb9f3a"
             ],
             [
              0.8888888888888888,
              "#fdca26"
             ],
             [
              1,
              "#f0f921"
             ]
            ],
            "type": "surface"
           }
          ],
          "table": [
           {
            "cells": {
             "fill": {
              "color": "#EBF0F8"
             },
             "line": {
              "color": "white"
             }
            },
            "header": {
             "fill": {
              "color": "#C8D4E3"
             },
             "line": {
              "color": "white"
             }
            },
            "type": "table"
           }
          ]
         },
         "layout": {
          "annotationdefaults": {
           "arrowcolor": "#2a3f5f",
           "arrowhead": 0,
           "arrowwidth": 1
          },
          "autotypenumbers": "strict",
          "coloraxis": {
           "colorbar": {
            "outlinewidth": 0,
            "ticks": ""
           }
          },
          "colorscale": {
           "diverging": [
            [
             0,
             "#8e0152"
            ],
            [
             0.1,
             "#c51b7d"
            ],
            [
             0.2,
             "#de77ae"
            ],
            [
             0.3,
             "#f1b6da"
            ],
            [
             0.4,
             "#fde0ef"
            ],
            [
             0.5,
             "#f7f7f7"
            ],
            [
             0.6,
             "#e6f5d0"
            ],
            [
             0.7,
             "#b8e186"
            ],
            [
             0.8,
             "#7fbc41"
            ],
            [
             0.9,
             "#4d9221"
            ],
            [
             1,
             "#276419"
            ]
           ],
           "sequential": [
            [
             0,
             "#0d0887"
            ],
            [
             0.1111111111111111,
             "#46039f"
            ],
            [
             0.2222222222222222,
             "#7201a8"
            ],
            [
             0.3333333333333333,
             "#9c179e"
            ],
            [
             0.4444444444444444,
             "#bd3786"
            ],
            [
             0.5555555555555556,
             "#d8576b"
            ],
            [
             0.6666666666666666,
             "#ed7953"
            ],
            [
             0.7777777777777778,
             "#fb9f3a"
            ],
            [
             0.8888888888888888,
             "#fdca26"
            ],
            [
             1,
             "#f0f921"
            ]
           ],
           "sequentialminus": [
            [
             0,
             "#0d0887"
            ],
            [
             0.1111111111111111,
             "#46039f"
            ],
            [
             0.2222222222222222,
             "#7201a8"
            ],
            [
             0.3333333333333333,
             "#9c179e"
            ],
            [
             0.4444444444444444,
             "#bd3786"
            ],
            [
             0.5555555555555556,
             "#d8576b"
            ],
            [
             0.6666666666666666,
             "#ed7953"
            ],
            [
             0.7777777777777778,
             "#fb9f3a"
            ],
            [
             0.8888888888888888,
             "#fdca26"
            ],
            [
             1,
             "#f0f921"
            ]
           ]
          },
          "colorway": [
           "#636efa",
           "#EF553B",
           "#00cc96",
           "#ab63fa",
           "#FFA15A",
           "#19d3f3",
           "#FF6692",
           "#B6E880",
           "#FF97FF",
           "#FECB52"
          ],
          "font": {
           "color": "#2a3f5f"
          },
          "geo": {
           "bgcolor": "white",
           "lakecolor": "white",
           "landcolor": "#E5ECF6",
           "showlakes": true,
           "showland": true,
           "subunitcolor": "white"
          },
          "hoverlabel": {
           "align": "left"
          },
          "hovermode": "closest",
          "mapbox": {
           "style": "light"
          },
          "paper_bgcolor": "white",
          "plot_bgcolor": "#E5ECF6",
          "polar": {
           "angularaxis": {
            "gridcolor": "white",
            "linecolor": "white",
            "ticks": ""
           },
           "bgcolor": "#E5ECF6",
           "radialaxis": {
            "gridcolor": "white",
            "linecolor": "white",
            "ticks": ""
           }
          },
          "scene": {
           "xaxis": {
            "backgroundcolor": "#E5ECF6",
            "gridcolor": "white",
            "gridwidth": 2,
            "linecolor": "white",
            "showbackground": true,
            "ticks": "",
            "zerolinecolor": "white"
           },
           "yaxis": {
            "backgroundcolor": "#E5ECF6",
            "gridcolor": "white",
            "gridwidth": 2,
            "linecolor": "white",
            "showbackground": true,
            "ticks": "",
            "zerolinecolor": "white"
           },
           "zaxis": {
            "backgroundcolor": "#E5ECF6",
            "gridcolor": "white",
            "gridwidth": 2,
            "linecolor": "white",
            "showbackground": true,
            "ticks": "",
            "zerolinecolor": "white"
           }
          },
          "shapedefaults": {
           "line": {
            "color": "#2a3f5f"
           }
          },
          "ternary": {
           "aaxis": {
            "gridcolor": "white",
            "linecolor": "white",
            "ticks": ""
           },
           "baxis": {
            "gridcolor": "white",
            "linecolor": "white",
            "ticks": ""
           },
           "bgcolor": "#E5ECF6",
           "caxis": {
            "gridcolor": "white",
            "linecolor": "white",
            "ticks": ""
           }
          },
          "title": {
           "x": 0.05
          },
          "xaxis": {
           "automargin": true,
           "gridcolor": "white",
           "linecolor": "white",
           "ticks": "",
           "title": {
            "standoff": 15
           },
           "zerolinecolor": "white",
           "zerolinewidth": 2
          },
          "yaxis": {
           "automargin": true,
           "gridcolor": "white",
           "linecolor": "white",
           "ticks": "",
           "title": {
            "standoff": 15
           },
           "zerolinecolor": "white",
           "zerolinewidth": 2
          }
         }
        },
        "title": {
         "text": "Spearsman Correlation: Tenure, Charges - Churn"
        },
        "width": 500,
        "xaxis": {
         "anchor": "y",
         "constrain": "domain",
         "domain": [
          0,
          1
         ],
         "scaleanchor": "y"
        },
        "yaxis": {
         "anchor": "x",
         "autorange": "reversed",
         "constrain": "domain",
         "domain": [
          0,
          1
         ]
        }
       }
      }
     },
     "metadata": {},
     "output_type": "display_data"
    }
   ],
   "source": [
    "import plotly.express as px\n",
    "\n",
    "excluded = ['Tenure','MonthlyCharges']\n",
    "df_nr = X_train[excluded]\n",
    "df_nr = X_train[excluded].assign(Churn=y_train)\n",
    "corr_matrix = df_nr.corr(method='spearman') # Tenure - ordinal variable\n",
    "fig = px.imshow(corr_matrix, color_continuous_scale=\"RdBu\",text_auto=True) # Plot the correlation matrix as a heatmap\n",
    "fig.update_layout(title=\"Spearsman Correlation: Tenure, Charges - Churn\",width=500,height=400)\n",
    "fig.show()\n",
    "#https://anyi-guo.medium.com/correlation-pearson-vs-spearman-c15e581c12ce\n",
    "# Churn: Tenure, MonthlyCharges and TotalCharges"
   ]
  },
  {
   "cell_type": "code",
   "execution_count": 43,
   "metadata": {},
   "outputs": [
    {
     "data": {
      "application/vnd.plotly.v1+json": {
       "config": {
        "plotlyServerURL": "https://plot.ly"
       },
       "data": [
        {
         "coloraxis": "coloraxis",
         "hovertemplate": "x: %{x}<br>y: %{y}<br>color: %{z}<extra></extra>",
         "name": "0",
         "texttemplate": "%{z}",
         "type": "heatmap",
         "x": [
          "Contract_Month-to-month",
          "Contract_One_year",
          "Contract_Two_year",
          "DeviceProtection_No",
          "DeviceProtection_Yes",
          "InternetService_DSL",
          "InternetService_Fiber_optic",
          "OnlineBackup_No",
          "OnlineBackup_Yes",
          "OnlineSecurity_No",
          "OnlineSecurity_Yes",
          "PaymentMethod_Bank_transfer_(automatic)",
          "PaymentMethod_Credit_card_(automatic)",
          "PaymentMethod_Electronic_check",
          "PaymentMethod_Mailed_check",
          "StreamingMovies_No",
          "StreamingMovies_Yes",
          "StreamingTV_No",
          "StreamingTV_Yes",
          "TechSupport_No",
          "TechSupport_Yes",
          "Dependents",
          "Gender",
          "PaperlessBilling",
          "Partner",
          "SeniorCitizen",
          "Churn"
         ],
         "xaxis": "x",
         "y": [
          "Contract_Month-to-month",
          "Contract_One_year",
          "Contract_Two_year",
          "DeviceProtection_No",
          "DeviceProtection_Yes",
          "InternetService_DSL",
          "InternetService_Fiber_optic",
          "OnlineBackup_No",
          "OnlineBackup_Yes",
          "OnlineSecurity_No",
          "OnlineSecurity_Yes",
          "PaymentMethod_Bank_transfer_(automatic)",
          "PaymentMethod_Credit_card_(automatic)",
          "PaymentMethod_Electronic_check",
          "PaymentMethod_Mailed_check",
          "StreamingMovies_No",
          "StreamingMovies_Yes",
          "StreamingTV_No",
          "StreamingTV_Yes",
          "TechSupport_No",
          "TechSupport_Yes",
          "Dependents",
          "Gender",
          "PaperlessBilling",
          "Partner",
          "SeniorCitizen",
          "Churn"
         ],
         "yaxis": "y",
         "z": [
          [
           1,
           0.568833983128377,
           0.6225320444217242,
           0.40076592730382077,
           0.22051876615757596,
           0.042209768611170255,
           0.23264770684245745,
           0.343695133419835,
           0.16023282686054902,
           0.39820595070136444,
           0.23352230605951418,
           0.17859351306869028,
           0.19800486091627842,
           0.3247851433749665,
           0,
           0.2978165289244142,
           0.10443664369337273,
           0.29730718902503883,
           0.10524863507914753,
           0.4412769226380604,
           0.2805699976443445,
           0.22917093684647827,
           0,
           0.15444131717486115,
           0.28627002043203714,
           0.1412568394592266,
           0.40997942253451014
          ],
          [
           0.568833983128377,
           1,
           0.28679654425395545,
           0.12999958620043806,
           0.10990947586944656,
           0.038602365410383324,
           0.06290152115399207,
           0.1221673388096533,
           0.10148136150582952,
           0.11471118190784463,
           0.10022078924837646,
           0.050245576840737875,
           0.05486643387522652,
           0.09364077148907443,
           0,
           0.09042573324782334,
           0.06482889582963784,
           0.09285021611985833,
           0.06784812984278332,
           0.11623875834831927,
           0.10157204334578668,
           0.0656274611310869,
           0.006454292869796242,
           0.03656829343917135,
           0.08874943988296888,
           0.04747355960027991,
           0.1742602342137982
          ],
          [
           0.6225320444217242,
           0.28679654425395545,
           1,
           0.3418269913181046,
           0.15059182748817773,
           0,
           0.20891646144509543,
           0.2827141133731839,
           0.0879698395165281,
           0.3532945758574754,
           0.1749050974521658,
           0.15743678744355605,
           0.17583104538873726,
           0.28754923195005627,
           0,
           0.25915749056804943,
           0.05698809105885166,
           0.25628654999871525,
           0.0550546583228101,
           0.40204368609106916,
           0.22851188260127525,
           0.20228291171428445,
           0,
           0.14168988395462886,
           0.2472861087244349,
           0.11630717103055138,
           0.3105567281628664
          ],
          [
           0.40076592730382077,
           0.12999958620043806,
           0.3418269913181046,
           1,
           0.630883972324745,
           0.19099453229812957,
           0.21193072492173523,
           0.3695201355063378,
           0.022599261551328784,
           0.37655792666895144,
           0.008330743799749749,
           0.05790950609328035,
           0.11632836376308894,
           0.24854290094917225,
           0.1033107466188914,
           0.4305088131800893,
           0.023008367428642526,
           0.409565234537959,
           0,
           0.4288170023480074,
           0.036300418876970844,
           0.1300519574749,
           0,
           0.17454462764012077,
           0.13557008660842204,
           0.1138611824119261,
           0.2546788019790649
          ],
          [
           0.22051876615757596,
           0.10990947586944656,
           0.15059182748817773,
           0.630883972324745,
           1,
           0.13937966830173126,
           0.18808030102772105,
           0.020443039299780273,
           0.31036918349551645,
           0.07158913147770907,
           0.2745955862989954,
           0.07004074335931858,
           0.12102438843649861,
           0,
           0.17718802826879862,
           0.07074715925997366,
           0.4023461531961339,
           0.04210166657579992,
           0.37615049315406884,
           0.0030324484794819967,
           0.3376263078908962,
           0,
           0,
           0.10746776727396555,
           0.14336469600253857,
           0.04315922567276179,
           0.06351225331823139
          ],
          [
           0.042209768611170255,
           0.038602365410383324,
           0,
           0.19099453229812957,
           0.13937966830173126,
           1,
           0.6313316795814898,
           0.17772397615367938,
           0.15318564871164128,
           0.02602071965788226,
           0.32556441866574115,
           0.025778470263664692,
           0.04458156726301271,
           0.09106632313923009,
           0.021857957699098512,
           0.3161980008569923,
           0,
           0.30978946992256196,
           0.01248837867821574,
           0.03872019088412829,
           0.31177807856581713,
           0.036189719996275384,
           0,
           0.04842977260754607,
           0,
           0.09842041868672119,
           0.11519135775707484
          ],
          [
           0.23264770684245745,
           0.06290152115399207,
           0.20891646144509543,
           0.21193072492173523,
           0.18808030102772105,
           0.6313316795814898,
           1,
           0.2231112216264443,
           0.17624348029121262,
           0.4180077017744299,
           0.026824413573197956,
           0.013070818687179771,
           0.0433678648974335,
           0.3272472728807114,
           0.30100699111981727,
           0.05537252585060902,
           0.342284123275253,
           0.06729323485150215,
           0.3316448598812888,
           0.40428323819166767,
           0.0023842120688231843,
           0.15489032017457316,
           0,
           0.3285478902560599,
           0,
           0.25517443199495965,
           0.30394880741276004
          ],
          [
           0.343695133419835,
           0.1221673388096533,
           0.2827141133731839,
           0.3695201355063378,
           0.020443039299780273,
           0.17772397615367938,
           0.2231112216264443,
           1,
           0.6311125625782633,
           0.388189197525951,
           0,
           0.07360131194735782,
           0.0908625924320353,
           0.23819563094337037,
           0.10125292685128195,
           0.311360927345647,
           0.08783466084914873,
           0.3308669281482772,
           0.06709492617724412,
           0.3850079166665382,
           0,
           0.13823881238893934,
           0,
           0.16263852398426384,
           0.14062075324919332,
           0.08418128376677884,
           0.2560279024052234
          ],
          [
           0.16023282686054902,
           0.10148136150582952,
           0.0879698395165281,
           0.022599261551328784,
           0.31036918349551645,
           0.15318564871164128,
           0.17624348029121262,
           0.6311125625782633,
           1,
           0.05921256462702474,
           0.28954189970228034,
           0.0861798224460821,
           0.094210606140281,
           0,
           0.1791379092413007,
           0.0489180552242341,
           0.27854171525765675,
           0.03319241372480919,
           0.29423589839158604,
           0.059676590238909366,
           0.2880836817661064,
           0.015942657608345668,
           0,
           0.11991533189454674,
           0.14837308428319385,
           0.07489003030340126,
           0.06473260671916269
          ],
          [
           0.39820595070136444,
           0.11471118190784463,
           0.3532945758574754,
           0.37655792666895144,
           0.07158913147770907,
           0.02602071965788226,
           0.4180077017744299,
           0.388189197525951,
           0.05921256462702474,
           1,
           0.6184052737255282,
           0.07503100535319135,
           0.08931713721030463,
           0.3179195190533773,
           0.1911781107608721,
           0.2576526029447273,
           0.1958972786875129,
           0.2579208120656257,
           0.19551399033624414,
           0.46958244434125296,
           0.023980735417805203,
           0.18228870152510673,
           0.01374255207376384,
           0.2719421496330282,
           0.11947941897613554,
           0.19636874982667296,
           0.34853949631729897
          ],
          [
           0.23352230605951418,
           0.10022078924837646,
           0.1749050974521658,
           0.008330743799749749,
           0.2745955862989954,
           0.32556441866574115,
           0.026824413573197956,
           0,
           0.28954189970228034,
           0.6184052737255282,
           1,
           0.09351693036594078,
           0.0988555730594986,
           0.08935437837829135,
           0.08811306935915145,
           0.10982820913973944,
           0.1736836272071947,
           0.11556542712148746,
           0.16819545289592747,
           0.0276644268073778,
           0.34444523155311413,
           0.07194452860617714,
           0.018662344178128402,
           0,
           0.13470913433459542,
           0.039789778398333114,
           0.17497089105496114
          ],
          [
           0.17859351306869028,
           0.050245576840737875,
           0.15743678744355605,
           0.05790950609328035,
           0.07004074335931858,
           0.025778470263664692,
           0.013070818687179771,
           0.07360131194735782,
           0.0861798224460821,
           0.07503100535319135,
           0.09351693036594078,
           1,
           0.2774514204906828,
           0.376241557317446,
           0.28955892728371097,
           0.023674503322462112,
           0.0337240381180326,
           0.03749468344372147,
           0.04726010606335637,
           0.09376434051429969,
           0.11386854554344403,
           0.061444972608282473,
           0,
           0,
           0.10325997173477003,
           0.03387045854031621,
           0.10539614870557965
          ],
          [
           0.19800486091627842,
           0.05486643387522652,
           0.17583104538873726,
           0.11632836376308894,
           0.12102438843649861,
           0.04458156726301271,
           0.0433678648974335,
           0.0908625924320353,
           0.094210606140281,
           0.08931713721030463,
           0.0988555730594986,
           0.2774514204906828,
           1,
           0.3702540980250974,
           0.2849402831217443,
           0.06566666684478806,
           0.06503442907357668,
           0.041473335633398924,
           0.041059455821327494,
           0.09306584516392545,
           0.10266313042105166,
           0.03903789207524197,
           0,
           0,
           0.08784566544632288,
           0,
           0.12594097190083126
          ],
          [
           0.3247851433749665,
           0.09364077148907443,
           0.28754923195005627,
           0.24854290094917225,
           0,
           0.09106632313923009,
           0.3272472728807114,
           0.23819563094337037,
           0,
           0.3179195190533773,
           0.08935437837829135,
           0.376241557317446,
           0.3702540980250974,
           1,
           0.3863690242199095,
           0.10027118711996873,
           0.13976130370636738,
           0.087452437630974,
           0.1527863191553136,
           0.33938707236868243,
           0.11310270358337267,
           0.14336926899398902,
           0,
           0.2000611628728476,
           0.08132091197036671,
           0.1689106904223622,
           0.29093873866975384
          ],
          [
           0,
           0,
           0,
           0.1033107466188914,
           0.17718802826879862,
           0.021857957699098512,
           0.30100699111981727,
           0.10125292685128195,
           0.1791379092413007,
           0.1911781107608721,
           0.08811306935915145,
           0.28955892728371097,
           0.2849402831217443,
           0.3863690242199095,
           1,
           0.010979137645735096,
           0.2601853680215826,
           0,
           0.26472727684001685,
           0.1934623099372584,
           0.08525910128986854,
           0.0549313032045829,
           0.012444494536801182,
           0.21600993273925617,
           0.09596301891945516,
           0.14616113835767633,
           0.09530678502631273
          ],
          [
           0.2978165289244142,
           0.09042573324782334,
           0.25915749056804943,
           0.4305088131800893,
           0.07074715925997366,
           0.3161980008569923,
           0.05537252585060902,
           0.311360927345647,
           0.0489180552242341,
           0.2576526029447273,
           0.10982820913973944,
           0.023674503322462112,
           0.06566666684478806,
           0.10027118711996873,
           0.010979137645735096,
           1,
           0.6338074392702414,
           0.5358283604072247,
           0.1706778018806809,
           0.3432422754569445,
           0.0030700968170784743,
           0.0713413414462814,
           0,
           0.07008588107283056,
           0.1018022955366118,
           0.04988625417853163,
           0.13716429159923874
          ],
          [
           0.10443664369337273,
           0.06482889582963784,
           0.05698809105885166,
           0.023008367428642526,
           0.4023461531961339,
           0,
           0.342284123275253,
           0.08783466084914873,
           0.27854171525765675,
           0.1958972786875129,
           0.1736836272071947,
           0.0337240381180326,
           0.06503442907357668,
           0.13976130370636738,
           0.2601853680215826,
           0.6338074392702414,
           1,
           0.16283421032759035,
           0.5299959387096159,
           0.10687525391389095,
           0.2716064954659891,
           0.04315238384550966,
           0,
           0.2117409045155746,
           0.10344697765300503,
           0.10825516960515233,
           0.054749032267746606
          ],
          [
           0.29730718902503883,
           0.09285021611985833,
           0.25628654999871525,
           0.409565234537959,
           0.04210166657579992,
           0.30978946992256196,
           0.06729323485150215,
           0.3308669281482772,
           0.03319241372480919,
           0.2579208120656257,
           0.11556542712148746,
           0.03749468344372147,
           0.041473335633398924,
           0.087452437630974,
           0,
           0.5358283604072247,
           0.16283421032759035,
           1,
           0.6336887335476004,
           0.3472050173889729,
           0.007818975612048704,
           0.09895440834849882,
           0,
           0.046977859879953496,
           0.11744033551902042,
           0.07287155651856186,
           0.13234602007631424
          ],
          [
           0.10524863507914753,
           0.06784812984278332,
           0.0550546583228101,
           0,
           0.37615049315406884,
           0.01248837867821574,
           0.3316448598812888,
           0.06709492617724412,
           0.29423589839158604,
           0.19551399033624414,
           0.16819545289592747,
           0.04726010606335637,
           0.041059455821327494,
           0.1527863191553136,
           0.26472727684001685,
           0.1706778018806809,
           0.5299959387096159,
           0.6336887335476004,
           1,
           0.1021303031417172,
           0.27094311738117616,
           0.0099488132588144,
           0,
           0.23486421703760904,
           0.11993477208875929,
           0.08571143358250811,
           0.05951461136910171
          ],
          [
           0.4412769226380604,
           0.11623875834831927,
           0.40204368609106916,
           0.4288170023480074,
           0.0030324484794819967,
           0.03872019088412829,
           0.40428323819166767,
           0.3850079166665382,
           0.059676590238909366,
           0.46958244434125296,
           0.0276644268073778,
           0.09376434051429969,
           0.09306584516392545,
           0.33938707236868243,
           0.1934623099372584,
           0.3432422754569445,
           0.10687525391389095,
           0.3472050173889729,
           0.1021303031417172,
           1,
           0.6193064750691136,
           0.18148280825184537,
           0,
           0.24269779761806312,
           0.10876569783867349,
           0.22611797439858863,
           0.336182783112015
          ],
          [
           0.2805699976443445,
           0.10157204334578668,
           0.22851188260127525,
           0.036300418876970844,
           0.3376263078908962,
           0.31177807856581713,
           0.0023842120688231843,
           0,
           0.2880836817661064,
           0.023980735417805203,
           0.34444523155311413,
           0.11386854554344403,
           0.10266313042105166,
           0.11310270358337267,
           0.08525910128986854,
           0.0030700968170784743,
           0.2716064954659891,
           0.007818975612048704,
           0.27094311738117616,
           0.6193064750691136,
           1,
           0.07076983704258112,
           0,
           0.03383654434113614,
           0.1223799884411408,
           0.07384774551929972,
           0.16060362323777277
          ],
          [
           0.22917093684647827,
           0.0656274611310869,
           0.20228291171428445,
           0.1300519574749,
           0,
           0.036189719996275384,
           0.15489032017457316,
           0.13823881238893934,
           0.015942657608345668,
           0.18228870152510673,
           0.07194452860617714,
           0.061444972608282473,
           0.03903789207524197,
           0.14336926899398902,
           0.0549313032045829,
           0.0713413414462814,
           0.04315238384550966,
           0.09895440834849882,
           0.0099488132588144,
           0.18148280825184537,
           0.07076983704258112,
           1,
           0,
           0.10612996958592004,
           0.44788371587746156,
           0.21603785009385199,
           0.15191765561542794
          ],
          [
           0,
           0.006454292869796242,
           0,
           0,
           0,
           0,
           0,
           0,
           0,
           0.01374255207376384,
           0.018662344178128402,
           0,
           0,
           0,
           0.012444494536801182,
           0,
           0,
           0,
           0,
           0,
           0,
           0,
           1,
           0.009141473513598149,
           0,
           0,
           0.015360089773170585
          ],
          [
           0.15444131717486115,
           0.03656829343917135,
           0.14168988395462886,
           0.17454462764012077,
           0.10746776727396555,
           0.04842977260754607,
           0.3285478902560599,
           0.16263852398426384,
           0.11991533189454674,
           0.2719421496330282,
           0,
           0,
           0,
           0.2000611628728476,
           0.21600993273925617,
           0.07008588107283056,
           0.2117409045155746,
           0.046977859879953496,
           0.23486421703760904,
           0.24269779761806312,
           0.03383654434113614,
           0.10612996958592004,
           0.009141473513598149,
           1,
           0,
           0.16091171206732527,
           0.1971321084357487
          ],
          [
           0.28627002043203714,
           0.08874943988296888,
           0.2472861087244349,
           0.13557008660842204,
           0.14336469600253857,
           0,
           0,
           0.14062075324919332,
           0.14837308428319385,
           0.11947941897613554,
           0.13470913433459542,
           0.10325997173477003,
           0.08784566544632288,
           0.08132091197036671,
           0.09596301891945516,
           0.1018022955366118,
           0.10344697765300503,
           0.11744033551902042,
           0.11993477208875929,
           0.10876569783867349,
           0.1223799884411408,
           0.44788371587746156,
           0,
           0,
           1,
           0.010178579736520145,
           0.13895643969276647
          ],
          [
           0.1412568394592266,
           0.04747355960027991,
           0.11630717103055138,
           0.1138611824119261,
           0.04315922567276179,
           0.09842041868672119,
           0.25517443199495965,
           0.08418128376677884,
           0.07489003030340126,
           0.19636874982667296,
           0.039789778398333114,
           0.03387045854031621,
           0,
           0.1689106904223622,
           0.14616113835767633,
           0.04988625417853163,
           0.10825516960515233,
           0.07287155651856186,
           0.08571143358250811,
           0.22611797439858863,
           0.07384774551929972,
           0.21603785009385199,
           0,
           0.16091171206732527,
           0.010178579736520145,
           1,
           0.15710033514519126
          ],
          [
           0.40997942253451014,
           0.1742602342137982,
           0.3105567281628664,
           0.2546788019790649,
           0.06351225331823139,
           0.11519135775707484,
           0.30394880741276004,
           0.2560279024052234,
           0.06473260671916269,
           0.34853949631729897,
           0.17497089105496114,
           0.10539614870557965,
           0.12594097190083126,
           0.29093873866975384,
           0.09530678502631273,
           0.13716429159923874,
           0.054749032267746606,
           0.13234602007631424,
           0.05951461136910171,
           0.336182783112015,
           0.16060362323777277,
           0.15191765561542794,
           0.015360089773170585,
           0.1971321084357487,
           0.13895643969276647,
           0.15710033514519126,
           1
          ]
         ]
        }
       ],
       "layout": {
        "coloraxis": {
         "colorscale": [
          [
           0,
           "rgb(103,0,31)"
          ],
          [
           0.1,
           "rgb(178,24,43)"
          ],
          [
           0.2,
           "rgb(214,96,77)"
          ],
          [
           0.3,
           "rgb(244,165,130)"
          ],
          [
           0.4,
           "rgb(253,219,199)"
          ],
          [
           0.5,
           "rgb(247,247,247)"
          ],
          [
           0.6,
           "rgb(209,229,240)"
          ],
          [
           0.7,
           "rgb(146,197,222)"
          ],
          [
           0.8,
           "rgb(67,147,195)"
          ],
          [
           0.9,
           "rgb(33,102,172)"
          ],
          [
           1,
           "rgb(5,48,97)"
          ]
         ]
        },
        "height": 700,
        "margin": {
         "t": 60
        },
        "template": {
         "data": {
          "bar": [
           {
            "error_x": {
             "color": "#2a3f5f"
            },
            "error_y": {
             "color": "#2a3f5f"
            },
            "marker": {
             "line": {
              "color": "#E5ECF6",
              "width": 0.5
             },
             "pattern": {
              "fillmode": "overlay",
              "size": 10,
              "solidity": 0.2
             }
            },
            "type": "bar"
           }
          ],
          "barpolar": [
           {
            "marker": {
             "line": {
              "color": "#E5ECF6",
              "width": 0.5
             },
             "pattern": {
              "fillmode": "overlay",
              "size": 10,
              "solidity": 0.2
             }
            },
            "type": "barpolar"
           }
          ],
          "carpet": [
           {
            "aaxis": {
             "endlinecolor": "#2a3f5f",
             "gridcolor": "white",
             "linecolor": "white",
             "minorgridcolor": "white",
             "startlinecolor": "#2a3f5f"
            },
            "baxis": {
             "endlinecolor": "#2a3f5f",
             "gridcolor": "white",
             "linecolor": "white",
             "minorgridcolor": "white",
             "startlinecolor": "#2a3f5f"
            },
            "type": "carpet"
           }
          ],
          "choropleth": [
           {
            "colorbar": {
             "outlinewidth": 0,
             "ticks": ""
            },
            "type": "choropleth"
           }
          ],
          "contour": [
           {
            "colorbar": {
             "outlinewidth": 0,
             "ticks": ""
            },
            "colorscale": [
             [
              0,
              "#0d0887"
             ],
             [
              0.1111111111111111,
              "#46039f"
             ],
             [
              0.2222222222222222,
              "#7201a8"
             ],
             [
              0.3333333333333333,
              "#9c179e"
             ],
             [
              0.4444444444444444,
              "#bd3786"
             ],
             [
              0.5555555555555556,
              "#d8576b"
             ],
             [
              0.6666666666666666,
              "#ed7953"
             ],
             [
              0.7777777777777778,
              "#fb9f3a"
             ],
             [
              0.8888888888888888,
              "#fdca26"
             ],
             [
              1,
              "#f0f921"
             ]
            ],
            "type": "contour"
           }
          ],
          "contourcarpet": [
           {
            "colorbar": {
             "outlinewidth": 0,
             "ticks": ""
            },
            "type": "contourcarpet"
           }
          ],
          "heatmap": [
           {
            "colorbar": {
             "outlinewidth": 0,
             "ticks": ""
            },
            "colorscale": [
             [
              0,
              "#0d0887"
             ],
             [
              0.1111111111111111,
              "#46039f"
             ],
             [
              0.2222222222222222,
              "#7201a8"
             ],
             [
              0.3333333333333333,
              "#9c179e"
             ],
             [
              0.4444444444444444,
              "#bd3786"
             ],
             [
              0.5555555555555556,
              "#d8576b"
             ],
             [
              0.6666666666666666,
              "#ed7953"
             ],
             [
              0.7777777777777778,
              "#fb9f3a"
             ],
             [
              0.8888888888888888,
              "#fdca26"
             ],
             [
              1,
              "#f0f921"
             ]
            ],
            "type": "heatmap"
           }
          ],
          "heatmapgl": [
           {
            "colorbar": {
             "outlinewidth": 0,
             "ticks": ""
            },
            "colorscale": [
             [
              0,
              "#0d0887"
             ],
             [
              0.1111111111111111,
              "#46039f"
             ],
             [
              0.2222222222222222,
              "#7201a8"
             ],
             [
              0.3333333333333333,
              "#9c179e"
             ],
             [
              0.4444444444444444,
              "#bd3786"
             ],
             [
              0.5555555555555556,
              "#d8576b"
             ],
             [
              0.6666666666666666,
              "#ed7953"
             ],
             [
              0.7777777777777778,
              "#fb9f3a"
             ],
             [
              0.8888888888888888,
              "#fdca26"
             ],
             [
              1,
              "#f0f921"
             ]
            ],
            "type": "heatmapgl"
           }
          ],
          "histogram": [
           {
            "marker": {
             "pattern": {
              "fillmode": "overlay",
              "size": 10,
              "solidity": 0.2
             }
            },
            "type": "histogram"
           }
          ],
          "histogram2d": [
           {
            "colorbar": {
             "outlinewidth": 0,
             "ticks": ""
            },
            "colorscale": [
             [
              0,
              "#0d0887"
             ],
             [
              0.1111111111111111,
              "#46039f"
             ],
             [
              0.2222222222222222,
              "#7201a8"
             ],
             [
              0.3333333333333333,
              "#9c179e"
             ],
             [
              0.4444444444444444,
              "#bd3786"
             ],
             [
              0.5555555555555556,
              "#d8576b"
             ],
             [
              0.6666666666666666,
              "#ed7953"
             ],
             [
              0.7777777777777778,
              "#fb9f3a"
             ],
             [
              0.8888888888888888,
              "#fdca26"
             ],
             [
              1,
              "#f0f921"
             ]
            ],
            "type": "histogram2d"
           }
          ],
          "histogram2dcontour": [
           {
            "colorbar": {
             "outlinewidth": 0,
             "ticks": ""
            },
            "colorscale": [
             [
              0,
              "#0d0887"
             ],
             [
              0.1111111111111111,
              "#46039f"
             ],
             [
              0.2222222222222222,
              "#7201a8"
             ],
             [
              0.3333333333333333,
              "#9c179e"
             ],
             [
              0.4444444444444444,
              "#bd3786"
             ],
             [
              0.5555555555555556,
              "#d8576b"
             ],
             [
              0.6666666666666666,
              "#ed7953"
             ],
             [
              0.7777777777777778,
              "#fb9f3a"
             ],
             [
              0.8888888888888888,
              "#fdca26"
             ],
             [
              1,
              "#f0f921"
             ]
            ],
            "type": "histogram2dcontour"
           }
          ],
          "mesh3d": [
           {
            "colorbar": {
             "outlinewidth": 0,
             "ticks": ""
            },
            "type": "mesh3d"
           }
          ],
          "parcoords": [
           {
            "line": {
             "colorbar": {
              "outlinewidth": 0,
              "ticks": ""
             }
            },
            "type": "parcoords"
           }
          ],
          "pie": [
           {
            "automargin": true,
            "type": "pie"
           }
          ],
          "scatter": [
           {
            "fillpattern": {
             "fillmode": "overlay",
             "size": 10,
             "solidity": 0.2
            },
            "type": "scatter"
           }
          ],
          "scatter3d": [
           {
            "line": {
             "colorbar": {
              "outlinewidth": 0,
              "ticks": ""
             }
            },
            "marker": {
             "colorbar": {
              "outlinewidth": 0,
              "ticks": ""
             }
            },
            "type": "scatter3d"
           }
          ],
          "scattercarpet": [
           {
            "marker": {
             "colorbar": {
              "outlinewidth": 0,
              "ticks": ""
             }
            },
            "type": "scattercarpet"
           }
          ],
          "scattergeo": [
           {
            "marker": {
             "colorbar": {
              "outlinewidth": 0,
              "ticks": ""
             }
            },
            "type": "scattergeo"
           }
          ],
          "scattergl": [
           {
            "marker": {
             "colorbar": {
              "outlinewidth": 0,
              "ticks": ""
             }
            },
            "type": "scattergl"
           }
          ],
          "scattermapbox": [
           {
            "marker": {
             "colorbar": {
              "outlinewidth": 0,
              "ticks": ""
             }
            },
            "type": "scattermapbox"
           }
          ],
          "scatterpolar": [
           {
            "marker": {
             "colorbar": {
              "outlinewidth": 0,
              "ticks": ""
             }
            },
            "type": "scatterpolar"
           }
          ],
          "scatterpolargl": [
           {
            "marker": {
             "colorbar": {
              "outlinewidth": 0,
              "ticks": ""
             }
            },
            "type": "scatterpolargl"
           }
          ],
          "scatterternary": [
           {
            "marker": {
             "colorbar": {
              "outlinewidth": 0,
              "ticks": ""
             }
            },
            "type": "scatterternary"
           }
          ],
          "surface": [
           {
            "colorbar": {
             "outlinewidth": 0,
             "ticks": ""
            },
            "colorscale": [
             [
              0,
              "#0d0887"
             ],
             [
              0.1111111111111111,
              "#46039f"
             ],
             [
              0.2222222222222222,
              "#7201a8"
             ],
             [
              0.3333333333333333,
              "#9c179e"
             ],
             [
              0.4444444444444444,
              "#bd3786"
             ],
             [
              0.5555555555555556,
              "#d8576b"
             ],
             [
              0.6666666666666666,
              "#ed7953"
             ],
             [
              0.7777777777777778,
              "#fb9f3a"
             ],
             [
              0.8888888888888888,
              "#fdca26"
             ],
             [
              1,
              "#f0f921"
             ]
            ],
            "type": "surface"
           }
          ],
          "table": [
           {
            "cells": {
             "fill": {
              "color": "#EBF0F8"
             },
             "line": {
              "color": "white"
             }
            },
            "header": {
             "fill": {
              "color": "#C8D4E3"
             },
             "line": {
              "color": "white"
             }
            },
            "type": "table"
           }
          ]
         },
         "layout": {
          "annotationdefaults": {
           "arrowcolor": "#2a3f5f",
           "arrowhead": 0,
           "arrowwidth": 1
          },
          "autotypenumbers": "strict",
          "coloraxis": {
           "colorbar": {
            "outlinewidth": 0,
            "ticks": ""
           }
          },
          "colorscale": {
           "diverging": [
            [
             0,
             "#8e0152"
            ],
            [
             0.1,
             "#c51b7d"
            ],
            [
             0.2,
             "#de77ae"
            ],
            [
             0.3,
             "#f1b6da"
            ],
            [
             0.4,
             "#fde0ef"
            ],
            [
             0.5,
             "#f7f7f7"
            ],
            [
             0.6,
             "#e6f5d0"
            ],
            [
             0.7,
             "#b8e186"
            ],
            [
             0.8,
             "#7fbc41"
            ],
            [
             0.9,
             "#4d9221"
            ],
            [
             1,
             "#276419"
            ]
           ],
           "sequential": [
            [
             0,
             "#0d0887"
            ],
            [
             0.1111111111111111,
             "#46039f"
            ],
            [
             0.2222222222222222,
             "#7201a8"
            ],
            [
             0.3333333333333333,
             "#9c179e"
            ],
            [
             0.4444444444444444,
             "#bd3786"
            ],
            [
             0.5555555555555556,
             "#d8576b"
            ],
            [
             0.6666666666666666,
             "#ed7953"
            ],
            [
             0.7777777777777778,
             "#fb9f3a"
            ],
            [
             0.8888888888888888,
             "#fdca26"
            ],
            [
             1,
             "#f0f921"
            ]
           ],
           "sequentialminus": [
            [
             0,
             "#0d0887"
            ],
            [
             0.1111111111111111,
             "#46039f"
            ],
            [
             0.2222222222222222,
             "#7201a8"
            ],
            [
             0.3333333333333333,
             "#9c179e"
            ],
            [
             0.4444444444444444,
             "#bd3786"
            ],
            [
             0.5555555555555556,
             "#d8576b"
            ],
            [
             0.6666666666666666,
             "#ed7953"
            ],
            [
             0.7777777777777778,
             "#fb9f3a"
            ],
            [
             0.8888888888888888,
             "#fdca26"
            ],
            [
             1,
             "#f0f921"
            ]
           ]
          },
          "colorway": [
           "#636efa",
           "#EF553B",
           "#00cc96",
           "#ab63fa",
           "#FFA15A",
           "#19d3f3",
           "#FF6692",
           "#B6E880",
           "#FF97FF",
           "#FECB52"
          ],
          "font": {
           "color": "#2a3f5f"
          },
          "geo": {
           "bgcolor": "white",
           "lakecolor": "white",
           "landcolor": "#E5ECF6",
           "showlakes": true,
           "showland": true,
           "subunitcolor": "white"
          },
          "hoverlabel": {
           "align": "left"
          },
          "hovermode": "closest",
          "mapbox": {
           "style": "light"
          },
          "paper_bgcolor": "white",
          "plot_bgcolor": "#E5ECF6",
          "polar": {
           "angularaxis": {
            "gridcolor": "white",
            "linecolor": "white",
            "ticks": ""
           },
           "bgcolor": "#E5ECF6",
           "radialaxis": {
            "gridcolor": "white",
            "linecolor": "white",
            "ticks": ""
           }
          },
          "scene": {
           "xaxis": {
            "backgroundcolor": "#E5ECF6",
            "gridcolor": "white",
            "gridwidth": 2,
            "linecolor": "white",
            "showbackground": true,
            "ticks": "",
            "zerolinecolor": "white"
           },
           "yaxis": {
            "backgroundcolor": "#E5ECF6",
            "gridcolor": "white",
            "gridwidth": 2,
            "linecolor": "white",
            "showbackground": true,
            "ticks": "",
            "zerolinecolor": "white"
           },
           "zaxis": {
            "backgroundcolor": "#E5ECF6",
            "gridcolor": "white",
            "gridwidth": 2,
            "linecolor": "white",
            "showbackground": true,
            "ticks": "",
            "zerolinecolor": "white"
           }
          },
          "shapedefaults": {
           "line": {
            "color": "#2a3f5f"
           }
          },
          "ternary": {
           "aaxis": {
            "gridcolor": "white",
            "linecolor": "white",
            "ticks": ""
           },
           "baxis": {
            "gridcolor": "white",
            "linecolor": "white",
            "ticks": ""
           },
           "bgcolor": "#E5ECF6",
           "caxis": {
            "gridcolor": "white",
            "linecolor": "white",
            "ticks": ""
           }
          },
          "title": {
           "x": 0.05
          },
          "xaxis": {
           "automargin": true,
           "gridcolor": "white",
           "linecolor": "white",
           "ticks": "",
           "title": {
            "standoff": 15
           },
           "zerolinecolor": "white",
           "zerolinewidth": 2
          },
          "yaxis": {
           "automargin": true,
           "gridcolor": "white",
           "linecolor": "white",
           "ticks": "",
           "title": {
            "standoff": 15
           },
           "zerolinecolor": "white",
           "zerolinewidth": 2
          }
         }
        },
        "title": {
         "text": "Cramer's V Correlation Heatmap - Categorical and Churn variables"
        },
        "width": 800,
        "xaxis": {
         "anchor": "y",
         "constrain": "domain",
         "domain": [
          0,
          1
         ],
         "scaleanchor": "y"
        },
        "yaxis": {
         "anchor": "x",
         "autorange": "reversed",
         "constrain": "domain",
         "domain": [
          0,
          1
         ]
        }
       }
      }
     },
     "metadata": {},
     "output_type": "display_data"
    }
   ],
   "source": [
    "from dython.nominal import associations\n",
    "import matplotlib.pyplot as plt\n",
    "\n",
    "plt.ioff() # to not show the default matplotlib plot from the associations function\n",
    "excluded = ['Tenure','MonthlyCharges']\n",
    "string_columns = [ col for col in X_train.columns if col not in excluded]\n",
    "df_categorical = X_train[string_columns].assign(Churn=y_train)\n",
    "corr_measures = associations(df_categorical, nominal_columns='all', plot = False)\n",
    "fig = px.imshow(corr_measures['corr'],color_continuous_scale=\"RdBu\",text_auto=True)\n",
    "fig.update_layout(title=\"Cramer's V Correlation Heatmap - Categorical and Churn variables\", width=800, height=700)\n",
    "fig.show()"
   ]
  },
  {
   "attachments": {},
   "cell_type": "markdown",
   "metadata": {},
   "source": [
    "### Feature Engineering & Selection"
   ]
  },
  {
   "cell_type": "code",
   "execution_count": 45,
   "metadata": {},
   "outputs": [
    {
     "name": "stdout",
     "output_type": "stream",
     "text": [
      "Variables to be removed based on low-variance: Index(['MonthlyCharges'], dtype='object')\n"
     ]
    }
   ],
   "source": [
    "# Low-Variance Feature Selection\n",
    "from sklearn.feature_selection import VarianceThreshold\n",
    "\n",
    "selector = VarianceThreshold(threshold = 0.1)\n",
    "selector.fit(X_train)\n",
    "\n",
    "# Get columns to keep and remove\n",
    "cols_to_keep = X_train.columns[selector.get_support()]\n",
    "cols_to_remove = X_train.columns[~selector.get_support()]\n",
    "\n",
    "# Remove low-variance features from the dataset\n",
    "# df_enc = df_enc[cols_to_keep]\n",
    "\n",
    "print(f\"Variables to be removed based on low-variance: {cols_to_remove}\")"
   ]
  },
  {
   "attachments": {},
   "cell_type": "markdown",
   "metadata": {},
   "source": [
    "### Data Balancing"
   ]
  },
  {
   "cell_type": "code",
   "execution_count": 46,
   "metadata": {},
   "outputs": [
    {
     "name": "stdout",
     "output_type": "stream",
     "text": [
      "Proportion of Churn values in original data-set: 1869 out of 7043\n",
      "With Churned amount: 26.5 %\n"
     ]
    }
   ],
   "source": [
    "print(f\"Proportion of Churn values in original data-set: {(df_enc['Churn'] == 1).sum()} out of {len(df_enc['Churn'])}\")\n",
    "print(\"With Churned amount:\", round((df_enc['Churn'] == 1).sum() / len(df_enc['Churn']), 3) * 100, \"%\")  "
   ]
  },
  {
   "cell_type": "code",
   "execution_count": 59,
   "metadata": {},
   "outputs": [],
   "source": [
    "from imblearn.under_sampling import RandomUnderSampler\n",
    "\n",
    "# Apply RandomUnderSampler to balance the classes\n",
    "rus = RandomUnderSampler(sampling_strategy = 1)\n",
    "X_res, y_res = rus.fit_resample(X_train, y_train)\n",
    "\n",
    "# Combine the resampled features and target into a new DataFrame\n",
    "df_balanced_rus = [X_res, y_res]"
   ]
  },
  {
   "cell_type": "code",
   "execution_count": 60,
   "metadata": {},
   "outputs": [],
   "source": [
    "from imblearn.over_sampling import RandomOverSampler\n",
    "\n",
    "# Apply RandomUnderSampler to balance the classes\n",
    "ros = RandomOverSampler(sampling_strategy = 1)\n",
    "X_res, y_res = rus.fit_resample(X_train, y_train)\n",
    "\n",
    "# Combine the resampled features and target into a new DataFrame\n",
    "df_balanced_ros = [X_res, y_res]\n"
   ]
  },
  {
   "cell_type": "code",
   "execution_count": 61,
   "metadata": {},
   "outputs": [],
   "source": [
    "from imblearn.over_sampling import SMOTE\n",
    "\n",
    "sm = SMOTE(sampling_strategy = 1)\n",
    "\n",
    "# Apply SMOTE to balance the classes\n",
    "X_res, y_res = sm.fit_resample(X_train, y_train)\n",
    "\n",
    "# Combine the resampled features and target into a new DataFrame\n",
    "df_balanced_smote = [X_res, y_res]"
   ]
  },
  {
   "cell_type": "code",
   "execution_count": 62,
   "metadata": {},
   "outputs": [
    {
     "data": {
      "image/png": "[encoded data removed]",
      "text/plain": [
       "<Figure size 640x480 with 1 Axes>"
      ]
     },
     "metadata": {},
     "output_type": "display_data"
    }
   ],
   "source": [
    "from sklearn.metrics import roc_curve, auc\n",
    "import matplotlib.pyplot as plt\n",
    "from sklearn.linear_model import LogisticRegression\n",
    "\n",
    "# X_train and y_train are your training data\n",
    "# instantiate LogisticRegression classifier with desired hyperparameters\n",
    "clf = LogisticRegression()\n",
    "\n",
    "# balanced_datasets is a list of balanced datasets (X_train, y_train)\n",
    "# clf is your classifier object\n",
    "# clf_name is the name of your classifier (for legend)\n",
    "names = [\"Random Under Sampler\", \"Random Over Sampler\", \"SMOTE\"]\n",
    "for i, data in enumerate([df_balanced_rus, df_balanced_ros, df_balanced_smote]):\n",
    "    clf.fit(data[0], data[1])\n",
    "    y_pred = clf.predict_proba(X_test)[:, 1]\n",
    "    fpr, tpr, _ = roc_curve(y_test, y_pred)\n",
    "    roc_auc = auc(fpr, tpr)\n",
    "    plt.plot(fpr, tpr, label='%s (AUC = %0.2f)' % (names[i], roc_auc))\n",
    "\n",
    "plt.plot([0, 1], [0, 1], 'k--')\n",
    "plt.xlabel('False Positive Rate')\n",
    "plt.ylabel('True Positive Rate')\n",
    "plt.title('Logistic Regression - Receiver Operating Characteristic')\n",
    "plt.legend(loc=\"lower right\")\n",
    "plt.show()"
   ]
  },
  {
   "cell_type": "code",
   "execution_count": 63,
   "metadata": {},
   "outputs": [
    {
     "data": {
      "image/png": "[encoded data removed]",
      "text/plain": [
       "<Figure size 640x480 with 1 Axes>"
      ]
     },
     "metadata": {},
     "output_type": "display_data"
    }
   ],
   "source": [
    "from sklearn.metrics import roc_curve, auc\n",
    "import matplotlib.pyplot as plt\n",
    "from sklearn.linear_model import LogisticRegression\n",
    "from sklearn.tree import DecisionTreeClassifier\n",
    "\n",
    "# X_train and y_train are your training data\n",
    "# instantiate LogisticRegression classifier with desired hyperparameters\n",
    "clf = DecisionTreeClassifier()\n",
    "\n",
    "# balanced_datasets is a list of balanced datasets (X_train, y_train)\n",
    "# clf is your classifier object\n",
    "# clf_name is the name of your classifier (for legend)\n",
    "names = [\"Random Under Sampler\", \"Random Over Sampler\", \"SMOTE\"]\n",
    "for i, data in enumerate([df_balanced_rus, df_balanced_ros, df_balanced_smote]):\n",
    "    clf.fit(data[0], data[1])\n",
    "    y_pred = clf.predict_proba(X_test)[:, 1]\n",
    "    fpr, tpr, _ = roc_curve(y_test, y_pred)\n",
    "    roc_auc = auc(fpr, tpr)\n",
    "    plt.plot(fpr, tpr, label='%s (AUC = %0.2f)' % (names[i], roc_auc))\n",
    "\n",
    "plt.plot([0, 1], [0, 1], 'k--')\n",
    "plt.xlabel('False Positive Rate')\n",
    "plt.ylabel('True Positive Rate')\n",
    "plt.title('Decision Tree - Receiver Operating Characteristic')\n",
    "plt.legend(loc=\"lower right\")\n",
    "plt.show()"
   ]
  },
  {
   "cell_type": "code",
   "execution_count": 65,
   "metadata": {},
   "outputs": [
    {
     "data": {
      "image/png": "[encoded data removed]",
      "text/plain": [
       "<Figure size 640x480 with 1 Axes>"
      ]
     },
     "metadata": {},
     "output_type": "display_data"
    }
   ],
   "source": [
    "from sklearn.metrics import roc_curve, auc\n",
    "import matplotlib.pyplot as plt\n",
    "from sklearn import svm\n",
    "\n",
    "# X_train and y_train are your training data\n",
    "# instantiate LogisticRegression classifier with desired hyperparameters\n",
    "clf = svm.SVC(probability=True)\n",
    "\n",
    "# balanced_datasets is a list of balanced datasets (X_train, y_train)\n",
    "# clf is your classifier object\n",
    "# clf_name is the name of your classifier (for legend)\n",
    "names = [\"Random Under Sampler\", \"Random Over Sampler\", \"SMOTE\"]\n",
    "for i, data in enumerate([df_balanced_rus, df_balanced_ros, df_balanced_smote]):\n",
    "    clf.fit(data[0], data[1])\n",
    "    y_pred = clf.predict_proba(X_test)[:, 1]\n",
    "    fpr, tpr, _ = roc_curve(y_test, y_pred)\n",
    "    roc_auc = auc(fpr, tpr)\n",
    "    plt.plot(fpr, tpr, label='%s (AUC = %0.2f)' % (names[i], roc_auc))\n",
    "\n",
    "plt.plot([0, 1], [0, 1], 'k--')\n",
    "plt.xlabel('False Positive Rate')\n",
    "plt.ylabel('True Positive Rate')\n",
    "plt.title('SVM - Receiver Operating Characteristic')\n",
    "plt.legend(loc=\"lower right\")\n",
    "plt.show()"
   ]
  },
  {
   "cell_type": "code",
   "execution_count": 67,
   "metadata": {},
   "outputs": [
    {
     "name": "stdout",
     "output_type": "stream",
     "text": [
      "Classification Report : \n",
      "\n",
      "              precision    recall  f1-score   support\n",
      "\n",
      "           0       0.74      1.00      0.85      1046\n",
      "           1       0.00      0.00      0.00       363\n",
      "\n",
      "    accuracy                           0.74      1409\n",
      "   macro avg       0.37      0.50      0.43      1409\n",
      "weighted avg       0.55      0.74      0.63      1409\n",
      "\n"
     ]
    },
    {
     "data": {
      "application/vnd.plotly.v1+json": {
       "config": {
        "plotlyServerURL": "https://plot.ly"
       },
       "data": [
        {
         "coloraxis": "coloraxis",
         "hovertemplate": "Predicted: %{x}<br>Actual: %{y}<br>Count: %{z}<extra></extra>",
         "name": "0",
         "showscale": true,
         "texttemplate": "%{z}",
         "type": "heatmap",
         "x": [
          "Predicted Negative",
          "Predicted Positive"
         ],
         "xaxis": "x",
         "y": [
          "Actual Negative",
          "Actual Positive"
         ],
         "yaxis": "y",
         "z": [
          [
           1046,
           0
          ],
          [
           363,
           0
          ]
         ]
        }
       ],
       "layout": {
        "coloraxis": {
         "colorbar": {
          "title": {
           "text": "Count"
          }
         },
         "colorscale": [
          [
           0,
           "rgb(247,251,255)"
          ],
          [
           0.125,
           "rgb(222,235,247)"
          ],
          [
           0.25,
           "rgb(198,219,239)"
          ],
          [
           0.375,
           "rgb(158,202,225)"
          ],
          [
           0.5,
           "rgb(107,174,214)"
          ],
          [
           0.625,
           "rgb(66,146,198)"
          ],
          [
           0.75,
           "rgb(33,113,181)"
          ],
          [
           0.875,
           "rgb(8,81,156)"
          ],
          [
           1,
           "rgb(8,48,107)"
          ]
         ]
        },
        "margin": {
         "t": 60
        },
        "template": {
         "data": {
          "bar": [
           {
            "error_x": {
             "color": "#2a3f5f"
            },
            "error_y": {
             "color": "#2a3f5f"
            },
            "marker": {
             "line": {
              "color": "#E5ECF6",
              "width": 0.5
             },
             "pattern": {
              "fillmode": "overlay",
              "size": 10,
              "solidity": 0.2
             }
            },
            "type": "bar"
           }
          ],
          "barpolar": [
           {
            "marker": {
             "line": {
              "color": "#E5ECF6",
              "width": 0.5
             },
             "pattern": {
              "fillmode": "overlay",
              "size": 10,
              "solidity": 0.2
             }
            },
            "type": "barpolar"
           }
          ],
          "carpet": [
           {
            "aaxis": {
             "endlinecolor": "#2a3f5f",
             "gridcolor": "white",
             "linecolor": "white",
             "minorgridcolor": "white",
             "startlinecolor": "#2a3f5f"
            },
            "baxis": {
             "endlinecolor": "#2a3f5f",
             "gridcolor": "white",
             "linecolor": "white",
             "minorgridcolor": "white",
             "startlinecolor": "#2a3f5f"
            },
            "type": "carpet"
           }
          ],
          "choropleth": [
           {
            "colorbar": {
             "outlinewidth": 0,
             "ticks": ""
            },
            "type": "choropleth"
           }
          ],
          "contour": [
           {
            "colorbar": {
             "outlinewidth": 0,
             "ticks": ""
            },
            "colorscale": [
             [
              0,
              "#0d0887"
             ],
             [
              0.1111111111111111,
              "#46039f"
             ],
             [
              0.2222222222222222,
              "#7201a8"
             ],
             [
              0.3333333333333333,
              "#9c179e"
             ],
             [
              0.4444444444444444,
              "#bd3786"
             ],
             [
              0.5555555555555556,
              "#d8576b"
             ],
             [
              0.6666666666666666,
              "#ed7953"
             ],
             [
              0.7777777777777778,
              "#fb9f3a"
             ],
             [
              0.8888888888888888,
              "#fdca26"
             ],
             [
              1,
              "#f0f921"
             ]
            ],
            "type": "contour"
           }
          ],
          "contourcarpet": [
           {
            "colorbar": {
             "outlinewidth": 0,
             "ticks": ""
            },
            "type": "contourcarpet"
           }
          ],
          "heatmap": [
           {
            "colorbar": {
             "outlinewidth": 0,
             "ticks": ""
            },
            "colorscale": [
             [
              0,
              "#0d0887"
             ],
             [
              0.1111111111111111,
              "#46039f"
             ],
             [
              0.2222222222222222,
              "#7201a8"
             ],
             [
              0.3333333333333333,
              "#9c179e"
             ],
             [
              0.4444444444444444,
              "#bd3786"
             ],
             [
              0.5555555555555556,
              "#d8576b"
             ],
             [
              0.6666666666666666,
              "#ed7953"
             ],
             [
              0.7777777777777778,
              "#fb9f3a"
             ],
             [
              0.8888888888888888,
              "#fdca26"
             ],
             [
              1,
              "#f0f921"
             ]
            ],
            "type": "heatmap"
           }
          ],
          "heatmapgl": [
           {
            "colorbar": {
             "outlinewidth": 0,
             "ticks": ""
            },
            "colorscale": [
             [
              0,
              "#0d0887"
             ],
             [
              0.1111111111111111,
              "#46039f"
             ],
             [
              0.2222222222222222,
              "#7201a8"
             ],
             [
              0.3333333333333333,
              "#9c179e"
             ],
             [
              0.4444444444444444,
              "#bd3786"
             ],
             [
              0.5555555555555556,
              "#d8576b"
             ],
             [
              0.6666666666666666,
              "#ed7953"
             ],
             [
              0.7777777777777778,
              "#fb9f3a"
             ],
             [
              0.8888888888888888,
              "#fdca26"
             ],
             [
              1,
              "#f0f921"
             ]
            ],
            "type": "heatmapgl"
           }
          ],
          "histogram": [
           {
            "marker": {
             "pattern": {
              "fillmode": "overlay",
              "size": 10,
              "solidity": 0.2
             }
            },
            "type": "histogram"
           }
          ],
          "histogram2d": [
           {
            "colorbar": {
             "outlinewidth": 0,
             "ticks": ""
            },
            "colorscale": [
             [
              0,
              "#0d0887"
             ],
             [
              0.1111111111111111,
              "#46039f"
             ],
             [
              0.2222222222222222,
              "#7201a8"
             ],
             [
              0.3333333333333333,
              "#9c179e"
             ],
             [
              0.4444444444444444,
              "#bd3786"
             ],
             [
              0.5555555555555556,
              "#d8576b"
             ],
             [
              0.6666666666666666,
              "#ed7953"
             ],
             [
              0.7777777777777778,
              "#fb9f3a"
             ],
             [
              0.8888888888888888,
              "#fdca26"
             ],
             [
              1,
              "#f0f921"
             ]
            ],
            "type": "histogram2d"
           }
          ],
          "histogram2dcontour": [
           {
            "colorbar": {
             "outlinewidth": 0,
             "ticks": ""
            },
            "colorscale": [
             [
              0,
              "#0d0887"
             ],
             [
              0.1111111111111111,
              "#46039f"
             ],
             [
              0.2222222222222222,
              "#7201a8"
             ],
             [
              0.3333333333333333,
              "#9c179e"
             ],
             [
              0.4444444444444444,
              "#bd3786"
             ],
             [
              0.5555555555555556,
              "#d8576b"
             ],
             [
              0.6666666666666666,
              "#ed7953"
             ],
             [
              0.7777777777777778,
              "#fb9f3a"
             ],
             [
              0.8888888888888888,
              "#fdca26"
             ],
             [
              1,
              "#f0f921"
             ]
            ],
            "type": "histogram2dcontour"
           }
          ],
          "mesh3d": [
           {
            "colorbar": {
             "outlinewidth": 0,
             "ticks": ""
            },
            "type": "mesh3d"
           }
          ],
          "parcoords": [
           {
            "line": {
             "colorbar": {
              "outlinewidth": 0,
              "ticks": ""
             }
            },
            "type": "parcoords"
           }
          ],
          "pie": [
           {
            "automargin": true,
            "type": "pie"
           }
          ],
          "scatter": [
           {
            "fillpattern": {
             "fillmode": "overlay",
             "size": 10,
             "solidity": 0.2
            },
            "type": "scatter"
           }
          ],
          "scatter3d": [
           {
            "line": {
             "colorbar": {
              "outlinewidth": 0,
              "ticks": ""
             }
            },
            "marker": {
             "colorbar": {
              "outlinewidth": 0,
              "ticks": ""
             }
            },
            "type": "scatter3d"
           }
          ],
          "scattercarpet": [
           {
            "marker": {
             "colorbar": {
              "outlinewidth": 0,
              "ticks": ""
             }
            },
            "type": "scattercarpet"
           }
          ],
          "scattergeo": [
           {
            "marker": {
             "colorbar": {
              "outlinewidth": 0,
              "ticks": ""
             }
            },
            "type": "scattergeo"
           }
          ],
          "scattergl": [
           {
            "marker": {
             "colorbar": {
              "outlinewidth": 0,
              "ticks": ""
             }
            },
            "type": "scattergl"
           }
          ],
          "scattermapbox": [
           {
            "marker": {
             "colorbar": {
              "outlinewidth": 0,
              "ticks": ""
             }
            },
            "type": "scattermapbox"
           }
          ],
          "scatterpolar": [
           {
            "marker": {
             "colorbar": {
              "outlinewidth": 0,
              "ticks": ""
             }
            },
            "type": "scatterpolar"
           }
          ],
          "scatterpolargl": [
           {
            "marker": {
             "colorbar": {
              "outlinewidth": 0,
              "ticks": ""
             }
            },
            "type": "scatterpolargl"
           }
          ],
          "scatterternary": [
           {
            "marker": {
             "colorbar": {
              "outlinewidth": 0,
              "ticks": ""
             }
            },
            "type": "scatterternary"
           }
          ],
          "surface": [
           {
            "colorbar": {
             "outlinewidth": 0,
             "ticks": ""
            },
            "colorscale": [
             [
              0,
              "#0d0887"
             ],
             [
              0.1111111111111111,
              "#46039f"
             ],
             [
              0.2222222222222222,
              "#7201a8"
             ],
             [
              0.3333333333333333,
              "#9c179e"
             ],
             [
              0.4444444444444444,
              "#bd3786"
             ],
             [
              0.5555555555555556,
              "#d8576b"
             ],
             [
              0.6666666666666666,
              "#ed7953"
             ],
             [
              0.7777777777777778,
              "#fb9f3a"
             ],
             [
              0.8888888888888888,
              "#fdca26"
             ],
             [
              1,
              "#f0f921"
             ]
            ],
            "type": "surface"
           }
          ],
          "table": [
           {
            "cells": {
             "fill": {
              "color": "#EBF0F8"
             },
             "line": {
              "color": "white"
             }
            },
            "header": {
             "fill": {
              "color": "#C8D4E3"
             },
             "line": {
              "color": "white"
             }
            },
            "type": "table"
           }
          ]
         },
         "layout": {
          "annotationdefaults": {
           "arrowcolor": "#2a3f5f",
           "arrowhead": 0,
           "arrowwidth": 1
          },
          "autotypenumbers": "strict",
          "coloraxis": {
           "colorbar": {
            "outlinewidth": 0,
            "ticks": ""
           }
          },
          "colorscale": {
           "diverging": [
            [
             0,
             "#8e0152"
            ],
            [
             0.1,
             "#c51b7d"
            ],
            [
             0.2,
             "#de77ae"
            ],
            [
             0.3,
             "#f1b6da"
            ],
            [
             0.4,
             "#fde0ef"
            ],
            [
             0.5,
             "#f7f7f7"
            ],
            [
             0.6,
             "#e6f5d0"
            ],
            [
             0.7,
             "#b8e186"
            ],
            [
             0.8,
             "#7fbc41"
            ],
            [
             0.9,
             "#4d9221"
            ],
            [
             1,
             "#276419"
            ]
           ],
           "sequential": [
            [
             0,
             "#0d0887"
            ],
            [
             0.1111111111111111,
             "#46039f"
            ],
            [
             0.2222222222222222,
             "#7201a8"
            ],
            [
             0.3333333333333333,
             "#9c179e"
            ],
            [
             0.4444444444444444,
             "#bd3786"
            ],
            [
             0.5555555555555556,
             "#d8576b"
            ],
            [
             0.6666666666666666,
             "#ed7953"
            ],
            [
             0.7777777777777778,
             "#fb9f3a"
            ],
            [
             0.8888888888888888,
             "#fdca26"
            ],
            [
             1,
             "#f0f921"
            ]
           ],
           "sequentialminus": [
            [
             0,
             "#0d0887"
            ],
            [
             0.1111111111111111,
             "#46039f"
            ],
            [
             0.2222222222222222,
             "#7201a8"
            ],
            [
             0.3333333333333333,
             "#9c179e"
            ],
            [
             0.4444444444444444,
             "#bd3786"
            ],
            [
             0.5555555555555556,
             "#d8576b"
            ],
            [
             0.6666666666666666,
             "#ed7953"
            ],
            [
             0.7777777777777778,
             "#fb9f3a"
            ],
            [
             0.8888888888888888,
             "#fdca26"
            ],
            [
             1,
             "#f0f921"
            ]
           ]
          },
          "colorway": [
           "#636efa",
           "#EF553B",
           "#00cc96",
           "#ab63fa",
           "#FFA15A",
           "#19d3f3",
           "#FF6692",
           "#B6E880",
           "#FF97FF",
           "#FECB52"
          ],
          "font": {
           "color": "#2a3f5f"
          },
          "geo": {
           "bgcolor": "white",
           "lakecolor": "white",
           "landcolor": "#E5ECF6",
           "showlakes": true,
           "showland": true,
           "subunitcolor": "white"
          },
          "hoverlabel": {
           "align": "left"
          },
          "hovermode": "closest",
          "mapbox": {
           "style": "light"
          },
          "paper_bgcolor": "white",
          "plot_bgcolor": "#E5ECF6",
          "polar": {
           "angularaxis": {
            "gridcolor": "white",
            "linecolor": "white",
            "ticks": ""
           },
           "bgcolor": "#E5ECF6",
           "radialaxis": {
            "gridcolor": "white",
            "linecolor": "white",
            "ticks": ""
           }
          },
          "scene": {
           "xaxis": {
            "backgroundcolor": "#E5ECF6",
            "gridcolor": "white",
            "gridwidth": 2,
            "linecolor": "white",
            "showbackground": true,
            "ticks": "",
            "zerolinecolor": "white"
           },
           "yaxis": {
            "backgroundcolor": "#E5ECF6",
            "gridcolor": "white",
            "gridwidth": 2,
            "linecolor": "white",
            "showbackground": true,
            "ticks": "",
            "zerolinecolor": "white"
           },
           "zaxis": {
            "backgroundcolor": "#E5ECF6",
            "gridcolor": "white",
            "gridwidth": 2,
            "linecolor": "white",
            "showbackground": true,
            "ticks": "",
            "zerolinecolor": "white"
           }
          },
          "shapedefaults": {
           "line": {
            "color": "#2a3f5f"
           }
          },
          "ternary": {
           "aaxis": {
            "gridcolor": "white",
            "linecolor": "white",
            "ticks": ""
           },
           "baxis": {
            "gridcolor": "white",
            "linecolor": "white",
            "ticks": ""
           },
           "bgcolor": "#E5ECF6",
           "caxis": {
            "gridcolor": "white",
            "linecolor": "white",
            "ticks": ""
           }
          },
          "title": {
           "x": 0.05
          },
          "xaxis": {
           "automargin": true,
           "gridcolor": "white",
           "linecolor": "white",
           "ticks": "",
           "title": {
            "standoff": 15
           },
           "zerolinecolor": "white",
           "zerolinewidth": 2
          },
          "yaxis": {
           "automargin": true,
           "gridcolor": "white",
           "linecolor": "white",
           "ticks": "",
           "title": {
            "standoff": 15
           },
           "zerolinecolor": "white",
           "zerolinewidth": 2
          }
         }
        },
        "title": {
         "text": "Confusion Matrix - Baseline"
        },
        "xaxis": {
         "anchor": "y",
         "constrain": "domain",
         "domain": [
          0,
          1
         ],
         "scaleanchor": "y",
         "title": {
          "text": "Predicted"
         }
        },
        "yaxis": {
         "anchor": "x",
         "autorange": "reversed",
         "constrain": "domain",
         "domain": [
          0,
          1
         ],
         "title": {
          "text": "Actual"
         }
        }
       }
      }
     },
     "metadata": {},
     "output_type": "display_data"
    }
   ],
   "source": [
    "from sklearn.metrics import classification_report\n",
    "from sklearn.metrics import confusion_matrix\n",
    "import warnings\n",
    "warnings.filterwarnings(\"ignore\")\n",
    "\n",
    "majority_class = y_train.value_counts().idxmax()\n",
    "X_val['target'] = majority_class\n",
    "y_true = y_val\n",
    "y_pred = X_val['target']\n",
    "\n",
    "print(f\"Classification Report : \\n\\n{classification_report(y_val, y_pred)}\")\n",
    "\n",
    "cm = confusion_matrix(y_true, y_pred)\n",
    "tn, fp, fn, tp = confusion_matrix(y_true, y_pred).ravel()\n",
    "cm_df = pd.DataFrame(cm, columns=['Predicted Negative', 'Predicted Positive'], index=['Actual Negative', 'Actual Positive'])\n",
    "\n",
    "fig = px.imshow(cm_df, labels=dict(x=\"Predicted\", y=\"Actual\", color=\"Count\"),\n",
    "                x=['Predicted Negative', 'Predicted Positive'],\n",
    "                y=['Actual Negative', 'Actual Positive'],\n",
    "                color_continuous_scale=px.colors.sequential.Blues,text_auto=True)\n",
    "\n",
    "fig.update_traces(showscale=True) \n",
    "fig.update_layout(title='Confusion Matrix - Baseline')\n",
    "fig.show()"
   ]
  },
  {
   "cell_type": "code",
   "execution_count": 68,
   "metadata": {},
   "outputs": [
    {
     "data": {
      "application/vnd.plotly.v1+json": {
       "config": {
        "plotlyServerURL": "https://plot.ly"
       },
       "data": [
        {
         "hovertemplate": "False Positive Rate=%{x}<br>True Positive Rate=%{y}<extra></extra>",
         "legendgroup": "",
         "line": {
          "color": "#636efa",
          "dash": "solid"
         },
         "marker": {
          "symbol": "circle"
         },
         "mode": "lines",
         "name": "",
         "orientation": "v",
         "showlegend": false,
         "type": "scatter",
         "x": [
          0,
          1
         ],
         "xaxis": "x",
         "y": [
          0,
          1
         ],
         "yaxis": "y"
        }
       ],
       "layout": {
        "height": 450,
        "legend": {
         "tracegroupgap": 0
        },
        "shapes": [
         {
          "line": {
           "dash": "dash"
          },
          "type": "line",
          "x0": 0,
          "x1": 1,
          "y0": 0,
          "y1": 1
         }
        ],
        "template": {
         "data": {
          "bar": [
           {
            "error_x": {
             "color": "#2a3f5f"
            },
            "error_y": {
             "color": "#2a3f5f"
            },
            "marker": {
             "line": {
              "color": "#E5ECF6",
              "width": 0.5
             },
             "pattern": {
              "fillmode": "overlay",
              "size": 10,
              "solidity": 0.2
             }
            },
            "type": "bar"
           }
          ],
          "barpolar": [
           {
            "marker": {
             "line": {
              "color": "#E5ECF6",
              "width": 0.5
             },
             "pattern": {
              "fillmode": "overlay",
              "size": 10,
              "solidity": 0.2
             }
            },
            "type": "barpolar"
           }
          ],
          "carpet": [
           {
            "aaxis": {
             "endlinecolor": "#2a3f5f",
             "gridcolor": "white",
             "linecolor": "white",
             "minorgridcolor": "white",
             "startlinecolor": "#2a3f5f"
            },
            "baxis": {
             "endlinecolor": "#2a3f5f",
             "gridcolor": "white",
             "linecolor": "white",
             "minorgridcolor": "white",
             "startlinecolor": "#2a3f5f"
            },
            "type": "carpet"
           }
          ],
          "choropleth": [
           {
            "colorbar": {
             "outlinewidth": 0,
             "ticks": ""
            },
            "type": "choropleth"
           }
          ],
          "contour": [
           {
            "colorbar": {
             "outlinewidth": 0,
             "ticks": ""
            },
            "colorscale": [
             [
              0,
              "#0d0887"
             ],
             [
              0.1111111111111111,
              "#46039f"
             ],
             [
              0.2222222222222222,
              "#7201a8"
             ],
             [
              0.3333333333333333,
              "#9c179e"
             ],
             [
              0.4444444444444444,
              "#bd3786"
             ],
             [
              0.5555555555555556,
              "#d8576b"
             ],
             [
              0.6666666666666666,
              "#ed7953"
             ],
             [
              0.7777777777777778,
              "#fb9f3a"
             ],
             [
              0.8888888888888888,
              "#fdca26"
             ],
             [
              1,
              "#f0f921"
             ]
            ],
            "type": "contour"
           }
          ],
          "contourcarpet": [
           {
            "colorbar": {
             "outlinewidth": 0,
             "ticks": ""
            },
            "type": "contourcarpet"
           }
          ],
          "heatmap": [
           {
            "colorbar": {
             "outlinewidth": 0,
             "ticks": ""
            },
            "colorscale": [
             [
              0,
              "#0d0887"
             ],
             [
              0.1111111111111111,
              "#46039f"
             ],
             [
              0.2222222222222222,
              "#7201a8"
             ],
             [
              0.3333333333333333,
              "#9c179e"
             ],
             [
              0.4444444444444444,
              "#bd3786"
             ],
             [
              0.5555555555555556,
              "#d8576b"
             ],
             [
              0.6666666666666666,
              "#ed7953"
             ],
             [
              0.7777777777777778,
              "#fb9f3a"
             ],
             [
              0.8888888888888888,
              "#fdca26"
             ],
             [
              1,
              "#f0f921"
             ]
            ],
            "type": "heatmap"
           }
          ],
          "heatmapgl": [
           {
            "colorbar": {
             "outlinewidth": 0,
             "ticks": ""
            },
            "colorscale": [
             [
              0,
              "#0d0887"
             ],
             [
              0.1111111111111111,
              "#46039f"
             ],
             [
              0.2222222222222222,
              "#7201a8"
             ],
             [
              0.3333333333333333,
              "#9c179e"
             ],
             [
              0.4444444444444444,
              "#bd3786"
             ],
             [
              0.5555555555555556,
              "#d8576b"
             ],
             [
              0.6666666666666666,
              "#ed7953"
             ],
             [
              0.7777777777777778,
              "#fb9f3a"
             ],
             [
              0.8888888888888888,
              "#fdca26"
             ],
             [
              1,
              "#f0f921"
             ]
            ],
            "type": "heatmapgl"
           }
          ],
          "histogram": [
           {
            "marker": {
             "pattern": {
              "fillmode": "overlay",
              "size": 10,
              "solidity": 0.2
             }
            },
            "type": "histogram"
           }
          ],
          "histogram2d": [
           {
            "colorbar": {
             "outlinewidth": 0,
             "ticks": ""
            },
            "colorscale": [
             [
              0,
              "#0d0887"
             ],
             [
              0.1111111111111111,
              "#46039f"
             ],
             [
              0.2222222222222222,
              "#7201a8"
             ],
             [
              0.3333333333333333,
              "#9c179e"
             ],
             [
              0.4444444444444444,
              "#bd3786"
             ],
             [
              0.5555555555555556,
              "#d8576b"
             ],
             [
              0.6666666666666666,
              "#ed7953"
             ],
             [
              0.7777777777777778,
              "#fb9f3a"
             ],
             [
              0.8888888888888888,
              "#fdca26"
             ],
             [
              1,
              "#f0f921"
             ]
            ],
            "type": "histogram2d"
           }
          ],
          "histogram2dcontour": [
           {
            "colorbar": {
             "outlinewidth": 0,
             "ticks": ""
            },
            "colorscale": [
             [
              0,
              "#0d0887"
             ],
             [
              0.1111111111111111,
              "#46039f"
             ],
             [
              0.2222222222222222,
              "#7201a8"
             ],
             [
              0.3333333333333333,
              "#9c179e"
             ],
             [
              0.4444444444444444,
              "#bd3786"
             ],
             [
              0.5555555555555556,
              "#d8576b"
             ],
             [
              0.6666666666666666,
              "#ed7953"
             ],
             [
              0.7777777777777778,
              "#fb9f3a"
             ],
             [
              0.8888888888888888,
              "#fdca26"
             ],
             [
              1,
              "#f0f921"
             ]
            ],
            "type": "histogram2dcontour"
           }
          ],
          "mesh3d": [
           {
            "colorbar": {
             "outlinewidth": 0,
             "ticks": ""
            },
            "type": "mesh3d"
           }
          ],
          "parcoords": [
           {
            "line": {
             "colorbar": {
              "outlinewidth": 0,
              "ticks": ""
             }
            },
            "type": "parcoords"
           }
          ],
          "pie": [
           {
            "automargin": true,
            "type": "pie"
           }
          ],
          "scatter": [
           {
            "fillpattern": {
             "fillmode": "overlay",
             "size": 10,
             "solidity": 0.2
            },
            "type": "scatter"
           }
          ],
          "scatter3d": [
           {
            "line": {
             "colorbar": {
              "outlinewidth": 0,
              "ticks": ""
             }
            },
            "marker": {
             "colorbar": {
              "outlinewidth": 0,
              "ticks": ""
             }
            },
            "type": "scatter3d"
           }
          ],
          "scattercarpet": [
           {
            "marker": {
             "colorbar": {
              "outlinewidth": 0,
              "ticks": ""
             }
            },
            "type": "scattercarpet"
           }
          ],
          "scattergeo": [
           {
            "marker": {
             "colorbar": {
              "outlinewidth": 0,
              "ticks": ""
             }
            },
            "type": "scattergeo"
           }
          ],
          "scattergl": [
           {
            "marker": {
             "colorbar": {
              "outlinewidth": 0,
              "ticks": ""
             }
            },
            "type": "scattergl"
           }
          ],
          "scattermapbox": [
           {
            "marker": {
             "colorbar": {
              "outlinewidth": 0,
              "ticks": ""
             }
            },
            "type": "scattermapbox"
           }
          ],
          "scatterpolar": [
           {
            "marker": {
             "colorbar": {
              "outlinewidth": 0,
              "ticks": ""
             }
            },
            "type": "scatterpolar"
           }
          ],
          "scatterpolargl": [
           {
            "marker": {
             "colorbar": {
              "outlinewidth": 0,
              "ticks": ""
             }
            },
            "type": "scatterpolargl"
           }
          ],
          "scatterternary": [
           {
            "marker": {
             "colorbar": {
              "outlinewidth": 0,
              "ticks": ""
             }
            },
            "type": "scatterternary"
           }
          ],
          "surface": [
           {
            "colorbar": {
             "outlinewidth": 0,
             "ticks": ""
            },
            "colorscale": [
             [
              0,
              "#0d0887"
             ],
             [
              0.1111111111111111,
              "#46039f"
             ],
             [
              0.2222222222222222,
              "#7201a8"
             ],
             [
              0.3333333333333333,
              "#9c179e"
             ],
             [
              0.4444444444444444,
              "#bd3786"
             ],
             [
              0.5555555555555556,
              "#d8576b"
             ],
             [
              0.6666666666666666,
              "#ed7953"
             ],
             [
              0.7777777777777778,
              "#fb9f3a"
             ],
             [
              0.8888888888888888,
              "#fdca26"
             ],
             [
              1,
              "#f0f921"
             ]
            ],
            "type": "surface"
           }
          ],
          "table": [
           {
            "cells": {
             "fill": {
              "color": "#EBF0F8"
             },
             "line": {
              "color": "white"
             }
            },
            "header": {
             "fill": {
              "color": "#C8D4E3"
             },
             "line": {
              "color": "white"
             }
            },
            "type": "table"
           }
          ]
         },
         "layout": {
          "annotationdefaults": {
           "arrowcolor": "#2a3f5f",
           "arrowhead": 0,
           "arrowwidth": 1
          },
          "autotypenumbers": "strict",
          "coloraxis": {
           "colorbar": {
            "outlinewidth": 0,
            "ticks": ""
           }
          },
          "colorscale": {
           "diverging": [
            [
             0,
             "#8e0152"
            ],
            [
             0.1,
             "#c51b7d"
            ],
            [
             0.2,
             "#de77ae"
            ],
            [
             0.3,
             "#f1b6da"
            ],
            [
             0.4,
             "#fde0ef"
            ],
            [
             0.5,
             "#f7f7f7"
            ],
            [
             0.6,
             "#e6f5d0"
            ],
            [
             0.7,
             "#b8e186"
            ],
            [
             0.8,
             "#7fbc41"
            ],
            [
             0.9,
             "#4d9221"
            ],
            [
             1,
             "#276419"
            ]
           ],
           "sequential": [
            [
             0,
             "#0d0887"
            ],
            [
             0.1111111111111111,
             "#46039f"
            ],
            [
             0.2222222222222222,
             "#7201a8"
            ],
            [
             0.3333333333333333,
             "#9c179e"
            ],
            [
             0.4444444444444444,
             "#bd3786"
            ],
            [
             0.5555555555555556,
             "#d8576b"
            ],
            [
             0.6666666666666666,
             "#ed7953"
            ],
            [
             0.7777777777777778,
             "#fb9f3a"
            ],
            [
             0.8888888888888888,
             "#fdca26"
            ],
            [
             1,
             "#f0f921"
            ]
           ],
           "sequentialminus": [
            [
             0,
             "#0d0887"
            ],
            [
             0.1111111111111111,
             "#46039f"
            ],
            [
             0.2222222222222222,
             "#7201a8"
            ],
            [
             0.3333333333333333,
             "#9c179e"
            ],
            [
             0.4444444444444444,
             "#bd3786"
            ],
            [
             0.5555555555555556,
             "#d8576b"
            ],
            [
             0.6666666666666666,
             "#ed7953"
            ],
            [
             0.7777777777777778,
             "#fb9f3a"
            ],
            [
             0.8888888888888888,
             "#fdca26"
            ],
            [
             1,
             "#f0f921"
            ]
           ]
          },
          "colorway": [
           "#636efa",
           "#EF553B",
           "#00cc96",
           "#ab63fa",
           "#FFA15A",
           "#19d3f3",
           "#FF6692",
           "#B6E880",
           "#FF97FF",
           "#FECB52"
          ],
          "font": {
           "color": "#2a3f5f"
          },
          "geo": {
           "bgcolor": "white",
           "lakecolor": "white",
           "landcolor": "#E5ECF6",
           "showlakes": true,
           "showland": true,
           "subunitcolor": "white"
          },
          "hoverlabel": {
           "align": "left"
          },
          "hovermode": "closest",
          "mapbox": {
           "style": "light"
          },
          "paper_bgcolor": "white",
          "plot_bgcolor": "#E5ECF6",
          "polar": {
           "angularaxis": {
            "gridcolor": "white",
            "linecolor": "white",
            "ticks": ""
           },
           "bgcolor": "#E5ECF6",
           "radialaxis": {
            "gridcolor": "white",
            "linecolor": "white",
            "ticks": ""
           }
          },
          "scene": {
           "xaxis": {
            "backgroundcolor": "#E5ECF6",
            "gridcolor": "white",
            "gridwidth": 2,
            "linecolor": "white",
            "showbackground": true,
            "ticks": "",
            "zerolinecolor": "white"
           },
           "yaxis": {
            "backgroundcolor": "#E5ECF6",
            "gridcolor": "white",
            "gridwidth": 2,
            "linecolor": "white",
            "showbackground": true,
            "ticks": "",
            "zerolinecolor": "white"
           },
           "zaxis": {
            "backgroundcolor": "#E5ECF6",
            "gridcolor": "white",
            "gridwidth": 2,
            "linecolor": "white",
            "showbackground": true,
            "ticks": "",
            "zerolinecolor": "white"
           }
          },
          "shapedefaults": {
           "line": {
            "color": "#2a3f5f"
           }
          },
          "ternary": {
           "aaxis": {
            "gridcolor": "white",
            "linecolor": "white",
            "ticks": ""
           },
           "baxis": {
            "gridcolor": "white",
            "linecolor": "white",
            "ticks": ""
           },
           "bgcolor": "#E5ECF6",
           "caxis": {
            "gridcolor": "white",
            "linecolor": "white",
            "ticks": ""
           }
          },
          "title": {
           "x": 0.05
          },
          "xaxis": {
           "automargin": true,
           "gridcolor": "white",
           "linecolor": "white",
           "ticks": "",
           "title": {
            "standoff": 15
           },
           "zerolinecolor": "white",
           "zerolinewidth": 2
          },
          "yaxis": {
           "automargin": true,
           "gridcolor": "white",
           "linecolor": "white",
           "ticks": "",
           "title": {
            "standoff": 15
           },
           "zerolinecolor": "white",
           "zerolinewidth": 2
          }
         }
        },
        "title": {
         "text": "ROC Curve (AUC=0.5) - Baseline"
        },
        "width": 500,
        "xaxis": {
         "anchor": "y",
         "domain": [
          0,
          1
         ],
         "title": {
          "text": "False Positive Rate"
         }
        },
        "yaxis": {
         "anchor": "x",
         "domain": [
          0,
          1
         ],
         "title": {
          "text": "True Positive Rate"
         }
        }
       }
      }
     },
     "metadata": {},
     "output_type": "display_data"
    }
   ],
   "source": [
    "# Create a DataFrame with the ROC curve data\n",
    "fpr, tpr, thresholds = roc_curve(y_true, y_pred)\n",
    "roc_auc = auc(fpr, tpr)\n",
    "\n",
    "roc_df = pd.DataFrame({'fpr': fpr, 'tpr': tpr})\n",
    "\n",
    "fig = px.line(roc_df, x='fpr', y='tpr', title='ROC Curve (AUC=' + str(roc_auc) +')' + ' - Baseline',\n",
    "              labels=dict(fpr='False Positive Rate', tpr='True Positive Rate'),width=500, height=450)\n",
    "fig.add_shape(type='line', line=dict(dash='dash'), x0=0, y0=0, x1=1, y1=1)\n",
    "fig.show()"
   ]
  }
 ],
 "metadata": {
  "kernelspec": {
   "display_name": "base",
   "language": "python",
   "name": "python3"
  },
  "language_info": {
   "codemirror_mode": {
    "name": "ipython",
    "version": 3
   },
   "file_extension": ".py",
   "mimetype": "text/x-python",
   "name": "python",
   "nbconvert_exporter": "python",
   "pygments_lexer": "ipython3",
   "version": "3.9.13"
  },
  "orig_nbformat": 4,
  "vscode": {
   "interpreter": {
    "hash": "0768609b05072b4bb6556dd73f14608c848b7e1a7616c09c0a0dfd3e754562fc"
   }
  }
 },
 "nbformat": 4,
 "nbformat_minor": 2
}
