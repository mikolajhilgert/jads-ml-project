{
 "cells": [
  {
   "cell_type": "code",
   "execution_count": 64,
   "metadata": {},
   "outputs": [],
   "source": [
    "import numpy as np\n",
    "import pandas as pd\n",
    "import plotly.express as px\n",
    "from scipy.stats import pearsonr\n",
    "import itertools\n",
    "import scipy.stats as ss\n",
    "from scipy.stats import pointbiserialr\n",
    "from scipy import stats\n",
    "from scipy.stats import spearmanr\n",
    "from dython.nominal import associations\n",
    "import matplotlib.pyplot as plt\n",
    "import plotly.figure_factory as ff\n",
    "import seaborn as sns\n",
    "from sklearn.preprocessing import MinMaxScaler\n",
    "from sklearn.preprocessing import LabelEncoder\n",
    "from sklearn.model_selection import train_test_split\n",
    "from sklearn.preprocessing import OneHotEncoder\n",
    "from scipy.stats import kstest\n",
    "from sklearn.feature_selection import RFECV\n",
    "from sklearn.linear_model import LogisticRegression\n",
    "from sklearn.model_selection import StratifiedKFold\n",
    "from imblearn.over_sampling import SMOTE\n",
    "from imblearn.over_sampling import RandomOverSampler\n",
    "from imblearn.under_sampling import RandomUnderSampler\n",
    "from sklearn.metrics import roc_curve, auc,classification_report\n",
    "from sklearn.metrics import accuracy_score\n",
    "from sklearn.metrics import confusion_matrix\n",
    "import warnings\n",
    "warnings.filterwarnings(\"ignore\")\n",
    "from sklearn import tree\n",
    "from sklearn import svm\n",
    "from sklearn.metrics import roc_auc_score"
   ]
  },
  {
   "cell_type": "code",
   "execution_count": 65,
   "metadata": {},
   "outputs": [],
   "source": [
    "df = pd.read_csv(r'../telco_customers.xls')"
   ]
  },
  {
   "cell_type": "code",
   "execution_count": 69,
   "metadata": {},
   "outputs": [],
   "source": [
    "# https://towardsdatascience.com/6-ways-to-test-for-a-normal-distribution-which-one-to-use-9dcf47d8fa93\n",
    "# https://www.ncbi.nlm.nih.gov/pmc/articles/PMC6350423/\n",
    "\n",
    "def check_normality_ks(df):\n",
    "    \n",
    "    alpha=0.05\n",
    "    for column in df.columns:\n",
    "      column = df[column]  \n",
    "      result = kstest(column, 'norm')\n",
    "\n",
    "      if result.pvalue < alpha:\n",
    "        print('The column is not normally distributed.')\n",
    "      else:\n",
    "        print('The column is normally distributed.')"
   ]
  },
  {
   "cell_type": "code",
   "execution_count": 66,
   "metadata": {},
   "outputs": [],
   "source": [
    "df.rename(columns = lambda x: \"\".join([w[0].upper() + w[1:] for w in x.split()]), inplace = True)\n",
    "\n",
    "excluded = ['Tenure','MonthlyCharges','TotalCharges']\n",
    "string_columns = [ col for col in df.columns if col not in excluded]\n",
    "df[string_columns] = df[string_columns].astype(str)\n",
    "\n",
    "df[\"SeniorCitizen\"] = df[\"SeniorCitizen\"].str.replace(\"0\",\"No\")\n",
    "df[\"SeniorCitizen\"] = df[\"SeniorCitizen\"].str.replace(\"1\",\"Yes\")\n",
    "\n",
    "# Replace empty total charges with 0 for customers with 0 month tenure period\n",
    "df[\"TotalCharges\"] = df[\"TotalCharges\"].replace(\" \", 0)\n",
    "df['TotalCharges'] = pd.to_numeric(df['TotalCharges'])\n",
    "\n",
    "del df[\"CustomerID\"]"
   ]
  },
  {
   "cell_type": "code",
   "execution_count": 61,
   "metadata": {},
   "outputs": [
    {
     "data": {
      "text/html": [
       "<div>\n",
       "<style scoped>\n",
       "    .dataframe tbody tr th:only-of-type {\n",
       "        vertical-align: middle;\n",
       "    }\n",
       "\n",
       "    .dataframe tbody tr th {\n",
       "        vertical-align: top;\n",
       "    }\n",
       "\n",
       "    .dataframe thead th {\n",
       "        text-align: right;\n",
       "    }\n",
       "</style>\n",
       "<table border=\"1\" class=\"dataframe\">\n",
       "  <thead>\n",
       "    <tr style=\"text-align: right;\">\n",
       "      <th></th>\n",
       "      <th>Gender</th>\n",
       "      <th>SeniorCitizen</th>\n",
       "      <th>Partner</th>\n",
       "      <th>Dependents</th>\n",
       "      <th>Tenure</th>\n",
       "      <th>PhoneService</th>\n",
       "      <th>MultipleLines</th>\n",
       "      <th>InternetService</th>\n",
       "      <th>OnlineSecurity</th>\n",
       "      <th>OnlineBackup</th>\n",
       "      <th>DeviceProtection</th>\n",
       "      <th>TechSupport</th>\n",
       "      <th>StreamingTV</th>\n",
       "      <th>StreamingMovies</th>\n",
       "      <th>Contract</th>\n",
       "      <th>PaperlessBilling</th>\n",
       "      <th>PaymentMethod</th>\n",
       "      <th>MonthlyCharges</th>\n",
       "      <th>TotalCharges</th>\n",
       "      <th>Churn</th>\n",
       "    </tr>\n",
       "  </thead>\n",
       "  <tbody>\n",
       "    <tr>\n",
       "      <th>0</th>\n",
       "      <td>Female</td>\n",
       "      <td>No</td>\n",
       "      <td>Yes</td>\n",
       "      <td>No</td>\n",
       "      <td>1</td>\n",
       "      <td>No</td>\n",
       "      <td>No phone service</td>\n",
       "      <td>DSL</td>\n",
       "      <td>No</td>\n",
       "      <td>Yes</td>\n",
       "      <td>No</td>\n",
       "      <td>No</td>\n",
       "      <td>No</td>\n",
       "      <td>No</td>\n",
       "      <td>Month-to-month</td>\n",
       "      <td>Yes</td>\n",
       "      <td>Electronic check</td>\n",
       "      <td>29.85</td>\n",
       "      <td>29.85</td>\n",
       "      <td>No</td>\n",
       "    </tr>\n",
       "    <tr>\n",
       "      <th>1</th>\n",
       "      <td>Male</td>\n",
       "      <td>No</td>\n",
       "      <td>No</td>\n",
       "      <td>No</td>\n",
       "      <td>34</td>\n",
       "      <td>Yes</td>\n",
       "      <td>No</td>\n",
       "      <td>DSL</td>\n",
       "      <td>Yes</td>\n",
       "      <td>No</td>\n",
       "      <td>Yes</td>\n",
       "      <td>No</td>\n",
       "      <td>No</td>\n",
       "      <td>No</td>\n",
       "      <td>One year</td>\n",
       "      <td>No</td>\n",
       "      <td>Mailed check</td>\n",
       "      <td>56.95</td>\n",
       "      <td>1889.50</td>\n",
       "      <td>No</td>\n",
       "    </tr>\n",
       "    <tr>\n",
       "      <th>2</th>\n",
       "      <td>Male</td>\n",
       "      <td>No</td>\n",
       "      <td>No</td>\n",
       "      <td>No</td>\n",
       "      <td>2</td>\n",
       "      <td>Yes</td>\n",
       "      <td>No</td>\n",
       "      <td>DSL</td>\n",
       "      <td>Yes</td>\n",
       "      <td>Yes</td>\n",
       "      <td>No</td>\n",
       "      <td>No</td>\n",
       "      <td>No</td>\n",
       "      <td>No</td>\n",
       "      <td>Month-to-month</td>\n",
       "      <td>Yes</td>\n",
       "      <td>Mailed check</td>\n",
       "      <td>53.85</td>\n",
       "      <td>108.15</td>\n",
       "      <td>Yes</td>\n",
       "    </tr>\n",
       "    <tr>\n",
       "      <th>3</th>\n",
       "      <td>Male</td>\n",
       "      <td>No</td>\n",
       "      <td>No</td>\n",
       "      <td>No</td>\n",
       "      <td>45</td>\n",
       "      <td>No</td>\n",
       "      <td>No phone service</td>\n",
       "      <td>DSL</td>\n",
       "      <td>Yes</td>\n",
       "      <td>No</td>\n",
       "      <td>Yes</td>\n",
       "      <td>Yes</td>\n",
       "      <td>No</td>\n",
       "      <td>No</td>\n",
       "      <td>One year</td>\n",
       "      <td>No</td>\n",
       "      <td>Bank transfer (automatic)</td>\n",
       "      <td>42.30</td>\n",
       "      <td>1840.75</td>\n",
       "      <td>No</td>\n",
       "    </tr>\n",
       "    <tr>\n",
       "      <th>4</th>\n",
       "      <td>Female</td>\n",
       "      <td>No</td>\n",
       "      <td>No</td>\n",
       "      <td>No</td>\n",
       "      <td>2</td>\n",
       "      <td>Yes</td>\n",
       "      <td>No</td>\n",
       "      <td>Fiber optic</td>\n",
       "      <td>No</td>\n",
       "      <td>No</td>\n",
       "      <td>No</td>\n",
       "      <td>No</td>\n",
       "      <td>No</td>\n",
       "      <td>No</td>\n",
       "      <td>Month-to-month</td>\n",
       "      <td>Yes</td>\n",
       "      <td>Electronic check</td>\n",
       "      <td>70.70</td>\n",
       "      <td>151.65</td>\n",
       "      <td>Yes</td>\n",
       "    </tr>\n",
       "    <tr>\n",
       "      <th>...</th>\n",
       "      <td>...</td>\n",
       "      <td>...</td>\n",
       "      <td>...</td>\n",
       "      <td>...</td>\n",
       "      <td>...</td>\n",
       "      <td>...</td>\n",
       "      <td>...</td>\n",
       "      <td>...</td>\n",
       "      <td>...</td>\n",
       "      <td>...</td>\n",
       "      <td>...</td>\n",
       "      <td>...</td>\n",
       "      <td>...</td>\n",
       "      <td>...</td>\n",
       "      <td>...</td>\n",
       "      <td>...</td>\n",
       "      <td>...</td>\n",
       "      <td>...</td>\n",
       "      <td>...</td>\n",
       "      <td>...</td>\n",
       "    </tr>\n",
       "    <tr>\n",
       "      <th>7038</th>\n",
       "      <td>Male</td>\n",
       "      <td>No</td>\n",
       "      <td>Yes</td>\n",
       "      <td>Yes</td>\n",
       "      <td>24</td>\n",
       "      <td>Yes</td>\n",
       "      <td>Yes</td>\n",
       "      <td>DSL</td>\n",
       "      <td>Yes</td>\n",
       "      <td>No</td>\n",
       "      <td>Yes</td>\n",
       "      <td>Yes</td>\n",
       "      <td>Yes</td>\n",
       "      <td>Yes</td>\n",
       "      <td>One year</td>\n",
       "      <td>Yes</td>\n",
       "      <td>Mailed check</td>\n",
       "      <td>84.80</td>\n",
       "      <td>1990.50</td>\n",
       "      <td>No</td>\n",
       "    </tr>\n",
       "    <tr>\n",
       "      <th>7039</th>\n",
       "      <td>Female</td>\n",
       "      <td>No</td>\n",
       "      <td>Yes</td>\n",
       "      <td>Yes</td>\n",
       "      <td>72</td>\n",
       "      <td>Yes</td>\n",
       "      <td>Yes</td>\n",
       "      <td>Fiber optic</td>\n",
       "      <td>No</td>\n",
       "      <td>Yes</td>\n",
       "      <td>Yes</td>\n",
       "      <td>No</td>\n",
       "      <td>Yes</td>\n",
       "      <td>Yes</td>\n",
       "      <td>One year</td>\n",
       "      <td>Yes</td>\n",
       "      <td>Credit card (automatic)</td>\n",
       "      <td>103.20</td>\n",
       "      <td>7362.90</td>\n",
       "      <td>No</td>\n",
       "    </tr>\n",
       "    <tr>\n",
       "      <th>7040</th>\n",
       "      <td>Female</td>\n",
       "      <td>No</td>\n",
       "      <td>Yes</td>\n",
       "      <td>Yes</td>\n",
       "      <td>11</td>\n",
       "      <td>No</td>\n",
       "      <td>No phone service</td>\n",
       "      <td>DSL</td>\n",
       "      <td>Yes</td>\n",
       "      <td>No</td>\n",
       "      <td>No</td>\n",
       "      <td>No</td>\n",
       "      <td>No</td>\n",
       "      <td>No</td>\n",
       "      <td>Month-to-month</td>\n",
       "      <td>Yes</td>\n",
       "      <td>Electronic check</td>\n",
       "      <td>29.60</td>\n",
       "      <td>346.45</td>\n",
       "      <td>No</td>\n",
       "    </tr>\n",
       "    <tr>\n",
       "      <th>7041</th>\n",
       "      <td>Male</td>\n",
       "      <td>Yes</td>\n",
       "      <td>Yes</td>\n",
       "      <td>No</td>\n",
       "      <td>4</td>\n",
       "      <td>Yes</td>\n",
       "      <td>Yes</td>\n",
       "      <td>Fiber optic</td>\n",
       "      <td>No</td>\n",
       "      <td>No</td>\n",
       "      <td>No</td>\n",
       "      <td>No</td>\n",
       "      <td>No</td>\n",
       "      <td>No</td>\n",
       "      <td>Month-to-month</td>\n",
       "      <td>Yes</td>\n",
       "      <td>Mailed check</td>\n",
       "      <td>74.40</td>\n",
       "      <td>306.60</td>\n",
       "      <td>Yes</td>\n",
       "    </tr>\n",
       "    <tr>\n",
       "      <th>7042</th>\n",
       "      <td>Male</td>\n",
       "      <td>No</td>\n",
       "      <td>No</td>\n",
       "      <td>No</td>\n",
       "      <td>66</td>\n",
       "      <td>Yes</td>\n",
       "      <td>No</td>\n",
       "      <td>Fiber optic</td>\n",
       "      <td>Yes</td>\n",
       "      <td>No</td>\n",
       "      <td>Yes</td>\n",
       "      <td>Yes</td>\n",
       "      <td>Yes</td>\n",
       "      <td>Yes</td>\n",
       "      <td>Two year</td>\n",
       "      <td>Yes</td>\n",
       "      <td>Bank transfer (automatic)</td>\n",
       "      <td>105.65</td>\n",
       "      <td>6844.50</td>\n",
       "      <td>No</td>\n",
       "    </tr>\n",
       "  </tbody>\n",
       "</table>\n",
       "<p>7043 rows × 20 columns</p>\n",
       "</div>"
      ],
      "text/plain": [
       "      Gender SeniorCitizen Partner Dependents  Tenure PhoneService  \\\n",
       "0     Female            No     Yes         No       1           No   \n",
       "1       Male            No      No         No      34          Yes   \n",
       "2       Male            No      No         No       2          Yes   \n",
       "3       Male            No      No         No      45           No   \n",
       "4     Female            No      No         No       2          Yes   \n",
       "...      ...           ...     ...        ...     ...          ...   \n",
       "7038    Male            No     Yes        Yes      24          Yes   \n",
       "7039  Female            No     Yes        Yes      72          Yes   \n",
       "7040  Female            No     Yes        Yes      11           No   \n",
       "7041    Male           Yes     Yes         No       4          Yes   \n",
       "7042    Male            No      No         No      66          Yes   \n",
       "\n",
       "         MultipleLines InternetService OnlineSecurity OnlineBackup  \\\n",
       "0     No phone service             DSL             No          Yes   \n",
       "1                   No             DSL            Yes           No   \n",
       "2                   No             DSL            Yes          Yes   \n",
       "3     No phone service             DSL            Yes           No   \n",
       "4                   No     Fiber optic             No           No   \n",
       "...                ...             ...            ...          ...   \n",
       "7038               Yes             DSL            Yes           No   \n",
       "7039               Yes     Fiber optic             No          Yes   \n",
       "7040  No phone service             DSL            Yes           No   \n",
       "7041               Yes     Fiber optic             No           No   \n",
       "7042                No     Fiber optic            Yes           No   \n",
       "\n",
       "     DeviceProtection TechSupport StreamingTV StreamingMovies        Contract  \\\n",
       "0                  No          No          No              No  Month-to-month   \n",
       "1                 Yes          No          No              No        One year   \n",
       "2                  No          No          No              No  Month-to-month   \n",
       "3                 Yes         Yes          No              No        One year   \n",
       "4                  No          No          No              No  Month-to-month   \n",
       "...               ...         ...         ...             ...             ...   \n",
       "7038              Yes         Yes         Yes             Yes        One year   \n",
       "7039              Yes          No         Yes             Yes        One year   \n",
       "7040               No          No          No              No  Month-to-month   \n",
       "7041               No          No          No              No  Month-to-month   \n",
       "7042              Yes         Yes         Yes             Yes        Two year   \n",
       "\n",
       "     PaperlessBilling              PaymentMethod  MonthlyCharges  \\\n",
       "0                 Yes           Electronic check           29.85   \n",
       "1                  No               Mailed check           56.95   \n",
       "2                 Yes               Mailed check           53.85   \n",
       "3                  No  Bank transfer (automatic)           42.30   \n",
       "4                 Yes           Electronic check           70.70   \n",
       "...               ...                        ...             ...   \n",
       "7038              Yes               Mailed check           84.80   \n",
       "7039              Yes    Credit card (automatic)          103.20   \n",
       "7040              Yes           Electronic check           29.60   \n",
       "7041              Yes               Mailed check           74.40   \n",
       "7042              Yes  Bank transfer (automatic)          105.65   \n",
       "\n",
       "      TotalCharges Churn  \n",
       "0            29.85    No  \n",
       "1          1889.50    No  \n",
       "2           108.15   Yes  \n",
       "3          1840.75    No  \n",
       "4           151.65   Yes  \n",
       "...            ...   ...  \n",
       "7038       1990.50    No  \n",
       "7039       7362.90    No  \n",
       "7040        346.45    No  \n",
       "7041        306.60   Yes  \n",
       "7042       6844.50    No  \n",
       "\n",
       "[7043 rows x 20 columns]"
      ]
     },
     "execution_count": 61,
     "metadata": {},
     "output_type": "execute_result"
    }
   ],
   "source": [
    "df"
   ]
  },
  {
   "cell_type": "code",
   "execution_count": 63,
   "metadata": {},
   "outputs": [
    {
     "data": {
      "text/plain": [
       "Electronic check             2365\n",
       "Mailed check                 1612\n",
       "Bank transfer (automatic)    1544\n",
       "Credit card (automatic)      1522\n",
       "Name: PaymentMethod, dtype: int64"
      ]
     },
     "execution_count": 63,
     "metadata": {},
     "output_type": "execute_result"
    }
   ],
   "source": [
    "df[\"PaymentMethod\"].value_counts()"
   ]
  },
  {
   "cell_type": "code",
   "execution_count": 501,
   "metadata": {},
   "outputs": [
    {
     "name": "stdout",
     "output_type": "stream",
     "text": [
      "The column is not normally distributed.\n",
      "The column is not normally distributed.\n"
     ]
    }
   ],
   "source": [
    "check_normality = [\"MonthlyCharges\",\"TotalCharges\"]\n",
    "check_normality_ks(df[check_normality])"
   ]
  },
  {
   "cell_type": "code",
   "execution_count": 67,
   "metadata": {},
   "outputs": [],
   "source": [
    "binary_columns = ['Gender','SeniorCitizen','Partner','Dependents','PhoneService','PaperlessBilling','Churn']\n",
    "onehot_columns= ['MultipleLines','InternetService','OnlineSecurity','OnlineBackup','DeviceProtection','TechSupport','StreamingTV','StreamingMovies','Contract','PaymentMethod']\n",
    "\n",
    "le = LabelEncoder()\n",
    "\n",
    "for col in binary_columns:\n",
    "    df[col] = le.fit_transform(df[col])\n",
    "\n",
    "onehot = OneHotEncoder(dtype='int')\n",
    "\n",
    "df_without_onehot = df.drop(columns=onehot_columns)\n",
    "onehot_transformed = onehot.fit_transform(df[onehot_columns])\n",
    "onehot_dataframe = pd.DataFrame(\n",
    "    onehot_transformed.toarray(),\n",
    "    columns=onehot.get_feature_names_out(onehot_columns)\n",
    ")\n",
    "df = pd.concat([df_without_onehot, onehot_dataframe], axis=1)"
   ]
  },
  {
   "cell_type": "code",
   "execution_count": null,
   "metadata": {},
   "outputs": [],
   "source": [
    "\n",
    "\n"
   ]
  },
  {
   "cell_type": "code",
   "execution_count": 42,
   "metadata": {},
   "outputs": [],
   "source": [
    "del df[\"TotalCharges\"]\n",
    "del df[\"MultipleLines_No phone service\"]\n",
    "del df[\"OnlineSecurity_No internet service\"]\n",
    "del df[\"StreamingTV_No internet service\"]\n",
    "del df[\"OnlineBackup_No internet service\"]\n",
    "del df[\"DeviceProtection_No internet service\"]\n",
    "del df[\"InternetService_No\"]\n",
    "del df[\"MultipleLines_Yes\"]\n",
    "del df[\"TechSupport_No internet service\"]\n",
    "del df[\"PhoneService\"]\n",
    "del df[\"MultipleLines_No\"]\n",
    "del df[\"StreamingMovies_No internet service\"]"
   ]
  },
  {
   "cell_type": "code",
   "execution_count": 68,
   "metadata": {},
   "outputs": [
    {
     "name": "stdout",
     "output_type": "stream",
     "text": [
      "Number of data points in train set: (4507, 40) (4507,)\n",
      "Number of data points in test set: (1409, 40) (1409,)\n",
      "Number of data points in validation set: (1127, 40) (1127,)\n"
     ]
    }
   ],
   "source": [
    "X= df.drop('Churn', axis=1)\n",
    "Y= df['Churn']\n",
    "\n",
    "x_train, x_test, y_train, y_test = train_test_split(X, Y, stratify=Y ,test_size=0.20,random_state=0)\n",
    "x_train, x_cv, y_train, y_cv = train_test_split(x_train, y_train, stratify=y_train, test_size=0.20,random_state=0)\n",
    "\n",
    "#x_train_full = np.concatenate([x_train, x_cv], axis=0)\n",
    "#y_train_full = np.concatenate([y_train, y_cv], axis=0)\n",
    "\n",
    "#x_train_full = pd.DataFrame(x_train_full, columns=X.columns)\n",
    "\n",
    "print('Number of data points in train set:', x_train.shape, y_train.shape)\n",
    "print('Number of data points in test set:', x_test.shape, y_test.shape)\n",
    "print('Number of data points in validation set:', x_cv.shape, y_cv.shape)"
   ]
  },
  {
   "cell_type": "code",
   "execution_count": 72,
   "metadata": {},
   "outputs": [
    {
     "data": {
      "text/plain": [
       "Index(['PhoneService', 'MultipleLines_No phone service'], dtype='object')"
      ]
     },
     "execution_count": 72,
     "metadata": {},
     "output_type": "execute_result"
    }
   ],
   "source": [
    "from sklearn.feature_selection import VarianceThreshold\n",
    "\n",
    "s = VarianceThreshold(threshold=0.1)\n",
    "s.fit(df)\n",
    "\n",
    "# get a boolean mask indicating which columns have variance greater than threshold\n",
    "mask = s.get_support()\n",
    "\n",
    "# print the columns with variance greater than threshold\n",
    "selected_cols = df.columns[mask]\n",
    "df.columns[~s.get_support()]"
   ]
  },
  {
   "cell_type": "code",
   "execution_count": 21,
   "metadata": {},
   "outputs": [],
   "source": [
    "scaler = MinMaxScaler()\n",
    "col_scale = [\"Tenure\", \"MonthlyCharges\",\"TotalCharges\"]\n",
    "\n",
    "x_train[col_scale] = scaler.fit_transform(x_train[col_scale])\n",
    "x_cv[col_scale] = scaler.transform(x_cv[col_scale])\n",
    "x_test[col_scale] = scaler.transform(x_test[col_scale])"
   ]
  },
  {
   "cell_type": "code",
   "execution_count": 549,
   "metadata": {},
   "outputs": [
    {
     "data": {
      "text/html": [
       "<div>\n",
       "<style scoped>\n",
       "    .dataframe tbody tr th:only-of-type {\n",
       "        vertical-align: middle;\n",
       "    }\n",
       "\n",
       "    .dataframe tbody tr th {\n",
       "        vertical-align: top;\n",
       "    }\n",
       "\n",
       "    .dataframe thead th {\n",
       "        text-align: right;\n",
       "    }\n",
       "</style>\n",
       "<table border=\"1\" class=\"dataframe\">\n",
       "  <thead>\n",
       "    <tr style=\"text-align: right;\">\n",
       "      <th></th>\n",
       "      <th>Gender</th>\n",
       "      <th>SeniorCitizen</th>\n",
       "      <th>Partner</th>\n",
       "      <th>Dependents</th>\n",
       "      <th>Tenure</th>\n",
       "      <th>PhoneService</th>\n",
       "      <th>PaperlessBilling</th>\n",
       "      <th>MonthlyCharges</th>\n",
       "      <th>TotalCharges</th>\n",
       "      <th>MultipleLines_No</th>\n",
       "      <th>...</th>\n",
       "      <th>StreamingMovies_No</th>\n",
       "      <th>StreamingMovies_No internet service</th>\n",
       "      <th>StreamingMovies_Yes</th>\n",
       "      <th>Contract_Month-to-month</th>\n",
       "      <th>Contract_One year</th>\n",
       "      <th>Contract_Two year</th>\n",
       "      <th>PaymentMethod_Bank transfer (automatic)</th>\n",
       "      <th>PaymentMethod_Credit card (automatic)</th>\n",
       "      <th>PaymentMethod_Electronic check</th>\n",
       "      <th>PaymentMethod_Mailed check</th>\n",
       "    </tr>\n",
       "  </thead>\n",
       "  <tbody>\n",
       "    <tr>\n",
       "      <th>2996</th>\n",
       "      <td>0</td>\n",
       "      <td>0</td>\n",
       "      <td>0</td>\n",
       "      <td>0</td>\n",
       "      <td>0.250000</td>\n",
       "      <td>1</td>\n",
       "      <td>1</td>\n",
       "      <td>0.420528</td>\n",
       "      <td>0.133146</td>\n",
       "      <td>0</td>\n",
       "      <td>...</td>\n",
       "      <td>1</td>\n",
       "      <td>0</td>\n",
       "      <td>0</td>\n",
       "      <td>1</td>\n",
       "      <td>0</td>\n",
       "      <td>0</td>\n",
       "      <td>0</td>\n",
       "      <td>0</td>\n",
       "      <td>0</td>\n",
       "      <td>1</td>\n",
       "    </tr>\n",
       "    <tr>\n",
       "      <th>5108</th>\n",
       "      <td>0</td>\n",
       "      <td>0</td>\n",
       "      <td>0</td>\n",
       "      <td>0</td>\n",
       "      <td>0.319444</td>\n",
       "      <td>1</td>\n",
       "      <td>0</td>\n",
       "      <td>0.311908</td>\n",
       "      <td>0.124499</td>\n",
       "      <td>1</td>\n",
       "      <td>...</td>\n",
       "      <td>1</td>\n",
       "      <td>0</td>\n",
       "      <td>0</td>\n",
       "      <td>1</td>\n",
       "      <td>0</td>\n",
       "      <td>0</td>\n",
       "      <td>0</td>\n",
       "      <td>1</td>\n",
       "      <td>0</td>\n",
       "      <td>0</td>\n",
       "    </tr>\n",
       "    <tr>\n",
       "      <th>2346</th>\n",
       "      <td>0</td>\n",
       "      <td>0</td>\n",
       "      <td>1</td>\n",
       "      <td>1</td>\n",
       "      <td>0.986111</td>\n",
       "      <td>1</td>\n",
       "      <td>1</td>\n",
       "      <td>0.770802</td>\n",
       "      <td>0.788665</td>\n",
       "      <td>0</td>\n",
       "      <td>...</td>\n",
       "      <td>0</td>\n",
       "      <td>0</td>\n",
       "      <td>1</td>\n",
       "      <td>0</td>\n",
       "      <td>0</td>\n",
       "      <td>1</td>\n",
       "      <td>0</td>\n",
       "      <td>1</td>\n",
       "      <td>0</td>\n",
       "      <td>0</td>\n",
       "    </tr>\n",
       "    <tr>\n",
       "      <th>1478</th>\n",
       "      <td>1</td>\n",
       "      <td>0</td>\n",
       "      <td>0</td>\n",
       "      <td>0</td>\n",
       "      <td>0.569444</td>\n",
       "      <td>1</td>\n",
       "      <td>1</td>\n",
       "      <td>0.859990</td>\n",
       "      <td>0.500461</td>\n",
       "      <td>0</td>\n",
       "      <td>...</td>\n",
       "      <td>0</td>\n",
       "      <td>0</td>\n",
       "      <td>1</td>\n",
       "      <td>1</td>\n",
       "      <td>0</td>\n",
       "      <td>0</td>\n",
       "      <td>0</td>\n",
       "      <td>0</td>\n",
       "      <td>1</td>\n",
       "      <td>0</td>\n",
       "    </tr>\n",
       "    <tr>\n",
       "      <th>4770</th>\n",
       "      <td>0</td>\n",
       "      <td>0</td>\n",
       "      <td>1</td>\n",
       "      <td>1</td>\n",
       "      <td>0.083333</td>\n",
       "      <td>1</td>\n",
       "      <td>0</td>\n",
       "      <td>0.012955</td>\n",
       "      <td>0.010875</td>\n",
       "      <td>1</td>\n",
       "      <td>...</td>\n",
       "      <td>0</td>\n",
       "      <td>1</td>\n",
       "      <td>0</td>\n",
       "      <td>0</td>\n",
       "      <td>1</td>\n",
       "      <td>0</td>\n",
       "      <td>0</td>\n",
       "      <td>0</td>\n",
       "      <td>0</td>\n",
       "      <td>1</td>\n",
       "    </tr>\n",
       "    <tr>\n",
       "      <th>...</th>\n",
       "      <td>...</td>\n",
       "      <td>...</td>\n",
       "      <td>...</td>\n",
       "      <td>...</td>\n",
       "      <td>...</td>\n",
       "      <td>...</td>\n",
       "      <td>...</td>\n",
       "      <td>...</td>\n",
       "      <td>...</td>\n",
       "      <td>...</td>\n",
       "      <td>...</td>\n",
       "      <td>...</td>\n",
       "      <td>...</td>\n",
       "      <td>...</td>\n",
       "      <td>...</td>\n",
       "      <td>...</td>\n",
       "      <td>...</td>\n",
       "      <td>...</td>\n",
       "      <td>...</td>\n",
       "      <td>...</td>\n",
       "      <td>...</td>\n",
       "    </tr>\n",
       "    <tr>\n",
       "      <th>3969</th>\n",
       "      <td>1</td>\n",
       "      <td>0</td>\n",
       "      <td>1</td>\n",
       "      <td>1</td>\n",
       "      <td>0.013889</td>\n",
       "      <td>1</td>\n",
       "      <td>1</td>\n",
       "      <td>0.513702</td>\n",
       "      <td>0.008054</td>\n",
       "      <td>1</td>\n",
       "      <td>...</td>\n",
       "      <td>1</td>\n",
       "      <td>0</td>\n",
       "      <td>0</td>\n",
       "      <td>1</td>\n",
       "      <td>0</td>\n",
       "      <td>0</td>\n",
       "      <td>0</td>\n",
       "      <td>1</td>\n",
       "      <td>0</td>\n",
       "      <td>0</td>\n",
       "    </tr>\n",
       "    <tr>\n",
       "      <th>5296</th>\n",
       "      <td>0</td>\n",
       "      <td>0</td>\n",
       "      <td>0</td>\n",
       "      <td>0</td>\n",
       "      <td>0.791667</td>\n",
       "      <td>0</td>\n",
       "      <td>1</td>\n",
       "      <td>0.226208</td>\n",
       "      <td>0.260023</td>\n",
       "      <td>0</td>\n",
       "      <td>...</td>\n",
       "      <td>1</td>\n",
       "      <td>0</td>\n",
       "      <td>0</td>\n",
       "      <td>0</td>\n",
       "      <td>1</td>\n",
       "      <td>0</td>\n",
       "      <td>0</td>\n",
       "      <td>1</td>\n",
       "      <td>0</td>\n",
       "      <td>0</td>\n",
       "    </tr>\n",
       "    <tr>\n",
       "      <th>356</th>\n",
       "      <td>0</td>\n",
       "      <td>1</td>\n",
       "      <td>0</td>\n",
       "      <td>0</td>\n",
       "      <td>0.222222</td>\n",
       "      <td>1</td>\n",
       "      <td>1</td>\n",
       "      <td>0.355755</td>\n",
       "      <td>0.102363</td>\n",
       "      <td>0</td>\n",
       "      <td>...</td>\n",
       "      <td>1</td>\n",
       "      <td>0</td>\n",
       "      <td>0</td>\n",
       "      <td>1</td>\n",
       "      <td>0</td>\n",
       "      <td>0</td>\n",
       "      <td>0</td>\n",
       "      <td>0</td>\n",
       "      <td>1</td>\n",
       "      <td>0</td>\n",
       "    </tr>\n",
       "    <tr>\n",
       "      <th>2895</th>\n",
       "      <td>0</td>\n",
       "      <td>0</td>\n",
       "      <td>1</td>\n",
       "      <td>0</td>\n",
       "      <td>0.513889</td>\n",
       "      <td>1</td>\n",
       "      <td>1</td>\n",
       "      <td>0.014449</td>\n",
       "      <td>0.082616</td>\n",
       "      <td>1</td>\n",
       "      <td>...</td>\n",
       "      <td>0</td>\n",
       "      <td>1</td>\n",
       "      <td>0</td>\n",
       "      <td>0</td>\n",
       "      <td>1</td>\n",
       "      <td>0</td>\n",
       "      <td>1</td>\n",
       "      <td>0</td>\n",
       "      <td>0</td>\n",
       "      <td>0</td>\n",
       "    </tr>\n",
       "    <tr>\n",
       "      <th>2162</th>\n",
       "      <td>1</td>\n",
       "      <td>0</td>\n",
       "      <td>1</td>\n",
       "      <td>0</td>\n",
       "      <td>0.388889</td>\n",
       "      <td>1</td>\n",
       "      <td>0</td>\n",
       "      <td>0.779273</td>\n",
       "      <td>0.309086</td>\n",
       "      <td>0</td>\n",
       "      <td>...</td>\n",
       "      <td>1</td>\n",
       "      <td>0</td>\n",
       "      <td>0</td>\n",
       "      <td>1</td>\n",
       "      <td>0</td>\n",
       "      <td>0</td>\n",
       "      <td>0</td>\n",
       "      <td>1</td>\n",
       "      <td>0</td>\n",
       "      <td>0</td>\n",
       "    </tr>\n",
       "  </tbody>\n",
       "</table>\n",
       "<p>4507 rows × 40 columns</p>\n",
       "</div>"
      ],
      "text/plain": [
       "      Gender  SeniorCitizen  Partner  Dependents    Tenure  PhoneService  \\\n",
       "2996       0              0        0           0  0.250000             1   \n",
       "5108       0              0        0           0  0.319444             1   \n",
       "2346       0              0        1           1  0.986111             1   \n",
       "1478       1              0        0           0  0.569444             1   \n",
       "4770       0              0        1           1  0.083333             1   \n",
       "...      ...            ...      ...         ...       ...           ...   \n",
       "3969       1              0        1           1  0.013889             1   \n",
       "5296       0              0        0           0  0.791667             0   \n",
       "356        0              1        0           0  0.222222             1   \n",
       "2895       0              0        1           0  0.513889             1   \n",
       "2162       1              0        1           0  0.388889             1   \n",
       "\n",
       "      PaperlessBilling  MonthlyCharges  TotalCharges  MultipleLines_No  ...  \\\n",
       "2996                 1        0.420528      0.133146                 0  ...   \n",
       "5108                 0        0.311908      0.124499                 1  ...   \n",
       "2346                 1        0.770802      0.788665                 0  ...   \n",
       "1478                 1        0.859990      0.500461                 0  ...   \n",
       "4770                 0        0.012955      0.010875                 1  ...   \n",
       "...                ...             ...           ...               ...  ...   \n",
       "3969                 1        0.513702      0.008054                 1  ...   \n",
       "5296                 1        0.226208      0.260023                 0  ...   \n",
       "356                  1        0.355755      0.102363                 0  ...   \n",
       "2895                 1        0.014449      0.082616                 1  ...   \n",
       "2162                 0        0.779273      0.309086                 0  ...   \n",
       "\n",
       "      StreamingMovies_No  StreamingMovies_No internet service  \\\n",
       "2996                   1                                    0   \n",
       "5108                   1                                    0   \n",
       "2346                   0                                    0   \n",
       "1478                   0                                    0   \n",
       "4770                   0                                    1   \n",
       "...                  ...                                  ...   \n",
       "3969                   1                                    0   \n",
       "5296                   1                                    0   \n",
       "356                    1                                    0   \n",
       "2895                   0                                    1   \n",
       "2162                   1                                    0   \n",
       "\n",
       "      StreamingMovies_Yes  Contract_Month-to-month  Contract_One year  \\\n",
       "2996                    0                        1                  0   \n",
       "5108                    0                        1                  0   \n",
       "2346                    1                        0                  0   \n",
       "1478                    1                        1                  0   \n",
       "4770                    0                        0                  1   \n",
       "...                   ...                      ...                ...   \n",
       "3969                    0                        1                  0   \n",
       "5296                    0                        0                  1   \n",
       "356                     0                        1                  0   \n",
       "2895                    0                        0                  1   \n",
       "2162                    0                        1                  0   \n",
       "\n",
       "      Contract_Two year  PaymentMethod_Bank transfer (automatic)  \\\n",
       "2996                  0                                        0   \n",
       "5108                  0                                        0   \n",
       "2346                  1                                        0   \n",
       "1478                  0                                        0   \n",
       "4770                  0                                        0   \n",
       "...                 ...                                      ...   \n",
       "3969                  0                                        0   \n",
       "5296                  0                                        0   \n",
       "356                   0                                        0   \n",
       "2895                  0                                        1   \n",
       "2162                  0                                        0   \n",
       "\n",
       "      PaymentMethod_Credit card (automatic)  PaymentMethod_Electronic check  \\\n",
       "2996                                      0                               0   \n",
       "5108                                      1                               0   \n",
       "2346                                      1                               0   \n",
       "1478                                      0                               1   \n",
       "4770                                      0                               0   \n",
       "...                                     ...                             ...   \n",
       "3969                                      1                               0   \n",
       "5296                                      1                               0   \n",
       "356                                       0                               1   \n",
       "2895                                      0                               0   \n",
       "2162                                      1                               0   \n",
       "\n",
       "      PaymentMethod_Mailed check  \n",
       "2996                           1  \n",
       "5108                           0  \n",
       "2346                           0  \n",
       "1478                           0  \n",
       "4770                           1  \n",
       "...                          ...  \n",
       "3969                           0  \n",
       "5296                           0  \n",
       "356                            0  \n",
       "2895                           0  \n",
       "2162                           0  \n",
       "\n",
       "[4507 rows x 40 columns]"
      ]
     },
     "execution_count": 549,
     "metadata": {},
     "output_type": "execute_result"
    }
   ],
   "source": [
    "x_train"
   ]
  },
  {
   "attachments": {},
   "cell_type": "markdown",
   "metadata": {},
   "source": [
    "### Feature Selection"
   ]
  },
  {
   "attachments": {},
   "cell_type": "markdown",
   "metadata": {},
   "source": [
    "### Univariate Feature Selection"
   ]
  },
  {
   "cell_type": "code",
   "execution_count": 521,
   "metadata": {},
   "outputs": [
    {
     "data": {
      "application/vnd.plotly.v1+json": {
       "config": {
        "plotlyServerURL": "https://plot.ly"
       },
       "data": [
        {
         "coloraxis": "coloraxis",
         "hovertemplate": "x: %{x}<br>y: %{y}<br>color: %{z}<extra></extra>",
         "name": "0",
         "texttemplate": "%{z}",
         "type": "heatmap",
         "x": [
          "Tenure",
          "MonthlyCharges",
          "TotalCharges",
          "Churn"
         ],
         "xaxis": "x",
         "y": [
          "Tenure",
          "MonthlyCharges",
          "TotalCharges",
          "Churn"
         ],
         "yaxis": "y",
         "z": [
          [
           1,
           0.2725574859700094,
           0.8909711581575541,
           -0.35577799530024995
          ],
          [
           0.2725574859700094,
           1,
           0.632918011611392,
           0.19427664890647178
          ],
          [
           0.8909711581575541,
           0.632918011611392,
           1,
           -0.21831708215090936
          ],
          [
           -0.35577799530024995,
           0.19427664890647178,
           -0.21831708215090936,
           1
          ]
         ]
        }
       ],
       "layout": {
        "coloraxis": {
         "colorscale": [
          [
           0,
           "rgb(103,0,31)"
          ],
          [
           0.1,
           "rgb(178,24,43)"
          ],
          [
           0.2,
           "rgb(214,96,77)"
          ],
          [
           0.3,
           "rgb(244,165,130)"
          ],
          [
           0.4,
           "rgb(253,219,199)"
          ],
          [
           0.5,
           "rgb(247,247,247)"
          ],
          [
           0.6,
           "rgb(209,229,240)"
          ],
          [
           0.7,
           "rgb(146,197,222)"
          ],
          [
           0.8,
           "rgb(67,147,195)"
          ],
          [
           0.9,
           "rgb(33,102,172)"
          ],
          [
           1,
           "rgb(5,48,97)"
          ]
         ]
        },
        "height": 400,
        "margin": {
         "t": 60
        },
        "template": {
         "data": {
          "bar": [
           {
            "error_x": {
             "color": "#2a3f5f"
            },
            "error_y": {
             "color": "#2a3f5f"
            },
            "marker": {
             "line": {
              "color": "#E5ECF6",
              "width": 0.5
             },
             "pattern": {
              "fillmode": "overlay",
              "size": 10,
              "solidity": 0.2
             }
            },
            "type": "bar"
           }
          ],
          "barpolar": [
           {
            "marker": {
             "line": {
              "color": "#E5ECF6",
              "width": 0.5
             },
             "pattern": {
              "fillmode": "overlay",
              "size": 10,
              "solidity": 0.2
             }
            },
            "type": "barpolar"
           }
          ],
          "carpet": [
           {
            "aaxis": {
             "endlinecolor": "#2a3f5f",
             "gridcolor": "white",
             "linecolor": "white",
             "minorgridcolor": "white",
             "startlinecolor": "#2a3f5f"
            },
            "baxis": {
             "endlinecolor": "#2a3f5f",
             "gridcolor": "white",
             "linecolor": "white",
             "minorgridcolor": "white",
             "startlinecolor": "#2a3f5f"
            },
            "type": "carpet"
           }
          ],
          "choropleth": [
           {
            "colorbar": {
             "outlinewidth": 0,
             "ticks": ""
            },
            "type": "choropleth"
           }
          ],
          "contour": [
           {
            "colorbar": {
             "outlinewidth": 0,
             "ticks": ""
            },
            "colorscale": [
             [
              0,
              "#0d0887"
             ],
             [
              0.1111111111111111,
              "#46039f"
             ],
             [
              0.2222222222222222,
              "#7201a8"
             ],
             [
              0.3333333333333333,
              "#9c179e"
             ],
             [
              0.4444444444444444,
              "#bd3786"
             ],
             [
              0.5555555555555556,
              "#d8576b"
             ],
             [
              0.6666666666666666,
              "#ed7953"
             ],
             [
              0.7777777777777778,
              "#fb9f3a"
             ],
             [
              0.8888888888888888,
              "#fdca26"
             ],
             [
              1,
              "#f0f921"
             ]
            ],
            "type": "contour"
           }
          ],
          "contourcarpet": [
           {
            "colorbar": {
             "outlinewidth": 0,
             "ticks": ""
            },
            "type": "contourcarpet"
           }
          ],
          "heatmap": [
           {
            "colorbar": {
             "outlinewidth": 0,
             "ticks": ""
            },
            "colorscale": [
             [
              0,
              "#0d0887"
             ],
             [
              0.1111111111111111,
              "#46039f"
             ],
             [
              0.2222222222222222,
              "#7201a8"
             ],
             [
              0.3333333333333333,
              "#9c179e"
             ],
             [
              0.4444444444444444,
              "#bd3786"
             ],
             [
              0.5555555555555556,
              "#d8576b"
             ],
             [
              0.6666666666666666,
              "#ed7953"
             ],
             [
              0.7777777777777778,
              "#fb9f3a"
             ],
             [
              0.8888888888888888,
              "#fdca26"
             ],
             [
              1,
              "#f0f921"
             ]
            ],
            "type": "heatmap"
           }
          ],
          "heatmapgl": [
           {
            "colorbar": {
             "outlinewidth": 0,
             "ticks": ""
            },
            "colorscale": [
             [
              0,
              "#0d0887"
             ],
             [
              0.1111111111111111,
              "#46039f"
             ],
             [
              0.2222222222222222,
              "#7201a8"
             ],
             [
              0.3333333333333333,
              "#9c179e"
             ],
             [
              0.4444444444444444,
              "#bd3786"
             ],
             [
              0.5555555555555556,
              "#d8576b"
             ],
             [
              0.6666666666666666,
              "#ed7953"
             ],
             [
              0.7777777777777778,
              "#fb9f3a"
             ],
             [
              0.8888888888888888,
              "#fdca26"
             ],
             [
              1,
              "#f0f921"
             ]
            ],
            "type": "heatmapgl"
           }
          ],
          "histogram": [
           {
            "marker": {
             "pattern": {
              "fillmode": "overlay",
              "size": 10,
              "solidity": 0.2
             }
            },
            "type": "histogram"
           }
          ],
          "histogram2d": [
           {
            "colorbar": {
             "outlinewidth": 0,
             "ticks": ""
            },
            "colorscale": [
             [
              0,
              "#0d0887"
             ],
             [
              0.1111111111111111,
              "#46039f"
             ],
             [
              0.2222222222222222,
              "#7201a8"
             ],
             [
              0.3333333333333333,
              "#9c179e"
             ],
             [
              0.4444444444444444,
              "#bd3786"
             ],
             [
              0.5555555555555556,
              "#d8576b"
             ],
             [
              0.6666666666666666,
              "#ed7953"
             ],
             [
              0.7777777777777778,
              "#fb9f3a"
             ],
             [
              0.8888888888888888,
              "#fdca26"
             ],
             [
              1,
              "#f0f921"
             ]
            ],
            "type": "histogram2d"
           }
          ],
          "histogram2dcontour": [
           {
            "colorbar": {
             "outlinewidth": 0,
             "ticks": ""
            },
            "colorscale": [
             [
              0,
              "#0d0887"
             ],
             [
              0.1111111111111111,
              "#46039f"
             ],
             [
              0.2222222222222222,
              "#7201a8"
             ],
             [
              0.3333333333333333,
              "#9c179e"
             ],
             [
              0.4444444444444444,
              "#bd3786"
             ],
             [
              0.5555555555555556,
              "#d8576b"
             ],
             [
              0.6666666666666666,
              "#ed7953"
             ],
             [
              0.7777777777777778,
              "#fb9f3a"
             ],
             [
              0.8888888888888888,
              "#fdca26"
             ],
             [
              1,
              "#f0f921"
             ]
            ],
            "type": "histogram2dcontour"
           }
          ],
          "mesh3d": [
           {
            "colorbar": {
             "outlinewidth": 0,
             "ticks": ""
            },
            "type": "mesh3d"
           }
          ],
          "parcoords": [
           {
            "line": {
             "colorbar": {
              "outlinewidth": 0,
              "ticks": ""
             }
            },
            "type": "parcoords"
           }
          ],
          "pie": [
           {
            "automargin": true,
            "type": "pie"
           }
          ],
          "scatter": [
           {
            "fillpattern": {
             "fillmode": "overlay",
             "size": 10,
             "solidity": 0.2
            },
            "type": "scatter"
           }
          ],
          "scatter3d": [
           {
            "line": {
             "colorbar": {
              "outlinewidth": 0,
              "ticks": ""
             }
            },
            "marker": {
             "colorbar": {
              "outlinewidth": 0,
              "ticks": ""
             }
            },
            "type": "scatter3d"
           }
          ],
          "scattercarpet": [
           {
            "marker": {
             "colorbar": {
              "outlinewidth": 0,
              "ticks": ""
             }
            },
            "type": "scattercarpet"
           }
          ],
          "scattergeo": [
           {
            "marker": {
             "colorbar": {
              "outlinewidth": 0,
              "ticks": ""
             }
            },
            "type": "scattergeo"
           }
          ],
          "scattergl": [
           {
            "marker": {
             "colorbar": {
              "outlinewidth": 0,
              "ticks": ""
             }
            },
            "type": "scattergl"
           }
          ],
          "scattermapbox": [
           {
            "marker": {
             "colorbar": {
              "outlinewidth": 0,
              "ticks": ""
             }
            },
            "type": "scattermapbox"
           }
          ],
          "scatterpolar": [
           {
            "marker": {
             "colorbar": {
              "outlinewidth": 0,
              "ticks": ""
             }
            },
            "type": "scatterpolar"
           }
          ],
          "scatterpolargl": [
           {
            "marker": {
             "colorbar": {
              "outlinewidth": 0,
              "ticks": ""
             }
            },
            "type": "scatterpolargl"
           }
          ],
          "scatterternary": [
           {
            "marker": {
             "colorbar": {
              "outlinewidth": 0,
              "ticks": ""
             }
            },
            "type": "scatterternary"
           }
          ],
          "surface": [
           {
            "colorbar": {
             "outlinewidth": 0,
             "ticks": ""
            },
            "colorscale": [
             [
              0,
              "#0d0887"
             ],
             [
              0.1111111111111111,
              "#46039f"
             ],
             [
              0.2222222222222222,
              "#7201a8"
             ],
             [
              0.3333333333333333,
              "#9c179e"
             ],
             [
              0.4444444444444444,
              "#bd3786"
             ],
             [
              0.5555555555555556,
              "#d8576b"
             ],
             [
              0.6666666666666666,
              "#ed7953"
             ],
             [
              0.7777777777777778,
              "#fb9f3a"
             ],
             [
              0.8888888888888888,
              "#fdca26"
             ],
             [
              1,
              "#f0f921"
             ]
            ],
            "type": "surface"
           }
          ],
          "table": [
           {
            "cells": {
             "fill": {
              "color": "#EBF0F8"
             },
             "line": {
              "color": "white"
             }
            },
            "header": {
             "fill": {
              "color": "#C8D4E3"
             },
             "line": {
              "color": "white"
             }
            },
            "type": "table"
           }
          ]
         },
         "layout": {
          "annotationdefaults": {
           "arrowcolor": "#2a3f5f",
           "arrowhead": 0,
           "arrowwidth": 1
          },
          "autotypenumbers": "strict",
          "coloraxis": {
           "colorbar": {
            "outlinewidth": 0,
            "ticks": ""
           }
          },
          "colorscale": {
           "diverging": [
            [
             0,
             "#8e0152"
            ],
            [
             0.1,
             "#c51b7d"
            ],
            [
             0.2,
             "#de77ae"
            ],
            [
             0.3,
             "#f1b6da"
            ],
            [
             0.4,
             "#fde0ef"
            ],
            [
             0.5,
             "#f7f7f7"
            ],
            [
             0.6,
             "#e6f5d0"
            ],
            [
             0.7,
             "#b8e186"
            ],
            [
             0.8,
             "#7fbc41"
            ],
            [
             0.9,
             "#4d9221"
            ],
            [
             1,
             "#276419"
            ]
           ],
           "sequential": [
            [
             0,
             "#0d0887"
            ],
            [
             0.1111111111111111,
             "#46039f"
            ],
            [
             0.2222222222222222,
             "#7201a8"
            ],
            [
             0.3333333333333333,
             "#9c179e"
            ],
            [
             0.4444444444444444,
             "#bd3786"
            ],
            [
             0.5555555555555556,
             "#d8576b"
            ],
            [
             0.6666666666666666,
             "#ed7953"
            ],
            [
             0.7777777777777778,
             "#fb9f3a"
            ],
            [
             0.8888888888888888,
             "#fdca26"
            ],
            [
             1,
             "#f0f921"
            ]
           ],
           "sequentialminus": [
            [
             0,
             "#0d0887"
            ],
            [
             0.1111111111111111,
             "#46039f"
            ],
            [
             0.2222222222222222,
             "#7201a8"
            ],
            [
             0.3333333333333333,
             "#9c179e"
            ],
            [
             0.4444444444444444,
             "#bd3786"
            ],
            [
             0.5555555555555556,
             "#d8576b"
            ],
            [
             0.6666666666666666,
             "#ed7953"
            ],
            [
             0.7777777777777778,
             "#fb9f3a"
            ],
            [
             0.8888888888888888,
             "#fdca26"
            ],
            [
             1,
             "#f0f921"
            ]
           ]
          },
          "colorway": [
           "#636efa",
           "#EF553B",
           "#00cc96",
           "#ab63fa",
           "#FFA15A",
           "#19d3f3",
           "#FF6692",
           "#B6E880",
           "#FF97FF",
           "#FECB52"
          ],
          "font": {
           "color": "#2a3f5f"
          },
          "geo": {
           "bgcolor": "white",
           "lakecolor": "white",
           "landcolor": "#E5ECF6",
           "showlakes": true,
           "showland": true,
           "subunitcolor": "white"
          },
          "hoverlabel": {
           "align": "left"
          },
          "hovermode": "closest",
          "mapbox": {
           "style": "light"
          },
          "paper_bgcolor": "white",
          "plot_bgcolor": "#E5ECF6",
          "polar": {
           "angularaxis": {
            "gridcolor": "white",
            "linecolor": "white",
            "ticks": ""
           },
           "bgcolor": "#E5ECF6",
           "radialaxis": {
            "gridcolor": "white",
            "linecolor": "white",
            "ticks": ""
           }
          },
          "scene": {
           "xaxis": {
            "backgroundcolor": "#E5ECF6",
            "gridcolor": "white",
            "gridwidth": 2,
            "linecolor": "white",
            "showbackground": true,
            "ticks": "",
            "zerolinecolor": "white"
           },
           "yaxis": {
            "backgroundcolor": "#E5ECF6",
            "gridcolor": "white",
            "gridwidth": 2,
            "linecolor": "white",
            "showbackground": true,
            "ticks": "",
            "zerolinecolor": "white"
           },
           "zaxis": {
            "backgroundcolor": "#E5ECF6",
            "gridcolor": "white",
            "gridwidth": 2,
            "linecolor": "white",
            "showbackground": true,
            "ticks": "",
            "zerolinecolor": "white"
           }
          },
          "shapedefaults": {
           "line": {
            "color": "#2a3f5f"
           }
          },
          "ternary": {
           "aaxis": {
            "gridcolor": "white",
            "linecolor": "white",
            "ticks": ""
           },
           "baxis": {
            "gridcolor": "white",
            "linecolor": "white",
            "ticks": ""
           },
           "bgcolor": "#E5ECF6",
           "caxis": {
            "gridcolor": "white",
            "linecolor": "white",
            "ticks": ""
           }
          },
          "title": {
           "x": 0.05
          },
          "xaxis": {
           "automargin": true,
           "gridcolor": "white",
           "linecolor": "white",
           "ticks": "",
           "title": {
            "standoff": 15
           },
           "zerolinecolor": "white",
           "zerolinewidth": 2
          },
          "yaxis": {
           "automargin": true,
           "gridcolor": "white",
           "linecolor": "white",
           "ticks": "",
           "title": {
            "standoff": 15
           },
           "zerolinecolor": "white",
           "zerolinewidth": 2
          }
         }
        },
        "title": {
         "text": "Spearsman Correlation: Tenure, Charges - Churn"
        },
        "width": 500,
        "xaxis": {
         "anchor": "y",
         "constrain": "domain",
         "domain": [
          0,
          1
         ],
         "scaleanchor": "y"
        },
        "yaxis": {
         "anchor": "x",
         "autorange": "reversed",
         "constrain": "domain",
         "domain": [
          0,
          1
         ]
        }
       }
      }
     },
     "metadata": {},
     "output_type": "display_data"
    }
   ],
   "source": [
    "excluded = ['Tenure','MonthlyCharges','TotalCharges']\n",
    "df_nr = x_train[excluded]\n",
    "df_nr = x_train[excluded].assign(Churn=y_train)\n",
    "corr_matrix = df_nr.corr(method='spearman') # Tenure - ordinal variable\n",
    "fig = px.imshow(corr_matrix, color_continuous_scale=\"RdBu\",text_auto=True) # Plot the correlation matrix as a heatmap\n",
    "fig.update_layout(title=\"Spearsman Correlation: Tenure, Charges - Churn\",width=500,height=400)\n",
    "fig.show()\n",
    "#https://anyi-guo.medium.com/correlation-pearson-vs-spearman-c15e581c12ce\n",
    "# Churn: Tenure, MonthlyCharges and TotalCharges"
   ]
  },
  {
   "cell_type": "code",
   "execution_count": 550,
   "metadata": {},
   "outputs": [
    {
     "data": {
      "application/vnd.plotly.v1+json": {
       "config": {
        "plotlyServerURL": "https://plot.ly"
       },
       "data": [
        {
         "coloraxis": "coloraxis",
         "hovertemplate": "x: %{x}<br>y: %{y}<br>color: %{z}<extra></extra>",
         "name": "0",
         "texttemplate": "%{z}",
         "type": "heatmap",
         "x": [
          "Gender",
          "SeniorCitizen",
          "Partner",
          "Dependents",
          "PhoneService",
          "PaperlessBilling",
          "MultipleLines_No",
          "MultipleLines_No phone service",
          "MultipleLines_Yes",
          "InternetService_DSL",
          "InternetService_Fiber optic",
          "InternetService_No",
          "OnlineSecurity_No",
          "OnlineSecurity_No internet service",
          "OnlineSecurity_Yes",
          "OnlineBackup_No",
          "OnlineBackup_No internet service",
          "OnlineBackup_Yes",
          "DeviceProtection_No",
          "DeviceProtection_No internet service",
          "DeviceProtection_Yes",
          "TechSupport_No",
          "TechSupport_No internet service",
          "TechSupport_Yes",
          "StreamingTV_No",
          "StreamingTV_No internet service",
          "StreamingTV_Yes",
          "StreamingMovies_No",
          "StreamingMovies_No internet service",
          "StreamingMovies_Yes",
          "Contract_Month-to-month",
          "Contract_One year",
          "Contract_Two year",
          "PaymentMethod_Bank transfer (automatic)",
          "PaymentMethod_Credit card (automatic)",
          "PaymentMethod_Electronic check",
          "PaymentMethod_Mailed check",
          "Churn"
         ],
         "xaxis": "x",
         "y": [
          "Gender",
          "SeniorCitizen",
          "Partner",
          "Dependents",
          "PhoneService",
          "PaperlessBilling",
          "MultipleLines_No",
          "MultipleLines_No phone service",
          "MultipleLines_Yes",
          "InternetService_DSL",
          "InternetService_Fiber optic",
          "InternetService_No",
          "OnlineSecurity_No",
          "OnlineSecurity_No internet service",
          "OnlineSecurity_Yes",
          "OnlineBackup_No",
          "OnlineBackup_No internet service",
          "OnlineBackup_Yes",
          "DeviceProtection_No",
          "DeviceProtection_No internet service",
          "DeviceProtection_Yes",
          "TechSupport_No",
          "TechSupport_No internet service",
          "TechSupport_Yes",
          "StreamingTV_No",
          "StreamingTV_No internet service",
          "StreamingTV_Yes",
          "StreamingMovies_No",
          "StreamingMovies_No internet service",
          "StreamingMovies_Yes",
          "Contract_Month-to-month",
          "Contract_One year",
          "Contract_Two year",
          "PaymentMethod_Bank transfer (automatic)",
          "PaymentMethod_Credit card (automatic)",
          "PaymentMethod_Electronic check",
          "PaymentMethod_Mailed check",
          "Churn"
         ],
         "yaxis": "y",
         "z": [
          [
           1,
           0,
           0,
           0,
           0,
           0,
           0,
           0,
           0,
           0,
           0.010841265139886825,
           0.014022870525312515,
           0,
           0.014022870525312515,
           0.009011394622573136,
           0,
           0.014022870525312515,
           0,
           0.006309384831117769,
           0.014022870525312515,
           0,
           0,
           0.014022870525312515,
           0,
           0,
           0.014022870525312515,
           0.013419813021876692,
           0,
           0.014022870525312515,
           0,
           0,
           0,
           0,
           0,
           0,
           0,
           0,
           0.021670832305847463
          ],
          [
           0,
           1,
           0,
           0.20834477202950974,
           0,
           0.16374562004082086,
           0.12828923321920424,
           0,
           0.1375957121388054,
           0.11781734217398443,
           0.2650803943428938,
           0.18131586555704038,
           0.19082225595249158,
           0.18131586555704038,
           0.04307453614327867,
           0.09204806274730308,
           0.18131586555704038,
           0.05754000466087665,
           0.09348072605222092,
           0.18131586555704038,
           0.056030493900575865,
           0.1983547591319501,
           0.18131586555704038,
           0.05201852582570637,
           0.04054885364538898,
           0.18131586555704038,
           0.10875208197241855,
           0,
           0.18131586555704038,
           0.1382832794467266,
           0.14487373967346207,
           0.05115978107166017,
           0.11758588591228492,
           0.010930684904136978,
           0.020791708447112096,
           0.1752181322546453,
           0.15211319783600027,
           0.1494927363055745
          ],
          [
           0,
           0,
           1,
           0.4469347965283025,
           0,
           0,
           0.13297716756158756,
           0,
           0.13371228741503588,
           0,
           0,
           0,
           0.1179589174616278,
           0,
           0.13278492005283063,
           0.12936616259420664,
           0,
           0.1371618372772826,
           0.15307170631686653,
           0,
           0.16209582100237738,
           0.10104241417379889,
           0,
           0.11455284217313236,
           0.11436789216894266,
           0,
           0.11722995147504138,
           0.12391640533677398,
           0,
           0.12578756023794307,
           0.269436799290948,
           0.07717599789451408,
           0.239072334612581,
           0.11157552447495481,
           0.07679407981308257,
           0.09203987172415433,
           0.08049922817857057,
           0.13968592229011265
          ],
          [
           0,
           0.20834477202950974,
           0.4469347965283025,
           1,
           0,
           0.11879665508733664,
           0.021475993415104897,
           0,
           0.027764688315290546,
           0.045830951604652975,
           0.1675474436194964,
           0.14568888359397364,
           0.19182083518746365,
           0.14568888359397364,
           0.07771143873873336,
           0.13598922303768882,
           0.14568888359397364,
           0.004852369309653903,
           0.13343631834762257,
           0.14568888359397364,
           0,
           0.17119644551264943,
           0.14568888359397364,
           0.054589765081354595,
           0.0928184398204536,
           0.14568888359397364,
           0.024405847007298816,
           0.06854598777903777,
           0.14568888359397364,
           0.050566613532716125,
           0.23153548410700506,
           0.06708077501970658,
           0.20420564625311163,
           0.047232739103663615,
           0.06370810291380875,
           0.1526859328367773,
           0.05654664123549524,
           0.16738020258627773
          ],
          [
           0,
           0,
           0,
           0,
           1,
           0.025255439025802306,
           0.3157664241958887,
           0.9987378570351573,
           0.2788104952088599,
           0.448984377018369,
           0.2881091072355437,
           0.1707187321710693,
           0.06313745375550069,
           0.1707187321710693,
           0.08209936036571079,
           0.0892951464458246,
           0.1707187321710693,
           0.05084053197034708,
           0.06549290582889303,
           0.1707187321710693,
           0.07599544044699798,
           0.0497327740205768,
           0.1707187321710693,
           0.09704654436538017,
           0.1242768617484678,
           0.1707187321710693,
           0.010059311672358939,
           0.10173497760981388,
           0.1707187321710693,
           0.03793525148565233,
           0,
           0.006134178072863311,
           0,
           0,
           0,
           0,
           0,
           0.024654728029199446
          ],
          [
           0,
           0.16374562004082086,
           0,
           0.11879665508733664,
           0.025255439025802306,
           1,
           0.1435103892193638,
           0.025255439025802306,
           0.1634287594682582,
           0.06743122987406794,
           0.3372466257815374,
           0.32623354641558144,
           0.2610544338669869,
           0.32623354641558144,
           0,
           0.1509190242168753,
           0.32623354641558144,
           0.12290088542180572,
           0.15730081101827958,
           0.32623354641558144,
           0.11625655517252474,
           0.23103245305621029,
           0.32623354641558144,
           0.037953622851599665,
           0.03993925183945116,
           0.32623354641558144,
           0.2324432528576385,
           0.04016049856733113,
           0.32623354641558144,
           0.23137207938082707,
           0.1635281725926517,
           0.043460048529358135,
           0.14658481545855148,
           0,
           0,
           0.1976355043370349,
           0.20549062553624473,
           0.18527315371813496
          ],
          [
           0,
           0.12828923321920424,
           0.13297716756158756,
           0.021475993415104897,
           0.3157664241958887,
           0.1435103892193638,
           1,
           0.31576642419588863,
           0.8213745499765462,
           0.07182610523096733,
           0.18916141274594792,
           0.3139449062032922,
           0.12149412574500451,
           0.3139449062032922,
           0.14952785092351417,
           0.028131411919468417,
           0.3139449062032922,
           0.2379634670358113,
           0.01666512752472309,
           0.3139449062032922,
           0.24807687024862704,
           0.10913016814779901,
           0.3139449062032922,
           0.1638354049265494,
           0,
           0.3139449062032922,
           0.27818867812680903,
           0.014032869501885424,
           0.3139449062032922,
           0.28537137781663513,
           0.07832698737348599,
           0,
           0.08953761087632163,
           0.08283306752777102,
           0.060976993301298334,
           0.07615352497927382,
           0.23138905596002593,
           0.023748117800384397
          ],
          [
           0,
           0,
           0,
           0,
           0.9987378570351573,
           0.025255439025802306,
           0.31576642419588863,
           1,
           0.2788104952088599,
           0.448984377018369,
           0.2881091072355437,
           0.1707187321710693,
           0.06313745375550069,
           0.1707187321710693,
           0.08209936036571079,
           0.08929514644582459,
           0.1707187321710693,
           0.05084053197034708,
           0.06549290582889303,
           0.1707187321710693,
           0.07599544044699796,
           0.0497327740205768,
           0.1707187321710693,
           0.09704654436538016,
           0.12427686174846779,
           0.1707187321710693,
           0.01005931167235894,
           0.10173497760981388,
           0.1707187321710693,
           0.03793525148565233,
           0,
           0.006134178072863306,
           0,
           0,
           0,
           0,
           0,
           0.024654728029199446
          ],
          [
           0,
           0.1375957121388054,
           0.13371228741503588,
           0.027764688315290546,
           0.2788104952088599,
           0.1634287594682582,
           0.8213745499765462,
           0.2788104952088599,
           1,
           0.19452866990231002,
           0.3654803125471262,
           0.2141302078668357,
           0.08315632421389098,
           0.2141302078668357,
           0.10038270760824787,
           0.015778128276327873,
           0.2141302078668357,
           0.20850470702662915,
           0.008719610304454256,
           0.2141302078668357,
           0.2040166304234456,
           0.07844835312749054,
           0.2141302078668357,
           0.10599970472579731,
           0.08652477304376151,
           0.2141302078668357,
           0.2703059896580362,
           0.08158274719609039,
           0.2141302078668357,
           0.26387627460516777,
           0.07414738599336786,
           0,
           0.09451651532695494,
           0.08900164261882929,
           0.05686831355721634,
           0.07494564892953556,
           0.23206635263073594,
           0.043717738891603776
          ],
          [
           0,
           0.11781734217398443,
           0,
           0.045830951604652975,
           0.448984377018369,
           0.06743122987406794,
           0.07182610523096733,
           0.448984377018369,
           0.19452866990231002,
           1,
           0.6421787083759855,
           0.38200968746011604,
           0.03028412431894661,
           0.38200968746011604,
           0.3100189500225058,
           0.16357138119298315,
           0.38200968746011604,
           0.15817688750252804,
           0.18449225881581466,
           0.38200968746011604,
           0.13633084224584083,
           0.020629747501321165,
           0.38200968746011604,
           0.320516846608028,
           0.31467928991397304,
           0.38200968746011604,
           0,
           0.2897692654046016,
           0.38200968746011604,
           0.02758495298381616,
           0.06972960383578021,
           0.054919108823447825,
           0.024335683893502002,
           0.0031065499151775662,
           0.04671558208482546,
           0.09241514157333597,
           0.03810158975487742,
           0.12504312406560797
          ],
          [
           0.010841265139886825,
           0.2650803943428938,
           0,
           0.1675474436194964,
           0.2881091072355437,
           0.3372466257815374,
           0.18916141274594792,
           0.2881091072355437,
           0.3654803125471262,
           0.6421787083759855,
           1,
           0.460923792600648,
           0.40062693639971864,
           0.460923792600648,
           0.01802880074047224,
           0.2268857738853141,
           0.460923792600648,
           0.1605137136159299,
           0.2076955083053302,
           0.460923792600648,
           0.18068577705392694,
           0.41189542841554744,
           0.460923792600648,
           0.032768805763057435,
           0.05105356580919046,
           0.460923792600648,
           0.33585595750260694,
           0.06859838541824066,
           0.460923792600648,
           0.3175369447879828,
           0.2493135708910838,
           0.07640005560857546,
           0.21630903786349842,
           0.0071398734590025995,
           0.04473234446273114,
           0.33019186118644767,
           0.30717891271266506,
           0.31099780241917446
          ],
          [
           0.014022870525312515,
           0.18131586555704038,
           0,
           0.14568888359397364,
           0.1707187321710693,
           0.32623354641558144,
           0.3139449062032922,
           0.1707187321710693,
           0.2141302078668357,
           0.38200968746011604,
           0.460923792600648,
           1,
           0.5228632609636161,
           0.9993440083625375,
           0.33025519612434023,
           0.464685827218313,
           0.9993440083625375,
           0.3786402637462629,
           0.4657349367201033,
           0.9993440083625375,
           0.3777062940099712,
           0.5268298823268113,
           0.9993440083625375,
           0.3271871072774199,
           0.4292089918433414,
           0.9993440083625375,
           0.4117425420592535,
           0.42091531899795903,
           0.9993440083625375,
           0.41993419685229516,
           0.21757042841392019,
           0.02288861435044307,
           0.22730653479502752,
           0,
           0,
           0.28924202959079504,
           0.3225098516002223,
           0.22855572763747348
          ],
          [
           0,
           0.19082225595249158,
           0.1179589174616278,
           0.19182083518746365,
           0.06313745375550069,
           0.2610544338669869,
           0.12149412574500451,
           0.06313745375550069,
           0.08315632421389098,
           0.03028412431894661,
           0.40062693639971864,
           0.5228632609636161,
           1,
           0.5228632609636161,
           0.6299446751352846,
           0.37519195703036073,
           0.5228632609636161,
           0.05811469346005821,
           0.36123245535604925,
           0.5228632609636161,
           0.0730275963881495,
           0.47265613456985134,
           0.5228632609636161,
           0.044467678751992874,
           0.24838558199834582,
           0.5228632609636161,
           0.1906017261611558,
           0.2630080450642773,
           0.5228632609636161,
           0.17609802826542542,
           0.392590255410746,
           0.1105271229651828,
           0.3514285350702261,
           0.07796299631607918,
           0.08844292616252167,
           0.3210223471592284,
           0.19365118933503606,
           0.3338105089557566
          ],
          [
           0.014022870525312515,
           0.18131586555704038,
           0,
           0.14568888359397364,
           0.1707187321710693,
           0.32623354641558144,
           0.3139449062032922,
           0.1707187321710693,
           0.2141302078668357,
           0.38200968746011604,
           0.460923792600648,
           0.9993440083625375,
           0.5228632609636161,
           1,
           0.33025519612434023,
           0.464685827218313,
           0.9993440083625375,
           0.3786402637462629,
           0.4657349367201033,
           0.9993440083625375,
           0.3777062940099712,
           0.5268298823268113,
           0.9993440083625375,
           0.3271871072774199,
           0.4292089918433414,
           0.9993440083625375,
           0.4117425420592535,
           0.42091531899795903,
           0.9993440083625375,
           0.41993419685229516,
           0.21757042841392019,
           0.02288861435044307,
           0.22730653479502752,
           0,
           0,
           0.28924202959079504,
           0.3225098516002223,
           0.22855572763747348
          ],
          [
           0.009011394622573136,
           0.04307453614327867,
           0.13278492005283063,
           0.07771143873873336,
           0.08209936036571079,
           0,
           0.14952785092351417,
           0.08209936036571079,
           0.10038270760824787,
           0.3100189500225058,
           0.01802880074047224,
           0.33025519612434023,
           0.6299446751352846,
           0.33025519612434023,
           1,
           0,
           0.33025519612434023,
           0.2778444018554862,
           0.018299746118355664,
           0.33025519612434023,
           0.26086731334261326,
           0.040448710099583784,
           0.33025519612434023,
           0.35054160627046616,
           0.11419062599799654,
           0.33025519612434023,
           0.1624162596266628,
           0.09021680175580891,
           0.33025519612434023,
           0.18597226352254367,
           0.23547167495214455,
           0.0968903993689808,
           0.1808480190093015,
           0.08450728590072192,
           0.09813373077199529,
           0.09032768050176214,
           0.0770025221187142,
           0.16016037235690508
          ],
          [
           0,
           0.09204806274730308,
           0.12936616259420664,
           0.13598922303768882,
           0.0892951464458246,
           0.1509190242168753,
           0.028131411919468417,
           0.08929514644582459,
           0.015778128276327873,
           0.16357138119298315,
           0.2268857738853141,
           0.464685827218313,
           0.37519195703036073,
           0.464685827218313,
           0,
           1,
           0.464685827218313,
           0.6417158241688167,
           0.3499572307747202,
           0.464685827218313,
           0.03268539932193719,
           0.39980790696151325,
           0.464685827218313,
           0.011993523275964,
           0.30141142106503044,
           0.464685827218313,
           0.08727860149085186,
           0.2893393173804862,
           0.464685827218313,
           0.10031950573542149,
           0.3427309085054495,
           0.10509818143154798,
           0.29836818416634325,
           0.09040568945389471,
           0.08459505003156656,
           0.24645722853072202,
           0.10133803630241651,
           0.2774649687318899
          ],
          [
           0.014022870525312515,
           0.18131586555704038,
           0,
           0.14568888359397364,
           0.1707187321710693,
           0.32623354641558144,
           0.3139449062032922,
           0.1707187321710693,
           0.2141302078668357,
           0.38200968746011604,
           0.460923792600648,
           0.9993440083625375,
           0.5228632609636161,
           0.9993440083625375,
           0.33025519612434023,
           0.464685827218313,
           1,
           0.3786402637462629,
           0.4657349367201033,
           0.9993440083625375,
           0.3777062940099712,
           0.5268298823268113,
           0.9993440083625375,
           0.3271871072774199,
           0.4292089918433414,
           0.9993440083625375,
           0.4117425420592535,
           0.42091531899795903,
           0.9993440083625375,
           0.41993419685229516,
           0.21757042841392019,
           0.02288861435044307,
           0.22730653479502752,
           0,
           0,
           0.28924202959079504,
           0.3225098516002223,
           0.22855572763747348
          ],
          [
           0,
           0.05754000466087665,
           0.1371618372772826,
           0.004852369309653903,
           0.05084053197034708,
           0.12290088542180572,
           0.2379634670358113,
           0.05084053197034708,
           0.20850470702662915,
           0.15817688750252804,
           0.1605137136159299,
           0.3786402637462629,
           0.05811469346005821,
           0.3786402637462629,
           0.2778444018554862,
           0.6417158241688167,
           0.3786402637462629,
           1,
           0.033756523749809364,
           0.3786402637462629,
           0.2889116695320847,
           0.03464750233790552,
           0.3786402637462629,
           0.3037756733932382,
           0.053952838387530615,
           0.3786402637462629,
           0.26333411057045886,
           0.05956067271240846,
           0.3786402637462629,
           0.25695256133933797,
           0.16862570488413692,
           0.08544400958831726,
           0.11349509155233851,
           0.09259488896263576,
           0.08847605755321597,
           0,
           0.17131023541043275,
           0.0903672288241672
          ],
          [
           0.006309384831117769,
           0.09348072605222092,
           0.15307170631686653,
           0.13343631834762257,
           0.06549290582889303,
           0.15730081101827958,
           0.01666512752472309,
           0.06549290582889303,
           0.008719610304454256,
           0.18449225881581466,
           0.2076955083053302,
           0.4657349367201033,
           0.36123245535604925,
           0.4657349367201033,
           0.018299746118355664,
           0.3499572307747202,
           0.4657349367201033,
           0.033756523749809364,
           1,
           0.4657349367201033,
           0.6415799463904256,
           0.4117617755983347,
           0.4657349367201033,
           0.02769773534165838,
           0.4107824751323085,
           0.4657349367201033,
           0.013201032808439943,
           0.42758471320295033,
           0.4657349367201033,
           0.031639572444580516,
           0.38513756730540116,
           0.11290273775908191,
           0.34048919091920055,
           0.07493260011399665,
           0.10651607022246512,
           0.23532305176181523,
           0.08210914441780894,
           0.25171877180881597
          ],
          [
           0.014022870525312515,
           0.18131586555704038,
           0,
           0.14568888359397364,
           0.1707187321710693,
           0.32623354641558144,
           0.3139449062032922,
           0.1707187321710693,
           0.2141302078668357,
           0.38200968746011604,
           0.460923792600648,
           0.9993440083625375,
           0.5228632609636161,
           0.9993440083625375,
           0.33025519612434023,
           0.464685827218313,
           0.9993440083625375,
           0.3786402637462629,
           0.4657349367201033,
           1,
           0.3777062940099712,
           0.5268298823268113,
           0.9993440083625375,
           0.3271871072774199,
           0.4292089918433414,
           0.9993440083625375,
           0.4117425420592535,
           0.42091531899795903,
           0.9993440083625375,
           0.41993419685229516,
           0.21757042841392019,
           0.02288861435044307,
           0.22730653479502752,
           0,
           0,
           0.28924202959079504,
           0.3225098516002223,
           0.22855572763747348
          ],
          [
           0,
           0.056030493900575865,
           0.16209582100237738,
           0,
           0.07599544044699798,
           0.11625655517252474,
           0.24807687024862704,
           0.07599544044699796,
           0.2040166304234456,
           0.13633084224584083,
           0.18068577705392694,
           0.3777062940099712,
           0.0730275963881495,
           0.3777062940099712,
           0.26086731334261326,
           0.03268539932193719,
           0.3777062940099712,
           0.2889116695320847,
           0.6415799463904256,
           0.3777062940099712,
           1,
           0.020241124761535823,
           0.3777062940099712,
           0.316927146312837,
           0.05549368120213969,
           0.3777062940099712,
           0.3780831151910464,
           0.08084980406660905,
           0.3777062940099712,
           0.40095768508837076,
           0.2133261391416907,
           0.09374448446857794,
           0.1579666157448355,
           0.07651428920759785,
           0.1114846864714415,
           0,
           0.1913404026316473,
           0.06310147239798061
          ],
          [
           0,
           0.1983547591319501,
           0.10104241417379889,
           0.17119644551264943,
           0.0497327740205768,
           0.23103245305621029,
           0.10913016814779901,
           0.0497327740205768,
           0.07844835312749054,
           0.020629747501321165,
           0.41189542841554744,
           0.5268298823268113,
           0.47265613456985134,
           0.5268298823268113,
           0.040448710099583784,
           0.39980790696151325,
           0.5268298823268113,
           0.03464750233790552,
           0.4117617755983347,
           0.5268298823268113,
           0.020241124761535823,
           1,
           0.5268298823268113,
           0.628842150416673,
           0.3400812170587074,
           0.5268298823268113,
           0.10104902207382835,
           0.34610736341999954,
           0.5268298823268113,
           0.09587754379245367,
           0.43331536194693887,
           0.11441494347131609,
           0.3952744041502953,
           0.09185449617212871,
           0.0968441011569221,
           0.3353916086523282,
           0.18827246905416156,
           0.33028318831214626
          ],
          [
           0.014022870525312515,
           0.18131586555704038,
           0,
           0.14568888359397364,
           0.1707187321710693,
           0.32623354641558144,
           0.3139449062032922,
           0.1707187321710693,
           0.2141302078668357,
           0.38200968746011604,
           0.460923792600648,
           0.9993440083625375,
           0.5228632609636161,
           0.9993440083625375,
           0.33025519612434023,
           0.464685827218313,
           0.9993440083625375,
           0.3786402637462629,
           0.4657349367201033,
           0.9993440083625375,
           0.3777062940099712,
           0.5268298823268113,
           1,
           0.3271871072774199,
           0.4292089918433414,
           0.9993440083625375,
           0.4117425420592535,
           0.42091531899795903,
           0.9993440083625375,
           0.41993419685229516,
           0.21757042841392019,
           0.02288861435044307,
           0.22730653479502752,
           0,
           0,
           0.28924202959079504,
           0.3225098516002223,
           0.22855572763747348
          ],
          [
           0,
           0.05201852582570637,
           0.11455284217313236,
           0.054589765081354595,
           0.09704654436538017,
           0.037953622851599665,
           0.1638354049265494,
           0.09704654436538016,
           0.10599970472579731,
           0.320516846608028,
           0.032768805763057435,
           0.3271871072774199,
           0.044467678751992874,
           0.3271871072774199,
           0.35054160627046616,
           0.011993523275964,
           0.3271871072774199,
           0.3037756733932382,
           0.02769773534165838,
           0.3271871072774199,
           0.316927146312837,
           0.628842150416673,
           0.3271871072774199,
           1,
           0,
           0.3271871072774199,
           0.2623470167010825,
           0,
           0.3271871072774199,
           0.2755429610049175,
           0.28174852405987477,
           0.10162201403015984,
           0.23042076330908823,
           0.10026726138165903,
           0.10785595625898524,
           0.10683926054458659,
           0.08339307343183022,
           0.15687063800872733
          ],
          [
           0,
           0.04054885364538898,
           0.11436789216894266,
           0.0928184398204536,
           0.1242768617484678,
           0.03993925183945116,
           0,
           0.12427686174846779,
           0.08652477304376151,
           0.31467928991397304,
           0.05105356580919046,
           0.4292089918433414,
           0.24838558199834582,
           0.4292089918433414,
           0.11419062599799654,
           0.30141142106503044,
           0.4292089918433414,
           0.053952838387530615,
           0.4107824751323085,
           0.4292089918433414,
           0.05549368120213969,
           0.3400812170587074,
           0.4292089918433414,
           0,
           1,
           0.4292089918433414,
           0.644505069131772,
           0.5436816670178743,
           0.4292089918433414,
           0.18121418354564722,
           0.2819055766560906,
           0.08156864790131325,
           0.24950144068755753,
           0.04959047734989922,
           0.03201270754497956,
           0.10100571797030294,
           0.024184707021442802,
           0.12071144028429116
          ],
          [
           0.014022870525312515,
           0.18131586555704038,
           0,
           0.14568888359397364,
           0.1707187321710693,
           0.32623354641558144,
           0.3139449062032922,
           0.1707187321710693,
           0.2141302078668357,
           0.38200968746011604,
           0.460923792600648,
           0.9993440083625375,
           0.5228632609636161,
           0.9993440083625375,
           0.33025519612434023,
           0.464685827218313,
           0.9993440083625375,
           0.3786402637462629,
           0.4657349367201033,
           0.9993440083625375,
           0.3777062940099712,
           0.5268298823268113,
           0.9993440083625375,
           0.3271871072774199,
           0.4292089918433414,
           1,
           0.4117425420592535,
           0.42091531899795903,
           0.9993440083625375,
           0.41993419685229516,
           0.21757042841392019,
           0.02288861435044307,
           0.22730653479502752,
           0,
           0,
           0.28924202959079504,
           0.3225098516002223,
           0.22855572763747348
          ],
          [
           0.013419813021876692,
           0.10875208197241855,
           0.11722995147504138,
           0.024405847007298816,
           0.010059311672358939,
           0.2324432528576385,
           0.27818867812680903,
           0.01005931167235894,
           0.2703059896580362,
           0,
           0.33585595750260694,
           0.4117425420592535,
           0.1906017261611558,
           0.4117425420592535,
           0.1624162596266628,
           0.08727860149085186,
           0.4117425420592535,
           0.26333411057045886,
           0.013201032808439943,
           0.4117425420592535,
           0.3780831151910464,
           0.10104902207382835,
           0.4117425420592535,
           0.2623470167010825,
           0.644505069131772,
           0.4117425420592535,
           1,
           0.19125596484200508,
           0.4117425420592535,
           0.5393552793774674,
           0.09868319276980253,
           0.05810474186665333,
           0.05694291971025402,
           0.04804077428413724,
           0.03228821330255011,
           0.14084069221569565,
           0.24358946091011885,
           0.06902291957851626
          ],
          [
           0,
           0,
           0.12391640533677398,
           0.06854598777903777,
           0.10173497760981388,
           0.04016049856733113,
           0.014032869501885424,
           0.10173497760981388,
           0.08158274719609039,
           0.2897692654046016,
           0.06859838541824066,
           0.42091531899795903,
           0.2630080450642773,
           0.42091531899795903,
           0.09021680175580891,
           0.2893393173804862,
           0.42091531899795903,
           0.05956067271240846,
           0.42758471320295033,
           0.42091531899795903,
           0.08084980406660905,
           0.34610736341999954,
           0.42091531899795903,
           0,
           0.5436816670178743,
           0.42091531899795903,
           0.19125596484200508,
           1,
           0.42091531899795903,
           0.6446243516014605,
           0.2961345064991474,
           0.09364470340199146,
           0.254767945352575,
           0.05216992966295718,
           0.04829120836457228,
           0.1073794003782732,
           0.010254056847043148,
           0.12031560680397028
          ],
          [
           0.014022870525312515,
           0.18131586555704038,
           0,
           0.14568888359397364,
           0.1707187321710693,
           0.32623354641558144,
           0.3139449062032922,
           0.1707187321710693,
           0.2141302078668357,
           0.38200968746011604,
           0.460923792600648,
           0.9993440083625375,
           0.5228632609636161,
           0.9993440083625375,
           0.33025519612434023,
           0.464685827218313,
           0.9993440083625375,
           0.3786402637462629,
           0.4657349367201033,
           0.9993440083625375,
           0.3777062940099712,
           0.5268298823268113,
           0.9993440083625375,
           0.3271871072774199,
           0.4292089918433414,
           0.9993440083625375,
           0.4117425420592535,
           0.42091531899795903,
           1,
           0.41993419685229516,
           0.21757042841392019,
           0.02288861435044307,
           0.22730653479502752,
           0,
           0,
           0.28924202959079504,
           0.3225098516002223,
           0.22855572763747348
          ],
          [
           0,
           0.1382832794467266,
           0.12578756023794307,
           0.050566613532716125,
           0.03793525148565233,
           0.23137207938082707,
           0.28537137781663513,
           0.03793525148565233,
           0.26387627460516777,
           0.02758495298381616,
           0.3175369447879828,
           0.41993419685229516,
           0.17609802826542542,
           0.41993419685229516,
           0.18597226352254367,
           0.10031950573542149,
           0.41993419685229516,
           0.25695256133933797,
           0.031639572444580516,
           0.41993419685229516,
           0.40095768508837076,
           0.09587754379245367,
           0.41993419685229516,
           0.2755429610049175,
           0.18121418354564722,
           0.41993419685229516,
           0.5393552793774674,
           0.6446243516014605,
           0.41993419685229516,
           1,
           0.11145481854273401,
           0.0697229208298048,
           0.06106698380623798,
           0.05017940028760609,
           0.048247945174903925,
           0.13427102300409674,
           0.25296279988014625,
           0.06960295835026407
          ],
          [
           0,
           0.14487373967346207,
           0.269436799290948,
           0.23153548410700506,
           0,
           0.1635281725926517,
           0.07832698737348599,
           0,
           0.07414738599336786,
           0.06972960383578021,
           0.2493135708910838,
           0.21757042841392019,
           0.392590255410746,
           0.21757042841392019,
           0.23547167495214455,
           0.3427309085054495,
           0.21757042841392019,
           0.16862570488413692,
           0.38513756730540116,
           0.21757042841392019,
           0.2133261391416907,
           0.43331536194693887,
           0.21757042841392019,
           0.28174852405987477,
           0.2819055766560906,
           0.21757042841392019,
           0.09868319276980253,
           0.2961345064991474,
           0.21757042841392019,
           0.11145481854273401,
           1,
           0.5694306458797579,
           0.6239021962379306,
           0.1724423162542436,
           0.2020309517574609,
           0.333873147134293,
           0,
           0.3979828084455138
          ],
          [
           0,
           0.05115978107166017,
           0.07717599789451408,
           0.06708077501970658,
           0.006134178072863311,
           0.043460048529358135,
           0,
           0.006134178072863306,
           0,
           0.054919108823447825,
           0.07640005560857546,
           0.02288861435044307,
           0.1105271229651828,
           0.02288861435044307,
           0.0968903993689808,
           0.10509818143154798,
           0.02288861435044307,
           0.08544400958831726,
           0.11290273775908191,
           0.02288861435044307,
           0.09374448446857794,
           0.11441494347131609,
           0.02288861435044307,
           0.10162201403015984,
           0.08156864790131325,
           0.02288861435044307,
           0.05810474186665333,
           0.09364470340199146,
           0.02288861435044307,
           0.0697229208298048,
           0.5694306458797579,
           1,
           0.2845838014792416,
           0.042654106706294305,
           0.07707891773062432,
           0.11638866010527006,
           0,
           0.17286510682653858
          ],
          [
           0,
           0.11758588591228492,
           0.239072334612581,
           0.20420564625311163,
           0,
           0.14658481545855148,
           0.08953761087632163,
           0,
           0.09451651532695494,
           0.024335683893502002,
           0.21630903786349842,
           0.22730653479502752,
           0.3514285350702261,
           0.22730653479502752,
           0.1808480190093015,
           0.29836818416634325,
           0.22730653479502752,
           0.11349509155233851,
           0.34048919091920055,
           0.22730653479502752,
           0.1579666157448355,
           0.3952744041502953,
           0.22730653479502752,
           0.23042076330908823,
           0.24950144068755753,
           0.22730653479502752,
           0.05694291971025402,
           0.254767945352575,
           0.22730653479502752,
           0.06106698380623798,
           0.6239021962379306,
           0.2845838014792416,
           1,
           0.1576140042783716,
           0.16036004371268417,
           0.27735408490902014,
           0,
           0.29867112654218686
          ],
          [
           0,
           0.010930684904136978,
           0.11157552447495481,
           0.047232739103663615,
           0,
           0,
           0.08283306752777102,
           0,
           0.08900164261882929,
           0.0031065499151775662,
           0.0071398734590025995,
           0,
           0.07796299631607918,
           0,
           0.08450728590072192,
           0.09040568945389471,
           0,
           0.09259488896263576,
           0.07493260011399665,
           0,
           0.07651428920759785,
           0.09185449617212871,
           0,
           0.10026726138165903,
           0.04959047734989922,
           0,
           0.04804077428413724,
           0.05216992966295718,
           0,
           0.05017940028760609,
           0.1724423162542436,
           0.042654106706294305,
           0.1576140042783716,
           1,
           0.2755318945115969,
           0.3699764017626004,
           0.2835851257755538,
           0.11625102744956561
          ],
          [
           0,
           0.020791708447112096,
           0.07679407981308257,
           0.06370810291380875,
           0,
           0,
           0.060976993301298334,
           0,
           0.05686831355721634,
           0.04671558208482546,
           0.04473234446273114,
           0,
           0.08844292616252167,
           0,
           0.09813373077199529,
           0.08459505003156656,
           0,
           0.08847605755321597,
           0.10651607022246512,
           0,
           0.1114846864714415,
           0.0968441011569221,
           0,
           0.10785595625898524,
           0.03201270754497956,
           0,
           0.03228821330255011,
           0.04829120836457228,
           0,
           0.048247945174903925,
           0.2020309517574609,
           0.07707891773062432,
           0.16036004371268417,
           0.2755318945115969,
           1,
           0.37758079556352797,
           0.28942692848129775,
           0.1347253420421003
          ],
          [
           0,
           0.1752181322546453,
           0.09203987172415433,
           0.1526859328367773,
           0,
           0.1976355043370349,
           0.07615352497927382,
           0,
           0.07494564892953556,
           0.09241514157333597,
           0.33019186118644767,
           0.28924202959079504,
           0.3210223471592284,
           0.28924202959079504,
           0.09032768050176214,
           0.24645722853072202,
           0.28924202959079504,
           0,
           0.23532305176181523,
           0.28924202959079504,
           0,
           0.3353916086523282,
           0.28924202959079504,
           0.10683926054458659,
           0.10100571797030294,
           0.28924202959079504,
           0.14084069221569565,
           0.1073794003782732,
           0.28924202959079504,
           0.13427102300409674,
           0.333873147134293,
           0.11638866010527006,
           0.27735408490902014,
           0.3699764017626004,
           0.37758079556352797,
           1,
           0.38858719216471815,
           0.30800999339861046
          ],
          [
           0,
           0.15211319783600027,
           0.08049922817857057,
           0.05654664123549524,
           0,
           0.20549062553624473,
           0.23138905596002593,
           0,
           0.23206635263073594,
           0.03810158975487742,
           0.30717891271266506,
           0.3225098516002223,
           0.19365118933503606,
           0.3225098516002223,
           0.0770025221187142,
           0.10133803630241651,
           0.3225098516002223,
           0.17131023541043275,
           0.08210914441780894,
           0.3225098516002223,
           0.1913404026316473,
           0.18827246905416156,
           0.3225098516002223,
           0.08339307343183022,
           0.024184707021442802,
           0.3225098516002223,
           0.24358946091011885,
           0.010254056847043148,
           0.3225098516002223,
           0.25296279988014625,
           0,
           0,
           0,
           0.2835851257755538,
           0.28942692848129775,
           0.38858719216471815,
           1,
           0.09639268887459358
          ],
          [
           0.021670832305847463,
           0.1494927363055745,
           0.13968592229011265,
           0.16738020258627773,
           0.024654728029199446,
           0.18527315371813496,
           0.023748117800384397,
           0.024654728029199446,
           0.043717738891603776,
           0.12504312406560797,
           0.31099780241917446,
           0.22855572763747348,
           0.3338105089557566,
           0.22855572763747348,
           0.16016037235690508,
           0.2774649687318899,
           0.22855572763747348,
           0.0903672288241672,
           0.25171877180881597,
           0.22855572763747348,
           0.06310147239798061,
           0.33028318831214626,
           0.22855572763747348,
           0.15687063800872733,
           0.12071144028429116,
           0.22855572763747348,
           0.06902291957851626,
           0.12031560680397028,
           0.22855572763747348,
           0.06960295835026407,
           0.3979828084455138,
           0.17286510682653858,
           0.29867112654218686,
           0.11625102744956561,
           0.1347253420421003,
           0.30800999339861046,
           0.09639268887459358,
           1
          ]
         ]
        }
       ],
       "layout": {
        "coloraxis": {
         "colorscale": [
          [
           0,
           "rgb(103,0,31)"
          ],
          [
           0.1,
           "rgb(178,24,43)"
          ],
          [
           0.2,
           "rgb(214,96,77)"
          ],
          [
           0.3,
           "rgb(244,165,130)"
          ],
          [
           0.4,
           "rgb(253,219,199)"
          ],
          [
           0.5,
           "rgb(247,247,247)"
          ],
          [
           0.6,
           "rgb(209,229,240)"
          ],
          [
           0.7,
           "rgb(146,197,222)"
          ],
          [
           0.8,
           "rgb(67,147,195)"
          ],
          [
           0.9,
           "rgb(33,102,172)"
          ],
          [
           1,
           "rgb(5,48,97)"
          ]
         ]
        },
        "height": 700,
        "margin": {
         "t": 60
        },
        "template": {
         "data": {
          "bar": [
           {
            "error_x": {
             "color": "#2a3f5f"
            },
            "error_y": {
             "color": "#2a3f5f"
            },
            "marker": {
             "line": {
              "color": "#E5ECF6",
              "width": 0.5
             },
             "pattern": {
              "fillmode": "overlay",
              "size": 10,
              "solidity": 0.2
             }
            },
            "type": "bar"
           }
          ],
          "barpolar": [
           {
            "marker": {
             "line": {
              "color": "#E5ECF6",
              "width": 0.5
             },
             "pattern": {
              "fillmode": "overlay",
              "size": 10,
              "solidity": 0.2
             }
            },
            "type": "barpolar"
           }
          ],
          "carpet": [
           {
            "aaxis": {
             "endlinecolor": "#2a3f5f",
             "gridcolor": "white",
             "linecolor": "white",
             "minorgridcolor": "white",
             "startlinecolor": "#2a3f5f"
            },
            "baxis": {
             "endlinecolor": "#2a3f5f",
             "gridcolor": "white",
             "linecolor": "white",
             "minorgridcolor": "white",
             "startlinecolor": "#2a3f5f"
            },
            "type": "carpet"
           }
          ],
          "choropleth": [
           {
            "colorbar": {
             "outlinewidth": 0,
             "ticks": ""
            },
            "type": "choropleth"
           }
          ],
          "contour": [
           {
            "colorbar": {
             "outlinewidth": 0,
             "ticks": ""
            },
            "colorscale": [
             [
              0,
              "#0d0887"
             ],
             [
              0.1111111111111111,
              "#46039f"
             ],
             [
              0.2222222222222222,
              "#7201a8"
             ],
             [
              0.3333333333333333,
              "#9c179e"
             ],
             [
              0.4444444444444444,
              "#bd3786"
             ],
             [
              0.5555555555555556,
              "#d8576b"
             ],
             [
              0.6666666666666666,
              "#ed7953"
             ],
             [
              0.7777777777777778,
              "#fb9f3a"
             ],
             [
              0.8888888888888888,
              "#fdca26"
             ],
             [
              1,
              "#f0f921"
             ]
            ],
            "type": "contour"
           }
          ],
          "contourcarpet": [
           {
            "colorbar": {
             "outlinewidth": 0,
             "ticks": ""
            },
            "type": "contourcarpet"
           }
          ],
          "heatmap": [
           {
            "colorbar": {
             "outlinewidth": 0,
             "ticks": ""
            },
            "colorscale": [
             [
              0,
              "#0d0887"
             ],
             [
              0.1111111111111111,
              "#46039f"
             ],
             [
              0.2222222222222222,
              "#7201a8"
             ],
             [
              0.3333333333333333,
              "#9c179e"
             ],
             [
              0.4444444444444444,
              "#bd3786"
             ],
             [
              0.5555555555555556,
              "#d8576b"
             ],
             [
              0.6666666666666666,
              "#ed7953"
             ],
             [
              0.7777777777777778,
              "#fb9f3a"
             ],
             [
              0.8888888888888888,
              "#fdca26"
             ],
             [
              1,
              "#f0f921"
             ]
            ],
            "type": "heatmap"
           }
          ],
          "heatmapgl": [
           {
            "colorbar": {
             "outlinewidth": 0,
             "ticks": ""
            },
            "colorscale": [
             [
              0,
              "#0d0887"
             ],
             [
              0.1111111111111111,
              "#46039f"
             ],
             [
              0.2222222222222222,
              "#7201a8"
             ],
             [
              0.3333333333333333,
              "#9c179e"
             ],
             [
              0.4444444444444444,
              "#bd3786"
             ],
             [
              0.5555555555555556,
              "#d8576b"
             ],
             [
              0.6666666666666666,
              "#ed7953"
             ],
             [
              0.7777777777777778,
              "#fb9f3a"
             ],
             [
              0.8888888888888888,
              "#fdca26"
             ],
             [
              1,
              "#f0f921"
             ]
            ],
            "type": "heatmapgl"
           }
          ],
          "histogram": [
           {
            "marker": {
             "pattern": {
              "fillmode": "overlay",
              "size": 10,
              "solidity": 0.2
             }
            },
            "type": "histogram"
           }
          ],
          "histogram2d": [
           {
            "colorbar": {
             "outlinewidth": 0,
             "ticks": ""
            },
            "colorscale": [
             [
              0,
              "#0d0887"
             ],
             [
              0.1111111111111111,
              "#46039f"
             ],
             [
              0.2222222222222222,
              "#7201a8"
             ],
             [
              0.3333333333333333,
              "#9c179e"
             ],
             [
              0.4444444444444444,
              "#bd3786"
             ],
             [
              0.5555555555555556,
              "#d8576b"
             ],
             [
              0.6666666666666666,
              "#ed7953"
             ],
             [
              0.7777777777777778,
              "#fb9f3a"
             ],
             [
              0.8888888888888888,
              "#fdca26"
             ],
             [
              1,
              "#f0f921"
             ]
            ],
            "type": "histogram2d"
           }
          ],
          "histogram2dcontour": [
           {
            "colorbar": {
             "outlinewidth": 0,
             "ticks": ""
            },
            "colorscale": [
             [
              0,
              "#0d0887"
             ],
             [
              0.1111111111111111,
              "#46039f"
             ],
             [
              0.2222222222222222,
              "#7201a8"
             ],
             [
              0.3333333333333333,
              "#9c179e"
             ],
             [
              0.4444444444444444,
              "#bd3786"
             ],
             [
              0.5555555555555556,
              "#d8576b"
             ],
             [
              0.6666666666666666,
              "#ed7953"
             ],
             [
              0.7777777777777778,
              "#fb9f3a"
             ],
             [
              0.8888888888888888,
              "#fdca26"
             ],
             [
              1,
              "#f0f921"
             ]
            ],
            "type": "histogram2dcontour"
           }
          ],
          "mesh3d": [
           {
            "colorbar": {
             "outlinewidth": 0,
             "ticks": ""
            },
            "type": "mesh3d"
           }
          ],
          "parcoords": [
           {
            "line": {
             "colorbar": {
              "outlinewidth": 0,
              "ticks": ""
             }
            },
            "type": "parcoords"
           }
          ],
          "pie": [
           {
            "automargin": true,
            "type": "pie"
           }
          ],
          "scatter": [
           {
            "fillpattern": {
             "fillmode": "overlay",
             "size": 10,
             "solidity": 0.2
            },
            "type": "scatter"
           }
          ],
          "scatter3d": [
           {
            "line": {
             "colorbar": {
              "outlinewidth": 0,
              "ticks": ""
             }
            },
            "marker": {
             "colorbar": {
              "outlinewidth": 0,
              "ticks": ""
             }
            },
            "type": "scatter3d"
           }
          ],
          "scattercarpet": [
           {
            "marker": {
             "colorbar": {
              "outlinewidth": 0,
              "ticks": ""
             }
            },
            "type": "scattercarpet"
           }
          ],
          "scattergeo": [
           {
            "marker": {
             "colorbar": {
              "outlinewidth": 0,
              "ticks": ""
             }
            },
            "type": "scattergeo"
           }
          ],
          "scattergl": [
           {
            "marker": {
             "colorbar": {
              "outlinewidth": 0,
              "ticks": ""
             }
            },
            "type": "scattergl"
           }
          ],
          "scattermapbox": [
           {
            "marker": {
             "colorbar": {
              "outlinewidth": 0,
              "ticks": ""
             }
            },
            "type": "scattermapbox"
           }
          ],
          "scatterpolar": [
           {
            "marker": {
             "colorbar": {
              "outlinewidth": 0,
              "ticks": ""
             }
            },
            "type": "scatterpolar"
           }
          ],
          "scatterpolargl": [
           {
            "marker": {
             "colorbar": {
              "outlinewidth": 0,
              "ticks": ""
             }
            },
            "type": "scatterpolargl"
           }
          ],
          "scatterternary": [
           {
            "marker": {
             "colorbar": {
              "outlinewidth": 0,
              "ticks": ""
             }
            },
            "type": "scatterternary"
           }
          ],
          "surface": [
           {
            "colorbar": {
             "outlinewidth": 0,
             "ticks": ""
            },
            "colorscale": [
             [
              0,
              "#0d0887"
             ],
             [
              0.1111111111111111,
              "#46039f"
             ],
             [
              0.2222222222222222,
              "#7201a8"
             ],
             [
              0.3333333333333333,
              "#9c179e"
             ],
             [
              0.4444444444444444,
              "#bd3786"
             ],
             [
              0.5555555555555556,
              "#d8576b"
             ],
             [
              0.6666666666666666,
              "#ed7953"
             ],
             [
              0.7777777777777778,
              "#fb9f3a"
             ],
             [
              0.8888888888888888,
              "#fdca26"
             ],
             [
              1,
              "#f0f921"
             ]
            ],
            "type": "surface"
           }
          ],
          "table": [
           {
            "cells": {
             "fill": {
              "color": "#EBF0F8"
             },
             "line": {
              "color": "white"
             }
            },
            "header": {
             "fill": {
              "color": "#C8D4E3"
             },
             "line": {
              "color": "white"
             }
            },
            "type": "table"
           }
          ]
         },
         "layout": {
          "annotationdefaults": {
           "arrowcolor": "#2a3f5f",
           "arrowhead": 0,
           "arrowwidth": 1
          },
          "autotypenumbers": "strict",
          "coloraxis": {
           "colorbar": {
            "outlinewidth": 0,
            "ticks": ""
           }
          },
          "colorscale": {
           "diverging": [
            [
             0,
             "#8e0152"
            ],
            [
             0.1,
             "#c51b7d"
            ],
            [
             0.2,
             "#de77ae"
            ],
            [
             0.3,
             "#f1b6da"
            ],
            [
             0.4,
             "#fde0ef"
            ],
            [
             0.5,
             "#f7f7f7"
            ],
            [
             0.6,
             "#e6f5d0"
            ],
            [
             0.7,
             "#b8e186"
            ],
            [
             0.8,
             "#7fbc41"
            ],
            [
             0.9,
             "#4d9221"
            ],
            [
             1,
             "#276419"
            ]
           ],
           "sequential": [
            [
             0,
             "#0d0887"
            ],
            [
             0.1111111111111111,
             "#46039f"
            ],
            [
             0.2222222222222222,
             "#7201a8"
            ],
            [
             0.3333333333333333,
             "#9c179e"
            ],
            [
             0.4444444444444444,
             "#bd3786"
            ],
            [
             0.5555555555555556,
             "#d8576b"
            ],
            [
             0.6666666666666666,
             "#ed7953"
            ],
            [
             0.7777777777777778,
             "#fb9f3a"
            ],
            [
             0.8888888888888888,
             "#fdca26"
            ],
            [
             1,
             "#f0f921"
            ]
           ],
           "sequentialminus": [
            [
             0,
             "#0d0887"
            ],
            [
             0.1111111111111111,
             "#46039f"
            ],
            [
             0.2222222222222222,
             "#7201a8"
            ],
            [
             0.3333333333333333,
             "#9c179e"
            ],
            [
             0.4444444444444444,
             "#bd3786"
            ],
            [
             0.5555555555555556,
             "#d8576b"
            ],
            [
             0.6666666666666666,
             "#ed7953"
            ],
            [
             0.7777777777777778,
             "#fb9f3a"
            ],
            [
             0.8888888888888888,
             "#fdca26"
            ],
            [
             1,
             "#f0f921"
            ]
           ]
          },
          "colorway": [
           "#636efa",
           "#EF553B",
           "#00cc96",
           "#ab63fa",
           "#FFA15A",
           "#19d3f3",
           "#FF6692",
           "#B6E880",
           "#FF97FF",
           "#FECB52"
          ],
          "font": {
           "color": "#2a3f5f"
          },
          "geo": {
           "bgcolor": "white",
           "lakecolor": "white",
           "landcolor": "#E5ECF6",
           "showlakes": true,
           "showland": true,
           "subunitcolor": "white"
          },
          "hoverlabel": {
           "align": "left"
          },
          "hovermode": "closest",
          "mapbox": {
           "style": "light"
          },
          "paper_bgcolor": "white",
          "plot_bgcolor": "#E5ECF6",
          "polar": {
           "angularaxis": {
            "gridcolor": "white",
            "linecolor": "white",
            "ticks": ""
           },
           "bgcolor": "#E5ECF6",
           "radialaxis": {
            "gridcolor": "white",
            "linecolor": "white",
            "ticks": ""
           }
          },
          "scene": {
           "xaxis": {
            "backgroundcolor": "#E5ECF6",
            "gridcolor": "white",
            "gridwidth": 2,
            "linecolor": "white",
            "showbackground": true,
            "ticks": "",
            "zerolinecolor": "white"
           },
           "yaxis": {
            "backgroundcolor": "#E5ECF6",
            "gridcolor": "white",
            "gridwidth": 2,
            "linecolor": "white",
            "showbackground": true,
            "ticks": "",
            "zerolinecolor": "white"
           },
           "zaxis": {
            "backgroundcolor": "#E5ECF6",
            "gridcolor": "white",
            "gridwidth": 2,
            "linecolor": "white",
            "showbackground": true,
            "ticks": "",
            "zerolinecolor": "white"
           }
          },
          "shapedefaults": {
           "line": {
            "color": "#2a3f5f"
           }
          },
          "ternary": {
           "aaxis": {
            "gridcolor": "white",
            "linecolor": "white",
            "ticks": ""
           },
           "baxis": {
            "gridcolor": "white",
            "linecolor": "white",
            "ticks": ""
           },
           "bgcolor": "#E5ECF6",
           "caxis": {
            "gridcolor": "white",
            "linecolor": "white",
            "ticks": ""
           }
          },
          "title": {
           "x": 0.05
          },
          "xaxis": {
           "automargin": true,
           "gridcolor": "white",
           "linecolor": "white",
           "ticks": "",
           "title": {
            "standoff": 15
           },
           "zerolinecolor": "white",
           "zerolinewidth": 2
          },
          "yaxis": {
           "automargin": true,
           "gridcolor": "white",
           "linecolor": "white",
           "ticks": "",
           "title": {
            "standoff": 15
           },
           "zerolinecolor": "white",
           "zerolinewidth": 2
          }
         }
        },
        "title": {
         "text": "Cramer's V Correlation Heatmap - Categorical and Churn variables"
        },
        "width": 800,
        "xaxis": {
         "anchor": "y",
         "constrain": "domain",
         "domain": [
          0,
          1
         ],
         "scaleanchor": "y"
        },
        "yaxis": {
         "anchor": "x",
         "autorange": "reversed",
         "constrain": "domain",
         "domain": [
          0,
          1
         ]
        }
       }
      }
     },
     "metadata": {},
     "output_type": "display_data"
    }
   ],
   "source": [
    "plt.ioff() # to not show the default matplotlib plot from the associations function\n",
    "excluded = ['Tenure','MonthlyCharges','TotalCharges']\n",
    "string_columns = [ col for col in x_train.columns if col not in excluded]\n",
    "df_categorical = x_train[string_columns].assign(Churn=y_train)\n",
    "corr_measures = associations(df_categorical, nominal_columns='all', plot = False)\n",
    "fig = px.imshow(corr_measures['corr'],color_continuous_scale=\"RdBu\",text_auto=True)\n",
    "fig.update_layout(title=\"Cramer's V Correlation Heatmap - Categorical and Churn variables\", width=800, height=700)\n",
    "fig.show()"
   ]
  },
  {
   "cell_type": "code",
   "execution_count": 621,
   "metadata": {},
   "outputs": [
    {
     "data": {
      "text/plain": [
       "Churn                          1.000000\n",
       "Contract_Month-to-month        0.397983\n",
       "OnlineSecurity_No              0.333811\n",
       "TechSupport_No                 0.330283\n",
       "InternetService_Fiber optic    0.310998\n",
       "Name: Churn, dtype: float64"
      ]
     },
     "execution_count": 621,
     "metadata": {},
     "output_type": "execute_result"
    }
   ],
   "source": [
    "c_matrix = corr_measures['corr']\n",
    "churn_corr = c_matrix['Churn'].sort_values(ascending=False)\n",
    "churn_corr[:5]"
   ]
  },
  {
   "cell_type": "code",
   "execution_count": 551,
   "metadata": {},
   "outputs": [],
   "source": [
    "indices = np.where((c_matrix > 0.8) & (c_matrix < 1))\n",
    "correlated_pairs = [(c_matrix.index[i], c_matrix.columns[j]) for i, j in zip(*indices) if i < j]\n",
    "#print(correlated_pairs)"
   ]
  },
  {
   "cell_type": "code",
   "execution_count": 552,
   "metadata": {},
   "outputs": [
    {
     "name": "stdout",
     "output_type": "stream",
     "text": [
      "['MultipleLines_No phone service', 'OnlineSecurity_No internet service', 'StreamingTV_No internet service', 'OnlineBackup_No internet service', 'DeviceProtection_No internet service', 'InternetService_No', 'MultipleLines_Yes', 'TechSupport_No internet service', 'PhoneService', 'MultipleLines_No', 'StreamingMovies_No internet service']\n"
     ]
    }
   ],
   "source": [
    "unique_values = []\n",
    "for pair in correlated_pairs:\n",
    "    unique_values.extend(set(pair))\n",
    "distinct_values = list(set(unique_values))\n",
    "print(distinct_values)"
   ]
  },
  {
   "cell_type": "code",
   "execution_count": 43,
   "metadata": {},
   "outputs": [
    {
     "name": "stdout",
     "output_type": "stream",
     "text": [
      "Number of data points in train set: (4507, 28) (4507,)\n",
      "Number of data points in test set: (1409, 28) (1409,)\n",
      "Number of data points in validation set: (1127, 28) (1127,)\n"
     ]
    }
   ],
   "source": [
    "X= df.drop('Churn', axis=1)\n",
    "Y= df['Churn']\n",
    "\n",
    "x_train, x_test, y_train, y_test = train_test_split(X, Y, stratify=Y ,test_size=0.20,random_state=0)\n",
    "x_train, x_cv, y_train, y_cv = train_test_split(x_train, y_train, stratify=y_train, test_size=0.20,random_state=0)\n",
    "\n",
    "#x_train_full = np.concatenate([x_train, x_cv], axis=0)\n",
    "#y_train_full = np.concatenate([y_train, y_cv], axis=0)\n",
    "\n",
    "#x_train_full = pd.DataFrame(x_train_full, columns=X.columns)\n",
    "\n",
    "print('Number of data points in train set:', x_train.shape, y_train.shape)\n",
    "print('Number of data points in test set:', x_test.shape, y_test.shape)\n",
    "print('Number of data points in validation set:', x_cv.shape, y_cv.shape)"
   ]
  },
  {
   "cell_type": "code",
   "execution_count": 44,
   "metadata": {},
   "outputs": [],
   "source": [
    "scaler = MinMaxScaler()\n",
    "col_scale = [\"Tenure\", \"MonthlyCharges\"]\n",
    "\n",
    "x_train[col_scale] = scaler.fit_transform(x_train[col_scale])\n",
    "x_cv[col_scale] = scaler.transform(x_cv[col_scale])\n",
    "x_test[col_scale] = scaler.transform(x_test[col_scale])"
   ]
  },
  {
   "cell_type": "code",
   "execution_count": 65,
   "metadata": {},
   "outputs": [
    {
     "data": {
      "application/vnd.plotly.v1+json": {
       "config": {
        "plotlyServerURL": "https://plot.ly"
       },
       "data": [
        {
         "coloraxis": "coloraxis",
         "hovertemplate": "x: %{x}<br>y: %{y}<br>color: %{z}<extra></extra>",
         "name": "0",
         "texttemplate": "%{z}",
         "type": "heatmap",
         "x": [
          "Tenure",
          "MonthlyCharges",
          "Churn"
         ],
         "xaxis": "x",
         "y": [
          "Tenure",
          "MonthlyCharges",
          "Churn"
         ],
         "yaxis": "y",
         "z": [
          [
           1,
           0.2725574859700094,
           -0.35577799530024995
          ],
          [
           0.2725574859700094,
           1,
           0.19427664890647178
          ],
          [
           -0.35577799530024995,
           0.19427664890647178,
           1
          ]
         ]
        }
       ],
       "layout": {
        "coloraxis": {
         "colorscale": [
          [
           0,
           "rgb(103,0,31)"
          ],
          [
           0.1,
           "rgb(178,24,43)"
          ],
          [
           0.2,
           "rgb(214,96,77)"
          ],
          [
           0.3,
           "rgb(244,165,130)"
          ],
          [
           0.4,
           "rgb(253,219,199)"
          ],
          [
           0.5,
           "rgb(247,247,247)"
          ],
          [
           0.6,
           "rgb(209,229,240)"
          ],
          [
           0.7,
           "rgb(146,197,222)"
          ],
          [
           0.8,
           "rgb(67,147,195)"
          ],
          [
           0.9,
           "rgb(33,102,172)"
          ],
          [
           1,
           "rgb(5,48,97)"
          ]
         ]
        },
        "height": 400,
        "margin": {
         "t": 60
        },
        "template": {
         "data": {
          "bar": [
           {
            "error_x": {
             "color": "#2a3f5f"
            },
            "error_y": {
             "color": "#2a3f5f"
            },
            "marker": {
             "line": {
              "color": "#E5ECF6",
              "width": 0.5
             },
             "pattern": {
              "fillmode": "overlay",
              "size": 10,
              "solidity": 0.2
             }
            },
            "type": "bar"
           }
          ],
          "barpolar": [
           {
            "marker": {
             "line": {
              "color": "#E5ECF6",
              "width": 0.5
             },
             "pattern": {
              "fillmode": "overlay",
              "size": 10,
              "solidity": 0.2
             }
            },
            "type": "barpolar"
           }
          ],
          "carpet": [
           {
            "aaxis": {
             "endlinecolor": "#2a3f5f",
             "gridcolor": "white",
             "linecolor": "white",
             "minorgridcolor": "white",
             "startlinecolor": "#2a3f5f"
            },
            "baxis": {
             "endlinecolor": "#2a3f5f",
             "gridcolor": "white",
             "linecolor": "white",
             "minorgridcolor": "white",
             "startlinecolor": "#2a3f5f"
            },
            "type": "carpet"
           }
          ],
          "choropleth": [
           {
            "colorbar": {
             "outlinewidth": 0,
             "ticks": ""
            },
            "type": "choropleth"
           }
          ],
          "contour": [
           {
            "colorbar": {
             "outlinewidth": 0,
             "ticks": ""
            },
            "colorscale": [
             [
              0,
              "#0d0887"
             ],
             [
              0.1111111111111111,
              "#46039f"
             ],
             [
              0.2222222222222222,
              "#7201a8"
             ],
             [
              0.3333333333333333,
              "#9c179e"
             ],
             [
              0.4444444444444444,
              "#bd3786"
             ],
             [
              0.5555555555555556,
              "#d8576b"
             ],
             [
              0.6666666666666666,
              "#ed7953"
             ],
             [
              0.7777777777777778,
              "#fb9f3a"
             ],
             [
              0.8888888888888888,
              "#fdca26"
             ],
             [
              1,
              "#f0f921"
             ]
            ],
            "type": "contour"
           }
          ],
          "contourcarpet": [
           {
            "colorbar": {
             "outlinewidth": 0,
             "ticks": ""
            },
            "type": "contourcarpet"
           }
          ],
          "heatmap": [
           {
            "colorbar": {
             "outlinewidth": 0,
             "ticks": ""
            },
            "colorscale": [
             [
              0,
              "#0d0887"
             ],
             [
              0.1111111111111111,
              "#46039f"
             ],
             [
              0.2222222222222222,
              "#7201a8"
             ],
             [
              0.3333333333333333,
              "#9c179e"
             ],
             [
              0.4444444444444444,
              "#bd3786"
             ],
             [
              0.5555555555555556,
              "#d8576b"
             ],
             [
              0.6666666666666666,
              "#ed7953"
             ],
             [
              0.7777777777777778,
              "#fb9f3a"
             ],
             [
              0.8888888888888888,
              "#fdca26"
             ],
             [
              1,
              "#f0f921"
             ]
            ],
            "type": "heatmap"
           }
          ],
          "heatmapgl": [
           {
            "colorbar": {
             "outlinewidth": 0,
             "ticks": ""
            },
            "colorscale": [
             [
              0,
              "#0d0887"
             ],
             [
              0.1111111111111111,
              "#46039f"
             ],
             [
              0.2222222222222222,
              "#7201a8"
             ],
             [
              0.3333333333333333,
              "#9c179e"
             ],
             [
              0.4444444444444444,
              "#bd3786"
             ],
             [
              0.5555555555555556,
              "#d8576b"
             ],
             [
              0.6666666666666666,
              "#ed7953"
             ],
             [
              0.7777777777777778,
              "#fb9f3a"
             ],
             [
              0.8888888888888888,
              "#fdca26"
             ],
             [
              1,
              "#f0f921"
             ]
            ],
            "type": "heatmapgl"
           }
          ],
          "histogram": [
           {
            "marker": {
             "pattern": {
              "fillmode": "overlay",
              "size": 10,
              "solidity": 0.2
             }
            },
            "type": "histogram"
           }
          ],
          "histogram2d": [
           {
            "colorbar": {
             "outlinewidth": 0,
             "ticks": ""
            },
            "colorscale": [
             [
              0,
              "#0d0887"
             ],
             [
              0.1111111111111111,
              "#46039f"
             ],
             [
              0.2222222222222222,
              "#7201a8"
             ],
             [
              0.3333333333333333,
              "#9c179e"
             ],
             [
              0.4444444444444444,
              "#bd3786"
             ],
             [
              0.5555555555555556,
              "#d8576b"
             ],
             [
              0.6666666666666666,
              "#ed7953"
             ],
             [
              0.7777777777777778,
              "#fb9f3a"
             ],
             [
              0.8888888888888888,
              "#fdca26"
             ],
             [
              1,
              "#f0f921"
             ]
            ],
            "type": "histogram2d"
           }
          ],
          "histogram2dcontour": [
           {
            "colorbar": {
             "outlinewidth": 0,
             "ticks": ""
            },
            "colorscale": [
             [
              0,
              "#0d0887"
             ],
             [
              0.1111111111111111,
              "#46039f"
             ],
             [
              0.2222222222222222,
              "#7201a8"
             ],
             [
              0.3333333333333333,
              "#9c179e"
             ],
             [
              0.4444444444444444,
              "#bd3786"
             ],
             [
              0.5555555555555556,
              "#d8576b"
             ],
             [
              0.6666666666666666,
              "#ed7953"
             ],
             [
              0.7777777777777778,
              "#fb9f3a"
             ],
             [
              0.8888888888888888,
              "#fdca26"
             ],
             [
              1,
              "#f0f921"
             ]
            ],
            "type": "histogram2dcontour"
           }
          ],
          "mesh3d": [
           {
            "colorbar": {
             "outlinewidth": 0,
             "ticks": ""
            },
            "type": "mesh3d"
           }
          ],
          "parcoords": [
           {
            "line": {
             "colorbar": {
              "outlinewidth": 0,
              "ticks": ""
             }
            },
            "type": "parcoords"
           }
          ],
          "pie": [
           {
            "automargin": true,
            "type": "pie"
           }
          ],
          "scatter": [
           {
            "fillpattern": {
             "fillmode": "overlay",
             "size": 10,
             "solidity": 0.2
            },
            "type": "scatter"
           }
          ],
          "scatter3d": [
           {
            "line": {
             "colorbar": {
              "outlinewidth": 0,
              "ticks": ""
             }
            },
            "marker": {
             "colorbar": {
              "outlinewidth": 0,
              "ticks": ""
             }
            },
            "type": "scatter3d"
           }
          ],
          "scattercarpet": [
           {
            "marker": {
             "colorbar": {
              "outlinewidth": 0,
              "ticks": ""
             }
            },
            "type": "scattercarpet"
           }
          ],
          "scattergeo": [
           {
            "marker": {
             "colorbar": {
              "outlinewidth": 0,
              "ticks": ""
             }
            },
            "type": "scattergeo"
           }
          ],
          "scattergl": [
           {
            "marker": {
             "colorbar": {
              "outlinewidth": 0,
              "ticks": ""
             }
            },
            "type": "scattergl"
           }
          ],
          "scattermapbox": [
           {
            "marker": {
             "colorbar": {
              "outlinewidth": 0,
              "ticks": ""
             }
            },
            "type": "scattermapbox"
           }
          ],
          "scatterpolar": [
           {
            "marker": {
             "colorbar": {
              "outlinewidth": 0,
              "ticks": ""
             }
            },
            "type": "scatterpolar"
           }
          ],
          "scatterpolargl": [
           {
            "marker": {
             "colorbar": {
              "outlinewidth": 0,
              "ticks": ""
             }
            },
            "type": "scatterpolargl"
           }
          ],
          "scatterternary": [
           {
            "marker": {
             "colorbar": {
              "outlinewidth": 0,
              "ticks": ""
             }
            },
            "type": "scatterternary"
           }
          ],
          "surface": [
           {
            "colorbar": {
             "outlinewidth": 0,
             "ticks": ""
            },
            "colorscale": [
             [
              0,
              "#0d0887"
             ],
             [
              0.1111111111111111,
              "#46039f"
             ],
             [
              0.2222222222222222,
              "#7201a8"
             ],
             [
              0.3333333333333333,
              "#9c179e"
             ],
             [
              0.4444444444444444,
              "#bd3786"
             ],
             [
              0.5555555555555556,
              "#d8576b"
             ],
             [
              0.6666666666666666,
              "#ed7953"
             ],
             [
              0.7777777777777778,
              "#fb9f3a"
             ],
             [
              0.8888888888888888,
              "#fdca26"
             ],
             [
              1,
              "#f0f921"
             ]
            ],
            "type": "surface"
           }
          ],
          "table": [
           {
            "cells": {
             "fill": {
              "color": "#EBF0F8"
             },
             "line": {
              "color": "white"
             }
            },
            "header": {
             "fill": {
              "color": "#C8D4E3"
             },
             "line": {
              "color": "white"
             }
            },
            "type": "table"
           }
          ]
         },
         "layout": {
          "annotationdefaults": {
           "arrowcolor": "#2a3f5f",
           "arrowhead": 0,
           "arrowwidth": 1
          },
          "autotypenumbers": "strict",
          "coloraxis": {
           "colorbar": {
            "outlinewidth": 0,
            "ticks": ""
           }
          },
          "colorscale": {
           "diverging": [
            [
             0,
             "#8e0152"
            ],
            [
             0.1,
             "#c51b7d"
            ],
            [
             0.2,
             "#de77ae"
            ],
            [
             0.3,
             "#f1b6da"
            ],
            [
             0.4,
             "#fde0ef"
            ],
            [
             0.5,
             "#f7f7f7"
            ],
            [
             0.6,
             "#e6f5d0"
            ],
            [
             0.7,
             "#b8e186"
            ],
            [
             0.8,
             "#7fbc41"
            ],
            [
             0.9,
             "#4d9221"
            ],
            [
             1,
             "#276419"
            ]
           ],
           "sequential": [
            [
             0,
             "#0d0887"
            ],
            [
             0.1111111111111111,
             "#46039f"
            ],
            [
             0.2222222222222222,
             "#7201a8"
            ],
            [
             0.3333333333333333,
             "#9c179e"
            ],
            [
             0.4444444444444444,
             "#bd3786"
            ],
            [
             0.5555555555555556,
             "#d8576b"
            ],
            [
             0.6666666666666666,
             "#ed7953"
            ],
            [
             0.7777777777777778,
             "#fb9f3a"
            ],
            [
             0.8888888888888888,
             "#fdca26"
            ],
            [
             1,
             "#f0f921"
            ]
           ],
           "sequentialminus": [
            [
             0,
             "#0d0887"
            ],
            [
             0.1111111111111111,
             "#46039f"
            ],
            [
             0.2222222222222222,
             "#7201a8"
            ],
            [
             0.3333333333333333,
             "#9c179e"
            ],
            [
             0.4444444444444444,
             "#bd3786"
            ],
            [
             0.5555555555555556,
             "#d8576b"
            ],
            [
             0.6666666666666666,
             "#ed7953"
            ],
            [
             0.7777777777777778,
             "#fb9f3a"
            ],
            [
             0.8888888888888888,
             "#fdca26"
            ],
            [
             1,
             "#f0f921"
            ]
           ]
          },
          "colorway": [
           "#636efa",
           "#EF553B",
           "#00cc96",
           "#ab63fa",
           "#FFA15A",
           "#19d3f3",
           "#FF6692",
           "#B6E880",
           "#FF97FF",
           "#FECB52"
          ],
          "font": {
           "color": "#2a3f5f"
          },
          "geo": {
           "bgcolor": "white",
           "lakecolor": "white",
           "landcolor": "#E5ECF6",
           "showlakes": true,
           "showland": true,
           "subunitcolor": "white"
          },
          "hoverlabel": {
           "align": "left"
          },
          "hovermode": "closest",
          "mapbox": {
           "style": "light"
          },
          "paper_bgcolor": "white",
          "plot_bgcolor": "#E5ECF6",
          "polar": {
           "angularaxis": {
            "gridcolor": "white",
            "linecolor": "white",
            "ticks": ""
           },
           "bgcolor": "#E5ECF6",
           "radialaxis": {
            "gridcolor": "white",
            "linecolor": "white",
            "ticks": ""
           }
          },
          "scene": {
           "xaxis": {
            "backgroundcolor": "#E5ECF6",
            "gridcolor": "white",
            "gridwidth": 2,
            "linecolor": "white",
            "showbackground": true,
            "ticks": "",
            "zerolinecolor": "white"
           },
           "yaxis": {
            "backgroundcolor": "#E5ECF6",
            "gridcolor": "white",
            "gridwidth": 2,
            "linecolor": "white",
            "showbackground": true,
            "ticks": "",
            "zerolinecolor": "white"
           },
           "zaxis": {
            "backgroundcolor": "#E5ECF6",
            "gridcolor": "white",
            "gridwidth": 2,
            "linecolor": "white",
            "showbackground": true,
            "ticks": "",
            "zerolinecolor": "white"
           }
          },
          "shapedefaults": {
           "line": {
            "color": "#2a3f5f"
           }
          },
          "ternary": {
           "aaxis": {
            "gridcolor": "white",
            "linecolor": "white",
            "ticks": ""
           },
           "baxis": {
            "gridcolor": "white",
            "linecolor": "white",
            "ticks": ""
           },
           "bgcolor": "#E5ECF6",
           "caxis": {
            "gridcolor": "white",
            "linecolor": "white",
            "ticks": ""
           }
          },
          "title": {
           "x": 0.05
          },
          "xaxis": {
           "automargin": true,
           "gridcolor": "white",
           "linecolor": "white",
           "ticks": "",
           "title": {
            "standoff": 15
           },
           "zerolinecolor": "white",
           "zerolinewidth": 2
          },
          "yaxis": {
           "automargin": true,
           "gridcolor": "white",
           "linecolor": "white",
           "ticks": "",
           "title": {
            "standoff": 15
           },
           "zerolinecolor": "white",
           "zerolinewidth": 2
          }
         }
        },
        "title": {
         "text": "Spearsman Correlation: Tenure, Charges - Churn"
        },
        "width": 500,
        "xaxis": {
         "anchor": "y",
         "constrain": "domain",
         "domain": [
          0,
          1
         ],
         "scaleanchor": "y"
        },
        "yaxis": {
         "anchor": "x",
         "autorange": "reversed",
         "constrain": "domain",
         "domain": [
          0,
          1
         ]
        }
       }
      }
     },
     "metadata": {},
     "output_type": "display_data"
    }
   ],
   "source": [
    "excluded = ['Tenure','MonthlyCharges']\n",
    "df_nr = x_train[excluded]\n",
    "df_nr = x_train[excluded].assign(Churn=y_train)\n",
    "corr_matrix = df_nr.corr(method='spearman') # Tenure - ordinal variable\n",
    "fig = px.imshow(corr_matrix, color_continuous_scale=\"RdBu\",text_auto=True) # Plot the correlation matrix as a heatmap\n",
    "fig.update_layout(title=\"Spearsman Correlation: Tenure, Charges - Churn\",width=500,height=400)\n",
    "fig.show()"
   ]
  },
  {
   "cell_type": "code",
   "execution_count": 75,
   "metadata": {},
   "outputs": [
    {
     "data": {
      "application/vnd.plotly.v1+json": {
       "config": {
        "plotlyServerURL": "https://plot.ly"
       },
       "data": [
        {
         "coloraxis": "coloraxis",
         "hovertemplate": "x: %{x}<br>y: %{y}<br>color: %{z}<extra></extra>",
         "name": "0",
         "texttemplate": "%{z}",
         "type": "heatmap",
         "x": [
          "Gender",
          "SeniorCitizen",
          "Partner",
          "Dependents",
          "PaperlessBilling",
          "InternetService_DSL",
          "InternetService_Fiber optic",
          "OnlineSecurity_No",
          "OnlineSecurity_Yes",
          "OnlineBackup_No",
          "OnlineBackup_Yes",
          "DeviceProtection_No",
          "DeviceProtection_Yes",
          "TechSupport_No",
          "TechSupport_Yes",
          "StreamingTV_No",
          "StreamingTV_Yes",
          "StreamingMovies_No",
          "StreamingMovies_Yes",
          "Contract_Month-to-month",
          "Contract_One year",
          "Contract_Two year",
          "PaymentMethod_Bank transfer (automatic)",
          "PaymentMethod_Credit card (automatic)",
          "PaymentMethod_Electronic check",
          "PaymentMethod_Mailed check",
          "Churn"
         ],
         "xaxis": "x",
         "y": [
          "Gender",
          "SeniorCitizen",
          "Partner",
          "Dependents",
          "PaperlessBilling",
          "InternetService_DSL",
          "InternetService_Fiber optic",
          "OnlineSecurity_No",
          "OnlineSecurity_Yes",
          "OnlineBackup_No",
          "OnlineBackup_Yes",
          "DeviceProtection_No",
          "DeviceProtection_Yes",
          "TechSupport_No",
          "TechSupport_Yes",
          "StreamingTV_No",
          "StreamingTV_Yes",
          "StreamingMovies_No",
          "StreamingMovies_Yes",
          "Contract_Month-to-month",
          "Contract_One year",
          "Contract_Two year",
          "PaymentMethod_Bank transfer (automatic)",
          "PaymentMethod_Credit card (automatic)",
          "PaymentMethod_Electronic check",
          "PaymentMethod_Mailed check",
          "Churn"
         ],
         "yaxis": "y",
         "z": [
          [
           1,
           0,
           0,
           0,
           0,
           0,
           0.010841265139886825,
           0,
           0.009011394622573136,
           0,
           0,
           0.006309384831117769,
           0,
           0,
           0,
           0,
           0.013419813021876692,
           0,
           0,
           0,
           0,
           0,
           0,
           0,
           0,
           0,
           0.021670832305847463
          ],
          [
           0,
           1,
           0,
           0.20834477202950974,
           0.16374562004082086,
           0.11781734217398443,
           0.2650803943428938,
           0.19082225595249158,
           0.04307453614327867,
           0.09204806274730308,
           0.05754000466087665,
           0.09348072605222092,
           0.056030493900575865,
           0.1983547591319501,
           0.05201852582570637,
           0.04054885364538898,
           0.10875208197241855,
           0,
           0.1382832794467266,
           0.14487373967346207,
           0.05115978107166017,
           0.11758588591228492,
           0.010930684904136978,
           0.020791708447112096,
           0.1752181322546453,
           0.15211319783600027,
           0.1494927363055745
          ],
          [
           0,
           0,
           1,
           0.4469347965283025,
           0,
           0,
           0,
           0.1179589174616278,
           0.13278492005283063,
           0.12936616259420664,
           0.1371618372772826,
           0.15307170631686653,
           0.16209582100237738,
           0.10104241417379889,
           0.11455284217313236,
           0.11436789216894266,
           0.11722995147504138,
           0.12391640533677398,
           0.12578756023794307,
           0.269436799290948,
           0.07717599789451408,
           0.239072334612581,
           0.11157552447495481,
           0.07679407981308257,
           0.09203987172415433,
           0.08049922817857057,
           0.13968592229011265
          ],
          [
           0,
           0.20834477202950974,
           0.4469347965283025,
           1,
           0.11879665508733664,
           0.045830951604652975,
           0.1675474436194964,
           0.19182083518746365,
           0.07771143873873336,
           0.13598922303768882,
           0.004852369309653903,
           0.13343631834762257,
           0,
           0.17119644551264943,
           0.054589765081354595,
           0.0928184398204536,
           0.024405847007298816,
           0.06854598777903777,
           0.050566613532716125,
           0.23153548410700506,
           0.06708077501970658,
           0.20420564625311163,
           0.047232739103663615,
           0.06370810291380875,
           0.1526859328367773,
           0.05654664123549524,
           0.16738020258627773
          ],
          [
           0,
           0.16374562004082086,
           0,
           0.11879665508733664,
           1,
           0.06743122987406794,
           0.3372466257815374,
           0.2610544338669869,
           0,
           0.1509190242168753,
           0.12290088542180572,
           0.15730081101827958,
           0.11625655517252474,
           0.23103245305621029,
           0.037953622851599665,
           0.03993925183945116,
           0.2324432528576385,
           0.04016049856733113,
           0.23137207938082707,
           0.1635281725926517,
           0.043460048529358135,
           0.14658481545855148,
           0,
           0,
           0.1976355043370349,
           0.20549062553624473,
           0.18527315371813496
          ],
          [
           0,
           0.11781734217398443,
           0,
           0.045830951604652975,
           0.06743122987406794,
           1,
           0.6421787083759855,
           0.03028412431894661,
           0.3100189500225058,
           0.16357138119298315,
           0.15817688750252804,
           0.18449225881581466,
           0.13633084224584083,
           0.020629747501321165,
           0.320516846608028,
           0.31467928991397304,
           0,
           0.2897692654046016,
           0.02758495298381616,
           0.06972960383578021,
           0.054919108823447825,
           0.024335683893502002,
           0.0031065499151775662,
           0.04671558208482546,
           0.09241514157333597,
           0.03810158975487742,
           0.12504312406560797
          ],
          [
           0.010841265139886825,
           0.2650803943428938,
           0,
           0.1675474436194964,
           0.3372466257815374,
           0.6421787083759855,
           1,
           0.40062693639971864,
           0.01802880074047224,
           0.2268857738853141,
           0.1605137136159299,
           0.2076955083053302,
           0.18068577705392694,
           0.41189542841554744,
           0.032768805763057435,
           0.05105356580919046,
           0.33585595750260694,
           0.06859838541824066,
           0.3175369447879828,
           0.2493135708910838,
           0.07640005560857546,
           0.21630903786349842,
           0.0071398734590025995,
           0.04473234446273114,
           0.33019186118644767,
           0.30717891271266506,
           0.31099780241917446
          ],
          [
           0,
           0.19082225595249158,
           0.1179589174616278,
           0.19182083518746365,
           0.2610544338669869,
           0.03028412431894661,
           0.40062693639971864,
           1,
           0.6299446751352846,
           0.37519195703036073,
           0.05811469346005821,
           0.36123245535604925,
           0.0730275963881495,
           0.47265613456985134,
           0.044467678751992874,
           0.24838558199834582,
           0.1906017261611558,
           0.2630080450642773,
           0.17609802826542542,
           0.392590255410746,
           0.1105271229651828,
           0.3514285350702261,
           0.07796299631607918,
           0.08844292616252167,
           0.3210223471592284,
           0.19365118933503606,
           0.3338105089557566
          ],
          [
           0.009011394622573136,
           0.04307453614327867,
           0.13278492005283063,
           0.07771143873873336,
           0,
           0.3100189500225058,
           0.01802880074047224,
           0.6299446751352846,
           1,
           0,
           0.2778444018554862,
           0.018299746118355664,
           0.26086731334261326,
           0.040448710099583784,
           0.35054160627046616,
           0.11419062599799654,
           0.1624162596266628,
           0.09021680175580891,
           0.18597226352254367,
           0.23547167495214455,
           0.0968903993689808,
           0.1808480190093015,
           0.08450728590072192,
           0.09813373077199529,
           0.09032768050176214,
           0.0770025221187142,
           0.16016037235690508
          ],
          [
           0,
           0.09204806274730308,
           0.12936616259420664,
           0.13598922303768882,
           0.1509190242168753,
           0.16357138119298315,
           0.2268857738853141,
           0.37519195703036073,
           0,
           1,
           0.6417158241688167,
           0.3499572307747202,
           0.03268539932193719,
           0.39980790696151325,
           0.011993523275964,
           0.30141142106503044,
           0.08727860149085186,
           0.2893393173804862,
           0.10031950573542149,
           0.3427309085054495,
           0.10509818143154798,
           0.29836818416634325,
           0.09040568945389471,
           0.08459505003156656,
           0.24645722853072202,
           0.10133803630241651,
           0.2774649687318899
          ],
          [
           0,
           0.05754000466087665,
           0.1371618372772826,
           0.004852369309653903,
           0.12290088542180572,
           0.15817688750252804,
           0.1605137136159299,
           0.05811469346005821,
           0.2778444018554862,
           0.6417158241688167,
           1,
           0.033756523749809364,
           0.2889116695320847,
           0.03464750233790552,
           0.3037756733932382,
           0.053952838387530615,
           0.26333411057045886,
           0.05956067271240846,
           0.25695256133933797,
           0.16862570488413692,
           0.08544400958831726,
           0.11349509155233851,
           0.09259488896263576,
           0.08847605755321597,
           0,
           0.17131023541043275,
           0.0903672288241672
          ],
          [
           0.006309384831117769,
           0.09348072605222092,
           0.15307170631686653,
           0.13343631834762257,
           0.15730081101827958,
           0.18449225881581466,
           0.2076955083053302,
           0.36123245535604925,
           0.018299746118355664,
           0.3499572307747202,
           0.033756523749809364,
           1,
           0.6415799463904256,
           0.4117617755983347,
           0.02769773534165838,
           0.4107824751323085,
           0.013201032808439943,
           0.42758471320295033,
           0.031639572444580516,
           0.38513756730540116,
           0.11290273775908191,
           0.34048919091920055,
           0.07493260011399665,
           0.10651607022246512,
           0.23532305176181523,
           0.08210914441780894,
           0.25171877180881597
          ],
          [
           0,
           0.056030493900575865,
           0.16209582100237738,
           0,
           0.11625655517252474,
           0.13633084224584083,
           0.18068577705392694,
           0.0730275963881495,
           0.26086731334261326,
           0.03268539932193719,
           0.2889116695320847,
           0.6415799463904256,
           1,
           0.020241124761535823,
           0.316927146312837,
           0.05549368120213969,
           0.3780831151910464,
           0.08084980406660905,
           0.40095768508837076,
           0.2133261391416907,
           0.09374448446857794,
           0.1579666157448355,
           0.07651428920759785,
           0.1114846864714415,
           0,
           0.1913404026316473,
           0.06310147239798061
          ],
          [
           0,
           0.1983547591319501,
           0.10104241417379889,
           0.17119644551264943,
           0.23103245305621029,
           0.020629747501321165,
           0.41189542841554744,
           0.47265613456985134,
           0.040448710099583784,
           0.39980790696151325,
           0.03464750233790552,
           0.4117617755983347,
           0.020241124761535823,
           1,
           0.628842150416673,
           0.3400812170587074,
           0.10104902207382835,
           0.34610736341999954,
           0.09587754379245367,
           0.43331536194693887,
           0.11441494347131609,
           0.3952744041502953,
           0.09185449617212871,
           0.0968441011569221,
           0.3353916086523282,
           0.18827246905416156,
           0.33028318831214626
          ],
          [
           0,
           0.05201852582570637,
           0.11455284217313236,
           0.054589765081354595,
           0.037953622851599665,
           0.320516846608028,
           0.032768805763057435,
           0.044467678751992874,
           0.35054160627046616,
           0.011993523275964,
           0.3037756733932382,
           0.02769773534165838,
           0.316927146312837,
           0.628842150416673,
           1,
           0,
           0.2623470167010825,
           0,
           0.2755429610049175,
           0.28174852405987477,
           0.10162201403015984,
           0.23042076330908823,
           0.10026726138165903,
           0.10785595625898524,
           0.10683926054458659,
           0.08339307343183022,
           0.15687063800872733
          ],
          [
           0,
           0.04054885364538898,
           0.11436789216894266,
           0.0928184398204536,
           0.03993925183945116,
           0.31467928991397304,
           0.05105356580919046,
           0.24838558199834582,
           0.11419062599799654,
           0.30141142106503044,
           0.053952838387530615,
           0.4107824751323085,
           0.05549368120213969,
           0.3400812170587074,
           0,
           1,
           0.644505069131772,
           0.5436816670178743,
           0.18121418354564722,
           0.2819055766560906,
           0.08156864790131325,
           0.24950144068755753,
           0.04959047734989922,
           0.03201270754497956,
           0.10100571797030294,
           0.024184707021442802,
           0.12071144028429116
          ],
          [
           0.013419813021876692,
           0.10875208197241855,
           0.11722995147504138,
           0.024405847007298816,
           0.2324432528576385,
           0,
           0.33585595750260694,
           0.1906017261611558,
           0.1624162596266628,
           0.08727860149085186,
           0.26333411057045886,
           0.013201032808439943,
           0.3780831151910464,
           0.10104902207382835,
           0.2623470167010825,
           0.644505069131772,
           1,
           0.19125596484200508,
           0.5393552793774674,
           0.09868319276980253,
           0.05810474186665333,
           0.05694291971025402,
           0.04804077428413724,
           0.03228821330255011,
           0.14084069221569565,
           0.24358946091011885,
           0.06902291957851626
          ],
          [
           0,
           0,
           0.12391640533677398,
           0.06854598777903777,
           0.04016049856733113,
           0.2897692654046016,
           0.06859838541824066,
           0.2630080450642773,
           0.09021680175580891,
           0.2893393173804862,
           0.05956067271240846,
           0.42758471320295033,
           0.08084980406660905,
           0.34610736341999954,
           0,
           0.5436816670178743,
           0.19125596484200508,
           1,
           0.6446243516014605,
           0.2961345064991474,
           0.09364470340199146,
           0.254767945352575,
           0.05216992966295718,
           0.04829120836457228,
           0.1073794003782732,
           0.010254056847043148,
           0.12031560680397028
          ],
          [
           0,
           0.1382832794467266,
           0.12578756023794307,
           0.050566613532716125,
           0.23137207938082707,
           0.02758495298381616,
           0.3175369447879828,
           0.17609802826542542,
           0.18597226352254367,
           0.10031950573542149,
           0.25695256133933797,
           0.031639572444580516,
           0.40095768508837076,
           0.09587754379245367,
           0.2755429610049175,
           0.18121418354564722,
           0.5393552793774674,
           0.6446243516014605,
           1,
           0.11145481854273401,
           0.0697229208298048,
           0.06106698380623798,
           0.05017940028760609,
           0.048247945174903925,
           0.13427102300409674,
           0.25296279988014625,
           0.06960295835026407
          ],
          [
           0,
           0.14487373967346207,
           0.269436799290948,
           0.23153548410700506,
           0.1635281725926517,
           0.06972960383578021,
           0.2493135708910838,
           0.392590255410746,
           0.23547167495214455,
           0.3427309085054495,
           0.16862570488413692,
           0.38513756730540116,
           0.2133261391416907,
           0.43331536194693887,
           0.28174852405987477,
           0.2819055766560906,
           0.09868319276980253,
           0.2961345064991474,
           0.11145481854273401,
           1,
           0.5694306458797579,
           0.6239021962379306,
           0.1724423162542436,
           0.2020309517574609,
           0.333873147134293,
           0,
           0.3979828084455138
          ],
          [
           0,
           0.05115978107166017,
           0.07717599789451408,
           0.06708077501970658,
           0.043460048529358135,
           0.054919108823447825,
           0.07640005560857546,
           0.1105271229651828,
           0.0968903993689808,
           0.10509818143154798,
           0.08544400958831726,
           0.11290273775908191,
           0.09374448446857794,
           0.11441494347131609,
           0.10162201403015984,
           0.08156864790131325,
           0.05810474186665333,
           0.09364470340199146,
           0.0697229208298048,
           0.5694306458797579,
           1,
           0.2845838014792416,
           0.042654106706294305,
           0.07707891773062432,
           0.11638866010527006,
           0,
           0.17286510682653858
          ],
          [
           0,
           0.11758588591228492,
           0.239072334612581,
           0.20420564625311163,
           0.14658481545855148,
           0.024335683893502002,
           0.21630903786349842,
           0.3514285350702261,
           0.1808480190093015,
           0.29836818416634325,
           0.11349509155233851,
           0.34048919091920055,
           0.1579666157448355,
           0.3952744041502953,
           0.23042076330908823,
           0.24950144068755753,
           0.05694291971025402,
           0.254767945352575,
           0.06106698380623798,
           0.6239021962379306,
           0.2845838014792416,
           1,
           0.1576140042783716,
           0.16036004371268417,
           0.27735408490902014,
           0,
           0.29867112654218686
          ],
          [
           0,
           0.010930684904136978,
           0.11157552447495481,
           0.047232739103663615,
           0,
           0.0031065499151775662,
           0.0071398734590025995,
           0.07796299631607918,
           0.08450728590072192,
           0.09040568945389471,
           0.09259488896263576,
           0.07493260011399665,
           0.07651428920759785,
           0.09185449617212871,
           0.10026726138165903,
           0.04959047734989922,
           0.04804077428413724,
           0.05216992966295718,
           0.05017940028760609,
           0.1724423162542436,
           0.042654106706294305,
           0.1576140042783716,
           1,
           0.2755318945115969,
           0.3699764017626004,
           0.2835851257755538,
           0.11625102744956561
          ],
          [
           0,
           0.020791708447112096,
           0.07679407981308257,
           0.06370810291380875,
           0,
           0.04671558208482546,
           0.04473234446273114,
           0.08844292616252167,
           0.09813373077199529,
           0.08459505003156656,
           0.08847605755321597,
           0.10651607022246512,
           0.1114846864714415,
           0.0968441011569221,
           0.10785595625898524,
           0.03201270754497956,
           0.03228821330255011,
           0.04829120836457228,
           0.048247945174903925,
           0.2020309517574609,
           0.07707891773062432,
           0.16036004371268417,
           0.2755318945115969,
           1,
           0.37758079556352797,
           0.28942692848129775,
           0.1347253420421003
          ],
          [
           0,
           0.1752181322546453,
           0.09203987172415433,
           0.1526859328367773,
           0.1976355043370349,
           0.09241514157333597,
           0.33019186118644767,
           0.3210223471592284,
           0.09032768050176214,
           0.24645722853072202,
           0,
           0.23532305176181523,
           0,
           0.3353916086523282,
           0.10683926054458659,
           0.10100571797030294,
           0.14084069221569565,
           0.1073794003782732,
           0.13427102300409674,
           0.333873147134293,
           0.11638866010527006,
           0.27735408490902014,
           0.3699764017626004,
           0.37758079556352797,
           1,
           0.38858719216471815,
           0.30800999339861046
          ],
          [
           0,
           0.15211319783600027,
           0.08049922817857057,
           0.05654664123549524,
           0.20549062553624473,
           0.03810158975487742,
           0.30717891271266506,
           0.19365118933503606,
           0.0770025221187142,
           0.10133803630241651,
           0.17131023541043275,
           0.08210914441780894,
           0.1913404026316473,
           0.18827246905416156,
           0.08339307343183022,
           0.024184707021442802,
           0.24358946091011885,
           0.010254056847043148,
           0.25296279988014625,
           0,
           0,
           0,
           0.2835851257755538,
           0.28942692848129775,
           0.38858719216471815,
           1,
           0.09639268887459358
          ],
          [
           0.021670832305847463,
           0.1494927363055745,
           0.13968592229011265,
           0.16738020258627773,
           0.18527315371813496,
           0.12504312406560797,
           0.31099780241917446,
           0.3338105089557566,
           0.16016037235690508,
           0.2774649687318899,
           0.0903672288241672,
           0.25171877180881597,
           0.06310147239798061,
           0.33028318831214626,
           0.15687063800872733,
           0.12071144028429116,
           0.06902291957851626,
           0.12031560680397028,
           0.06960295835026407,
           0.3979828084455138,
           0.17286510682653858,
           0.29867112654218686,
           0.11625102744956561,
           0.1347253420421003,
           0.30800999339861046,
           0.09639268887459358,
           1
          ]
         ]
        }
       ],
       "layout": {
        "coloraxis": {
         "colorscale": [
          [
           0,
           "rgb(103,0,31)"
          ],
          [
           0.1,
           "rgb(178,24,43)"
          ],
          [
           0.2,
           "rgb(214,96,77)"
          ],
          [
           0.3,
           "rgb(244,165,130)"
          ],
          [
           0.4,
           "rgb(253,219,199)"
          ],
          [
           0.5,
           "rgb(247,247,247)"
          ],
          [
           0.6,
           "rgb(209,229,240)"
          ],
          [
           0.7,
           "rgb(146,197,222)"
          ],
          [
           0.8,
           "rgb(67,147,195)"
          ],
          [
           0.9,
           "rgb(33,102,172)"
          ],
          [
           1,
           "rgb(5,48,97)"
          ]
         ]
        },
        "height": 700,
        "margin": {
         "t": 60
        },
        "template": {
         "data": {
          "bar": [
           {
            "error_x": {
             "color": "#2a3f5f"
            },
            "error_y": {
             "color": "#2a3f5f"
            },
            "marker": {
             "line": {
              "color": "#E5ECF6",
              "width": 0.5
             },
             "pattern": {
              "fillmode": "overlay",
              "size": 10,
              "solidity": 0.2
             }
            },
            "type": "bar"
           }
          ],
          "barpolar": [
           {
            "marker": {
             "line": {
              "color": "#E5ECF6",
              "width": 0.5
             },
             "pattern": {
              "fillmode": "overlay",
              "size": 10,
              "solidity": 0.2
             }
            },
            "type": "barpolar"
           }
          ],
          "carpet": [
           {
            "aaxis": {
             "endlinecolor": "#2a3f5f",
             "gridcolor": "white",
             "linecolor": "white",
             "minorgridcolor": "white",
             "startlinecolor": "#2a3f5f"
            },
            "baxis": {
             "endlinecolor": "#2a3f5f",
             "gridcolor": "white",
             "linecolor": "white",
             "minorgridcolor": "white",
             "startlinecolor": "#2a3f5f"
            },
            "type": "carpet"
           }
          ],
          "choropleth": [
           {
            "colorbar": {
             "outlinewidth": 0,
             "ticks": ""
            },
            "type": "choropleth"
           }
          ],
          "contour": [
           {
            "colorbar": {
             "outlinewidth": 0,
             "ticks": ""
            },
            "colorscale": [
             [
              0,
              "#0d0887"
             ],
             [
              0.1111111111111111,
              "#46039f"
             ],
             [
              0.2222222222222222,
              "#7201a8"
             ],
             [
              0.3333333333333333,
              "#9c179e"
             ],
             [
              0.4444444444444444,
              "#bd3786"
             ],
             [
              0.5555555555555556,
              "#d8576b"
             ],
             [
              0.6666666666666666,
              "#ed7953"
             ],
             [
              0.7777777777777778,
              "#fb9f3a"
             ],
             [
              0.8888888888888888,
              "#fdca26"
             ],
             [
              1,
              "#f0f921"
             ]
            ],
            "type": "contour"
           }
          ],
          "contourcarpet": [
           {
            "colorbar": {
             "outlinewidth": 0,
             "ticks": ""
            },
            "type": "contourcarpet"
           }
          ],
          "heatmap": [
           {
            "colorbar": {
             "outlinewidth": 0,
             "ticks": ""
            },
            "colorscale": [
             [
              0,
              "#0d0887"
             ],
             [
              0.1111111111111111,
              "#46039f"
             ],
             [
              0.2222222222222222,
              "#7201a8"
             ],
             [
              0.3333333333333333,
              "#9c179e"
             ],
             [
              0.4444444444444444,
              "#bd3786"
             ],
             [
              0.5555555555555556,
              "#d8576b"
             ],
             [
              0.6666666666666666,
              "#ed7953"
             ],
             [
              0.7777777777777778,
              "#fb9f3a"
             ],
             [
              0.8888888888888888,
              "#fdca26"
             ],
             [
              1,
              "#f0f921"
             ]
            ],
            "type": "heatmap"
           }
          ],
          "heatmapgl": [
           {
            "colorbar": {
             "outlinewidth": 0,
             "ticks": ""
            },
            "colorscale": [
             [
              0,
              "#0d0887"
             ],
             [
              0.1111111111111111,
              "#46039f"
             ],
             [
              0.2222222222222222,
              "#7201a8"
             ],
             [
              0.3333333333333333,
              "#9c179e"
             ],
             [
              0.4444444444444444,
              "#bd3786"
             ],
             [
              0.5555555555555556,
              "#d8576b"
             ],
             [
              0.6666666666666666,
              "#ed7953"
             ],
             [
              0.7777777777777778,
              "#fb9f3a"
             ],
             [
              0.8888888888888888,
              "#fdca26"
             ],
             [
              1,
              "#f0f921"
             ]
            ],
            "type": "heatmapgl"
           }
          ],
          "histogram": [
           {
            "marker": {
             "pattern": {
              "fillmode": "overlay",
              "size": 10,
              "solidity": 0.2
             }
            },
            "type": "histogram"
           }
          ],
          "histogram2d": [
           {
            "colorbar": {
             "outlinewidth": 0,
             "ticks": ""
            },
            "colorscale": [
             [
              0,
              "#0d0887"
             ],
             [
              0.1111111111111111,
              "#46039f"
             ],
             [
              0.2222222222222222,
              "#7201a8"
             ],
             [
              0.3333333333333333,
              "#9c179e"
             ],
             [
              0.4444444444444444,
              "#bd3786"
             ],
             [
              0.5555555555555556,
              "#d8576b"
             ],
             [
              0.6666666666666666,
              "#ed7953"
             ],
             [
              0.7777777777777778,
              "#fb9f3a"
             ],
             [
              0.8888888888888888,
              "#fdca26"
             ],
             [
              1,
              "#f0f921"
             ]
            ],
            "type": "histogram2d"
           }
          ],
          "histogram2dcontour": [
           {
            "colorbar": {
             "outlinewidth": 0,
             "ticks": ""
            },
            "colorscale": [
             [
              0,
              "#0d0887"
             ],
             [
              0.1111111111111111,
              "#46039f"
             ],
             [
              0.2222222222222222,
              "#7201a8"
             ],
             [
              0.3333333333333333,
              "#9c179e"
             ],
             [
              0.4444444444444444,
              "#bd3786"
             ],
             [
              0.5555555555555556,
              "#d8576b"
             ],
             [
              0.6666666666666666,
              "#ed7953"
             ],
             [
              0.7777777777777778,
              "#fb9f3a"
             ],
             [
              0.8888888888888888,
              "#fdca26"
             ],
             [
              1,
              "#f0f921"
             ]
            ],
            "type": "histogram2dcontour"
           }
          ],
          "mesh3d": [
           {
            "colorbar": {
             "outlinewidth": 0,
             "ticks": ""
            },
            "type": "mesh3d"
           }
          ],
          "parcoords": [
           {
            "line": {
             "colorbar": {
              "outlinewidth": 0,
              "ticks": ""
             }
            },
            "type": "parcoords"
           }
          ],
          "pie": [
           {
            "automargin": true,
            "type": "pie"
           }
          ],
          "scatter": [
           {
            "fillpattern": {
             "fillmode": "overlay",
             "size": 10,
             "solidity": 0.2
            },
            "type": "scatter"
           }
          ],
          "scatter3d": [
           {
            "line": {
             "colorbar": {
              "outlinewidth": 0,
              "ticks": ""
             }
            },
            "marker": {
             "colorbar": {
              "outlinewidth": 0,
              "ticks": ""
             }
            },
            "type": "scatter3d"
           }
          ],
          "scattercarpet": [
           {
            "marker": {
             "colorbar": {
              "outlinewidth": 0,
              "ticks": ""
             }
            },
            "type": "scattercarpet"
           }
          ],
          "scattergeo": [
           {
            "marker": {
             "colorbar": {
              "outlinewidth": 0,
              "ticks": ""
             }
            },
            "type": "scattergeo"
           }
          ],
          "scattergl": [
           {
            "marker": {
             "colorbar": {
              "outlinewidth": 0,
              "ticks": ""
             }
            },
            "type": "scattergl"
           }
          ],
          "scattermapbox": [
           {
            "marker": {
             "colorbar": {
              "outlinewidth": 0,
              "ticks": ""
             }
            },
            "type": "scattermapbox"
           }
          ],
          "scatterpolar": [
           {
            "marker": {
             "colorbar": {
              "outlinewidth": 0,
              "ticks": ""
             }
            },
            "type": "scatterpolar"
           }
          ],
          "scatterpolargl": [
           {
            "marker": {
             "colorbar": {
              "outlinewidth": 0,
              "ticks": ""
             }
            },
            "type": "scatterpolargl"
           }
          ],
          "scatterternary": [
           {
            "marker": {
             "colorbar": {
              "outlinewidth": 0,
              "ticks": ""
             }
            },
            "type": "scatterternary"
           }
          ],
          "surface": [
           {
            "colorbar": {
             "outlinewidth": 0,
             "ticks": ""
            },
            "colorscale": [
             [
              0,
              "#0d0887"
             ],
             [
              0.1111111111111111,
              "#46039f"
             ],
             [
              0.2222222222222222,
              "#7201a8"
             ],
             [
              0.3333333333333333,
              "#9c179e"
             ],
             [
              0.4444444444444444,
              "#bd3786"
             ],
             [
              0.5555555555555556,
              "#d8576b"
             ],
             [
              0.6666666666666666,
              "#ed7953"
             ],
             [
              0.7777777777777778,
              "#fb9f3a"
             ],
             [
              0.8888888888888888,
              "#fdca26"
             ],
             [
              1,
              "#f0f921"
             ]
            ],
            "type": "surface"
           }
          ],
          "table": [
           {
            "cells": {
             "fill": {
              "color": "#EBF0F8"
             },
             "line": {
              "color": "white"
             }
            },
            "header": {
             "fill": {
              "color": "#C8D4E3"
             },
             "line": {
              "color": "white"
             }
            },
            "type": "table"
           }
          ]
         },
         "layout": {
          "annotationdefaults": {
           "arrowcolor": "#2a3f5f",
           "arrowhead": 0,
           "arrowwidth": 1
          },
          "autotypenumbers": "strict",
          "coloraxis": {
           "colorbar": {
            "outlinewidth": 0,
            "ticks": ""
           }
          },
          "colorscale": {
           "diverging": [
            [
             0,
             "#8e0152"
            ],
            [
             0.1,
             "#c51b7d"
            ],
            [
             0.2,
             "#de77ae"
            ],
            [
             0.3,
             "#f1b6da"
            ],
            [
             0.4,
             "#fde0ef"
            ],
            [
             0.5,
             "#f7f7f7"
            ],
            [
             0.6,
             "#e6f5d0"
            ],
            [
             0.7,
             "#b8e186"
            ],
            [
             0.8,
             "#7fbc41"
            ],
            [
             0.9,
             "#4d9221"
            ],
            [
             1,
             "#276419"
            ]
           ],
           "sequential": [
            [
             0,
             "#0d0887"
            ],
            [
             0.1111111111111111,
             "#46039f"
            ],
            [
             0.2222222222222222,
             "#7201a8"
            ],
            [
             0.3333333333333333,
             "#9c179e"
            ],
            [
             0.4444444444444444,
             "#bd3786"
            ],
            [
             0.5555555555555556,
             "#d8576b"
            ],
            [
             0.6666666666666666,
             "#ed7953"
            ],
            [
             0.7777777777777778,
             "#fb9f3a"
            ],
            [
             0.8888888888888888,
             "#fdca26"
            ],
            [
             1,
             "#f0f921"
            ]
           ],
           "sequentialminus": [
            [
             0,
             "#0d0887"
            ],
            [
             0.1111111111111111,
             "#46039f"
            ],
            [
             0.2222222222222222,
             "#7201a8"
            ],
            [
             0.3333333333333333,
             "#9c179e"
            ],
            [
             0.4444444444444444,
             "#bd3786"
            ],
            [
             0.5555555555555556,
             "#d8576b"
            ],
            [
             0.6666666666666666,
             "#ed7953"
            ],
            [
             0.7777777777777778,
             "#fb9f3a"
            ],
            [
             0.8888888888888888,
             "#fdca26"
            ],
            [
             1,
             "#f0f921"
            ]
           ]
          },
          "colorway": [
           "#636efa",
           "#EF553B",
           "#00cc96",
           "#ab63fa",
           "#FFA15A",
           "#19d3f3",
           "#FF6692",
           "#B6E880",
           "#FF97FF",
           "#FECB52"
          ],
          "font": {
           "color": "#2a3f5f"
          },
          "geo": {
           "bgcolor": "white",
           "lakecolor": "white",
           "landcolor": "#E5ECF6",
           "showlakes": true,
           "showland": true,
           "subunitcolor": "white"
          },
          "hoverlabel": {
           "align": "left"
          },
          "hovermode": "closest",
          "mapbox": {
           "style": "light"
          },
          "paper_bgcolor": "white",
          "plot_bgcolor": "#E5ECF6",
          "polar": {
           "angularaxis": {
            "gridcolor": "white",
            "linecolor": "white",
            "ticks": ""
           },
           "bgcolor": "#E5ECF6",
           "radialaxis": {
            "gridcolor": "white",
            "linecolor": "white",
            "ticks": ""
           }
          },
          "scene": {
           "xaxis": {
            "backgroundcolor": "#E5ECF6",
            "gridcolor": "white",
            "gridwidth": 2,
            "linecolor": "white",
            "showbackground": true,
            "ticks": "",
            "zerolinecolor": "white"
           },
           "yaxis": {
            "backgroundcolor": "#E5ECF6",
            "gridcolor": "white",
            "gridwidth": 2,
            "linecolor": "white",
            "showbackground": true,
            "ticks": "",
            "zerolinecolor": "white"
           },
           "zaxis": {
            "backgroundcolor": "#E5ECF6",
            "gridcolor": "white",
            "gridwidth": 2,
            "linecolor": "white",
            "showbackground": true,
            "ticks": "",
            "zerolinecolor": "white"
           }
          },
          "shapedefaults": {
           "line": {
            "color": "#2a3f5f"
           }
          },
          "ternary": {
           "aaxis": {
            "gridcolor": "white",
            "linecolor": "white",
            "ticks": ""
           },
           "baxis": {
            "gridcolor": "white",
            "linecolor": "white",
            "ticks": ""
           },
           "bgcolor": "#E5ECF6",
           "caxis": {
            "gridcolor": "white",
            "linecolor": "white",
            "ticks": ""
           }
          },
          "title": {
           "x": 0.05
          },
          "xaxis": {
           "automargin": true,
           "gridcolor": "white",
           "linecolor": "white",
           "ticks": "",
           "title": {
            "standoff": 15
           },
           "zerolinecolor": "white",
           "zerolinewidth": 2
          },
          "yaxis": {
           "automargin": true,
           "gridcolor": "white",
           "linecolor": "white",
           "ticks": "",
           "title": {
            "standoff": 15
           },
           "zerolinecolor": "white",
           "zerolinewidth": 2
          }
         }
        },
        "title": {
         "text": "Cramer's V Correlation Heatmap - Categorical and Churn variables"
        },
        "width": 800,
        "xaxis": {
         "anchor": "y",
         "constrain": "domain",
         "domain": [
          0,
          1
         ],
         "scaleanchor": "y"
        },
        "yaxis": {
         "anchor": "x",
         "autorange": "reversed",
         "constrain": "domain",
         "domain": [
          0,
          1
         ]
        }
       }
      }
     },
     "metadata": {},
     "output_type": "display_data"
    }
   ],
   "source": [
    "plt.ioff() # to not show the default matplotlib plot from the associations function\n",
    "excluded = ['Tenure','MonthlyCharges']\n",
    "string_columns = [ col for col in x_train.columns if col not in excluded]\n",
    "df_categorical = x_train[string_columns].assign(Churn=y_train)\n",
    "corr_measures = associations(df_categorical, nominal_columns='all', plot = False)\n",
    "fig = px.imshow(corr_measures['corr'],color_continuous_scale=\"RdBu\",text_auto=True)\n",
    "fig.update_layout(title=\"Cramer's V Correlation Heatmap - Categorical and Churn variables\", width=800, height=700)\n",
    "fig.show()"
   ]
  },
  {
   "cell_type": "code",
   "execution_count": 18,
   "metadata": {},
   "outputs": [
    {
     "data": {
      "text/plain": [
       "(1127, 28)"
      ]
     },
     "execution_count": 18,
     "metadata": {},
     "output_type": "execute_result"
    }
   ],
   "source": [
    "x_cv.shape"
   ]
  },
  {
   "cell_type": "code",
   "execution_count": 19,
   "metadata": {},
   "outputs": [
    {
     "data": {
      "text/plain": [
       "0    828\n",
       "1    299\n",
       "Name: Churn, dtype: int64"
      ]
     },
     "execution_count": 19,
     "metadata": {},
     "output_type": "execute_result"
    }
   ],
   "source": [
    "y_cv.value_counts()"
   ]
  },
  {
   "cell_type": "code",
   "execution_count": 45,
   "metadata": {},
   "outputs": [
    {
     "name": "stdout",
     "output_type": "stream",
     "text": [
      "After OverSampling, the shape of train_X: (6622, 28)\n",
      "After OverSampling, the shape of train_y: (6622,) \n",
      "\n",
      "After OverSampling, counts of label '1': 3311\n",
      "After OverSampling, counts of label '0': 3311\n"
     ]
    }
   ],
   "source": [
    "sm = SMOTE(random_state = 2)\n",
    "X_train_res, y_train_res = sm.fit_resample(x_train, y_train.ravel())\n",
    "  \n",
    "print('After OverSampling, the shape of train_X: {}'.format(X_train_res.shape))\n",
    "print('After OverSampling, the shape of train_y: {} \\n'.format(y_train_res.shape))\n",
    "  \n",
    "print(\"After OverSampling, counts of label '1': {}\".format(sum(y_train_res == 1)))\n",
    "print(\"After OverSampling, counts of label '0': {}\".format(sum(y_train_res == 0)))"
   ]
  },
  {
   "cell_type": "code",
   "execution_count": 46,
   "metadata": {},
   "outputs": [
    {
     "name": "stdout",
     "output_type": "stream",
     "text": [
      "After OverSampling, the shape of train_X: (6622, 28)\n",
      "After OverSampling, the shape of train_y: (6622,) \n",
      "\n"
     ]
    }
   ],
   "source": [
    "# define oversampling strategy\n",
    "oversample = RandomOverSampler(sampling_strategy='minority')\n",
    "ros = RandomOverSampler(random_state=42)\n",
    "X_res, y_res = ros.fit_resample(x_train, y_train)\n",
    "\n",
    "print('After OverSampling, the shape of train_X: {}'.format(X_res.shape))\n",
    "print('After OverSampling, the shape of train_y: {} \\n'.format(y_res.shape))"
   ]
  },
  {
   "cell_type": "code",
   "execution_count": 47,
   "metadata": {},
   "outputs": [
    {
     "name": "stdout",
     "output_type": "stream",
     "text": [
      "After UnderSampling, the shape of train_X: (2392, 28)\n",
      "After UnderSampling, the shape of train_y: (2392,) \n",
      "\n"
     ]
    }
   ],
   "source": [
    "# define undersampling strategy\n",
    "oversample = RandomUnderSampler(sampling_strategy='minority')\n",
    "ros = RandomUnderSampler(random_state=42)\n",
    "X_res_u, y_res_u = ros.fit_resample(x_train, y_train)\n",
    "\n",
    "print('After UnderSampling, the shape of train_X: {}'.format(X_res_u.shape))\n",
    "print('After UnderSampling, the shape of train_y: {} \\n'.format(y_res_u.shape))"
   ]
  },
  {
   "cell_type": "code",
   "execution_count": 49,
   "metadata": {},
   "outputs": [
    {
     "name": "stdout",
     "output_type": "stream",
     "text": [
      "ROC_AUC Score - Undersampling :  84.71%\n"
     ]
    }
   ],
   "source": [
    "lr1 = LogisticRegression().fit(x_train, y_train)\n",
    "\n",
    "y_pred_class_lr1 = lr1.predict(x_cv)\n",
    "y_pred_prob = lr1.predict_proba(x_cv)[:,1]\n",
    "print(\"ROC_AUC Score - Undersampling : \",'{0:.2%}'.format(roc_auc_score(y_cv,y_pred_prob)))"
   ]
  },
  {
   "cell_type": "code",
   "execution_count": 50,
   "metadata": {},
   "outputs": [
    {
     "data": {
      "application/vnd.plotly.v1+json": {
       "config": {
        "plotlyServerURL": "https://plot.ly"
       },
       "data": [
        {
         "coloraxis": "coloraxis",
         "hovertemplate": "Predicted: %{x}<br>Actual: %{y}<br>Count: %{z}<extra></extra>",
         "name": "0",
         "showscale": true,
         "texttemplate": "%{z}",
         "type": "heatmap",
         "x": [
          "Predicted Negative",
          "Predicted Positive"
         ],
         "xaxis": "x",
         "y": [
          "Actual Negative",
          "Actual Positive"
         ],
         "yaxis": "y",
         "z": [
          [
           752,
           76
          ],
          [
           144,
           155
          ]
         ]
        }
       ],
       "layout": {
        "coloraxis": {
         "colorbar": {
          "title": {
           "text": "Count"
          }
         },
         "colorscale": [
          [
           0,
           "rgb(247,251,255)"
          ],
          [
           0.125,
           "rgb(222,235,247)"
          ],
          [
           0.25,
           "rgb(198,219,239)"
          ],
          [
           0.375,
           "rgb(158,202,225)"
          ],
          [
           0.5,
           "rgb(107,174,214)"
          ],
          [
           0.625,
           "rgb(66,146,198)"
          ],
          [
           0.75,
           "rgb(33,113,181)"
          ],
          [
           0.875,
           "rgb(8,81,156)"
          ],
          [
           1,
           "rgb(8,48,107)"
          ]
         ]
        },
        "margin": {
         "t": 60
        },
        "template": {
         "data": {
          "bar": [
           {
            "error_x": {
             "color": "#2a3f5f"
            },
            "error_y": {
             "color": "#2a3f5f"
            },
            "marker": {
             "line": {
              "color": "#E5ECF6",
              "width": 0.5
             },
             "pattern": {
              "fillmode": "overlay",
              "size": 10,
              "solidity": 0.2
             }
            },
            "type": "bar"
           }
          ],
          "barpolar": [
           {
            "marker": {
             "line": {
              "color": "#E5ECF6",
              "width": 0.5
             },
             "pattern": {
              "fillmode": "overlay",
              "size": 10,
              "solidity": 0.2
             }
            },
            "type": "barpolar"
           }
          ],
          "carpet": [
           {
            "aaxis": {
             "endlinecolor": "#2a3f5f",
             "gridcolor": "white",
             "linecolor": "white",
             "minorgridcolor": "white",
             "startlinecolor": "#2a3f5f"
            },
            "baxis": {
             "endlinecolor": "#2a3f5f",
             "gridcolor": "white",
             "linecolor": "white",
             "minorgridcolor": "white",
             "startlinecolor": "#2a3f5f"
            },
            "type": "carpet"
           }
          ],
          "choropleth": [
           {
            "colorbar": {
             "outlinewidth": 0,
             "ticks": ""
            },
            "type": "choropleth"
           }
          ],
          "contour": [
           {
            "colorbar": {
             "outlinewidth": 0,
             "ticks": ""
            },
            "colorscale": [
             [
              0,
              "#0d0887"
             ],
             [
              0.1111111111111111,
              "#46039f"
             ],
             [
              0.2222222222222222,
              "#7201a8"
             ],
             [
              0.3333333333333333,
              "#9c179e"
             ],
             [
              0.4444444444444444,
              "#bd3786"
             ],
             [
              0.5555555555555556,
              "#d8576b"
             ],
             [
              0.6666666666666666,
              "#ed7953"
             ],
             [
              0.7777777777777778,
              "#fb9f3a"
             ],
             [
              0.8888888888888888,
              "#fdca26"
             ],
             [
              1,
              "#f0f921"
             ]
            ],
            "type": "contour"
           }
          ],
          "contourcarpet": [
           {
            "colorbar": {
             "outlinewidth": 0,
             "ticks": ""
            },
            "type": "contourcarpet"
           }
          ],
          "heatmap": [
           {
            "colorbar": {
             "outlinewidth": 0,
             "ticks": ""
            },
            "colorscale": [
             [
              0,
              "#0d0887"
             ],
             [
              0.1111111111111111,
              "#46039f"
             ],
             [
              0.2222222222222222,
              "#7201a8"
             ],
             [
              0.3333333333333333,
              "#9c179e"
             ],
             [
              0.4444444444444444,
              "#bd3786"
             ],
             [
              0.5555555555555556,
              "#d8576b"
             ],
             [
              0.6666666666666666,
              "#ed7953"
             ],
             [
              0.7777777777777778,
              "#fb9f3a"
             ],
             [
              0.8888888888888888,
              "#fdca26"
             ],
             [
              1,
              "#f0f921"
             ]
            ],
            "type": "heatmap"
           }
          ],
          "heatmapgl": [
           {
            "colorbar": {
             "outlinewidth": 0,
             "ticks": ""
            },
            "colorscale": [
             [
              0,
              "#0d0887"
             ],
             [
              0.1111111111111111,
              "#46039f"
             ],
             [
              0.2222222222222222,
              "#7201a8"
             ],
             [
              0.3333333333333333,
              "#9c179e"
             ],
             [
              0.4444444444444444,
              "#bd3786"
             ],
             [
              0.5555555555555556,
              "#d8576b"
             ],
             [
              0.6666666666666666,
              "#ed7953"
             ],
             [
              0.7777777777777778,
              "#fb9f3a"
             ],
             [
              0.8888888888888888,
              "#fdca26"
             ],
             [
              1,
              "#f0f921"
             ]
            ],
            "type": "heatmapgl"
           }
          ],
          "histogram": [
           {
            "marker": {
             "pattern": {
              "fillmode": "overlay",
              "size": 10,
              "solidity": 0.2
             }
            },
            "type": "histogram"
           }
          ],
          "histogram2d": [
           {
            "colorbar": {
             "outlinewidth": 0,
             "ticks": ""
            },
            "colorscale": [
             [
              0,
              "#0d0887"
             ],
             [
              0.1111111111111111,
              "#46039f"
             ],
             [
              0.2222222222222222,
              "#7201a8"
             ],
             [
              0.3333333333333333,
              "#9c179e"
             ],
             [
              0.4444444444444444,
              "#bd3786"
             ],
             [
              0.5555555555555556,
              "#d8576b"
             ],
             [
              0.6666666666666666,
              "#ed7953"
             ],
             [
              0.7777777777777778,
              "#fb9f3a"
             ],
             [
              0.8888888888888888,
              "#fdca26"
             ],
             [
              1,
              "#f0f921"
             ]
            ],
            "type": "histogram2d"
           }
          ],
          "histogram2dcontour": [
           {
            "colorbar": {
             "outlinewidth": 0,
             "ticks": ""
            },
            "colorscale": [
             [
              0,
              "#0d0887"
             ],
             [
              0.1111111111111111,
              "#46039f"
             ],
             [
              0.2222222222222222,
              "#7201a8"
             ],
             [
              0.3333333333333333,
              "#9c179e"
             ],
             [
              0.4444444444444444,
              "#bd3786"
             ],
             [
              0.5555555555555556,
              "#d8576b"
             ],
             [
              0.6666666666666666,
              "#ed7953"
             ],
             [
              0.7777777777777778,
              "#fb9f3a"
             ],
             [
              0.8888888888888888,
              "#fdca26"
             ],
             [
              1,
              "#f0f921"
             ]
            ],
            "type": "histogram2dcontour"
           }
          ],
          "mesh3d": [
           {
            "colorbar": {
             "outlinewidth": 0,
             "ticks": ""
            },
            "type": "mesh3d"
           }
          ],
          "parcoords": [
           {
            "line": {
             "colorbar": {
              "outlinewidth": 0,
              "ticks": ""
             }
            },
            "type": "parcoords"
           }
          ],
          "pie": [
           {
            "automargin": true,
            "type": "pie"
           }
          ],
          "scatter": [
           {
            "fillpattern": {
             "fillmode": "overlay",
             "size": 10,
             "solidity": 0.2
            },
            "type": "scatter"
           }
          ],
          "scatter3d": [
           {
            "line": {
             "colorbar": {
              "outlinewidth": 0,
              "ticks": ""
             }
            },
            "marker": {
             "colorbar": {
              "outlinewidth": 0,
              "ticks": ""
             }
            },
            "type": "scatter3d"
           }
          ],
          "scattercarpet": [
           {
            "marker": {
             "colorbar": {
              "outlinewidth": 0,
              "ticks": ""
             }
            },
            "type": "scattercarpet"
           }
          ],
          "scattergeo": [
           {
            "marker": {
             "colorbar": {
              "outlinewidth": 0,
              "ticks": ""
             }
            },
            "type": "scattergeo"
           }
          ],
          "scattergl": [
           {
            "marker": {
             "colorbar": {
              "outlinewidth": 0,
              "ticks": ""
             }
            },
            "type": "scattergl"
           }
          ],
          "scattermapbox": [
           {
            "marker": {
             "colorbar": {
              "outlinewidth": 0,
              "ticks": ""
             }
            },
            "type": "scattermapbox"
           }
          ],
          "scatterpolar": [
           {
            "marker": {
             "colorbar": {
              "outlinewidth": 0,
              "ticks": ""
             }
            },
            "type": "scatterpolar"
           }
          ],
          "scatterpolargl": [
           {
            "marker": {
             "colorbar": {
              "outlinewidth": 0,
              "ticks": ""
             }
            },
            "type": "scatterpolargl"
           }
          ],
          "scatterternary": [
           {
            "marker": {
             "colorbar": {
              "outlinewidth": 0,
              "ticks": ""
             }
            },
            "type": "scatterternary"
           }
          ],
          "surface": [
           {
            "colorbar": {
             "outlinewidth": 0,
             "ticks": ""
            },
            "colorscale": [
             [
              0,
              "#0d0887"
             ],
             [
              0.1111111111111111,
              "#46039f"
             ],
             [
              0.2222222222222222,
              "#7201a8"
             ],
             [
              0.3333333333333333,
              "#9c179e"
             ],
             [
              0.4444444444444444,
              "#bd3786"
             ],
             [
              0.5555555555555556,
              "#d8576b"
             ],
             [
              0.6666666666666666,
              "#ed7953"
             ],
             [
              0.7777777777777778,
              "#fb9f3a"
             ],
             [
              0.8888888888888888,
              "#fdca26"
             ],
             [
              1,
              "#f0f921"
             ]
            ],
            "type": "surface"
           }
          ],
          "table": [
           {
            "cells": {
             "fill": {
              "color": "#EBF0F8"
             },
             "line": {
              "color": "white"
             }
            },
            "header": {
             "fill": {
              "color": "#C8D4E3"
             },
             "line": {
              "color": "white"
             }
            },
            "type": "table"
           }
          ]
         },
         "layout": {
          "annotationdefaults": {
           "arrowcolor": "#2a3f5f",
           "arrowhead": 0,
           "arrowwidth": 1
          },
          "autotypenumbers": "strict",
          "coloraxis": {
           "colorbar": {
            "outlinewidth": 0,
            "ticks": ""
           }
          },
          "colorscale": {
           "diverging": [
            [
             0,
             "#8e0152"
            ],
            [
             0.1,
             "#c51b7d"
            ],
            [
             0.2,
             "#de77ae"
            ],
            [
             0.3,
             "#f1b6da"
            ],
            [
             0.4,
             "#fde0ef"
            ],
            [
             0.5,
             "#f7f7f7"
            ],
            [
             0.6,
             "#e6f5d0"
            ],
            [
             0.7,
             "#b8e186"
            ],
            [
             0.8,
             "#7fbc41"
            ],
            [
             0.9,
             "#4d9221"
            ],
            [
             1,
             "#276419"
            ]
           ],
           "sequential": [
            [
             0,
             "#0d0887"
            ],
            [
             0.1111111111111111,
             "#46039f"
            ],
            [
             0.2222222222222222,
             "#7201a8"
            ],
            [
             0.3333333333333333,
             "#9c179e"
            ],
            [
             0.4444444444444444,
             "#bd3786"
            ],
            [
             0.5555555555555556,
             "#d8576b"
            ],
            [
             0.6666666666666666,
             "#ed7953"
            ],
            [
             0.7777777777777778,
             "#fb9f3a"
            ],
            [
             0.8888888888888888,
             "#fdca26"
            ],
            [
             1,
             "#f0f921"
            ]
           ],
           "sequentialminus": [
            [
             0,
             "#0d0887"
            ],
            [
             0.1111111111111111,
             "#46039f"
            ],
            [
             0.2222222222222222,
             "#7201a8"
            ],
            [
             0.3333333333333333,
             "#9c179e"
            ],
            [
             0.4444444444444444,
             "#bd3786"
            ],
            [
             0.5555555555555556,
             "#d8576b"
            ],
            [
             0.6666666666666666,
             "#ed7953"
            ],
            [
             0.7777777777777778,
             "#fb9f3a"
            ],
            [
             0.8888888888888888,
             "#fdca26"
            ],
            [
             1,
             "#f0f921"
            ]
           ]
          },
          "colorway": [
           "#636efa",
           "#EF553B",
           "#00cc96",
           "#ab63fa",
           "#FFA15A",
           "#19d3f3",
           "#FF6692",
           "#B6E880",
           "#FF97FF",
           "#FECB52"
          ],
          "font": {
           "color": "#2a3f5f"
          },
          "geo": {
           "bgcolor": "white",
           "lakecolor": "white",
           "landcolor": "#E5ECF6",
           "showlakes": true,
           "showland": true,
           "subunitcolor": "white"
          },
          "hoverlabel": {
           "align": "left"
          },
          "hovermode": "closest",
          "mapbox": {
           "style": "light"
          },
          "paper_bgcolor": "white",
          "plot_bgcolor": "#E5ECF6",
          "polar": {
           "angularaxis": {
            "gridcolor": "white",
            "linecolor": "white",
            "ticks": ""
           },
           "bgcolor": "#E5ECF6",
           "radialaxis": {
            "gridcolor": "white",
            "linecolor": "white",
            "ticks": ""
           }
          },
          "scene": {
           "xaxis": {
            "backgroundcolor": "#E5ECF6",
            "gridcolor": "white",
            "gridwidth": 2,
            "linecolor": "white",
            "showbackground": true,
            "ticks": "",
            "zerolinecolor": "white"
           },
           "yaxis": {
            "backgroundcolor": "#E5ECF6",
            "gridcolor": "white",
            "gridwidth": 2,
            "linecolor": "white",
            "showbackground": true,
            "ticks": "",
            "zerolinecolor": "white"
           },
           "zaxis": {
            "backgroundcolor": "#E5ECF6",
            "gridcolor": "white",
            "gridwidth": 2,
            "linecolor": "white",
            "showbackground": true,
            "ticks": "",
            "zerolinecolor": "white"
           }
          },
          "shapedefaults": {
           "line": {
            "color": "#2a3f5f"
           }
          },
          "ternary": {
           "aaxis": {
            "gridcolor": "white",
            "linecolor": "white",
            "ticks": ""
           },
           "baxis": {
            "gridcolor": "white",
            "linecolor": "white",
            "ticks": ""
           },
           "bgcolor": "#E5ECF6",
           "caxis": {
            "gridcolor": "white",
            "linecolor": "white",
            "ticks": ""
           }
          },
          "title": {
           "x": 0.05
          },
          "xaxis": {
           "automargin": true,
           "gridcolor": "white",
           "linecolor": "white",
           "ticks": "",
           "title": {
            "standoff": 15
           },
           "zerolinecolor": "white",
           "zerolinewidth": 2
          },
          "yaxis": {
           "automargin": true,
           "gridcolor": "white",
           "linecolor": "white",
           "ticks": "",
           "title": {
            "standoff": 15
           },
           "zerolinecolor": "white",
           "zerolinewidth": 2
          }
         }
        },
        "title": {
         "text": "Confusion Matrix - Baseline"
        },
        "xaxis": {
         "anchor": "y",
         "constrain": "domain",
         "domain": [
          0,
          1
         ],
         "scaleanchor": "y",
         "title": {
          "text": "Predicted"
         }
        },
        "yaxis": {
         "anchor": "x",
         "autorange": "reversed",
         "constrain": "domain",
         "domain": [
          0,
          1
         ],
         "title": {
          "text": "Actual"
         }
        }
       }
      }
     },
     "metadata": {},
     "output_type": "display_data"
    }
   ],
   "source": [
    "cm = confusion_matrix(y_cv, y_pred_class_lr1)\n",
    "tn, fp, fn, tp = confusion_matrix(y_cv, y_pred_class_lr1).ravel()\n",
    "cm_df = pd.DataFrame(cm, columns=['Predicted Negative', 'Predicted Positive'], index=['Actual Negative', 'Actual Positive'])\n",
    "\n",
    "fig = px.imshow(cm_df, labels=dict(x=\"Predicted\", y=\"Actual\", color=\"Count\"),\n",
    "                x=['Predicted Negative', 'Predicted Positive'],\n",
    "                y=['Actual Negative', 'Actual Positive'],\n",
    "                color_continuous_scale=px.colors.sequential.Blues,text_auto=True)\n",
    "\n",
    "fig.update_traces(showscale=True) \n",
    "fig.update_layout(title='Confusion Matrix - Baseline')\n",
    "fig.show()"
   ]
  },
  {
   "cell_type": "code",
   "execution_count": 51,
   "metadata": {},
   "outputs": [
    {
     "name": "stdout",
     "output_type": "stream",
     "text": [
      "Sensitivity: 0.5183946488294314\n",
      "Specificity: 0.9082125603864735\n"
     ]
    }
   ],
   "source": [
    "sensitivity = tp / (tp + fn)\n",
    "specificity = tn / (tn + fp)\n",
    "print('Sensitivity: ' + str(sensitivity) + \"\\n\"+'Specificity: '+ str(specificity))"
   ]
  },
  {
   "cell_type": "code",
   "execution_count": 33,
   "metadata": {},
   "outputs": [],
   "source": [
    "lr1 = LogisticRegression().fit(X_res_u, y_res_u)\n",
    "lr2 = LogisticRegression().fit(X_res, y_res)\n",
    "lr3 = LogisticRegression().fit(X_train_res, y_train_res)\n",
    "dt1 = tree.DecisionTreeClassifier().fit(X_res_u, y_res_u)\n",
    "dt2 = tree.DecisionTreeClassifier().fit(X_res, y_res)\n",
    "dt3 = tree.DecisionTreeClassifier().fit(X_train_res, y_train_res)\n",
    "svc1 = svm.SVC(probability=True).fit(X_res_u, y_res_u)\n",
    "svc2 = svm.SVC(probability=True).fit(X_res, y_res)\n",
    "svc3 = svm.SVC(probability=True).fit(X_train_res, y_train_res)\n",
    "\n",
    "y_pred_class_lr1 = lr1.predict(x_cv)\n",
    "y_pred_class_lr2 = lr2.predict(x_cv)\n",
    "y_pred_class_lr3 = lr3.predict(x_cv)\n",
    "\n",
    "y_pred_class_dt1 = dt1.predict(x_cv)\n",
    "y_pred_class_dt2 = dt2.predict(x_cv)\n",
    "y_pred_class_dt3 = dt3.predict(x_cv)\n",
    "\n",
    "y_pred_class_svc1 = svc1.predict(x_cv)\n",
    "y_pred_class_svc2 = svc2.predict(x_cv)\n",
    "y_pred_class_svc3 = svc3.predict(x_cv)"
   ]
  },
  {
   "cell_type": "code",
   "execution_count": 17,
   "metadata": {},
   "outputs": [
    {
     "data": {
      "image/png": "[encoded data removed]",
      "text/plain": [
       "<Figure size 640x480 with 1 Axes>"
      ]
     },
     "metadata": {},
     "output_type": "display_data"
    },
    {
     "name": "stdout",
     "output_type": "stream",
     "text": [
      "ROC_AUC Score - Undersampling :  84.36%\n",
      "ROC_AUC Score - Oversampling :  84.45%\n",
      "ROC_AUC Score - Smote :  83.38%\n"
     ]
    }
   ],
   "source": [
    "y_pred_prob = lr1.predict_proba(x_cv)[:,1]\n",
    "y_pred_prob2 = lr2.predict_proba(x_cv)[:,1]\n",
    "y_pred_prob3 = lr3.predict_proba(x_cv)[:,1]\n",
    "fpr, tpr, thresholds = roc_curve(y_cv, y_pred_prob)\n",
    "fpr2, tpr2, thresholds = roc_curve(y_cv, y_pred_prob2)\n",
    "fpr3, tpr3, thresholds = roc_curve(y_cv, y_pred_prob3)\n",
    "plt.plot([0, 1], [0, 1], 'k--' )\n",
    "plt.plot(fpr, tpr, label='Undersampling',color = \"r\")\n",
    "plt.plot(fpr2, tpr2, label='Oversampling',color = \"g\")\n",
    "plt.plot(fpr3, tpr3, label='SMOTE',color = \"b\")\n",
    "plt.xlabel('False Positive Rate')\n",
    "plt.ylabel('True Positive Rate')\n",
    "plt.title('Logistic Regression ROC Curve',fontsize=16)\n",
    "plt.legend()\n",
    "plt.show();\n",
    "print(\"ROC_AUC Score - Undersampling : \",'{0:.2%}'.format(roc_auc_score(y_cv,y_pred_prob)))\n",
    "print(\"ROC_AUC Score - Oversampling : \",'{0:.2%}'.format(roc_auc_score(y_cv,y_pred_prob2)))\n",
    "print(\"ROC_AUC Score - Smote : \",'{0:.2%}'.format(roc_auc_score(y_cv,y_pred_prob3)))"
   ]
  },
  {
   "cell_type": "code",
   "execution_count": 29,
   "metadata": {},
   "outputs": [
    {
     "data": {
      "image/png": "[encoded data removed]",
      "text/plain": [
       "<Figure size 640x480 with 1 Axes>"
      ]
     },
     "metadata": {},
     "output_type": "display_data"
    },
    {
     "name": "stdout",
     "output_type": "stream",
     "text": [
      "ROC_AUC Score - Undersampling :  69.92%\n",
      "ROC_AUC Score - Oversampling :  65.11%\n",
      "ROC_AUC Score - Smote :  67.91%\n"
     ]
    }
   ],
   "source": [
    "y_pred_prob = dt1.predict_proba(x_cv)[:,1]\n",
    "y_pred_prob2 = dt2.predict_proba(x_cv)[:,1]\n",
    "y_pred_prob3 = dt3.predict_proba(x_cv)[:,1]\n",
    "fpr, tpr, thresholds = roc_curve(y_cv, y_pred_prob)\n",
    "fpr2, tpr2, thresholds = roc_curve(y_cv, y_pred_prob2)\n",
    "fpr3, tpr3, thresholds = roc_curve(y_cv, y_pred_prob3)\n",
    "plt.plot([0, 1], [0, 1], 'k--' )\n",
    "plt.plot(fpr, tpr, label='Undersampling',color = \"r\")\n",
    "plt.plot(fpr2, tpr2, label='Oversampling',color = \"g\")\n",
    "plt.plot(fpr3, tpr3, label='SMOTE',color = \"b\")\n",
    "plt.xlabel('False Positive Rate')\n",
    "plt.ylabel('True Positive Rate')\n",
    "plt.title('Decision Tree ROC Curve',fontsize=16)\n",
    "plt.legend()\n",
    "plt.show();\n",
    "print(\"ROC_AUC Score - Undersampling : \",'{0:.2%}'.format(roc_auc_score(y_cv,y_pred_prob)))\n",
    "print(\"ROC_AUC Score - Oversampling : \",'{0:.2%}'.format(roc_auc_score(y_cv,y_pred_prob2)))\n",
    "print(\"ROC_AUC Score - Smote : \",'{0:.2%}'.format(roc_auc_score(y_cv,y_pred_prob3)))"
   ]
  },
  {
   "cell_type": "code",
   "execution_count": 28,
   "metadata": {},
   "outputs": [
    {
     "name": "stdout",
     "output_type": "stream",
     "text": [
      "ROC_AUC Score - Undersampling :  69.92%\n",
      "ROC_AUC Score - Oversampling :  65.11%\n",
      "ROC_AUC Score - Smote :  67.91%\n"
     ]
    }
   ],
   "source": [
    "print(\"ROC_AUC Score - Undersampling : \",'{0:.2%}'.format(roc_auc_score(y_cv,y_pred_prob )))\n",
    "print(\"ROC_AUC Score - Oversampling : \",'{0:.2%}'.format(roc_auc_score(y_cv,y_pred_prob2)))\n",
    "print(\"ROC_AUC Score - Smote : \",'{0:.2%}'.format(roc_auc_score(y_cv,y_pred_prob3)))"
   ]
  },
  {
   "cell_type": "code",
   "execution_count": 35,
   "metadata": {},
   "outputs": [
    {
     "data": {
      "image/png": "[encoded data removed]",
      "text/plain": [
       "<Figure size 640x480 with 1 Axes>"
      ]
     },
     "metadata": {},
     "output_type": "display_data"
    },
    {
     "name": "stdout",
     "output_type": "stream",
     "text": [
      "ROC_AUC Score - Undersampling :  82.32%\n",
      "ROC_AUC Score - Oversampling :  82.26%\n",
      "ROC_AUC Score - Smote :  81.03%\n"
     ]
    }
   ],
   "source": [
    "y_pred_prob = svc1.predict_proba(x_cv)[:,1]\n",
    "y_pred_prob2 = svc2.predict_proba(x_cv)[:,1]\n",
    "y_pred_prob3 = svc3.predict_proba(x_cv)[:,1]\n",
    "fpr, tpr, thresholds = roc_curve(y_cv, y_pred_prob)\n",
    "fpr2, tpr2, thresholds = roc_curve(y_cv, y_pred_prob2)\n",
    "fpr3, tpr3, thresholds = roc_curve(y_cv, y_pred_prob3)\n",
    "plt.plot([0, 1], [0, 1], 'k--' )\n",
    "plt.plot(fpr, tpr, label='Undersampling',color = \"r\")\n",
    "plt.plot(fpr2, tpr2, label='Oversampling',color = \"g\")\n",
    "plt.plot(fpr3, tpr3, label='SMOTE',color = \"b\")\n",
    "plt.xlabel('False Positive Rate')\n",
    "plt.ylabel('True Positive Rate')\n",
    "plt.title('Support Vector Machine ROC Curve',fontsize=16)\n",
    "plt.legend()\n",
    "plt.show();\n",
    "print(\"ROC_AUC Score - Undersampling : \",'{0:.2%}'.format(roc_auc_score(y_cv,y_pred_prob)))\n",
    "print(\"ROC_AUC Score - Oversampling : \",'{0:.2%}'.format(roc_auc_score(y_cv,y_pred_prob2)))\n",
    "print(\"ROC_AUC Score - Smote : \",'{0:.2%}'.format(roc_auc_score(y_cv,y_pred_prob3)))"
   ]
  },
  {
   "cell_type": "code",
   "execution_count": 36,
   "metadata": {},
   "outputs": [
    {
     "name": "stdout",
     "output_type": "stream",
     "text": [
      "ROC_AUC Score - Undersampling :  82.32%\n",
      "ROC_AUC Score - Oversampling :  82.26%\n",
      "ROC_AUC Score - Smote :  81.03%\n"
     ]
    }
   ],
   "source": [
    "print(\"ROC_AUC Score - Undersampling : \",'{0:.2%}'.format(roc_auc_score(y_cv,y_pred_prob  )))\n",
    "print(\"ROC_AUC Score - Oversampling : \",'{0:.2%}'.format(roc_auc_score(y_cv,y_pred_prob2)))\n",
    "print(\"ROC_AUC Score - Smote : \",'{0:.2%}'.format(roc_auc_score(y_cv, y_pred_prob3)))"
   ]
  },
  {
   "cell_type": "code",
   "execution_count": 35,
   "metadata": {},
   "outputs": [],
   "source": [
    "majority_class = y_train.value_counts().idxmax()\n",
    "x_cv['target'] = majority_class\n",
    "\n",
    "y_true = y_cv\n",
    "y_pred = x_cv['target']"
   ]
  },
  {
   "cell_type": "code",
   "execution_count": 37,
   "metadata": {},
   "outputs": [
    {
     "name": "stdout",
     "output_type": "stream",
     "text": [
      "Classification Report : \n",
      "\n",
      "              precision    recall  f1-score   support\n",
      "\n",
      "           0       0.73      1.00      0.85       828\n",
      "           1       0.00      0.00      0.00       299\n",
      "\n",
      "    accuracy                           0.73      1127\n",
      "   macro avg       0.37      0.50      0.42      1127\n",
      "weighted avg       0.54      0.73      0.62      1127\n",
      "\n"
     ]
    }
   ],
   "source": [
    "print(f\"Classification Report : \\n\\n{classification_report(y_cv, y_pred)}\")"
   ]
  },
  {
   "cell_type": "code",
   "execution_count": 38,
   "metadata": {},
   "outputs": [
    {
     "data": {
      "application/vnd.plotly.v1+json": {
       "config": {
        "plotlyServerURL": "https://plot.ly"
       },
       "data": [
        {
         "coloraxis": "coloraxis",
         "hovertemplate": "Predicted: %{x}<br>Actual: %{y}<br>Count: %{z}<extra></extra>",
         "name": "0",
         "showscale": true,
         "texttemplate": "%{z}",
         "type": "heatmap",
         "x": [
          "Predicted Negative",
          "Predicted Positive"
         ],
         "xaxis": "x",
         "y": [
          "Actual Negative",
          "Actual Positive"
         ],
         "yaxis": "y",
         "z": [
          [
           828,
           0
          ],
          [
           299,
           0
          ]
         ]
        }
       ],
       "layout": {
        "coloraxis": {
         "colorbar": {
          "title": {
           "text": "Count"
          }
         },
         "colorscale": [
          [
           0,
           "rgb(247,251,255)"
          ],
          [
           0.125,
           "rgb(222,235,247)"
          ],
          [
           0.25,
           "rgb(198,219,239)"
          ],
          [
           0.375,
           "rgb(158,202,225)"
          ],
          [
           0.5,
           "rgb(107,174,214)"
          ],
          [
           0.625,
           "rgb(66,146,198)"
          ],
          [
           0.75,
           "rgb(33,113,181)"
          ],
          [
           0.875,
           "rgb(8,81,156)"
          ],
          [
           1,
           "rgb(8,48,107)"
          ]
         ]
        },
        "margin": {
         "t": 60
        },
        "template": {
         "data": {
          "bar": [
           {
            "error_x": {
             "color": "#2a3f5f"
            },
            "error_y": {
             "color": "#2a3f5f"
            },
            "marker": {
             "line": {
              "color": "#E5ECF6",
              "width": 0.5
             },
             "pattern": {
              "fillmode": "overlay",
              "size": 10,
              "solidity": 0.2
             }
            },
            "type": "bar"
           }
          ],
          "barpolar": [
           {
            "marker": {
             "line": {
              "color": "#E5ECF6",
              "width": 0.5
             },
             "pattern": {
              "fillmode": "overlay",
              "size": 10,
              "solidity": 0.2
             }
            },
            "type": "barpolar"
           }
          ],
          "carpet": [
           {
            "aaxis": {
             "endlinecolor": "#2a3f5f",
             "gridcolor": "white",
             "linecolor": "white",
             "minorgridcolor": "white",
             "startlinecolor": "#2a3f5f"
            },
            "baxis": {
             "endlinecolor": "#2a3f5f",
             "gridcolor": "white",
             "linecolor": "white",
             "minorgridcolor": "white",
             "startlinecolor": "#2a3f5f"
            },
            "type": "carpet"
           }
          ],
          "choropleth": [
           {
            "colorbar": {
             "outlinewidth": 0,
             "ticks": ""
            },
            "type": "choropleth"
           }
          ],
          "contour": [
           {
            "colorbar": {
             "outlinewidth": 0,
             "ticks": ""
            },
            "colorscale": [
             [
              0,
              "#0d0887"
             ],
             [
              0.1111111111111111,
              "#46039f"
             ],
             [
              0.2222222222222222,
              "#7201a8"
             ],
             [
              0.3333333333333333,
              "#9c179e"
             ],
             [
              0.4444444444444444,
              "#bd3786"
             ],
             [
              0.5555555555555556,
              "#d8576b"
             ],
             [
              0.6666666666666666,
              "#ed7953"
             ],
             [
              0.7777777777777778,
              "#fb9f3a"
             ],
             [
              0.8888888888888888,
              "#fdca26"
             ],
             [
              1,
              "#f0f921"
             ]
            ],
            "type": "contour"
           }
          ],
          "contourcarpet": [
           {
            "colorbar": {
             "outlinewidth": 0,
             "ticks": ""
            },
            "type": "contourcarpet"
           }
          ],
          "heatmap": [
           {
            "colorbar": {
             "outlinewidth": 0,
             "ticks": ""
            },
            "colorscale": [
             [
              0,
              "#0d0887"
             ],
             [
              0.1111111111111111,
              "#46039f"
             ],
             [
              0.2222222222222222,
              "#7201a8"
             ],
             [
              0.3333333333333333,
              "#9c179e"
             ],
             [
              0.4444444444444444,
              "#bd3786"
             ],
             [
              0.5555555555555556,
              "#d8576b"
             ],
             [
              0.6666666666666666,
              "#ed7953"
             ],
             [
              0.7777777777777778,
              "#fb9f3a"
             ],
             [
              0.8888888888888888,
              "#fdca26"
             ],
             [
              1,
              "#f0f921"
             ]
            ],
            "type": "heatmap"
           }
          ],
          "heatmapgl": [
           {
            "colorbar": {
             "outlinewidth": 0,
             "ticks": ""
            },
            "colorscale": [
             [
              0,
              "#0d0887"
             ],
             [
              0.1111111111111111,
              "#46039f"
             ],
             [
              0.2222222222222222,
              "#7201a8"
             ],
             [
              0.3333333333333333,
              "#9c179e"
             ],
             [
              0.4444444444444444,
              "#bd3786"
             ],
             [
              0.5555555555555556,
              "#d8576b"
             ],
             [
              0.6666666666666666,
              "#ed7953"
             ],
             [
              0.7777777777777778,
              "#fb9f3a"
             ],
             [
              0.8888888888888888,
              "#fdca26"
             ],
             [
              1,
              "#f0f921"
             ]
            ],
            "type": "heatmapgl"
           }
          ],
          "histogram": [
           {
            "marker": {
             "pattern": {
              "fillmode": "overlay",
              "size": 10,
              "solidity": 0.2
             }
            },
            "type": "histogram"
           }
          ],
          "histogram2d": [
           {
            "colorbar": {
             "outlinewidth": 0,
             "ticks": ""
            },
            "colorscale": [
             [
              0,
              "#0d0887"
             ],
             [
              0.1111111111111111,
              "#46039f"
             ],
             [
              0.2222222222222222,
              "#7201a8"
             ],
             [
              0.3333333333333333,
              "#9c179e"
             ],
             [
              0.4444444444444444,
              "#bd3786"
             ],
             [
              0.5555555555555556,
              "#d8576b"
             ],
             [
              0.6666666666666666,
              "#ed7953"
             ],
             [
              0.7777777777777778,
              "#fb9f3a"
             ],
             [
              0.8888888888888888,
              "#fdca26"
             ],
             [
              1,
              "#f0f921"
             ]
            ],
            "type": "histogram2d"
           }
          ],
          "histogram2dcontour": [
           {
            "colorbar": {
             "outlinewidth": 0,
             "ticks": ""
            },
            "colorscale": [
             [
              0,
              "#0d0887"
             ],
             [
              0.1111111111111111,
              "#46039f"
             ],
             [
              0.2222222222222222,
              "#7201a8"
             ],
             [
              0.3333333333333333,
              "#9c179e"
             ],
             [
              0.4444444444444444,
              "#bd3786"
             ],
             [
              0.5555555555555556,
              "#d8576b"
             ],
             [
              0.6666666666666666,
              "#ed7953"
             ],
             [
              0.7777777777777778,
              "#fb9f3a"
             ],
             [
              0.8888888888888888,
              "#fdca26"
             ],
             [
              1,
              "#f0f921"
             ]
            ],
            "type": "histogram2dcontour"
           }
          ],
          "mesh3d": [
           {
            "colorbar": {
             "outlinewidth": 0,
             "ticks": ""
            },
            "type": "mesh3d"
           }
          ],
          "parcoords": [
           {
            "line": {
             "colorbar": {
              "outlinewidth": 0,
              "ticks": ""
             }
            },
            "type": "parcoords"
           }
          ],
          "pie": [
           {
            "automargin": true,
            "type": "pie"
           }
          ],
          "scatter": [
           {
            "fillpattern": {
             "fillmode": "overlay",
             "size": 10,
             "solidity": 0.2
            },
            "type": "scatter"
           }
          ],
          "scatter3d": [
           {
            "line": {
             "colorbar": {
              "outlinewidth": 0,
              "ticks": ""
             }
            },
            "marker": {
             "colorbar": {
              "outlinewidth": 0,
              "ticks": ""
             }
            },
            "type": "scatter3d"
           }
          ],
          "scattercarpet": [
           {
            "marker": {
             "colorbar": {
              "outlinewidth": 0,
              "ticks": ""
             }
            },
            "type": "scattercarpet"
           }
          ],
          "scattergeo": [
           {
            "marker": {
             "colorbar": {
              "outlinewidth": 0,
              "ticks": ""
             }
            },
            "type": "scattergeo"
           }
          ],
          "scattergl": [
           {
            "marker": {
             "colorbar": {
              "outlinewidth": 0,
              "ticks": ""
             }
            },
            "type": "scattergl"
           }
          ],
          "scattermapbox": [
           {
            "marker": {
             "colorbar": {
              "outlinewidth": 0,
              "ticks": ""
             }
            },
            "type": "scattermapbox"
           }
          ],
          "scatterpolar": [
           {
            "marker": {
             "colorbar": {
              "outlinewidth": 0,
              "ticks": ""
             }
            },
            "type": "scatterpolar"
           }
          ],
          "scatterpolargl": [
           {
            "marker": {
             "colorbar": {
              "outlinewidth": 0,
              "ticks": ""
             }
            },
            "type": "scatterpolargl"
           }
          ],
          "scatterternary": [
           {
            "marker": {
             "colorbar": {
              "outlinewidth": 0,
              "ticks": ""
             }
            },
            "type": "scatterternary"
           }
          ],
          "surface": [
           {
            "colorbar": {
             "outlinewidth": 0,
             "ticks": ""
            },
            "colorscale": [
             [
              0,
              "#0d0887"
             ],
             [
              0.1111111111111111,
              "#46039f"
             ],
             [
              0.2222222222222222,
              "#7201a8"
             ],
             [
              0.3333333333333333,
              "#9c179e"
             ],
             [
              0.4444444444444444,
              "#bd3786"
             ],
             [
              0.5555555555555556,
              "#d8576b"
             ],
             [
              0.6666666666666666,
              "#ed7953"
             ],
             [
              0.7777777777777778,
              "#fb9f3a"
             ],
             [
              0.8888888888888888,
              "#fdca26"
             ],
             [
              1,
              "#f0f921"
             ]
            ],
            "type": "surface"
           }
          ],
          "table": [
           {
            "cells": {
             "fill": {
              "color": "#EBF0F8"
             },
             "line": {
              "color": "white"
             }
            },
            "header": {
             "fill": {
              "color": "#C8D4E3"
             },
             "line": {
              "color": "white"
             }
            },
            "type": "table"
           }
          ]
         },
         "layout": {
          "annotationdefaults": {
           "arrowcolor": "#2a3f5f",
           "arrowhead": 0,
           "arrowwidth": 1
          },
          "autotypenumbers": "strict",
          "coloraxis": {
           "colorbar": {
            "outlinewidth": 0,
            "ticks": ""
           }
          },
          "colorscale": {
           "diverging": [
            [
             0,
             "#8e0152"
            ],
            [
             0.1,
             "#c51b7d"
            ],
            [
             0.2,
             "#de77ae"
            ],
            [
             0.3,
             "#f1b6da"
            ],
            [
             0.4,
             "#fde0ef"
            ],
            [
             0.5,
             "#f7f7f7"
            ],
            [
             0.6,
             "#e6f5d0"
            ],
            [
             0.7,
             "#b8e186"
            ],
            [
             0.8,
             "#7fbc41"
            ],
            [
             0.9,
             "#4d9221"
            ],
            [
             1,
             "#276419"
            ]
           ],
           "sequential": [
            [
             0,
             "#0d0887"
            ],
            [
             0.1111111111111111,
             "#46039f"
            ],
            [
             0.2222222222222222,
             "#7201a8"
            ],
            [
             0.3333333333333333,
             "#9c179e"
            ],
            [
             0.4444444444444444,
             "#bd3786"
            ],
            [
             0.5555555555555556,
             "#d8576b"
            ],
            [
             0.6666666666666666,
             "#ed7953"
            ],
            [
             0.7777777777777778,
             "#fb9f3a"
            ],
            [
             0.8888888888888888,
             "#fdca26"
            ],
            [
             1,
             "#f0f921"
            ]
           ],
           "sequentialminus": [
            [
             0,
             "#0d0887"
            ],
            [
             0.1111111111111111,
             "#46039f"
            ],
            [
             0.2222222222222222,
             "#7201a8"
            ],
            [
             0.3333333333333333,
             "#9c179e"
            ],
            [
             0.4444444444444444,
             "#bd3786"
            ],
            [
             0.5555555555555556,
             "#d8576b"
            ],
            [
             0.6666666666666666,
             "#ed7953"
            ],
            [
             0.7777777777777778,
             "#fb9f3a"
            ],
            [
             0.8888888888888888,
             "#fdca26"
            ],
            [
             1,
             "#f0f921"
            ]
           ]
          },
          "colorway": [
           "#636efa",
           "#EF553B",
           "#00cc96",
           "#ab63fa",
           "#FFA15A",
           "#19d3f3",
           "#FF6692",
           "#B6E880",
           "#FF97FF",
           "#FECB52"
          ],
          "font": {
           "color": "#2a3f5f"
          },
          "geo": {
           "bgcolor": "white",
           "lakecolor": "white",
           "landcolor": "#E5ECF6",
           "showlakes": true,
           "showland": true,
           "subunitcolor": "white"
          },
          "hoverlabel": {
           "align": "left"
          },
          "hovermode": "closest",
          "mapbox": {
           "style": "light"
          },
          "paper_bgcolor": "white",
          "plot_bgcolor": "#E5ECF6",
          "polar": {
           "angularaxis": {
            "gridcolor": "white",
            "linecolor": "white",
            "ticks": ""
           },
           "bgcolor": "#E5ECF6",
           "radialaxis": {
            "gridcolor": "white",
            "linecolor": "white",
            "ticks": ""
           }
          },
          "scene": {
           "xaxis": {
            "backgroundcolor": "#E5ECF6",
            "gridcolor": "white",
            "gridwidth": 2,
            "linecolor": "white",
            "showbackground": true,
            "ticks": "",
            "zerolinecolor": "white"
           },
           "yaxis": {
            "backgroundcolor": "#E5ECF6",
            "gridcolor": "white",
            "gridwidth": 2,
            "linecolor": "white",
            "showbackground": true,
            "ticks": "",
            "zerolinecolor": "white"
           },
           "zaxis": {
            "backgroundcolor": "#E5ECF6",
            "gridcolor": "white",
            "gridwidth": 2,
            "linecolor": "white",
            "showbackground": true,
            "ticks": "",
            "zerolinecolor": "white"
           }
          },
          "shapedefaults": {
           "line": {
            "color": "#2a3f5f"
           }
          },
          "ternary": {
           "aaxis": {
            "gridcolor": "white",
            "linecolor": "white",
            "ticks": ""
           },
           "baxis": {
            "gridcolor": "white",
            "linecolor": "white",
            "ticks": ""
           },
           "bgcolor": "#E5ECF6",
           "caxis": {
            "gridcolor": "white",
            "linecolor": "white",
            "ticks": ""
           }
          },
          "title": {
           "x": 0.05
          },
          "xaxis": {
           "automargin": true,
           "gridcolor": "white",
           "linecolor": "white",
           "ticks": "",
           "title": {
            "standoff": 15
           },
           "zerolinecolor": "white",
           "zerolinewidth": 2
          },
          "yaxis": {
           "automargin": true,
           "gridcolor": "white",
           "linecolor": "white",
           "ticks": "",
           "title": {
            "standoff": 15
           },
           "zerolinecolor": "white",
           "zerolinewidth": 2
          }
         }
        },
        "title": {
         "text": "Confusion Matrix - Baseline"
        },
        "xaxis": {
         "anchor": "y",
         "constrain": "domain",
         "domain": [
          0,
          1
         ],
         "scaleanchor": "y",
         "title": {
          "text": "Predicted"
         }
        },
        "yaxis": {
         "anchor": "x",
         "autorange": "reversed",
         "constrain": "domain",
         "domain": [
          0,
          1
         ],
         "title": {
          "text": "Actual"
         }
        }
       }
      }
     },
     "metadata": {},
     "output_type": "display_data"
    }
   ],
   "source": [
    "# Get the confusion matrix\n",
    "cm = confusion_matrix(y_true, y_pred)\n",
    "tn, fp, fn, tp = confusion_matrix(y_true, y_pred).ravel()\n",
    "cm_df = pd.DataFrame(cm, columns=['Predicted Negative', 'Predicted Positive'], index=['Actual Negative', 'Actual Positive'])\n",
    "\n",
    "fig = px.imshow(cm_df, labels=dict(x=\"Predicted\", y=\"Actual\", color=\"Count\"),\n",
    "                x=['Predicted Negative', 'Predicted Positive'],\n",
    "                y=['Actual Negative', 'Actual Positive'],\n",
    "                color_continuous_scale=px.colors.sequential.Blues,text_auto=True)\n",
    "\n",
    "fig.update_traces(showscale=True) \n",
    "fig.update_layout(title='Confusion Matrix - Baseline')\n",
    "fig.show()"
   ]
  },
  {
   "cell_type": "code",
   "execution_count": 39,
   "metadata": {},
   "outputs": [
    {
     "name": "stdout",
     "output_type": "stream",
     "text": [
      "Sensitivity: 0.0\n",
      "Specificity: 1.0\n"
     ]
    }
   ],
   "source": [
    "sensitivity = tp / (tp + fn)\n",
    "specificity = tn / (tn + fp)\n",
    "print('Sensitivity: ' + str(sensitivity) + \"\\n\"+'Specificity: '+ str(specificity))"
   ]
  },
  {
   "cell_type": "code",
   "execution_count": 40,
   "metadata": {},
   "outputs": [
    {
     "name": "stdout",
     "output_type": "stream",
     "text": [
      "AUC score: 0.5\n"
     ]
    }
   ],
   "source": [
    "fpr, tpr, _ = roc_curve(y_true, y_pred)\n",
    "roc_auc = auc(fpr, tpr)\n",
    "\n",
    "print('AUC score:', roc_auc)"
   ]
  },
  {
   "cell_type": "code",
   "execution_count": 37,
   "metadata": {},
   "outputs": [
    {
     "data": {
      "application/vnd.plotly.v1+json": {
       "config": {
        "plotlyServerURL": "https://plot.ly"
       },
       "data": [
        {
         "hovertemplate": "False Positive Rate=%{x}<br>True Positive Rate=%{y}<extra></extra>",
         "legendgroup": "",
         "line": {
          "color": "#636efa",
          "dash": "solid"
         },
         "marker": {
          "symbol": "circle"
         },
         "mode": "lines",
         "name": "",
         "orientation": "v",
         "showlegend": false,
         "type": "scatter",
         "x": [
          0,
          1
         ],
         "xaxis": "x",
         "y": [
          0,
          1
         ],
         "yaxis": "y"
        }
       ],
       "layout": {
        "height": 450,
        "legend": {
         "tracegroupgap": 0
        },
        "shapes": [
         {
          "line": {
           "dash": "dash"
          },
          "type": "line",
          "x0": 0,
          "x1": 1,
          "y0": 0,
          "y1": 1
         }
        ],
        "template": {
         "data": {
          "bar": [
           {
            "error_x": {
             "color": "#2a3f5f"
            },
            "error_y": {
             "color": "#2a3f5f"
            },
            "marker": {
             "line": {
              "color": "#E5ECF6",
              "width": 0.5
             },
             "pattern": {
              "fillmode": "overlay",
              "size": 10,
              "solidity": 0.2
             }
            },
            "type": "bar"
           }
          ],
          "barpolar": [
           {
            "marker": {
             "line": {
              "color": "#E5ECF6",
              "width": 0.5
             },
             "pattern": {
              "fillmode": "overlay",
              "size": 10,
              "solidity": 0.2
             }
            },
            "type": "barpolar"
           }
          ],
          "carpet": [
           {
            "aaxis": {
             "endlinecolor": "#2a3f5f",
             "gridcolor": "white",
             "linecolor": "white",
             "minorgridcolor": "white",
             "startlinecolor": "#2a3f5f"
            },
            "baxis": {
             "endlinecolor": "#2a3f5f",
             "gridcolor": "white",
             "linecolor": "white",
             "minorgridcolor": "white",
             "startlinecolor": "#2a3f5f"
            },
            "type": "carpet"
           }
          ],
          "choropleth": [
           {
            "colorbar": {
             "outlinewidth": 0,
             "ticks": ""
            },
            "type": "choropleth"
           }
          ],
          "contour": [
           {
            "colorbar": {
             "outlinewidth": 0,
             "ticks": ""
            },
            "colorscale": [
             [
              0,
              "#0d0887"
             ],
             [
              0.1111111111111111,
              "#46039f"
             ],
             [
              0.2222222222222222,
              "#7201a8"
             ],
             [
              0.3333333333333333,
              "#9c179e"
             ],
             [
              0.4444444444444444,
              "#bd3786"
             ],
             [
              0.5555555555555556,
              "#d8576b"
             ],
             [
              0.6666666666666666,
              "#ed7953"
             ],
             [
              0.7777777777777778,
              "#fb9f3a"
             ],
             [
              0.8888888888888888,
              "#fdca26"
             ],
             [
              1,
              "#f0f921"
             ]
            ],
            "type": "contour"
           }
          ],
          "contourcarpet": [
           {
            "colorbar": {
             "outlinewidth": 0,
             "ticks": ""
            },
            "type": "contourcarpet"
           }
          ],
          "heatmap": [
           {
            "colorbar": {
             "outlinewidth": 0,
             "ticks": ""
            },
            "colorscale": [
             [
              0,
              "#0d0887"
             ],
             [
              0.1111111111111111,
              "#46039f"
             ],
             [
              0.2222222222222222,
              "#7201a8"
             ],
             [
              0.3333333333333333,
              "#9c179e"
             ],
             [
              0.4444444444444444,
              "#bd3786"
             ],
             [
              0.5555555555555556,
              "#d8576b"
             ],
             [
              0.6666666666666666,
              "#ed7953"
             ],
             [
              0.7777777777777778,
              "#fb9f3a"
             ],
             [
              0.8888888888888888,
              "#fdca26"
             ],
             [
              1,
              "#f0f921"
             ]
            ],
            "type": "heatmap"
           }
          ],
          "heatmapgl": [
           {
            "colorbar": {
             "outlinewidth": 0,
             "ticks": ""
            },
            "colorscale": [
             [
              0,
              "#0d0887"
             ],
             [
              0.1111111111111111,
              "#46039f"
             ],
             [
              0.2222222222222222,
              "#7201a8"
             ],
             [
              0.3333333333333333,
              "#9c179e"
             ],
             [
              0.4444444444444444,
              "#bd3786"
             ],
             [
              0.5555555555555556,
              "#d8576b"
             ],
             [
              0.6666666666666666,
              "#ed7953"
             ],
             [
              0.7777777777777778,
              "#fb9f3a"
             ],
             [
              0.8888888888888888,
              "#fdca26"
             ],
             [
              1,
              "#f0f921"
             ]
            ],
            "type": "heatmapgl"
           }
          ],
          "histogram": [
           {
            "marker": {
             "pattern": {
              "fillmode": "overlay",
              "size": 10,
              "solidity": 0.2
             }
            },
            "type": "histogram"
           }
          ],
          "histogram2d": [
           {
            "colorbar": {
             "outlinewidth": 0,
             "ticks": ""
            },
            "colorscale": [
             [
              0,
              "#0d0887"
             ],
             [
              0.1111111111111111,
              "#46039f"
             ],
             [
              0.2222222222222222,
              "#7201a8"
             ],
             [
              0.3333333333333333,
              "#9c179e"
             ],
             [
              0.4444444444444444,
              "#bd3786"
             ],
             [
              0.5555555555555556,
              "#d8576b"
             ],
             [
              0.6666666666666666,
              "#ed7953"
             ],
             [
              0.7777777777777778,
              "#fb9f3a"
             ],
             [
              0.8888888888888888,
              "#fdca26"
             ],
             [
              1,
              "#f0f921"
             ]
            ],
            "type": "histogram2d"
           }
          ],
          "histogram2dcontour": [
           {
            "colorbar": {
             "outlinewidth": 0,
             "ticks": ""
            },
            "colorscale": [
             [
              0,
              "#0d0887"
             ],
             [
              0.1111111111111111,
              "#46039f"
             ],
             [
              0.2222222222222222,
              "#7201a8"
             ],
             [
              0.3333333333333333,
              "#9c179e"
             ],
             [
              0.4444444444444444,
              "#bd3786"
             ],
             [
              0.5555555555555556,
              "#d8576b"
             ],
             [
              0.6666666666666666,
              "#ed7953"
             ],
             [
              0.7777777777777778,
              "#fb9f3a"
             ],
             [
              0.8888888888888888,
              "#fdca26"
             ],
             [
              1,
              "#f0f921"
             ]
            ],
            "type": "histogram2dcontour"
           }
          ],
          "mesh3d": [
           {
            "colorbar": {
             "outlinewidth": 0,
             "ticks": ""
            },
            "type": "mesh3d"
           }
          ],
          "parcoords": [
           {
            "line": {
             "colorbar": {
              "outlinewidth": 0,
              "ticks": ""
             }
            },
            "type": "parcoords"
           }
          ],
          "pie": [
           {
            "automargin": true,
            "type": "pie"
           }
          ],
          "scatter": [
           {
            "fillpattern": {
             "fillmode": "overlay",
             "size": 10,
             "solidity": 0.2
            },
            "type": "scatter"
           }
          ],
          "scatter3d": [
           {
            "line": {
             "colorbar": {
              "outlinewidth": 0,
              "ticks": ""
             }
            },
            "marker": {
             "colorbar": {
              "outlinewidth": 0,
              "ticks": ""
             }
            },
            "type": "scatter3d"
           }
          ],
          "scattercarpet": [
           {
            "marker": {
             "colorbar": {
              "outlinewidth": 0,
              "ticks": ""
             }
            },
            "type": "scattercarpet"
           }
          ],
          "scattergeo": [
           {
            "marker": {
             "colorbar": {
              "outlinewidth": 0,
              "ticks": ""
             }
            },
            "type": "scattergeo"
           }
          ],
          "scattergl": [
           {
            "marker": {
             "colorbar": {
              "outlinewidth": 0,
              "ticks": ""
             }
            },
            "type": "scattergl"
           }
          ],
          "scattermapbox": [
           {
            "marker": {
             "colorbar": {
              "outlinewidth": 0,
              "ticks": ""
             }
            },
            "type": "scattermapbox"
           }
          ],
          "scatterpolar": [
           {
            "marker": {
             "colorbar": {
              "outlinewidth": 0,
              "ticks": ""
             }
            },
            "type": "scatterpolar"
           }
          ],
          "scatterpolargl": [
           {
            "marker": {
             "colorbar": {
              "outlinewidth": 0,
              "ticks": ""
             }
            },
            "type": "scatterpolargl"
           }
          ],
          "scatterternary": [
           {
            "marker": {
             "colorbar": {
              "outlinewidth": 0,
              "ticks": ""
             }
            },
            "type": "scatterternary"
           }
          ],
          "surface": [
           {
            "colorbar": {
             "outlinewidth": 0,
             "ticks": ""
            },
            "colorscale": [
             [
              0,
              "#0d0887"
             ],
             [
              0.1111111111111111,
              "#46039f"
             ],
             [
              0.2222222222222222,
              "#7201a8"
             ],
             [
              0.3333333333333333,
              "#9c179e"
             ],
             [
              0.4444444444444444,
              "#bd3786"
             ],
             [
              0.5555555555555556,
              "#d8576b"
             ],
             [
              0.6666666666666666,
              "#ed7953"
             ],
             [
              0.7777777777777778,
              "#fb9f3a"
             ],
             [
              0.8888888888888888,
              "#fdca26"
             ],
             [
              1,
              "#f0f921"
             ]
            ],
            "type": "surface"
           }
          ],
          "table": [
           {
            "cells": {
             "fill": {
              "color": "#EBF0F8"
             },
             "line": {
              "color": "white"
             }
            },
            "header": {
             "fill": {
              "color": "#C8D4E3"
             },
             "line": {
              "color": "white"
             }
            },
            "type": "table"
           }
          ]
         },
         "layout": {
          "annotationdefaults": {
           "arrowcolor": "#2a3f5f",
           "arrowhead": 0,
           "arrowwidth": 1
          },
          "autotypenumbers": "strict",
          "coloraxis": {
           "colorbar": {
            "outlinewidth": 0,
            "ticks": ""
           }
          },
          "colorscale": {
           "diverging": [
            [
             0,
             "#8e0152"
            ],
            [
             0.1,
             "#c51b7d"
            ],
            [
             0.2,
             "#de77ae"
            ],
            [
             0.3,
             "#f1b6da"
            ],
            [
             0.4,
             "#fde0ef"
            ],
            [
             0.5,
             "#f7f7f7"
            ],
            [
             0.6,
             "#e6f5d0"
            ],
            [
             0.7,
             "#b8e186"
            ],
            [
             0.8,
             "#7fbc41"
            ],
            [
             0.9,
             "#4d9221"
            ],
            [
             1,
             "#276419"
            ]
           ],
           "sequential": [
            [
             0,
             "#0d0887"
            ],
            [
             0.1111111111111111,
             "#46039f"
            ],
            [
             0.2222222222222222,
             "#7201a8"
            ],
            [
             0.3333333333333333,
             "#9c179e"
            ],
            [
             0.4444444444444444,
             "#bd3786"
            ],
            [
             0.5555555555555556,
             "#d8576b"
            ],
            [
             0.6666666666666666,
             "#ed7953"
            ],
            [
             0.7777777777777778,
             "#fb9f3a"
            ],
            [
             0.8888888888888888,
             "#fdca26"
            ],
            [
             1,
             "#f0f921"
            ]
           ],
           "sequentialminus": [
            [
             0,
             "#0d0887"
            ],
            [
             0.1111111111111111,
             "#46039f"
            ],
            [
             0.2222222222222222,
             "#7201a8"
            ],
            [
             0.3333333333333333,
             "#9c179e"
            ],
            [
             0.4444444444444444,
             "#bd3786"
            ],
            [
             0.5555555555555556,
             "#d8576b"
            ],
            [
             0.6666666666666666,
             "#ed7953"
            ],
            [
             0.7777777777777778,
             "#fb9f3a"
            ],
            [
             0.8888888888888888,
             "#fdca26"
            ],
            [
             1,
             "#f0f921"
            ]
           ]
          },
          "colorway": [
           "#636efa",
           "#EF553B",
           "#00cc96",
           "#ab63fa",
           "#FFA15A",
           "#19d3f3",
           "#FF6692",
           "#B6E880",
           "#FF97FF",
           "#FECB52"
          ],
          "font": {
           "color": "#2a3f5f"
          },
          "geo": {
           "bgcolor": "white",
           "lakecolor": "white",
           "landcolor": "#E5ECF6",
           "showlakes": true,
           "showland": true,
           "subunitcolor": "white"
          },
          "hoverlabel": {
           "align": "left"
          },
          "hovermode": "closest",
          "mapbox": {
           "style": "light"
          },
          "paper_bgcolor": "white",
          "plot_bgcolor": "#E5ECF6",
          "polar": {
           "angularaxis": {
            "gridcolor": "white",
            "linecolor": "white",
            "ticks": ""
           },
           "bgcolor": "#E5ECF6",
           "radialaxis": {
            "gridcolor": "white",
            "linecolor": "white",
            "ticks": ""
           }
          },
          "scene": {
           "xaxis": {
            "backgroundcolor": "#E5ECF6",
            "gridcolor": "white",
            "gridwidth": 2,
            "linecolor": "white",
            "showbackground": true,
            "ticks": "",
            "zerolinecolor": "white"
           },
           "yaxis": {
            "backgroundcolor": "#E5ECF6",
            "gridcolor": "white",
            "gridwidth": 2,
            "linecolor": "white",
            "showbackground": true,
            "ticks": "",
            "zerolinecolor": "white"
           },
           "zaxis": {
            "backgroundcolor": "#E5ECF6",
            "gridcolor": "white",
            "gridwidth": 2,
            "linecolor": "white",
            "showbackground": true,
            "ticks": "",
            "zerolinecolor": "white"
           }
          },
          "shapedefaults": {
           "line": {
            "color": "#2a3f5f"
           }
          },
          "ternary": {
           "aaxis": {
            "gridcolor": "white",
            "linecolor": "white",
            "ticks": ""
           },
           "baxis": {
            "gridcolor": "white",
            "linecolor": "white",
            "ticks": ""
           },
           "bgcolor": "#E5ECF6",
           "caxis": {
            "gridcolor": "white",
            "linecolor": "white",
            "ticks": ""
           }
          },
          "title": {
           "x": 0.05
          },
          "xaxis": {
           "automargin": true,
           "gridcolor": "white",
           "linecolor": "white",
           "ticks": "",
           "title": {
            "standoff": 15
           },
           "zerolinecolor": "white",
           "zerolinewidth": 2
          },
          "yaxis": {
           "automargin": true,
           "gridcolor": "white",
           "linecolor": "white",
           "ticks": "",
           "title": {
            "standoff": 15
           },
           "zerolinecolor": "white",
           "zerolinewidth": 2
          }
         }
        },
        "title": {
         "text": "ROC Curve (AUC=0.5) - Baseline"
        },
        "width": 500,
        "xaxis": {
         "anchor": "y",
         "domain": [
          0,
          1
         ],
         "title": {
          "text": "False Positive Rate"
         }
        },
        "yaxis": {
         "anchor": "x",
         "domain": [
          0,
          1
         ],
         "title": {
          "text": "True Positive Rate"
         }
        }
       }
      }
     },
     "metadata": {},
     "output_type": "display_data"
    }
   ],
   "source": [
    "# Create a DataFrame with the ROC curve data\n",
    "fpr, tpr, thresholds = roc_curve(y_true, y_pred)\n",
    "roc_auc = auc(fpr, tpr)\n",
    "\n",
    "roc_df = pd.DataFrame({'fpr': fpr, 'tpr': tpr})\n",
    "\n",
    "fig = px.line(roc_df, x='fpr', y='tpr', title='ROC Curve (AUC=' + str(roc_auc) +')' + ' - Baseline',\n",
    "              labels=dict(fpr='False Positive Rate', tpr='True Positive Rate'),width=500, height=450)\n",
    "fig.add_shape(type='line', line=dict(dash='dash'), x0=0, y0=0, x1=1, y1=1)\n",
    "fig.show()"
   ]
  }
 ],
 "metadata": {
  "kernelspec": {
   "display_name": "base",
   "language": "python",
   "name": "python3"
  },
  "language_info": {
   "codemirror_mode": {
    "name": "ipython",
    "version": 3
   },
   "file_extension": ".py",
   "mimetype": "text/x-python",
   "name": "python",
   "nbconvert_exporter": "python",
   "pygments_lexer": "ipython3",
   "version": "3.9.13"
  },
  "orig_nbformat": 4,
  "vscode": {
   "interpreter": {
    "hash": "0768609b05072b4bb6556dd73f14608c848b7e1a7616c09c0a0dfd3e754562fc"
   }
  }
 },
 "nbformat": 4,
 "nbformat_minor": 2
}
